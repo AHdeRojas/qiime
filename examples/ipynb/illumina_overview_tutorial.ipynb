{
 "metadata": {
  "name": "illumina_overview_tutorial"
 },
 "nbformat": 3,
 "nbformat_minor": 0,
 "worksheets": [
  {
   "cells": [
    {
     "cell_type": "markdown",
     "metadata": {},
     "source": [
      "## Notebook preparation\n",
      "\n",
      "This notebook illustrates the commands in the [Illumina Overview Tutorial](http://qiime.org/svn_documentation/tutorials/illumina_overview_tutorial.html), as well as some features that are convenient for working with the [IPython Notebook](http://ipython.org/ipython-doc/dev/interactive/htmlnotebook.html) and [QIIME](http://www.qiime.org). \n",
      "\n",
      "This tutorial makes use of the ``12_10`` release of the [Greengenes](http://www.ncbi.nlm.nih.gov/pubmed/22134646) reference OTUs. You can always find a link to the latest version of the reference OTUs on the [QIIME resources page](http://qiime.org/home_static/dataFiles.html)."
     ]
    },
    {
     "cell_type": "markdown",
     "metadata": {},
     "source": [
      "## Getting started\n",
      "\n",
      "We'll begin by downloading data and initializing some variables to configure our IPython computing environment."
     ]
    },
    {
     "cell_type": "code",
     "collapsed": false,
     "input": [
      "!wget https://s3.amazonaws.com/s3-qiime_tutorial_files/moving_pictures_tutorial-1.7.0.tgz\n",
      "!wget ftp://greengenes.microbio.me/greengenes_release/gg_12_10/gg_12_10_otus.tar.gz\n",
      "!tar -xzf moving_pictures_tutorial-1.7.0.tgz\n",
      "!tar -xzf gg_12_10_otus.tar.gz"
     ],
     "language": "python",
     "metadata": {},
     "outputs": []
    },
    {
     "cell_type": "code",
     "collapsed": false,
     "input": [
      "from os import chdir, mkdir\n",
      "from os.path import join, abspath\n",
      "# these are only available in the current development branch of IPython\n",
      "from IPython.display import FileLinks, FileLink\n",
      "\n",
      "otu_base = abspath(\"gg_12_10_otus/\")\n",
      "reference_seqs = join(otu_base,\"rep_set/97_otus.fasta\")\n",
      "reference_tree = join(otu_base,\"trees/97_otus.tree\")\n",
      "reference_tax = join(otu_base,\"taxonomy/97_otu_taxonomy.txt\")"
     ],
     "language": "python",
     "metadata": {},
     "outputs": []
    },
    {
     "cell_type": "markdown",
     "metadata": {},
     "source": [
      "Start by seeing what files are in our tutorial direcotry. We can do this using `ls` as we would on the command line, but in this case we prefix with an `!` to tell IPython that we're issuing a `bash` (i.e., command line) command, rather than a python command."
     ]
    },
    {
     "cell_type": "code",
     "collapsed": false,
     "input": [
      "!ls moving_pictures_tutorial-1.7.0"
     ],
     "language": "python",
     "metadata": {},
     "outputs": []
    },
    {
     "cell_type": "markdown",
     "metadata": {},
     "source": [
      "QIIME additionally supports more convenient output formattting for the IPython notebook so you can directly interact with or download your data."
     ]
    },
    {
     "cell_type": "code",
     "collapsed": false,
     "input": [
      "FileLinks('moving_pictures_tutorial-1.7.0')"
     ],
     "language": "python",
     "metadata": {},
     "outputs": []
    },
    {
     "cell_type": "code",
     "collapsed": false,
     "input": [
      "!cd moving_pictures_tutorial-1.7.0/illumina"
     ],
     "language": "python",
     "metadata": {},
     "outputs": []
    },
    {
     "cell_type": "heading",
     "level": 2,
     "metadata": {},
     "source": [
      "First, let's check our mapping file for errors"
     ]
    },
    {
     "cell_type": "code",
     "collapsed": false,
     "input": [
      "!check_id_map.py -o cid/ -m filtered_mapping_l1.txt"
     ],
     "language": "python",
     "metadata": {},
     "outputs": []
    },
    {
     "cell_type": "markdown",
     "metadata": {},
     "source": [
      "In this case there were no errors, but if there were we would review the resulting html summary to find out what errors are present. You could then fix those in a spreadsheet program or text editor. To view that html file, call ``FileLinks`` on the output directory from the previous step and click the link to the ``html`` file.\n",
      "\n",
      "For the sake of illustrating what errors in a mapping file might look like, we've created a bad mapping file (``filtered_mapping_l1.bad.txt``) and provided that as an example. Call ``check_id_map.py`` on the file ``filtered_mapping_l1.bad.txt``, and then view the html output. What are the issues with that mapping file? "
     ]
    },
    {
     "cell_type": "heading",
     "level": 2,
     "metadata": {},
     "source": [
      "Demultiplexing and quality filtering seqeunces"
     ]
    },
    {
     "cell_type": "code",
     "collapsed": false,
     "input": [
      "!split_libraries_fastq.py -o slout/ -i subsampled_s_1_sequence.fastq,subsampled_s_2_sequence.fastq,subsampled_s_3_sequence.fastq,subsampled_s_4_sequence.fastq,subsampled_s_5_sequence.fastq,subsampled_s_6_sequence.fastq -b subsampled_s_1_sequence_barcodes.fastq,subsampled_s_2_sequence_barcodes.fastq,subsampled_s_3_sequence_barcodes.fastq,subsampled_s_4_sequence_barcodes.fastq,subsampled_s_5_sequence_barcodes.fastq,subsampled_s_6_sequence_barcodes.fastq -m filtered_mapping_l1.txt,filtered_mapping_l2.txt,filtered_mapping_l3.txt,filtered_mapping_l4.txt,filtered_mapping_l5.txt,filtered_mapping_l6.txt"
     ],
     "language": "python",
     "metadata": {},
     "outputs": []
    },
    {
     "cell_type": "markdown",
     "metadata": {},
     "source": [
      "We often want to see the results of running a command. Here we can do that by calling our output formatter again, this time passing the output directory from the previous step."
     ]
    },
    {
     "cell_type": "code",
     "collapsed": false,
     "input": [
      "FileLinks('slout/')"
     ],
     "language": "python",
     "metadata": {},
     "outputs": []
    },
    {
     "cell_type": "code",
     "collapsed": false,
     "input": [
      "!count_seqs.py -i slout/seqs.fna"
     ],
     "language": "python",
     "metadata": {},
     "outputs": []
    },
    {
     "cell_type": "heading",
     "level": 2,
     "metadata": {},
     "source": [
      "OTU picking: using an open-reference OTU picking protocol by searching reads agsint the Greengenes database."
     ]
    },
    {
     "cell_type": "code",
     "collapsed": false,
     "input": [
      "!pick_open_reference_otus.py -o otus/ -i slout/seqs.fna -r $reference_seqs -p moving_pictures_tutorial/uc_fast_params.txt"
     ],
     "language": "python",
     "metadata": {},
     "outputs": []
    },
    {
     "cell_type": "code",
     "collapsed": false,
     "input": [
      "FileLinks('otus/')"
     ],
     "language": "python",
     "metadata": {},
     "outputs": []
    },
    {
     "cell_type": "code",
     "collapsed": false,
     "input": [
      "!print_biom_table_summary.py -i otus/otu_table_mc2_w_tax_no_pynast_failures.biom"
     ],
     "language": "python",
     "metadata": {},
     "outputs": []
    },
    {
     "cell_type": "heading",
     "level": 2,
     "metadata": {},
     "source": [
      "Create a single mapping file from the per-lane mapping files."
     ]
    },
    {
     "cell_type": "code",
     "collapsed": false,
     "input": [
      "!merge_mapping_files.py -o combined_mapping_file.txt -m filtered_mapping_l1.txt,filtered_mapping_l2.txt,filtered_mapping_l3.txt,filtered_mapping_l4.txt,filtered_mapping_l5.txt,filtered_mapping_l6.txt"
     ],
     "language": "python",
     "metadata": {},
     "outputs": []
    },
    {
     "cell_type": "code",
     "collapsed": false,
     "input": [
      "!head combined_mapping_file.txt"
     ],
     "language": "python",
     "metadata": {},
     "outputs": []
    },
    {
     "cell_type": "markdown",
     "metadata": {},
     "source": [
      "To view a single file (rather than a directory) we use the ``FileLink`` function instead of the ``FileLinks`` function."
     ]
    },
    {
     "cell_type": "code",
     "collapsed": false,
     "input": [
      "FileLink('combined_mapping_file.txt')"
     ],
     "language": "python",
     "metadata": {},
     "outputs": []
    },
    {
     "cell_type": "heading",
     "level": 2,
     "metadata": {},
     "source": [
      "Run diversity analyses"
     ]
    },
    {
     "cell_type": "markdown",
     "metadata": {},
     "source": [
      "Here we're running the ``core_diversity_analyses.py`` script which applies many of the \"first-pass\" diversity analyses that users are generally interested in. The main output that users will interact with is the ``index.html`` file, which provides links into the different analysis results."
     ]
    },
    {
     "cell_type": "code",
     "collapsed": false,
     "input": [
      "!core_diversity_analyses.py -o cd258/ -i otus/otu_table_mc2_w_tax_no_pynast_failures.biom -m combined_mapping_file.txt -t otus/rep_set.tre -e 258 -c \"SampleType,days_since_epoch\""
     ],
     "language": "python",
     "metadata": {},
     "outputs": []
    },
    {
     "cell_type": "code",
     "collapsed": false,
     "input": [
      "FileLink('cd258/index.html')"
     ],
     "language": "python",
     "metadata": {},
     "outputs": []
    },
    {
     "cell_type": "code",
     "collapsed": false,
     "input": [],
     "language": "python",
     "metadata": {},
     "outputs": []
    }
   ],
   "metadata": {}
  }
 ]
}