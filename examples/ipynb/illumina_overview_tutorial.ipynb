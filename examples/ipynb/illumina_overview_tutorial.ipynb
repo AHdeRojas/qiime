{
 "metadata": {
  "name": "illumina_overview_tutorial"
 },
 "nbformat": 3,
 "nbformat_minor": 0,
 "worksheets": [
  {
   "cells": [
    {
     "cell_type": "markdown",
     "metadata": {},
     "source": [
      "## Notebook preparation\n",
      "\n",
      "This notebook illustrates the commands in the [Illumina Overview Tutorial](http://qiime.org/svn_documentation/tutorials/illumina_overview_tutorial.html), as well as some features that are convenient for working with the [IPython Notebook](http://ipython.org/ipython-doc/dev/interactive/htmlnotebook.html) and [QIIME](http://www.qiime.org). \n",
      "\n",
      "This tutorial makes use of the ``12_10`` release of the [Greengenes](http://www.ncbi.nlm.nih.gov/pubmed/22134646) reference OTUs. You can always find a link to the latest version of the reference OTUs on the [QIIME resources page](http://qiime.org/home_static/dataFiles.html)."
     ]
    },
    {
     "cell_type": "markdown",
     "metadata": {},
     "source": [
      "## Getting started\n",
      "\n",
      "We'll begin by downloading data and initializing some variables to configure our IPython computing environment."
     ]
    },
    {
     "cell_type": "code",
     "collapsed": false,
     "input": [
      "!wget https://s3.amazonaws.com/qiime-tutorial/moving_pictures_tutorial.tgz\n",
      "!wget ftp://greengenes.microbio.me/greengenes_release/gg_12_10/gg_12_10_otus.tar.gz\n",
      "!tar -xzf moving_pictures_tutorial.tgz\n",
      "!tar -xzf gg_12_10_otus.tar.gz"
     ],
     "language": "python",
     "metadata": {},
     "outputs": [
      {
       "output_type": "stream",
       "stream": "stdout",
       "text": [
        "--2013-03-18 16:16:21--  https://s3.amazonaws.com/qiime-tutorial/moving_pictures_tutorial.tgz\r\n",
        "Resolving s3.amazonaws.com... "
       ]
      },
      {
       "output_type": "stream",
       "stream": "stdout",
       "text": [
        "205.251.242.150\r\n",
        "Connecting to s3.amazonaws.com|205.251.242.150|:443... "
       ]
      },
      {
       "output_type": "stream",
       "stream": "stdout",
       "text": [
        "connected.\r\n"
       ]
      },
      {
       "output_type": "stream",
       "stream": "stdout",
       "text": [
        "HTTP request sent, awaiting response... "
       ]
      },
      {
       "output_type": "stream",
       "stream": "stdout",
       "text": [
        "200 OK\r\n",
        "Length: 29124406 (28M) [application/x-compressed]\r\n",
        "Saving to: \u2018moving_pictures_tutorial.tgz\u2019\r\n",
        "\r\n",
        "\r",
        " 0% [                                       ] 0           --.-K/s              "
       ]
      },
      {
       "output_type": "stream",
       "stream": "stdout",
       "text": [
        "\r",
        " 1% [                                       ] 529,829     2.51MB/s             "
       ]
      },
      {
       "output_type": "stream",
       "stream": "stdout",
       "text": [
        "\r",
        " 4% [>                                      ] 1,312,829   3.12MB/s             "
       ]
      },
      {
       "output_type": "stream",
       "stream": "stdout",
       "text": [
        "\r",
        " 7% [==>                                    ] 2,329,829   3.69MB/s             "
       ]
      },
      {
       "output_type": "stream",
       "stream": "stdout",
       "text": [
        "\r",
        "11% [===>                                   ] 3,283,829   3.90MB/s             "
       ]
      },
      {
       "output_type": "stream",
       "stream": "stdout",
       "text": [
        "\r",
        "14% [====>                                  ] 4,300,829   4.09MB/s             "
       ]
      },
      {
       "output_type": "stream",
       "stream": "stdout",
       "text": [
        "\r",
        "18% [======>                                ] 5,308,829   4.20MB/s             "
       ]
      },
      {
       "output_type": "stream",
       "stream": "stdout",
       "text": [
        "\r",
        "21% [=======>                               ] 6,325,829   4.29MB/s             "
       ]
      },
      {
       "output_type": "stream",
       "stream": "stdout",
       "text": [
        "\r",
        "25% [========>                              ] 7,333,829   4.35MB/s             "
       ]
      },
      {
       "output_type": "stream",
       "stream": "stdout",
       "text": [
        "\r",
        "28% [=========>                             ] 8,161,829   4.31MB/s             "
       ]
      },
      {
       "output_type": "stream",
       "stream": "stdout",
       "text": [
        "\r",
        "31% [===========>                           ] 9,196,829   4.36MB/s             "
       ]
      },
      {
       "output_type": "stream",
       "stream": "stdout",
       "text": [
        "\r",
        "35% [============>                          ] 10,195,829  4.40MB/s             "
       ]
      },
      {
       "output_type": "stream",
       "stream": "stdout",
       "text": [
        "\r",
        "38% [==============>                        ] 11,221,829  4.44MB/s             "
       ]
      },
      {
       "output_type": "stream",
       "stream": "stdout",
       "text": [
        "\r",
        "42% [===============>                       ] 12,274,829  4.48MB/s             "
       ]
      },
      {
       "output_type": "stream",
       "stream": "stdout",
       "text": [
        "\r",
        "45% [================>                      ] 13,300,829  4.51MB/s             "
       ]
      },
      {
       "output_type": "stream",
       "stream": "stdout",
       "text": [
        "\r",
        "48% [=================>                     ] 14,137,829  4.47MB/s  eta 3s     "
       ]
      },
      {
       "output_type": "stream",
       "stream": "stdout",
       "text": [
        "\r",
        "51% [===================>                   ] 15,127,829  4.63MB/s  eta 3s     "
       ]
      },
      {
       "output_type": "stream",
       "stream": "stdout",
       "text": [
        "\r",
        "55% [====================>                  ] 16,144,829  4.69MB/s  eta 3s     "
       ]
      },
      {
       "output_type": "stream",
       "stream": "stdout",
       "text": [
        "\r",
        "58% [=====================>                 ] 17,152,829  4.69MB/s  eta 3s     "
       ]
      },
      {
       "output_type": "stream",
       "stream": "stdout",
       "text": [
        "\r",
        "62% [=======================>               ] 18,169,829  4.71MB/s  eta 3s     "
       ]
      },
      {
       "output_type": "stream",
       "stream": "stdout",
       "text": [
        "\r",
        "65% [========================>              ] 19,051,829  4.67MB/s  eta 2s     "
       ]
      },
      {
       "output_type": "stream",
       "stream": "stdout",
       "text": [
        "\r",
        "68% [=========================>             ] 20,059,829  4.68MB/s  eta 2s     "
       ]
      },
      {
       "output_type": "stream",
       "stream": "stdout",
       "text": [
        "\r",
        "72% [===========================>           ] 21,068,637  4.63MB/s  eta 2s     "
       ]
      },
      {
       "output_type": "stream",
       "stream": "stdout",
       "text": [
        "\r",
        "75% [============================>          ] 22,084,829  4.64MB/s  eta 2s     "
       ]
      },
      {
       "output_type": "stream",
       "stream": "stdout",
       "text": [
        "\r",
        "79% [=============================>         ] 23,011,829  4.66MB/s  eta 2s     "
       ]
      },
      {
       "output_type": "stream",
       "stream": "stdout",
       "text": [
        "\r",
        "82% [===============================>       ] 24,046,829  4.67MB/s  eta 1s     "
       ]
      },
      {
       "output_type": "stream",
       "stream": "stdout",
       "text": [
        "\r",
        "86% [================================>      ] 25,072,829  4.68MB/s  eta 1s     "
       ]
      },
      {
       "output_type": "stream",
       "stream": "stdout",
       "text": [
        "\r",
        "89% [=================================>     ] 26,107,829  4.68MB/s  eta 1s     "
       ]
      },
      {
       "output_type": "stream",
       "stream": "stdout",
       "text": [
        "\r",
        "93% [===================================>   ] 27,124,829  4.67MB/s  eta 1s     "
       ]
      },
      {
       "output_type": "stream",
       "stream": "stdout",
       "text": [
        "\r",
        "95% [====================================>  ] 27,943,829  4.61MB/s  eta 1s     "
       ]
      },
      {
       "output_type": "stream",
       "stream": "stdout",
       "text": [
        "\r",
        "99% [=====================================> ] 28,969,829  4.66MB/s  eta 0s     "
       ]
      },
      {
       "output_type": "stream",
       "stream": "stdout",
       "text": [
        "\r",
        "100%[======================================>] 29,124,406  4.67MB/s   in 6.1s   \r\n",
        "\r\n",
        "2013-03-18 16:16:28 (4.57 MB/s) - \u2018moving_pictures_tutorial.tgz\u2019 saved [29124406/29124406]\r\n",
        "\r\n"
       ]
      },
      {
       "output_type": "stream",
       "stream": "stdout",
       "text": [
        "--2013-03-18 16:16:28--  ftp://greengenes.microbio.me/greengenes_release/gg_12_10/gg_12_10_otus.tar.gz\r\n",
        "           => \u2018gg_12_10_otus.tar.gz\u2019\r\n",
        "Resolving greengenes.microbio.me... 128.138.93.17\r\n",
        "Connecting to greengenes.microbio.me|128.138.93.17|:21... connected.\r\n",
        "Logging in as anonymous ... "
       ]
      },
      {
       "output_type": "stream",
       "stream": "stdout",
       "text": [
        "Logged in!\r\n",
        "==> SYST ... done.    ==> PWD ... "
       ]
      },
      {
       "output_type": "stream",
       "stream": "stdout",
       "text": [
        "done.\r\n",
        "==> TYPE I ... done.  ==> CWD (1) /greengenes_release/gg_12_10 ... "
       ]
      },
      {
       "output_type": "stream",
       "stream": "stdout",
       "text": [
        "done.\r\n",
        "==> SIZE gg_12_10_otus.tar.gz ... 135667617\r\n",
        "==> PASV ... "
       ]
      },
      {
       "output_type": "stream",
       "stream": "stdout",
       "text": [
        "done.    ==> RETR gg_12_10_otus.tar.gz ... "
       ]
      },
      {
       "output_type": "stream",
       "stream": "stdout",
       "text": [
        "done.\r\n",
        "Length: 135667617 (129M) (unauthoritative)\r\n",
        "\r\n",
        "\r",
        " 0% [                                       ] 0           --.-K/s              "
       ]
      },
      {
       "output_type": "stream",
       "stream": "stdout",
       "text": [
        "\r",
        " 0% [                                       ] 286,208     1.36MB/s             "
       ]
      },
      {
       "output_type": "stream",
       "stream": "stdout",
       "text": [
        "\r",
        " 1% [                                       ] 1,371,256   3.27MB/s             "
       ]
      },
      {
       "output_type": "stream",
       "stream": "stdout",
       "text": [
        "\r",
        " 1% [                                       ] 2,671,560   4.22MB/s             "
       ]
      },
      {
       "output_type": "stream",
       "stream": "stdout",
       "text": [
        "\r",
        " 2% [                                       ] 2,856,408   3.39MB/s             "
       ]
      },
      {
       "output_type": "stream",
       "stream": "stdout",
       "text": [
        "\r",
        " 2% [>                                      ] 3,852,632   3.66MB/s             "
       ]
      },
      {
       "output_type": "stream",
       "stream": "stdout",
       "text": [
        "\r",
        " 3% [>                                      ] 4,889,896   3.87MB/s             "
       ]
      },
      {
       "output_type": "stream",
       "stream": "stdout",
       "text": [
        "\r",
        " 4% [>                                      ] 5,937,752   4.02MB/s             "
       ]
      },
      {
       "output_type": "stream",
       "stream": "stdout",
       "text": [
        "\r",
        " 5% [=>                                     ] 6,980,312   4.13MB/s             "
       ]
      },
      {
       "output_type": "stream",
       "stream": "stdout",
       "text": [
        "\r",
        " 5% [=>                                     ] 8,022,872   4.22MB/s             "
       ]
      },
      {
       "output_type": "stream",
       "stream": "stdout",
       "text": [
        "\r",
        " 6% [=>                                     ] 9,060,136   4.29MB/s             "
       ]
      },
      {
       "output_type": "stream",
       "stream": "stdout",
       "text": [
        "\r",
        " 7% [=>                                     ] 10,107,992  4.35MB/s             "
       ]
      },
      {
       "output_type": "stream",
       "stream": "stdout",
       "text": [
        "\r",
        " 8% [==>                                    ] 11,150,552  4.40MB/s             "
       ]
      },
      {
       "output_type": "stream",
       "stream": "stdout",
       "text": [
        "\r",
        " 8% [==>                                    ] 12,193,112  4.43MB/s             "
       ]
      },
      {
       "output_type": "stream",
       "stream": "stdout",
       "text": [
        "\r",
        " 9% [==>                                    ] 13,235,672  4.47MB/s             "
       ]
      },
      {
       "output_type": "stream",
       "stream": "stdout",
       "text": [
        "\r",
        "10% [===>                                   ] 14,278,232  4.50MB/s  eta 26s    "
       ]
      },
      {
       "output_type": "stream",
       "stream": "stdout",
       "text": [
        "\r",
        "11% [===>                                   ] 15,320,792  4.69MB/s  eta 26s    "
       ]
      },
      {
       "output_type": "stream",
       "stream": "stdout",
       "text": [
        "\r",
        "12% [===>                                   ] 16,363,352  4.75MB/s  eta 26s    "
       ]
      },
      {
       "output_type": "stream",
       "stream": "stdout",
       "text": [
        "\r",
        "12% [====>                                  ] 17,405,912  4.64MB/s  eta 26s    "
       ]
      },
      {
       "output_type": "stream",
       "stream": "stdout",
       "text": [
        "\r",
        "13% [====>                                  ] 18,448,472  4.86MB/s  eta 26s    "
       ]
      },
      {
       "output_type": "stream",
       "stream": "stdout",
       "text": [
        "\r",
        "14% [====>                                  ] 19,529,176  4.94MB/s  eta 24s    "
       ]
      },
      {
       "output_type": "stream",
       "stream": "stdout",
       "text": [
        "\r",
        "15% [====>                                  ] 20,598,752  4.95MB/s  eta 24s    "
       ]
      },
      {
       "output_type": "stream",
       "stream": "stdout",
       "text": [
        "\r",
        "15% [=====>                                 ] 21,641,312  4.95MB/s  eta 24s    "
       ]
      },
      {
       "output_type": "stream",
       "stream": "stdout",
       "text": [
        "\r",
        "16% [=====>                                 ] 22,683,872  4.95MB/s  eta 24s    "
       ]
      },
      {
       "output_type": "stream",
       "stream": "stdout",
       "text": [
        "\r",
        "17% [=====>                                 ] 23,856,752  4.99MB/s  eta 24s    "
       ]
      },
      {
       "output_type": "stream",
       "stream": "stdout",
       "text": [
        "\r",
        "18% [======>                                ] 25,159,952  5.07MB/s  eta 22s    "
       ]
      },
      {
       "output_type": "stream",
       "stream": "stdout",
       "text": [
        "\r",
        "19% [======>                                ] 26,528,312  5.17MB/s  eta 22s    "
       ]
      },
      {
       "output_type": "stream",
       "stream": "stdout",
       "text": [
        "\r",
        "20% [=======>                               ] 28,092,152  5.34MB/s  eta 22s    "
       ]
      },
      {
       "output_type": "stream",
       "stream": "stdout",
       "text": [
        "\r",
        "21% [=======>                               ] 29,655,992  5.49MB/s  eta 22s    "
       ]
      },
      {
       "output_type": "stream",
       "stream": "stdout",
       "text": [
        "\r",
        "23% [=======>                               ] 31,219,832  5.65MB/s  eta 22s    "
       ]
      },
      {
       "output_type": "stream",
       "stream": "stdout",
       "text": [
        "\r",
        "24% [========>                              ] 32,783,672  5.84MB/s  eta 19s    "
       ]
      },
      {
       "output_type": "stream",
       "stream": "stdout",
       "text": [
        "\r",
        "25% [========>                              ] 34,347,512  5.98MB/s  eta 19s    "
       ]
      },
      {
       "output_type": "stream",
       "stream": "stdout",
       "text": [
        "\r",
        "26% [=========>                             ] 35,911,352  6.12MB/s  eta 19s    "
       ]
      },
      {
       "output_type": "stream",
       "stream": "stdout",
       "text": [
        "\r",
        "27% [=========>                             ] 37,670,672  6.36MB/s  eta 19s    "
       ]
      },
      {
       "output_type": "stream",
       "stream": "stdout",
       "text": [
        "\r",
        "29% [==========>                            ] 39,755,792  6.65MB/s  eta 19s    "
       ]
      },
      {
       "output_type": "stream",
       "stream": "stdout",
       "text": [
        "\r",
        "30% [===========>                           ] 41,840,912  6.94MB/s  eta 16s    "
       ]
      },
      {
       "output_type": "stream",
       "stream": "stdout",
       "text": [
        "\r",
        "32% [===========>                           ] 43,926,032  7.31MB/s  eta 16s    "
       ]
      },
      {
       "output_type": "stream",
       "stream": "stdout",
       "text": [
        "\r",
        "33% [============>                          ] 46,011,152  7.58MB/s  eta 16s    "
       ]
      },
      {
       "output_type": "stream",
       "stream": "stdout",
       "text": [
        "\r",
        "35% [============>                          ] 48,422,072  7.95MB/s  eta 16s    "
       ]
      },
      {
       "output_type": "stream",
       "stream": "stdout",
       "text": [
        "\r",
        "37% [=============>                         ] 51,028,472  8.50MB/s  eta 16s    "
       ]
      },
      {
       "output_type": "stream",
       "stream": "stdout",
       "text": [
        "\r",
        "39% [==============>                        ] 53,634,872  8.88MB/s  eta 12s    "
       ]
      },
      {
       "output_type": "stream",
       "stream": "stdout",
       "text": [
        "\r",
        "41% [===============>                       ] 56,241,272  9.21MB/s  eta 12s    "
       ]
      },
      {
       "output_type": "stream",
       "stream": "stdout",
       "text": [
        "\r",
        "43% [================>                      ] 59,368,952  9.78MB/s  eta 12s    "
       ]
      },
      {
       "output_type": "stream",
       "stream": "stdout",
       "text": [
        "\r",
        "46% [================>                      ] 62,496,632  10.2MB/s  eta 12s    "
       ]
      },
      {
       "output_type": "stream",
       "stream": "stdout",
       "text": [
        "\r",
        "48% [=================>                     ] 65,624,312  10.6MB/s  eta 12s    "
       ]
      },
      {
       "output_type": "stream",
       "stream": "stdout",
       "text": [
        "\r",
        "51% [==================>                    ] 69,208,112  11.4MB/s  eta 9s     "
       ]
      },
      {
       "output_type": "stream",
       "stream": "stdout",
       "text": [
        "\r",
        "53% [===================>                   ] 72,857,072  12.0MB/s  eta 9s     "
       ]
      },
      {
       "output_type": "stream",
       "stream": "stdout",
       "text": [
        "\r",
        "56% [====================>                  ] 76,506,032  12.5MB/s  eta 9s     "
       ]
      },
      {
       "output_type": "stream",
       "stream": "stdout",
       "text": [
        "\r",
        "59% [======================>                ] 80,154,992  13.3MB/s  eta 9s     "
       ]
      },
      {
       "output_type": "stream",
       "stream": "stdout",
       "text": [
        "\r",
        "61% [=======================>               ] 83,803,952  13.8MB/s  eta 9s     "
       ]
      },
      {
       "output_type": "stream",
       "stream": "stdout",
       "text": [
        "\r",
        "64% [========================>              ] 87,518,072  14.2MB/s  eta 6s     "
       ]
      },
      {
       "output_type": "stream",
       "stream": "stdout",
       "text": [
        "\r",
        "67% [=========================>             ] 91,167,032  14.8MB/s  eta 6s     "
       ]
      },
      {
       "output_type": "stream",
       "stream": "stdout",
       "text": [
        "\r",
        "69% [==========================>            ] 94,881,152  15.3MB/s  eta 6s     "
       ]
      },
      {
       "output_type": "stream",
       "stream": "stdout",
       "text": [
        "\r",
        "72% [===========================>           ] 98,530,112  15.6MB/s  eta 6s     "
       ]
      },
      {
       "output_type": "stream",
       "stream": "stdout",
       "text": [
        "\r",
        "75% [============================>          ] 102,309,392 16.1MB/s  eta 6s     "
       ]
      },
      {
       "output_type": "stream",
       "stream": "stdout",
       "text": [
        "\r",
        "78% [=============================>         ] 105,958,352 16.4MB/s  eta 3s     "
       ]
      },
      {
       "output_type": "stream",
       "stream": "stdout",
       "text": [
        "\r",
        "80% [==============================>        ] 109,607,312 16.6MB/s  eta 3s     "
       ]
      },
      {
       "output_type": "stream",
       "stream": "stdout",
       "text": [
        "\r",
        "83% [===============================>       ] 113,256,272 16.9MB/s  eta 3s     "
       ]
      },
      {
       "output_type": "stream",
       "stream": "stdout",
       "text": [
        "\r",
        "86% [================================>      ] 116,905,232 17.1MB/s  eta 3s     "
       ]
      },
      {
       "output_type": "stream",
       "stream": "stdout",
       "text": [
        "\r",
        "88% [=================================>     ] 120,554,192 17.2MB/s  eta 3s     "
       ]
      },
      {
       "output_type": "stream",
       "stream": "stdout",
       "text": [
        "\r",
        "91% [==================================>    ] 124,203,152 17.3MB/s  eta 1s     "
       ]
      },
      {
       "output_type": "stream",
       "stream": "stdout",
       "text": [
        "\r",
        "94% [===================================>   ] 127,852,112 17.3MB/s  eta 1s     "
       ]
      },
      {
       "output_type": "stream",
       "stream": "stdout",
       "text": [
        "\r",
        "96% [====================================>  ] 131,501,072 17.3MB/s  eta 1s     "
       ]
      },
      {
       "output_type": "stream",
       "stream": "stdout",
       "text": [
        "\r",
        "99% [=====================================> ] 135,150,032 17.3MB/s  eta 1s     "
       ]
      },
      {
       "output_type": "stream",
       "stream": "stdout",
       "text": [
        "\r",
        "100%[======================================>] 135,667,617 17.3MB/s   in 13s    \r\n",
        "\r\n",
        "2013-03-18 16:16:41 (10.1 MB/s) - \u2018gg_12_10_otus.tar.gz\u2019 saved [135667617]\r\n",
        "\r\n"
       ]
      }
     ],
     "prompt_number": 1
    },
    {
     "cell_type": "code",
     "collapsed": false,
     "input": [
      "from os import chdir, mkdir\n",
      "from os.path import join\n",
      "# these are only available in the current development branch of IPython\n",
      "from IPython.display import FileLinks, FileLink\n",
      "\n",
      "otu_base = \"gg_12_10_otus/\"\n",
      "reference_seqs = join(otu_base,\"rep_set/97_otus.fasta\")\n",
      "reference_tree = join(otu_base,\"trees/97_otus.tree\")\n",
      "reference_tax = join(otu_base,\"taxonomy/97_otu_taxonomy.txt\")"
     ],
     "language": "python",
     "metadata": {},
     "outputs": [],
     "prompt_number": 2
    },
    {
     "cell_type": "markdown",
     "metadata": {},
     "source": [
      "Start by seeing what files are in our tutorial direcotry. We can do this using `ls` as we would on the command line, but in this case we prefix with an `!` to tell IPython that we're issuing a `bash` (i.e., command line) command, rather than a python command."
     ]
    },
    {
     "cell_type": "code",
     "collapsed": false,
     "input": [
      "!ls moving_pictures_tutorial"
     ],
     "language": "python",
     "metadata": {},
     "outputs": [
      {
       "output_type": "stream",
       "stream": "stdout",
       "text": [
        "454_map.txt                 filtered_mapping_l2.txt     filtered_mapping_l5.txt     procrustes_sid_map.txt      ucrC_fast_params.txt\r\n",
        "README.txt                  filtered_mapping_l3.txt     filtered_mapping_l6.txt     subsampled_454_seqs.fna\r\n",
        "filtered_mapping_l1.txt     filtered_mapping_l4.txt     procrustes_metadata_map.txt \u001b[34msubsampled_fastq\u001b[m\u001b[m\r\n"
       ]
      }
     ],
     "prompt_number": 3
    },
    {
     "cell_type": "markdown",
     "metadata": {},
     "source": [
      "QIIME additionally supports more convenient output formattting for the IPython notebook so you can directly interact with or download your data."
     ]
    },
    {
     "cell_type": "code",
     "collapsed": false,
     "input": [
      "FileLinks('moving_pictures_tutorial')"
     ],
     "language": "python",
     "metadata": {},
     "outputs": [
      {
       "html": [
        "moving_pictures_tutorial/<br>\n",
        "&nbsp;&nbsp;<a href='files/moving_pictures_tutorial/454_map.txt' target='_blank'>454_map.txt</a><br>\n",
        "&nbsp;&nbsp;<a href='files/moving_pictures_tutorial/filtered_mapping_l1.txt' target='_blank'>filtered_mapping_l1.txt</a><br>\n",
        "&nbsp;&nbsp;<a href='files/moving_pictures_tutorial/filtered_mapping_l2.txt' target='_blank'>filtered_mapping_l2.txt</a><br>\n",
        "&nbsp;&nbsp;<a href='files/moving_pictures_tutorial/filtered_mapping_l3.txt' target='_blank'>filtered_mapping_l3.txt</a><br>\n",
        "&nbsp;&nbsp;<a href='files/moving_pictures_tutorial/filtered_mapping_l4.txt' target='_blank'>filtered_mapping_l4.txt</a><br>\n",
        "&nbsp;&nbsp;<a href='files/moving_pictures_tutorial/filtered_mapping_l5.txt' target='_blank'>filtered_mapping_l5.txt</a><br>\n",
        "&nbsp;&nbsp;<a href='files/moving_pictures_tutorial/filtered_mapping_l6.txt' target='_blank'>filtered_mapping_l6.txt</a><br>\n",
        "&nbsp;&nbsp;<a href='files/moving_pictures_tutorial/procrustes_metadata_map.txt' target='_blank'>procrustes_metadata_map.txt</a><br>\n",
        "&nbsp;&nbsp;<a href='files/moving_pictures_tutorial/procrustes_sid_map.txt' target='_blank'>procrustes_sid_map.txt</a><br>\n",
        "&nbsp;&nbsp;<a href='files/moving_pictures_tutorial/README.txt' target='_blank'>README.txt</a><br>\n",
        "&nbsp;&nbsp;<a href='files/moving_pictures_tutorial/subsampled_454_seqs.fna' target='_blank'>subsampled_454_seqs.fna</a><br>\n",
        "&nbsp;&nbsp;<a href='files/moving_pictures_tutorial/ucrC_fast_params.txt' target='_blank'>ucrC_fast_params.txt</a><br>\n",
        "moving_pictures_tutorial/subsampled_fastq/<br>\n",
        "&nbsp;&nbsp;<a href='files/moving_pictures_tutorial/subsampled_fastq/subsampled_s_1_sequence.fastq' target='_blank'>subsampled_s_1_sequence.fastq</a><br>\n",
        "&nbsp;&nbsp;<a href='files/moving_pictures_tutorial/subsampled_fastq/subsampled_s_1_sequence_barcodes.fastq' target='_blank'>subsampled_s_1_sequence_barcodes.fastq</a><br>\n",
        "&nbsp;&nbsp;<a href='files/moving_pictures_tutorial/subsampled_fastq/subsampled_s_2_sequence.fastq' target='_blank'>subsampled_s_2_sequence.fastq</a><br>\n",
        "&nbsp;&nbsp;<a href='files/moving_pictures_tutorial/subsampled_fastq/subsampled_s_2_sequence_barcodes.fastq' target='_blank'>subsampled_s_2_sequence_barcodes.fastq</a><br>\n",
        "&nbsp;&nbsp;<a href='files/moving_pictures_tutorial/subsampled_fastq/subsampled_s_3_sequence.fastq' target='_blank'>subsampled_s_3_sequence.fastq</a><br>\n",
        "&nbsp;&nbsp;<a href='files/moving_pictures_tutorial/subsampled_fastq/subsampled_s_3_sequence_barcodes.fastq' target='_blank'>subsampled_s_3_sequence_barcodes.fastq</a><br>\n",
        "&nbsp;&nbsp;<a href='files/moving_pictures_tutorial/subsampled_fastq/subsampled_s_4_sequence.fastq' target='_blank'>subsampled_s_4_sequence.fastq</a><br>\n",
        "&nbsp;&nbsp;<a href='files/moving_pictures_tutorial/subsampled_fastq/subsampled_s_4_sequence_barcodes.fastq' target='_blank'>subsampled_s_4_sequence_barcodes.fastq</a><br>\n",
        "&nbsp;&nbsp;<a href='files/moving_pictures_tutorial/subsampled_fastq/subsampled_s_5_sequence.fastq' target='_blank'>subsampled_s_5_sequence.fastq</a><br>\n",
        "&nbsp;&nbsp;<a href='files/moving_pictures_tutorial/subsampled_fastq/subsampled_s_5_sequence_barcodes.fastq' target='_blank'>subsampled_s_5_sequence_barcodes.fastq</a><br>\n",
        "&nbsp;&nbsp;<a href='files/moving_pictures_tutorial/subsampled_fastq/subsampled_s_6_sequence.fastq' target='_blank'>subsampled_s_6_sequence.fastq</a><br>\n",
        "&nbsp;&nbsp;<a href='files/moving_pictures_tutorial/subsampled_fastq/subsampled_s_6_sequence_barcodes.fastq' target='_blank'>subsampled_s_6_sequence_barcodes.fastq</a><br>"
       ],
       "output_type": "pyout",
       "prompt_number": 4,
       "text": [
        "moving_pictures_tutorial/\n",
        "  454_map.txt\n",
        "  filtered_mapping_l1.txt\n",
        "  filtered_mapping_l2.txt\n",
        "  filtered_mapping_l3.txt\n",
        "  filtered_mapping_l4.txt\n",
        "  filtered_mapping_l5.txt\n",
        "  filtered_mapping_l6.txt\n",
        "  procrustes_metadata_map.txt\n",
        "  procrustes_sid_map.txt\n",
        "  README.txt\n",
        "  subsampled_454_seqs.fna\n",
        "  ucrC_fast_params.txt\n",
        "moving_pictures_tutorial/subsampled_fastq/\n",
        "  subsampled_s_1_sequence.fastq\n",
        "  subsampled_s_1_sequence_barcodes.fastq\n",
        "  subsampled_s_2_sequence.fastq\n",
        "  subsampled_s_2_sequence_barcodes.fastq\n",
        "  subsampled_s_3_sequence.fastq\n",
        "  subsampled_s_3_sequence_barcodes.fastq\n",
        "  subsampled_s_4_sequence.fastq\n",
        "  subsampled_s_4_sequence_barcodes.fastq\n",
        "  subsampled_s_5_sequence.fastq\n",
        "  subsampled_s_5_sequence_barcodes.fastq\n",
        "  subsampled_s_6_sequence.fastq\n",
        "  subsampled_s_6_sequence_barcodes.fastq"
       ]
      }
     ],
     "prompt_number": 4
    },
    {
     "cell_type": "heading",
     "level": 2,
     "metadata": {},
     "source": [
      "First, let's check our mapping file for errors"
     ]
    },
    {
     "cell_type": "code",
     "collapsed": false,
     "input": [
      "!check_id_map.py -o cid/ -m moving_pictures_tutorial/filtered_mapping_l1.txt"
     ],
     "language": "python",
     "metadata": {},
     "outputs": [
      {
       "output_type": "stream",
       "stream": "stdout",
       "text": [
        "No errors or warnings were found in mapping file.\r\n"
       ]
      }
     ],
     "prompt_number": 21
    },
    {
     "cell_type": "markdown",
     "metadata": {},
     "source": [
      "In this case there were no errors, but if there were we would review the resulting html summary to find out what errors are present. You could then fix those in a spreadsheet program or text editor. To view that html file, call ``FileLinks`` on the output directory from the previous step and click the link to the ``html`` file."
     ]
    },
    {
     "cell_type": "code",
     "collapsed": false,
     "input": [
      "FileLinks('cid/')"
     ],
     "language": "python",
     "metadata": {},
     "outputs": [
      {
       "html": [
        "cid/<br>\n",
        "&nbsp;&nbsp;<a href='files/cid/filtered_mapping_l1.html' target='_blank'>filtered_mapping_l1.html</a><br>\n",
        "&nbsp;&nbsp;<a href='files/cid/filtered_mapping_l1.log' target='_blank'>filtered_mapping_l1.log</a><br>\n",
        "&nbsp;&nbsp;<a href='files/cid/filtered_mapping_l1_corrected.txt' target='_blank'>filtered_mapping_l1_corrected.txt</a><br>\n",
        "&nbsp;&nbsp;<a href='files/cid/overlib.js' target='_blank'>overlib.js</a><br>"
       ],
       "output_type": "pyout",
       "prompt_number": 22,
       "text": [
        "cid/\n",
        "  filtered_mapping_l1.html\n",
        "  filtered_mapping_l1.log\n",
        "  filtered_mapping_l1_corrected.txt\n",
        "  overlib.js"
       ]
      }
     ],
     "prompt_number": 22
    },
    {
     "cell_type": "heading",
     "level": 2,
     "metadata": {},
     "source": [
      "Demultiplexing and quality filtering seqeunces"
     ]
    },
    {
     "cell_type": "code",
     "collapsed": false,
     "input": [
      "!split_libraries_fastq.py -o slout/ -i moving_pictures_tutorial/subsampled_fastq/subsampled_s_1_sequence.fastq,moving_pictures_tutorial/subsampled_fastq/subsampled_s_2_sequence.fastq,moving_pictures_tutorial/subsampled_fastq/subsampled_s_3_sequence.fastq,moving_pictures_tutorial/subsampled_fastq/subsampled_s_4_sequence.fastq,moving_pictures_tutorial/subsampled_fastq/subsampled_s_5_sequence.fastq,moving_pictures_tutorial/subsampled_fastq/subsampled_s_6_sequence.fastq -b moving_pictures_tutorial/subsampled_fastq/subsampled_s_1_sequence_barcodes.fastq,moving_pictures_tutorial/subsampled_fastq/subsampled_s_2_sequence_barcodes.fastq,moving_pictures_tutorial/subsampled_fastq/subsampled_s_3_sequence_barcodes.fastq,moving_pictures_tutorial/subsampled_fastq/subsampled_s_4_sequence_barcodes.fastq,moving_pictures_tutorial/subsampled_fastq/subsampled_s_5_sequence_barcodes.fastq,moving_pictures_tutorial/subsampled_fastq/subsampled_s_6_sequence_barcodes.fastq -m moving_pictures_tutorial/filtered_mapping_l1.txt,moving_pictures_tutorial/filtered_mapping_l2.txt,moving_pictures_tutorial/filtered_mapping_l3.txt,moving_pictures_tutorial/filtered_mapping_l4.txt,moving_pictures_tutorial/filtered_mapping_l5.txt,moving_pictures_tutorial/filtered_mapping_l6.txt"
     ],
     "language": "python",
     "metadata": {},
     "outputs": [],
     "prompt_number": 5
    },
    {
     "cell_type": "markdown",
     "metadata": {},
     "source": [
      "We often want to see the results of running a command. Here we can do that by calling our output formatter again, this time passing the output directory from the previous step."
     ]
    },
    {
     "cell_type": "code",
     "collapsed": false,
     "input": [
      "FileLinks('slout/')"
     ],
     "language": "python",
     "metadata": {},
     "outputs": [
      {
       "html": [
        "slout/<br>\n",
        "&nbsp;&nbsp;<a href='files/slout/histograms.txt' target='_blank'>histograms.txt</a><br>\n",
        "&nbsp;&nbsp;<a href='files/slout/seqs.fna' target='_blank'>seqs.fna</a><br>\n",
        "&nbsp;&nbsp;<a href='files/slout/split_library_log.txt' target='_blank'>split_library_log.txt</a><br>"
       ],
       "output_type": "pyout",
       "prompt_number": 6,
       "text": [
        "slout/\n",
        "  histograms.txt\n",
        "  seqs.fna\n",
        "  split_library_log.txt"
       ]
      }
     ],
     "prompt_number": 6
    },
    {
     "cell_type": "code",
     "collapsed": false,
     "input": [
      "!count_seqs.py -i slout/seqs.fna"
     ],
     "language": "python",
     "metadata": {},
     "outputs": [
      {
       "output_type": "stream",
       "stream": "stdout",
       "text": [
        "\r\n",
        "66189  : slout/seqs.fna (Sequence lengths (mean +/- std): 132.1182 +/- 9.6185)\r\n",
        "66189  : Total\r\n"
       ]
      }
     ],
     "prompt_number": 7
    },
    {
     "cell_type": "heading",
     "level": 2,
     "metadata": {},
     "source": [
      "OTU picking: using an open-reference OTU picking protocol by searching reads agsint the Greengenes database."
     ]
    },
    {
     "cell_type": "code",
     "collapsed": false,
     "input": [
      "!pick_subsampled_reference_otus_through_otu_table.py -o ucrss_fast/ -i slout/seqs.fna -r $reference_seqs -p moving_pictures_tutorial/ucrC_fast_params.txt"
     ],
     "language": "python",
     "metadata": {},
     "outputs": [],
     "prompt_number": 8
    },
    {
     "cell_type": "code",
     "collapsed": false,
     "input": [
      "FileLinks('ucrss_fast/')"
     ],
     "language": "python",
     "metadata": {},
     "outputs": [
      {
       "html": [
        "ucrss_fast/<br>\n",
        "&nbsp;&nbsp;<a href='files/ucrss_fast/final_otu_map.txt' target='_blank'>final_otu_map.txt</a><br>\n",
        "&nbsp;&nbsp;<a href='files/ucrss_fast/final_otu_map_mc2.txt' target='_blank'>final_otu_map_mc2.txt</a><br>\n",
        "&nbsp;&nbsp;<a href='files/ucrss_fast/log_20130318161714.txt' target='_blank'>log_20130318161714.txt</a><br>\n",
        "&nbsp;&nbsp;<a href='files/ucrss_fast/new_refseqs.fna' target='_blank'>new_refseqs.fna</a><br>\n",
        "&nbsp;&nbsp;<a href='files/ucrss_fast/otu_table_mc2.biom' target='_blank'>otu_table_mc2.biom</a><br>\n",
        "&nbsp;&nbsp;<a href='files/ucrss_fast/otu_table_mc2_w_tax.biom' target='_blank'>otu_table_mc2_w_tax.biom</a><br>\n",
        "&nbsp;&nbsp;<a href='files/ucrss_fast/otu_table_mc2_w_tax_no_pynast_failures.biom' target='_blank'>otu_table_mc2_w_tax_no_pynast_failures.biom</a><br>\n",
        "&nbsp;&nbsp;<a href='files/ucrss_fast/rep_set.fna' target='_blank'>rep_set.fna</a><br>\n",
        "&nbsp;&nbsp;<a href='files/ucrss_fast/rep_set.tre' target='_blank'>rep_set.tre</a><br>\n",
        "ucrss_fast/prefilter_otus/<br>\n",
        "&nbsp;&nbsp;<a href='files/ucrss_fast/prefilter_otus/prefiltered_seqs.fna' target='_blank'>prefiltered_seqs.fna</a><br>\n",
        "&nbsp;&nbsp;<a href='files/ucrss_fast/prefilter_otus/seqs_clusters.uc' target='_blank'>seqs_clusters.uc</a><br>\n",
        "&nbsp;&nbsp;<a href='files/ucrss_fast/prefilter_otus/seqs_failures.txt' target='_blank'>seqs_failures.txt</a><br>\n",
        "&nbsp;&nbsp;<a href='files/ucrss_fast/prefilter_otus/seqs_otus.log' target='_blank'>seqs_otus.log</a><br>\n",
        "&nbsp;&nbsp;<a href='files/ucrss_fast/prefilter_otus/seqs_otus.txt' target='_blank'>seqs_otus.txt</a><br>\n",
        "ucrss_fast/pynast_aligned_seqs/<br>\n",
        "&nbsp;&nbsp;<a href='files/ucrss_fast/pynast_aligned_seqs/rep_set_aligned.fasta' target='_blank'>rep_set_aligned.fasta</a><br>\n",
        "&nbsp;&nbsp;<a href='files/ucrss_fast/pynast_aligned_seqs/rep_set_aligned_pfiltered.fasta' target='_blank'>rep_set_aligned_pfiltered.fasta</a><br>\n",
        "&nbsp;&nbsp;<a href='files/ucrss_fast/pynast_aligned_seqs/rep_set_failures.fasta' target='_blank'>rep_set_failures.fasta</a><br>\n",
        "&nbsp;&nbsp;<a href='files/ucrss_fast/pynast_aligned_seqs/rep_set_log.txt' target='_blank'>rep_set_log.txt</a><br>\n",
        "ucrss_fast/rdp_assigned_taxonomy/<br>\n",
        "&nbsp;&nbsp;<a href='files/ucrss_fast/rdp_assigned_taxonomy/rep_set_tax_assignments.log' target='_blank'>rep_set_tax_assignments.log</a><br>\n",
        "&nbsp;&nbsp;<a href='files/ucrss_fast/rdp_assigned_taxonomy/rep_set_tax_assignments.txt' target='_blank'>rep_set_tax_assignments.txt</a><br>\n",
        "ucrss_fast/step1_otus/<br>\n",
        "&nbsp;&nbsp;<a href='files/ucrss_fast/step1_otus/failures.fasta' target='_blank'>failures.fasta</a><br>\n",
        "&nbsp;&nbsp;<a href='files/ucrss_fast/step1_otus/prefiltered_seqs_clusters.uc' target='_blank'>prefiltered_seqs_clusters.uc</a><br>\n",
        "&nbsp;&nbsp;<a href='files/ucrss_fast/step1_otus/prefiltered_seqs_failures.txt' target='_blank'>prefiltered_seqs_failures.txt</a><br>\n",
        "&nbsp;&nbsp;<a href='files/ucrss_fast/step1_otus/prefiltered_seqs_otus.log' target='_blank'>prefiltered_seqs_otus.log</a><br>\n",
        "&nbsp;&nbsp;<a href='files/ucrss_fast/step1_otus/prefiltered_seqs_otus.txt' target='_blank'>prefiltered_seqs_otus.txt</a><br>\n",
        "&nbsp;&nbsp;<a href='files/ucrss_fast/step1_otus/step1_rep_set.fna' target='_blank'>step1_rep_set.fna</a><br>\n",
        "&nbsp;&nbsp;<a href='files/ucrss_fast/step1_otus/subsampled_failures.fasta' target='_blank'>subsampled_failures.fasta</a><br>\n",
        "ucrss_fast/step2_otus/<br>\n",
        "&nbsp;&nbsp;<a href='files/ucrss_fast/step2_otus/step2_rep_set.fna' target='_blank'>step2_rep_set.fna</a><br>\n",
        "&nbsp;&nbsp;<a href='files/ucrss_fast/step2_otus/subsampled_failures_clusters.uc' target='_blank'>subsampled_failures_clusters.uc</a><br>\n",
        "&nbsp;&nbsp;<a href='files/ucrss_fast/step2_otus/subsampled_failures_otus.log' target='_blank'>subsampled_failures_otus.log</a><br>\n",
        "&nbsp;&nbsp;<a href='files/ucrss_fast/step2_otus/subsampled_failures_otus.txt' target='_blank'>subsampled_failures_otus.txt</a><br>\n",
        "ucrss_fast/step3_otus/<br>\n",
        "&nbsp;&nbsp;<a href='files/ucrss_fast/step3_otus/failures_clusters.uc' target='_blank'>failures_clusters.uc</a><br>\n",
        "&nbsp;&nbsp;<a href='files/ucrss_fast/step3_otus/failures_failures.fasta' target='_blank'>failures_failures.fasta</a><br>\n",
        "&nbsp;&nbsp;<a href='files/ucrss_fast/step3_otus/failures_failures.txt' target='_blank'>failures_failures.txt</a><br>\n",
        "&nbsp;&nbsp;<a href='files/ucrss_fast/step3_otus/failures_otus.log' target='_blank'>failures_otus.log</a><br>\n",
        "&nbsp;&nbsp;<a href='files/ucrss_fast/step3_otus/failures_otus.txt' target='_blank'>failures_otus.txt</a><br>\n",
        "ucrss_fast/step4_otus/<br>\n",
        "&nbsp;&nbsp;<a href='files/ucrss_fast/step4_otus/failures_failures_clusters.uc' target='_blank'>failures_failures_clusters.uc</a><br>\n",
        "&nbsp;&nbsp;<a href='files/ucrss_fast/step4_otus/failures_failures_otus.log' target='_blank'>failures_failures_otus.log</a><br>\n",
        "&nbsp;&nbsp;<a href='files/ucrss_fast/step4_otus/failures_failures_otus.txt' target='_blank'>failures_failures_otus.txt</a><br>\n",
        "&nbsp;&nbsp;<a href='files/ucrss_fast/step4_otus/step4_rep_set.fna' target='_blank'>step4_rep_set.fna</a><br>"
       ],
       "output_type": "pyout",
       "prompt_number": 9,
       "text": [
        "ucrss_fast/\n",
        "  final_otu_map.txt\n",
        "  final_otu_map_mc2.txt\n",
        "  log_20130318161714.txt\n",
        "  new_refseqs.fna\n",
        "  otu_table_mc2.biom\n",
        "  otu_table_mc2_w_tax.biom\n",
        "  otu_table_mc2_w_tax_no_pynast_failures.biom\n",
        "  rep_set.fna\n",
        "  rep_set.tre\n",
        "ucrss_fast/prefilter_otus/\n",
        "  prefiltered_seqs.fna\n",
        "  seqs_clusters.uc\n",
        "  seqs_failures.txt\n",
        "  seqs_otus.log\n",
        "  seqs_otus.txt\n",
        "ucrss_fast/pynast_aligned_seqs/\n",
        "  rep_set_aligned.fasta\n",
        "  rep_set_aligned_pfiltered.fasta\n",
        "  rep_set_failures.fasta\n",
        "  rep_set_log.txt\n",
        "ucrss_fast/rdp_assigned_taxonomy/\n",
        "  rep_set_tax_assignments.log\n",
        "  rep_set_tax_assignments.txt\n",
        "ucrss_fast/step1_otus/\n",
        "  failures.fasta\n",
        "  prefiltered_seqs_clusters.uc\n",
        "  prefiltered_seqs_failures.txt\n",
        "  prefiltered_seqs_otus.log\n",
        "  prefiltered_seqs_otus.txt\n",
        "  step1_rep_set.fna\n",
        "  subsampled_failures.fasta\n",
        "ucrss_fast/step2_otus/\n",
        "  step2_rep_set.fna\n",
        "  subsampled_failures_clusters.uc\n",
        "  subsampled_failures_otus.log\n",
        "  subsampled_failures_otus.txt\n",
        "ucrss_fast/step3_otus/\n",
        "  failures_clusters.uc\n",
        "  failures_failures.fasta\n",
        "  failures_failures.txt\n",
        "  failures_otus.log\n",
        "  failures_otus.txt\n",
        "ucrss_fast/step4_otus/\n",
        "  failures_failures_clusters.uc\n",
        "  failures_failures_otus.log\n",
        "  failures_failures_otus.txt\n",
        "  step4_rep_set.fna"
       ]
      }
     ],
     "prompt_number": 9
    },
    {
     "cell_type": "code",
     "collapsed": false,
     "input": [
      "!print_biom_table_summary.py -i ucrss_fast/otu_table_mc2_w_tax_no_pynast_failures.biom"
     ],
     "language": "python",
     "metadata": {},
     "outputs": [
      {
       "output_type": "stream",
       "stream": "stdout",
       "text": [
        "Num samples: 61\r\n",
        "Num observations: 1847\r\n",
        "Total count: 63402.0\r\n",
        "Table density (fraction of non-zero values): 0.0859\r\n",
        "Table md5 (unzipped): e1895cdde9cb4a69f8e77a102df7635d\r\n",
        "\r\n",
        "Counts/sample summary:\r\n",
        " Min: 122.0\r\n",
        " Max: 2561.0\r\n",
        " Median: 891.0\r\n",
        " Mean: 1039.37704918\r\n",
        " Std. dev.: 758.970833884\r\n",
        " Sample Metadata Categories: None provided\r\n",
        " Observation Metadata Categories: taxonomy\r\n",
        "\r\n",
        "Counts/sample detail:\r\n",
        " L3S237: 122.0\r\n",
        " L3S235: 173.0\r\n",
        " L3S372: 186.0\r\n",
        " L3S373: 227.0\r\n",
        " L3S368: 238.0\r\n",
        " L3S370: 242.0\r\n",
        " L3S367: 243.0\r\n",
        " L3S236: 257.0\r\n",
        " L3S369: 260.0\r\n",
        " L3S238: 271.0\r\n",
        " L3S9: 271.0\r\n",
        " L3S8: 275.0\r\n",
        " L3S6: 279.0\r\n",
        " L3S371: 283.0\r\n",
        " L3S7: 301.0\r\n",
        " L5S234: 365.0\r\n",
        " L5S231: 381.0\r\n",
        " L5S235: 414.0\r\n",
        " L5S99: 426.0\r\n",
        " L5S98: 433.0\r\n",
        " L5S230: 442.0\r\n",
        " L5S232: 457.0\r\n",
        " L5S233: 459.0\r\n",
        " L5S229: 505.0\r\n",
        " L5S97: 512.0\r\n",
        " L5S100: 522.0\r\n",
        " L2S236: 584.0\r\n",
        " L2S234: 721.0\r\n",
        " L2S231: 769.0\r\n",
        " L2S229: 844.0\r\n",
        " L2S233: 891.0\r\n",
        " L2S99: 899.0\r\n",
        " L2S230: 935.0\r\n",
        " L2S232: 957.0\r\n",
        " L2S100: 1029.0\r\n",
        " L2S97: 1050.0\r\n",
        " L2S235: 1059.0\r\n",
        " L1S4: 1079.0\r\n",
        " L2S98: 1097.0\r\n",
        " L1S3: 1206.0\r\n",
        " L1S1: 1312.0\r\n",
        " L1S131: 1556.0\r\n",
        " L1S134: 1574.0\r\n",
        " L1S132: 1698.0\r\n",
        " L4S146: 1748.0\r\n",
        " L1S129: 1753.0\r\n",
        " L1S130: 1766.0\r\n",
        " L1S135: 1766.0\r\n",
        " L1S133: 1893.0\r\n",
        " L1S2: 1899.0\r\n",
        " L6S100: 1994.0\r\n",
        " L6S101: 2040.0\r\n",
        " L1S136: 2062.0\r\n",
        " L4S144: 2127.0\r\n",
        " L4S145: 2147.0\r\n",
        " L6S102: 2206.0\r\n",
        " L1S287: 2317.0\r\n",
        " L6S103: 2367.0\r\n",
        " L4S147: 2441.0\r\n",
        " L1S290: 2511.0\r\n",
        " L1S289: 2561.0\r\n"
       ]
      }
     ],
     "prompt_number": 10
    },
    {
     "cell_type": "heading",
     "level": 2,
     "metadata": {},
     "source": [
      "Create a single mapping file from the per-lane mapping files."
     ]
    },
    {
     "cell_type": "code",
     "collapsed": false,
     "input": [
      "!merge_mapping_files.py -o combined_mapping_file.txt -m moving_pictures_tutorial/filtered_mapping_l1.txt,moving_pictures_tutorial/filtered_mapping_l2.txt,moving_pictures_tutorial/filtered_mapping_l3.txt,moving_pictures_tutorial/filtered_mapping_l4.txt,moving_pictures_tutorial/filtered_mapping_l5.txt,moving_pictures_tutorial/filtered_mapping_l6.txt"
     ],
     "language": "python",
     "metadata": {},
     "outputs": [],
     "prompt_number": 11
    },
    {
     "cell_type": "code",
     "collapsed": false,
     "input": [
      "!head combined_mapping_file.txt"
     ],
     "language": "python",
     "metadata": {},
     "outputs": [
      {
       "output_type": "stream",
       "stream": "stdout",
       "text": [
        "#SampleID\tBarcodeSequence\tLinkerPrimerSequence\tdays_since_epoch\tSamplePlate\ttimestamp\tSampleType\tmonth\tPrimerPlate\tWellID\tyear\tday\tsubject\tDescription\r\n",
        "L6S100\tGTCGCTGTCTTC\tGTGCCAGCMGCCGCGGTAA\t14355\t20\t20090421\tTongue\t4\t5\td1\t2009\t21\t2\tRK_Tong_4_21_2009\r\n",
        "L2S229\tCAACTCATCGTA\tGTGCCAGCMGCCGCGGTAA\t14355\t7\t20090421\tL_palm\t4\t2\te5\t2009\t21\t1\tAB_L_Palm_4_21_2009\r\n",
        "L6S102\tGTTGACGACAGC\tGTGCCAGCMGCCGCGGTAA\t14357\t20\t20090423\tTongue\t4\t5\tf1\t2009\t23\t2\tRK_Tong_4_23_2009\r\n",
        "L6S103\tTACGCGCTGAGA\tGTGCCAGCMGCCGCGGTAA\t14358\t20\t20090424\tTongue\t4\t5\tg1\t2009\t24\t2\tRK_Tong_4_24_2009\r\n",
        "L3S369\tATACAGAGCTCC\tGTGCCAGCMGCCGCGGTAA\t14357\t12\t20090423\tR_palm\t4\t2\ta11\t2009\t23\t1\tAB_R_Palm_4_23_2009\r\n",
        "L3S368\tCATCTGTAGCGA\tGTGCCAGCMGCCGCGGTAA\t14356\t12\t20090422\tR_palm\t4\t2\th10\t2009\t22\t1\tAB_R_Palm_4_22_2009\r\n",
        "L2S100\tACGCTCATGGAT\tGTGCCAGCMGCCGCGGTAA\t14176\t6\t20081024\tL_palm\t10\t1\td1\t2008\t24\t1\tAB_L_Palm_10_24_2008\r\n",
        "L3S373\tCACATCTAACAC\tGTGCCAGCMGCCGCGGTAA\t14175\t12\t20081023\tR_palm\t10\t2\te11\t2008\t23\t2\tRK_R_Palm_10_23_2008\r\n",
        "L3S370\tATCCTCAGTAGT\tGTGCCAGCMGCCGCGGTAA\t14358\t12\t20090424\tR_palm\t4\t2\tb11\t2009\t24\t1\tAB_R_Palm_4_24_2009\r\n"
       ]
      }
     ],
     "prompt_number": 12
    },
    {
     "cell_type": "markdown",
     "metadata": {},
     "source": [
      "To view a single file (rather than a directory) we use the ``FileLink`` function instead of the ``FileLinks`` function."
     ]
    },
    {
     "cell_type": "code",
     "collapsed": false,
     "input": [
      "FileLink('combined_mapping_file.txt')"
     ],
     "language": "python",
     "metadata": {},
     "outputs": [
      {
       "html": [
        "<a href='files/combined_mapping_file.txt' target='_blank'>combined_mapping_file.txt</a><br>"
       ],
       "output_type": "pyout",
       "prompt_number": 13,
       "text": [
        "/Users/caporaso/Dropbox/code/qiime/examples/ipynb/combined_mapping_file.txt"
       ]
      }
     ],
     "prompt_number": 13
    },
    {
     "cell_type": "heading",
     "level": 2,
     "metadata": {},
     "source": [
      "Run diversity analyses"
     ]
    },
    {
     "cell_type": "markdown",
     "metadata": {},
     "source": [
      "Here we're running the ``core_diversity_analyses.py`` script which applies many of the \"first-pass\" diversity analyses that users are generally interested in. The main output that users will interact with is the ``index.html`` file, which provides links into the different analysis results."
     ]
    },
    {
     "cell_type": "code",
     "collapsed": false,
     "input": [
      "!core_diversity_analyses.py -o cd258/ -i ucrss_fast/otu_table_mc2_w_tax_no_pynast_failures.biom -m combined_mapping_file.txt -t ucrss_fast/rep_set.tre -e 258 -c \"SampleType,days_since_epoch\""
     ],
     "language": "python",
     "metadata": {},
     "outputs": [
      {
       "output_type": "stream",
       "stream": "stdout",
       "text": [
        "Warning, the following samples were in the category mapping file but not the OTU table and will be ignored: \r\n",
        "L3S368\r\n",
        "\r\n",
        "L3S373\r\n",
        "\r\n",
        "L3S370\r\n",
        "\r\n",
        "L3S367\r\n",
        "\r\n",
        "L3S372\r\n",
        "\r\n",
        "L3S237\r\n",
        "\r\n",
        "L3S236\r\n",
        "\r\n",
        "L3S235\r\n",
        "\r\n",
        "\r\n"
       ]
      },
      {
       "output_type": "stream",
       "stream": "stdout",
       "text": [
        "Warning, the following samples were in the category mapping file but not the OTU table and will be ignored: \r\n",
        "L3S368\r\n",
        "\r\n",
        "L3S373\r\n",
        "\r\n",
        "L3S370\r\n",
        "\r\n",
        "L3S367\r\n",
        "\r\n",
        "L3S372\r\n",
        "\r\n",
        "L3S237\r\n",
        "\r\n",
        "L3S236\r\n",
        "\r\n",
        "L3S235\r\n",
        "\r\n",
        "\r\n"
       ]
      }
     ],
     "prompt_number": 15
    },
    {
     "cell_type": "code",
     "collapsed": false,
     "input": [
      "FileLink('cd258/index.html')"
     ],
     "language": "python",
     "metadata": {},
     "outputs": [
      {
       "html": [
        "<a href='files/cd258/index.html' target='_blank'>cd258/index.html</a><br>"
       ],
       "output_type": "pyout",
       "prompt_number": 16,
       "text": [
        "/Users/caporaso/Dropbox/code/qiime/examples/ipynb/cd258/index.html"
       ]
      }
     ],
     "prompt_number": 16
    },
    {
     "cell_type": "code",
     "collapsed": false,
     "input": [],
     "language": "python",
     "metadata": {},
     "outputs": []
    }
   ],
   "metadata": {}
  }
 ]
}