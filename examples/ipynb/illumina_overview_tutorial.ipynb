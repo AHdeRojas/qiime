{
 "metadata": {
  "name": "illumina_overview_tutorial"
 },
 "nbformat": 3,
 "nbformat_minor": 0,
 "worksheets": [
  {
   "cells": [
    {
     "cell_type": "markdown",
     "metadata": {},
     "source": [
      "## Notebook preparation\n",
      "\n",
      "This notebook illustrates the commands in the [Illumina Overview Tutorial](http://qiime.org/svn_documentation/tutorials/illumina_overview_tutorial.html), as well as some features that are convenient for working with the [IPython Notebook](http://ipython.org/ipython-doc/dev/interactive/htmlnotebook.html) and [QIIME](http://www.qiime.org). \n",
      "\n",
      "This tutorial makes use of the ``12_10`` release of the [Greengenes](http://www.ncbi.nlm.nih.gov/pubmed/22134646) reference OTUs. You can always find a link to the latest version of the reference OTUs on the [QIIME resources page](http://qiime.org/home_static/dataFiles.html)."
     ]
    },
    {
     "cell_type": "markdown",
     "metadata": {},
     "source": [
      "## Getting started\n",
      "\n",
      "We'll begin by downloading data and initializing some variables to configure our IPython computing environment."
     ]
    },
    {
     "cell_type": "code",
     "collapsed": false,
     "input": [
      "!wget https://s3.amazonaws.com/qiime-tutorial/moving_pictures_tutorial.tgz\n",
      "!wget ftp://greengenes.microbio.me/greengenes_release/gg_12_10/gg_12_10_otus.tar.gz\n",
      "!tar -xzf moving_pictures_tutorial.tgz\n",
      "!tar -xzf gg_12_10_otus.tar.gz"
     ],
     "language": "python",
     "metadata": {},
     "outputs": [
      {
       "output_type": "stream",
       "stream": "stdout",
       "text": [
        "--2013-03-18 13:46:41--  https://s3.amazonaws.com/qiime-tutorial/moving_pictures_tutorial.tgz\r\n",
        "Resolving s3.amazonaws.com... "
       ]
      },
      {
       "output_type": "stream",
       "stream": "stdout",
       "text": [
        "72.21.215.132\r\n",
        "Connecting to s3.amazonaws.com|72.21.215.132|:443... connected.\r\n"
       ]
      },
      {
       "output_type": "stream",
       "stream": "stdout",
       "text": [
        "HTTP request sent, awaiting response... "
       ]
      },
      {
       "output_type": "stream",
       "stream": "stdout",
       "text": [
        "200 OK\r\n",
        "Length: 29124406 (28M) [application/x-compressed]\r\n",
        "Saving to: \u2018moving_pictures_tutorial.tgz\u2019\r\n",
        "\r\n",
        "\r",
        " 0% [                                       ] 0           --.-K/s              "
       ]
      },
      {
       "output_type": "stream",
       "stream": "stdout",
       "text": [
        "\r",
        " 1% [                                       ] 421,829     2.01MB/s             "
       ]
      },
      {
       "output_type": "stream",
       "stream": "stdout",
       "text": [
        "\r",
        " 4% [>                                      ] 1,384,829   3.29MB/s             "
       ]
      },
      {
       "output_type": "stream",
       "stream": "stdout",
       "text": [
        "\r",
        " 8% [==>                                    ] 2,545,829   4.03MB/s             "
       ]
      },
      {
       "output_type": "stream",
       "stream": "stdout",
       "text": [
        "\r",
        "11% [===>                                   ] 3,409,829   4.04MB/s             "
       ]
      },
      {
       "output_type": "stream",
       "stream": "stdout",
       "text": [
        "\r",
        "15% [=====>                                 ] 4,543,829   4.30MB/s             "
       ]
      },
      {
       "output_type": "stream",
       "stream": "stdout",
       "text": [
        "\r",
        "19% [======>                                ] 5,668,829   4.48MB/s             "
       ]
      },
      {
       "output_type": "stream",
       "stream": "stdout",
       "text": [
        "\r",
        "22% [=======>                               ] 6,631,829   4.49MB/s             "
       ]
      },
      {
       "output_type": "stream",
       "stream": "stdout",
       "text": [
        "\r",
        "23% [========>                              ] 6,883,829   3.95MB/s             "
       ]
      },
      {
       "output_type": "stream",
       "stream": "stdout",
       "text": [
        "\r",
        "26% [=========>                             ] 7,576,829   3.88MB/s             "
       ]
      },
      {
       "output_type": "stream",
       "stream": "stdout",
       "text": [
        "\r",
        "29% [==========>                            ] 8,494,829   3.92MB/s             "
       ]
      },
      {
       "output_type": "stream",
       "stream": "stdout",
       "text": [
        "\r",
        "32% [===========>                           ] 9,448,829   3.98MB/s             "
       ]
      },
      {
       "output_type": "stream",
       "stream": "stdout",
       "text": [
        "\r",
        "36% [=============>                         ] 10,591,829  4.10MB/s             "
       ]
      },
      {
       "output_type": "stream",
       "stream": "stdout",
       "text": [
        "\r",
        "40% [==============>                        ] 11,779,829  4.21MB/s             "
       ]
      },
      {
       "output_type": "stream",
       "stream": "stdout",
       "text": [
        "\r",
        "44% [================>                      ] 12,841,829  4.27MB/s             "
       ]
      },
      {
       "output_type": "stream",
       "stream": "stdout",
       "text": [
        "\r",
        "47% [=================>                     ] 13,840,829  4.30MB/s  eta 3s     "
       ]
      },
      {
       "output_type": "stream",
       "stream": "stdout",
       "text": [
        "\r",
        "50% [==================>                    ] 14,812,829  4.48MB/s  eta 3s     "
       ]
      },
      {
       "output_type": "stream",
       "stream": "stdout",
       "text": [
        "\r",
        "54% [====================>                  ] 15,874,829  4.54MB/s  eta 3s     "
       ]
      },
      {
       "output_type": "stream",
       "stream": "stdout",
       "text": [
        "\r",
        "58% [=====================>                 ] 16,963,829  4.52MB/s  eta 3s     "
       ]
      },
      {
       "output_type": "stream",
       "stream": "stdout",
       "text": [
        "\r",
        "60% [======================>                ] 17,710,829  4.46MB/s  eta 3s     "
       ]
      },
      {
       "output_type": "stream",
       "stream": "stdout",
       "text": [
        "\r",
        "64% [========================>              ] 18,709,829  4.44MB/s  eta 2s     "
       ]
      },
      {
       "output_type": "stream",
       "stream": "stdout",
       "text": [
        "\r",
        "66% [========================>              ] 19,393,829  4.31MB/s  eta 2s     "
       ]
      },
      {
       "output_type": "stream",
       "stream": "stdout",
       "text": [
        "\r",
        "70% [==========================>            ] 20,509,829  4.33MB/s  eta 2s     "
       ]
      },
      {
       "output_type": "stream",
       "stream": "stdout",
       "text": [
        "\r",
        "73% [===========================>           ] 21,383,637  4.44MB/s  eta 2s     "
       ]
      },
      {
       "output_type": "stream",
       "stream": "stdout",
       "text": [
        "\r",
        "77% [=============================>         ] 22,426,829  4.51MB/s  eta 2s     "
       ]
      },
      {
       "output_type": "stream",
       "stream": "stdout",
       "text": [
        "\r",
        "80% [==============================>        ] 23,488,829  4.52MB/s  eta 1s     "
       ]
      },
      {
       "output_type": "stream",
       "stream": "stdout",
       "text": [
        "\r",
        "84% [================================>      ] 24,649,829  4.58MB/s  eta 1s     "
       ]
      },
      {
       "output_type": "stream",
       "stream": "stdout",
       "text": [
        "\r",
        "88% [=================================>     ] 25,747,829  4.58MB/s  eta 1s     "
       ]
      },
      {
       "output_type": "stream",
       "stream": "stdout",
       "text": [
        "\r",
        "91% [==================================>    ] 26,701,829  4.52MB/s  eta 1s     "
       ]
      },
      {
       "output_type": "stream",
       "stream": "stdout",
       "text": [
        "\r",
        "95% [====================================>  ] 27,791,637  4.55MB/s  eta 1s     "
       ]
      },
      {
       "output_type": "stream",
       "stream": "stdout",
       "text": [
        "\r",
        "99% [=====================================> ] 28,870,829  4.55MB/s  eta 0s     "
       ]
      },
      {
       "output_type": "stream",
       "stream": "stdout",
       "text": [
        "\r",
        "100%[======================================>] 29,124,406  4.56MB/s   in 6.3s   \r\n",
        "\r\n"
       ]
      },
      {
       "output_type": "stream",
       "stream": "stdout",
       "text": [
        "2013-03-18 13:46:49 (4.44 MB/s) - \u2018moving_pictures_tutorial.tgz\u2019 saved [29124406/29124406]\r\n",
        "\r\n"
       ]
      },
      {
       "output_type": "stream",
       "stream": "stdout",
       "text": [
        "--2013-03-18 13:46:49--  ftp://greengenes.microbio.me/greengenes_release/gg_12_10/gg_12_10_otus.tar.gz\r\n",
        "           => \u2018gg_12_10_otus.tar.gz\u2019\r\n",
        "Resolving greengenes.microbio.me... "
       ]
      },
      {
       "output_type": "stream",
       "stream": "stdout",
       "text": [
        "128.138.93.17\r\n",
        "Connecting to greengenes.microbio.me|128.138.93.17|:21... "
       ]
      },
      {
       "output_type": "stream",
       "stream": "stdout",
       "text": [
        "connected.\r\n",
        "Logging in as anonymous ... "
       ]
      },
      {
       "output_type": "stream",
       "stream": "stdout",
       "text": [
        "Logged in!\r\n",
        "==> SYST ... done.    ==> PWD ... "
       ]
      },
      {
       "output_type": "stream",
       "stream": "stdout",
       "text": [
        "done.\r\n",
        "==> TYPE I ... done.  ==> CWD (1) /greengenes_release/gg_12_10 ... "
       ]
      },
      {
       "output_type": "stream",
       "stream": "stdout",
       "text": [
        "done.\r\n",
        "==> SIZE gg_12_10_otus.tar.gz ... 135667617\r\n",
        "==> PASV ... "
       ]
      },
      {
       "output_type": "stream",
       "stream": "stdout",
       "text": [
        "done.    ==> RETR gg_12_10_otus.tar.gz ... "
       ]
      },
      {
       "output_type": "stream",
       "stream": "stdout",
       "text": [
        "done.\r\n",
        "Length: 135667617 (129M) (unauthoritative)\r\n",
        "\r\n",
        "\r",
        " 0% [                                       ] 0           --.-K/s              "
       ]
      },
      {
       "output_type": "stream",
       "stream": "stdout",
       "text": [
        "\r",
        " 0% [                                       ] 317,112     1.51MB/s             "
       ]
      },
      {
       "output_type": "stream",
       "stream": "stdout",
       "text": [
        "\r",
        " 1% [                                       ] 1,364,968   3.25MB/s             "
       ]
      },
      {
       "output_type": "stream",
       "stream": "stdout",
       "text": [
        "\r",
        " 2% [                                       ] 3,120,440   4.95MB/s             "
       ]
      },
      {
       "output_type": "stream",
       "stream": "stdout",
       "text": [
        "\r",
        " 4% [>                                      ] 5,600,368   6.65MB/s             "
       ]
      },
      {
       "output_type": "stream",
       "stream": "stdout",
       "text": [
        "\r",
        " 6% [=>                                     ] 8,923,528   8.47MB/s             "
       ]
      },
      {
       "output_type": "stream",
       "stream": "stdout",
       "text": [
        "\r",
        " 9% [==>                                    ] 12,632,352  10.0MB/s             "
       ]
      },
      {
       "output_type": "stream",
       "stream": "stdout",
       "text": [
        "\r",
        "12% [===>                                   ] 16,282,760  11.0MB/s             "
       ]
      },
      {
       "output_type": "stream",
       "stream": "stdout",
       "text": [
        "\r",
        "14% [====>                                  ] 19,935,568  11.8MB/s             "
       ]
      },
      {
       "output_type": "stream",
       "stream": "stdout",
       "text": [
        "\r",
        "17% [=====>                                 ] 23,577,784  12.4MB/s             "
       ]
      },
      {
       "output_type": "stream",
       "stream": "stdout",
       "text": [
        "\r",
        "20% [======>                                ] 27,233,488  12.9MB/s             "
       ]
      },
      {
       "output_type": "stream",
       "stream": "stdout",
       "text": [
        "\r",
        "22% [=======>                               ] 30,881,496  13.3MB/s             "
       ]
      },
      {
       "output_type": "stream",
       "stream": "stdout",
       "text": [
        "\r",
        "25% [========>                              ] 34,531,408  13.6MB/s             "
       ]
      },
      {
       "output_type": "stream",
       "stream": "stdout",
       "text": [
        "\r",
        "28% [=========>                             ] 38,180,368  13.9MB/s             "
       ]
      },
      {
       "output_type": "stream",
       "stream": "stdout",
       "text": [
        "\r",
        "30% [===========>                           ] 41,828,376  14.2MB/s             "
       ]
      },
      {
       "output_type": "stream",
       "stream": "stdout",
       "text": [
        "\r",
        "33% [============>                          ] 45,478,288  14.4MB/s  eta 6s     "
       ]
      },
      {
       "output_type": "stream",
       "stream": "stdout",
       "text": [
        "\r",
        "36% [=============>                         ] 49,192,408  15.3MB/s  eta 6s     "
       ]
      },
      {
       "output_type": "stream",
       "stream": "stdout",
       "text": [
        "\r",
        "38% [==============>                        ] 52,840,416  15.9MB/s  eta 6s     "
       ]
      },
      {
       "output_type": "stream",
       "stream": "stdout",
       "text": [
        "\r",
        "41% [===============>                       ] 55,927,552  16.7MB/s  eta 6s     "
       ]
      },
      {
       "output_type": "stream",
       "stream": "stdout",
       "text": [
        "\r",
        "41% [===============>                       ] 56,238,872  15.9MB/s  eta 6s     "
       ]
      },
      {
       "output_type": "stream",
       "stream": "stdout",
       "text": [
        "\r",
        "42% [===============>                       ] 57,659,360  15.4MB/s  eta 5s     "
       ]
      },
      {
       "output_type": "stream",
       "stream": "stdout",
       "text": [
        "\r",
        "44% [================>                      ] 59,878,648  14.9MB/s  eta 5s     "
       ]
      },
      {
       "output_type": "stream",
       "stream": "stdout",
       "text": [
        "\r",
        "45% [================>                      ] 62,224,408  14.5MB/s  eta 5s     "
       ]
      },
      {
       "output_type": "stream",
       "stream": "stdout",
       "text": [
        "\r",
        "47% [=================>                     ] 64,631,480  14.2MB/s  eta 5s     "
       ]
      },
      {
       "output_type": "stream",
       "stream": "stdout",
       "text": [
        "\r",
        "49% [==================>                    ] 66,981,088  13.7MB/s  eta 5s     "
       ]
      },
      {
       "output_type": "stream",
       "stream": "stdout",
       "text": [
        "\r",
        "51% [==================>                    ] 69,392,008  13.4MB/s  eta 5s     "
       ]
      },
      {
       "output_type": "stream",
       "stream": "stdout",
       "text": [
        "\r",
        "52% [===================>                   ] 71,737,768  13.0MB/s  eta 5s     "
       ]
      },
      {
       "output_type": "stream",
       "stream": "stdout",
       "text": [
        "\r",
        "54% [====================>                  ] 74,213,848  12.5MB/s  eta 5s     "
       ]
      },
      {
       "output_type": "stream",
       "stream": "stdout",
       "text": [
        "\r",
        "56% [=====================>                 ] 76,557,208  12.2MB/s  eta 5s     "
       ]
      },
      {
       "output_type": "stream",
       "stream": "stdout",
       "text": [
        "\r",
        "58% [=====================>                 ] 78,970,528  11.9MB/s  eta 5s     "
       ]
      },
      {
       "output_type": "stream",
       "stream": "stdout",
       "text": [
        "\r",
        "60% [======================>                ] 81,446,608  11.3MB/s  eta 4s     "
       ]
      },
      {
       "output_type": "stream",
       "stream": "stdout",
       "text": [
        "\r",
        "61% [=======================>               ] 83,855,128  11.0MB/s  eta 4s     "
       ]
      },
      {
       "output_type": "stream",
       "stream": "stdout",
       "text": [
        "\r",
        "63% [=======================>               ] 86,202,336  10.7MB/s  eta 4s     "
       ]
      },
      {
       "output_type": "stream",
       "stream": "stdout",
       "text": [
        "\r",
        "65% [========================>              ] 88,744,528  10.3MB/s  eta 4s     "
       ]
      },
      {
       "output_type": "stream",
       "stream": "stdout",
       "text": [
        "\r",
        "67% [=========================>             ] 91,344,184  10.9MB/s  eta 4s     "
       ]
      },
      {
       "output_type": "stream",
       "stream": "stdout",
       "text": [
        "\r",
        "69% [==========================>            ] 93,957,328  11.4MB/s  eta 3s     "
       ]
      },
      {
       "output_type": "stream",
       "stream": "stdout",
       "text": [
        "\r",
        "71% [==========================>            ] 96,563,728  11.5MB/s  eta 3s     "
       ]
      },
      {
       "output_type": "stream",
       "stream": "stdout",
       "text": [
        "\r",
        "73% [===========================>           ] 99,164,832  11.6MB/s  eta 3s     "
       ]
      },
      {
       "output_type": "stream",
       "stream": "stdout",
       "text": [
        "\r",
        "75% [============================>          ] 101,776,528 11.7MB/s  eta 3s     "
       ]
      },
      {
       "output_type": "stream",
       "stream": "stdout",
       "text": [
        "\r",
        "76% [=============================>         ] 104,377,632 11.8MB/s  eta 3s     "
       ]
      },
      {
       "output_type": "stream",
       "stream": "stdout",
       "text": [
        "\r",
        "78% [=============================>         ] 106,989,328 11.8MB/s  eta 2s     "
       ]
      },
      {
       "output_type": "stream",
       "stream": "stdout",
       "text": [
        "\r",
        "80% [==============================>        ] 109,595,728 11.9MB/s  eta 2s     "
       ]
      },
      {
       "output_type": "stream",
       "stream": "stdout",
       "text": [
        "\r",
        "82% [===============================>       ] 112,202,128 12.0MB/s  eta 2s     "
       ]
      },
      {
       "output_type": "stream",
       "stream": "stdout",
       "text": [
        "\r",
        "84% [================================>      ] 114,801,784 12.0MB/s  eta 2s     "
       ]
      },
      {
       "output_type": "stream",
       "stream": "stdout",
       "text": [
        "\r",
        "86% [================================>      ] 117,474,792 12.1MB/s  eta 2s     "
       ]
      },
      {
       "output_type": "stream",
       "stream": "stdout",
       "text": [
        "\r",
        "88% [=================================>     ] 120,476,496 12.3MB/s  eta 1s     "
       ]
      },
      {
       "output_type": "stream",
       "stream": "stdout",
       "text": [
        "\r",
        "91% [==================================>    ] 123,605,128 12.5MB/s  eta 1s     "
       ]
      },
      {
       "output_type": "stream",
       "stream": "stdout",
       "text": [
        "\r",
        "93% [===================================>   ] 126,732,808 12.7MB/s  eta 1s     "
       ]
      },
      {
       "output_type": "stream",
       "stream": "stdout",
       "text": [
        "\r",
        "95% [====================================>  ] 129,678,040 12.8MB/s  eta 1s     "
       ]
      },
      {
       "output_type": "stream",
       "stream": "stdout",
       "text": [
        "\r",
        "96% [====================================>  ] 130,283,304 12.2MB/s  eta 1s     "
       ]
      },
      {
       "output_type": "stream",
       "stream": "stdout",
       "text": [
        "\r",
        "97% [====================================>  ] 131,618,856 11.8MB/s  eta 0s     "
       ]
      },
      {
       "output_type": "stream",
       "stream": "stdout",
       "text": [
        "\r",
        "98% [=====================================> ] 133,704,928 11.6MB/s  eta 0s     "
       ]
      },
      {
       "output_type": "stream",
       "stream": "stdout",
       "text": [
        "\r",
        "100%[======================================>] 135,667,617 11.5MB/s   in 10s    \r\n",
        "\r\n"
       ]
      },
      {
       "output_type": "stream",
       "stream": "stdout",
       "text": [
        "2013-03-18 13:47:00 (12.3 MB/s) - \u2018gg_12_10_otus.tar.gz\u2019 saved [135667617]\r\n",
        "\r\n"
       ]
      }
     ],
     "prompt_number": 1
    },
    {
     "cell_type": "code",
     "collapsed": false,
     "input": [
      "from os import chdir, mkdir\n",
      "from os.path import join\n",
      "# these are only available in the current development branch of IPython\n",
      "from IPython.display import FileLinks, FileLink\n",
      "\n",
      "otu_base = \"gg_12_10_otus/\"\n",
      "reference_seqs = join(otu_base,\"rep_set/97_otus.fasta\")\n",
      "reference_tree = join(otu_base,\"trees/97_otus.tree\")\n",
      "reference_tax = join(otu_base,\"taxonomy/97_otu_taxonomy.txt\")"
     ],
     "language": "python",
     "metadata": {},
     "outputs": [],
     "prompt_number": 2
    },
    {
     "cell_type": "markdown",
     "metadata": {},
     "source": [
      "Start by seeing what files are in our tutorial direcotry. We can do this using `ls` as we would on the command line, but in this case we prefix with an `!` to tell IPython that we're issuing a `bash` (i.e., command line) command, rather than a python command."
     ]
    },
    {
     "cell_type": "code",
     "collapsed": false,
     "input": [
      "!ls moving_pictures_tutorial"
     ],
     "language": "python",
     "metadata": {},
     "outputs": [
      {
       "output_type": "stream",
       "stream": "stdout",
       "text": [
        "454_map.txt                 filtered_mapping_l2.txt     filtered_mapping_l5.txt     procrustes_sid_map.txt      ucrC_fast_params.txt\r\n",
        "README.txt                  filtered_mapping_l3.txt     filtered_mapping_l6.txt     subsampled_454_seqs.fna\r\n",
        "filtered_mapping_l1.txt     filtered_mapping_l4.txt     procrustes_metadata_map.txt \u001b[34msubsampled_fastq\u001b[m\u001b[m\r\n"
       ]
      }
     ],
     "prompt_number": 3
    },
    {
     "cell_type": "markdown",
     "metadata": {},
     "source": [
      "QIIME additionally supports more convenient output formattting for the IPython notebook so you can directly interact with or download your data."
     ]
    },
    {
     "cell_type": "code",
     "collapsed": false,
     "input": [
      "FileLinks('moving_pictures_tutorial')"
     ],
     "language": "python",
     "metadata": {},
     "outputs": [
      {
       "html": [
        "moving_pictures_tutorial/<br>\n",
        "&nbsp;&nbsp;<a href='files/moving_pictures_tutorial/454_map.txt' target='_blank'>454_map.txt</a><br>\n",
        "&nbsp;&nbsp;<a href='files/moving_pictures_tutorial/filtered_mapping_l1.txt' target='_blank'>filtered_mapping_l1.txt</a><br>\n",
        "&nbsp;&nbsp;<a href='files/moving_pictures_tutorial/filtered_mapping_l2.txt' target='_blank'>filtered_mapping_l2.txt</a><br>\n",
        "&nbsp;&nbsp;<a href='files/moving_pictures_tutorial/filtered_mapping_l3.txt' target='_blank'>filtered_mapping_l3.txt</a><br>\n",
        "&nbsp;&nbsp;<a href='files/moving_pictures_tutorial/filtered_mapping_l4.txt' target='_blank'>filtered_mapping_l4.txt</a><br>\n",
        "&nbsp;&nbsp;<a href='files/moving_pictures_tutorial/filtered_mapping_l5.txt' target='_blank'>filtered_mapping_l5.txt</a><br>\n",
        "&nbsp;&nbsp;<a href='files/moving_pictures_tutorial/filtered_mapping_l6.txt' target='_blank'>filtered_mapping_l6.txt</a><br>\n",
        "&nbsp;&nbsp;<a href='files/moving_pictures_tutorial/procrustes_metadata_map.txt' target='_blank'>procrustes_metadata_map.txt</a><br>\n",
        "&nbsp;&nbsp;<a href='files/moving_pictures_tutorial/procrustes_sid_map.txt' target='_blank'>procrustes_sid_map.txt</a><br>\n",
        "&nbsp;&nbsp;<a href='files/moving_pictures_tutorial/README.txt' target='_blank'>README.txt</a><br>\n",
        "&nbsp;&nbsp;<a href='files/moving_pictures_tutorial/subsampled_454_seqs.fna' target='_blank'>subsampled_454_seqs.fna</a><br>\n",
        "&nbsp;&nbsp;<a href='files/moving_pictures_tutorial/ucrC_fast_params.txt' target='_blank'>ucrC_fast_params.txt</a><br>\n",
        "moving_pictures_tutorial/subsampled_fastq/<br>\n",
        "&nbsp;&nbsp;<a href='files/moving_pictures_tutorial/subsampled_fastq/subsampled_s_1_sequence.fastq' target='_blank'>subsampled_s_1_sequence.fastq</a><br>\n",
        "&nbsp;&nbsp;<a href='files/moving_pictures_tutorial/subsampled_fastq/subsampled_s_1_sequence_barcodes.fastq' target='_blank'>subsampled_s_1_sequence_barcodes.fastq</a><br>\n",
        "&nbsp;&nbsp;<a href='files/moving_pictures_tutorial/subsampled_fastq/subsampled_s_2_sequence.fastq' target='_blank'>subsampled_s_2_sequence.fastq</a><br>\n",
        "&nbsp;&nbsp;<a href='files/moving_pictures_tutorial/subsampled_fastq/subsampled_s_2_sequence_barcodes.fastq' target='_blank'>subsampled_s_2_sequence_barcodes.fastq</a><br>\n",
        "&nbsp;&nbsp;<a href='files/moving_pictures_tutorial/subsampled_fastq/subsampled_s_3_sequence.fastq' target='_blank'>subsampled_s_3_sequence.fastq</a><br>\n",
        "&nbsp;&nbsp;<a href='files/moving_pictures_tutorial/subsampled_fastq/subsampled_s_3_sequence_barcodes.fastq' target='_blank'>subsampled_s_3_sequence_barcodes.fastq</a><br>\n",
        "&nbsp;&nbsp;<a href='files/moving_pictures_tutorial/subsampled_fastq/subsampled_s_4_sequence.fastq' target='_blank'>subsampled_s_4_sequence.fastq</a><br>\n",
        "&nbsp;&nbsp;<a href='files/moving_pictures_tutorial/subsampled_fastq/subsampled_s_4_sequence_barcodes.fastq' target='_blank'>subsampled_s_4_sequence_barcodes.fastq</a><br>\n",
        "&nbsp;&nbsp;<a href='files/moving_pictures_tutorial/subsampled_fastq/subsampled_s_5_sequence.fastq' target='_blank'>subsampled_s_5_sequence.fastq</a><br>\n",
        "&nbsp;&nbsp;<a href='files/moving_pictures_tutorial/subsampled_fastq/subsampled_s_5_sequence_barcodes.fastq' target='_blank'>subsampled_s_5_sequence_barcodes.fastq</a><br>\n",
        "&nbsp;&nbsp;<a href='files/moving_pictures_tutorial/subsampled_fastq/subsampled_s_6_sequence.fastq' target='_blank'>subsampled_s_6_sequence.fastq</a><br>\n",
        "&nbsp;&nbsp;<a href='files/moving_pictures_tutorial/subsampled_fastq/subsampled_s_6_sequence_barcodes.fastq' target='_blank'>subsampled_s_6_sequence_barcodes.fastq</a><br>"
       ],
       "output_type": "pyout",
       "prompt_number": 4,
       "text": [
        "moving_pictures_tutorial/\n",
        "  454_map.txt\n",
        "  filtered_mapping_l1.txt\n",
        "  filtered_mapping_l2.txt\n",
        "  filtered_mapping_l3.txt\n",
        "  filtered_mapping_l4.txt\n",
        "  filtered_mapping_l5.txt\n",
        "  filtered_mapping_l6.txt\n",
        "  procrustes_metadata_map.txt\n",
        "  procrustes_sid_map.txt\n",
        "  README.txt\n",
        "  subsampled_454_seqs.fna\n",
        "  ucrC_fast_params.txt\n",
        "moving_pictures_tutorial/subsampled_fastq/\n",
        "  subsampled_s_1_sequence.fastq\n",
        "  subsampled_s_1_sequence_barcodes.fastq\n",
        "  subsampled_s_2_sequence.fastq\n",
        "  subsampled_s_2_sequence_barcodes.fastq\n",
        "  subsampled_s_3_sequence.fastq\n",
        "  subsampled_s_3_sequence_barcodes.fastq\n",
        "  subsampled_s_4_sequence.fastq\n",
        "  subsampled_s_4_sequence_barcodes.fastq\n",
        "  subsampled_s_5_sequence.fastq\n",
        "  subsampled_s_5_sequence_barcodes.fastq\n",
        "  subsampled_s_6_sequence.fastq\n",
        "  subsampled_s_6_sequence_barcodes.fastq"
       ]
      }
     ],
     "prompt_number": 4
    },
    {
     "cell_type": "heading",
     "level": 2,
     "metadata": {},
     "source": [
      "Demultiplexing and quality filtering seqeunces"
     ]
    },
    {
     "cell_type": "code",
     "collapsed": false,
     "input": [
      "!split_libraries_fastq.py -o slout/ -i moving_pictures_tutorial/subsampled_fastq/subsampled_s_1_sequence.fastq,moving_pictures_tutorial/subsampled_fastq/subsampled_s_2_sequence.fastq,moving_pictures_tutorial/subsampled_fastq/subsampled_s_3_sequence.fastq,moving_pictures_tutorial/subsampled_fastq/subsampled_s_4_sequence.fastq,moving_pictures_tutorial/subsampled_fastq/subsampled_s_5_sequence.fastq,moving_pictures_tutorial/subsampled_fastq/subsampled_s_6_sequence.fastq -b moving_pictures_tutorial/subsampled_fastq/subsampled_s_1_sequence_barcodes.fastq,moving_pictures_tutorial/subsampled_fastq/subsampled_s_2_sequence_barcodes.fastq,moving_pictures_tutorial/subsampled_fastq/subsampled_s_3_sequence_barcodes.fastq,moving_pictures_tutorial/subsampled_fastq/subsampled_s_4_sequence_barcodes.fastq,moving_pictures_tutorial/subsampled_fastq/subsampled_s_5_sequence_barcodes.fastq,moving_pictures_tutorial/subsampled_fastq/subsampled_s_6_sequence_barcodes.fastq -m moving_pictures_tutorial/filtered_mapping_l1.txt,moving_pictures_tutorial/filtered_mapping_l2.txt,moving_pictures_tutorial/filtered_mapping_l3.txt,moving_pictures_tutorial/filtered_mapping_l4.txt,moving_pictures_tutorial/filtered_mapping_l5.txt,moving_pictures_tutorial/filtered_mapping_l6.txt"
     ],
     "language": "python",
     "metadata": {},
     "outputs": [],
     "prompt_number": 5
    },
    {
     "cell_type": "markdown",
     "metadata": {},
     "source": [
      "We often want to see the results of running a command. Here we can do that by calling our output formatter again, this time passing the output directory from the previous step."
     ]
    },
    {
     "cell_type": "code",
     "collapsed": false,
     "input": [
      "FileLinks('slout/')"
     ],
     "language": "python",
     "metadata": {},
     "outputs": [
      {
       "html": [
        "slout/<br>\n",
        "&nbsp;&nbsp;<a href='files/slout/histograms.txt' target='_blank'>histograms.txt</a><br>\n",
        "&nbsp;&nbsp;<a href='files/slout/seqs.fna' target='_blank'>seqs.fna</a><br>\n",
        "&nbsp;&nbsp;<a href='files/slout/split_library_log.txt' target='_blank'>split_library_log.txt</a><br>"
       ],
       "output_type": "pyout",
       "prompt_number": 6,
       "text": [
        "slout/\n",
        "  histograms.txt\n",
        "  seqs.fna\n",
        "  split_library_log.txt"
       ]
      }
     ],
     "prompt_number": 6
    },
    {
     "cell_type": "code",
     "collapsed": false,
     "input": [
      "!count_seqs.py -i slout/seqs.fna"
     ],
     "language": "python",
     "metadata": {},
     "outputs": [
      {
       "output_type": "stream",
       "stream": "stdout",
       "text": [
        "\r\n",
        "66189  : slout/seqs.fna (Sequence lengths (mean +/- std): 132.1182 +/- 9.6185)\r\n",
        "66189  : Total\r\n"
       ]
      }
     ],
     "prompt_number": 7
    },
    {
     "cell_type": "heading",
     "level": 2,
     "metadata": {},
     "source": [
      "OTU picking: using an open-reference OTU picking protocol by searching reads agsint the Greengenes database."
     ]
    },
    {
     "cell_type": "code",
     "collapsed": false,
     "input": [
      "!pick_subsampled_reference_otus_through_otu_table.py -o ucrss_fast/ -i slout/seqs.fna -r $reference_seqs -p moving_pictures_tutorial/ucrC_fast_params.txt"
     ],
     "language": "python",
     "metadata": {},
     "outputs": [],
     "prompt_number": 9
    },
    {
     "cell_type": "code",
     "collapsed": false,
     "input": [
      "FileLinks('ucrss_fast/')"
     ],
     "language": "python",
     "metadata": {},
     "outputs": [
      {
       "html": [
        "ucrss_fast/<br>\n",
        "&nbsp;&nbsp;<a href='files/ucrss_fast/final_otu_map.txt' target='_blank'>final_otu_map.txt</a><br>\n",
        "&nbsp;&nbsp;<a href='files/ucrss_fast/final_otu_map_mc2.txt' target='_blank'>final_otu_map_mc2.txt</a><br>\n",
        "&nbsp;&nbsp;<a href='files/ucrss_fast/log_20130318134919.txt' target='_blank'>log_20130318134919.txt</a><br>\n",
        "&nbsp;&nbsp;<a href='files/ucrss_fast/new_refseqs.fna' target='_blank'>new_refseqs.fna</a><br>\n",
        "&nbsp;&nbsp;<a href='files/ucrss_fast/otu_table_mc2.biom' target='_blank'>otu_table_mc2.biom</a><br>\n",
        "&nbsp;&nbsp;<a href='files/ucrss_fast/otu_table_mc2_w_tax.biom' target='_blank'>otu_table_mc2_w_tax.biom</a><br>\n",
        "&nbsp;&nbsp;<a href='files/ucrss_fast/otu_table_mc2_w_tax_no_pynast_failures.biom' target='_blank'>otu_table_mc2_w_tax_no_pynast_failures.biom</a><br>\n",
        "&nbsp;&nbsp;<a href='files/ucrss_fast/rep_set.fna' target='_blank'>rep_set.fna</a><br>\n",
        "&nbsp;&nbsp;<a href='files/ucrss_fast/rep_set.tre' target='_blank'>rep_set.tre</a><br>\n",
        "ucrss_fast/prefilter_otus/<br>\n",
        "&nbsp;&nbsp;<a href='files/ucrss_fast/prefilter_otus/prefiltered_seqs.fna' target='_blank'>prefiltered_seqs.fna</a><br>\n",
        "&nbsp;&nbsp;<a href='files/ucrss_fast/prefilter_otus/seqs_clusters.uc' target='_blank'>seqs_clusters.uc</a><br>\n",
        "&nbsp;&nbsp;<a href='files/ucrss_fast/prefilter_otus/seqs_failures.txt' target='_blank'>seqs_failures.txt</a><br>\n",
        "&nbsp;&nbsp;<a href='files/ucrss_fast/prefilter_otus/seqs_otus.log' target='_blank'>seqs_otus.log</a><br>\n",
        "&nbsp;&nbsp;<a href='files/ucrss_fast/prefilter_otus/seqs_otus.txt' target='_blank'>seqs_otus.txt</a><br>\n",
        "ucrss_fast/pynast_aligned_seqs/<br>\n",
        "&nbsp;&nbsp;<a href='files/ucrss_fast/pynast_aligned_seqs/rep_set_aligned.fasta' target='_blank'>rep_set_aligned.fasta</a><br>\n",
        "&nbsp;&nbsp;<a href='files/ucrss_fast/pynast_aligned_seqs/rep_set_aligned_pfiltered.fasta' target='_blank'>rep_set_aligned_pfiltered.fasta</a><br>\n",
        "&nbsp;&nbsp;<a href='files/ucrss_fast/pynast_aligned_seqs/rep_set_failures.fasta' target='_blank'>rep_set_failures.fasta</a><br>\n",
        "&nbsp;&nbsp;<a href='files/ucrss_fast/pynast_aligned_seqs/rep_set_log.txt' target='_blank'>rep_set_log.txt</a><br>\n",
        "ucrss_fast/rdp_assigned_taxonomy/<br>\n",
        "&nbsp;&nbsp;<a href='files/ucrss_fast/rdp_assigned_taxonomy/rep_set_tax_assignments.log' target='_blank'>rep_set_tax_assignments.log</a><br>\n",
        "&nbsp;&nbsp;<a href='files/ucrss_fast/rdp_assigned_taxonomy/rep_set_tax_assignments.txt' target='_blank'>rep_set_tax_assignments.txt</a><br>\n",
        "ucrss_fast/step1_otus/<br>\n",
        "&nbsp;&nbsp;<a href='files/ucrss_fast/step1_otus/failures.fasta' target='_blank'>failures.fasta</a><br>\n",
        "&nbsp;&nbsp;<a href='files/ucrss_fast/step1_otus/prefiltered_seqs_clusters.uc' target='_blank'>prefiltered_seqs_clusters.uc</a><br>\n",
        "&nbsp;&nbsp;<a href='files/ucrss_fast/step1_otus/prefiltered_seqs_failures.txt' target='_blank'>prefiltered_seqs_failures.txt</a><br>\n",
        "&nbsp;&nbsp;<a href='files/ucrss_fast/step1_otus/prefiltered_seqs_otus.log' target='_blank'>prefiltered_seqs_otus.log</a><br>\n",
        "&nbsp;&nbsp;<a href='files/ucrss_fast/step1_otus/prefiltered_seqs_otus.txt' target='_blank'>prefiltered_seqs_otus.txt</a><br>\n",
        "&nbsp;&nbsp;<a href='files/ucrss_fast/step1_otus/step1_rep_set.fna' target='_blank'>step1_rep_set.fna</a><br>\n",
        "&nbsp;&nbsp;<a href='files/ucrss_fast/step1_otus/subsampled_failures.fasta' target='_blank'>subsampled_failures.fasta</a><br>\n",
        "ucrss_fast/step2_otus/<br>\n",
        "&nbsp;&nbsp;<a href='files/ucrss_fast/step2_otus/step2_rep_set.fna' target='_blank'>step2_rep_set.fna</a><br>\n",
        "&nbsp;&nbsp;<a href='files/ucrss_fast/step2_otus/subsampled_failures_clusters.uc' target='_blank'>subsampled_failures_clusters.uc</a><br>\n",
        "&nbsp;&nbsp;<a href='files/ucrss_fast/step2_otus/subsampled_failures_otus.log' target='_blank'>subsampled_failures_otus.log</a><br>\n",
        "&nbsp;&nbsp;<a href='files/ucrss_fast/step2_otus/subsampled_failures_otus.txt' target='_blank'>subsampled_failures_otus.txt</a><br>\n",
        "ucrss_fast/step3_otus/<br>\n",
        "&nbsp;&nbsp;<a href='files/ucrss_fast/step3_otus/failures_clusters.uc' target='_blank'>failures_clusters.uc</a><br>\n",
        "&nbsp;&nbsp;<a href='files/ucrss_fast/step3_otus/failures_failures.fasta' target='_blank'>failures_failures.fasta</a><br>\n",
        "&nbsp;&nbsp;<a href='files/ucrss_fast/step3_otus/failures_failures.txt' target='_blank'>failures_failures.txt</a><br>\n",
        "&nbsp;&nbsp;<a href='files/ucrss_fast/step3_otus/failures_otus.log' target='_blank'>failures_otus.log</a><br>\n",
        "&nbsp;&nbsp;<a href='files/ucrss_fast/step3_otus/failures_otus.txt' target='_blank'>failures_otus.txt</a><br>\n",
        "ucrss_fast/step4_otus/<br>\n",
        "&nbsp;&nbsp;<a href='files/ucrss_fast/step4_otus/failures_failures_clusters.uc' target='_blank'>failures_failures_clusters.uc</a><br>\n",
        "&nbsp;&nbsp;<a href='files/ucrss_fast/step4_otus/failures_failures_otus.log' target='_blank'>failures_failures_otus.log</a><br>\n",
        "&nbsp;&nbsp;<a href='files/ucrss_fast/step4_otus/failures_failures_otus.txt' target='_blank'>failures_failures_otus.txt</a><br>\n",
        "&nbsp;&nbsp;<a href='files/ucrss_fast/step4_otus/step4_rep_set.fna' target='_blank'>step4_rep_set.fna</a><br>"
       ],
       "output_type": "pyout",
       "prompt_number": 10,
       "text": [
        "ucrss_fast/\n",
        "  final_otu_map.txt\n",
        "  final_otu_map_mc2.txt\n",
        "  log_20130318134919.txt\n",
        "  new_refseqs.fna\n",
        "  otu_table_mc2.biom\n",
        "  otu_table_mc2_w_tax.biom\n",
        "  otu_table_mc2_w_tax_no_pynast_failures.biom\n",
        "  rep_set.fna\n",
        "  rep_set.tre\n",
        "ucrss_fast/prefilter_otus/\n",
        "  prefiltered_seqs.fna\n",
        "  seqs_clusters.uc\n",
        "  seqs_failures.txt\n",
        "  seqs_otus.log\n",
        "  seqs_otus.txt\n",
        "ucrss_fast/pynast_aligned_seqs/\n",
        "  rep_set_aligned.fasta\n",
        "  rep_set_aligned_pfiltered.fasta\n",
        "  rep_set_failures.fasta\n",
        "  rep_set_log.txt\n",
        "ucrss_fast/rdp_assigned_taxonomy/\n",
        "  rep_set_tax_assignments.log\n",
        "  rep_set_tax_assignments.txt\n",
        "ucrss_fast/step1_otus/\n",
        "  failures.fasta\n",
        "  prefiltered_seqs_clusters.uc\n",
        "  prefiltered_seqs_failures.txt\n",
        "  prefiltered_seqs_otus.log\n",
        "  prefiltered_seqs_otus.txt\n",
        "  step1_rep_set.fna\n",
        "  subsampled_failures.fasta\n",
        "ucrss_fast/step2_otus/\n",
        "  step2_rep_set.fna\n",
        "  subsampled_failures_clusters.uc\n",
        "  subsampled_failures_otus.log\n",
        "  subsampled_failures_otus.txt\n",
        "ucrss_fast/step3_otus/\n",
        "  failures_clusters.uc\n",
        "  failures_failures.fasta\n",
        "  failures_failures.txt\n",
        "  failures_otus.log\n",
        "  failures_otus.txt\n",
        "ucrss_fast/step4_otus/\n",
        "  failures_failures_clusters.uc\n",
        "  failures_failures_otus.log\n",
        "  failures_failures_otus.txt\n",
        "  step4_rep_set.fna"
       ]
      }
     ],
     "prompt_number": 10
    },
    {
     "cell_type": "code",
     "collapsed": false,
     "input": [
      "!print_biom_table_summary.py -i ucrss_fast/otu_table_mc2_w_tax_no_pynast_failures.biom"
     ],
     "language": "python",
     "metadata": {},
     "outputs": [
      {
       "output_type": "stream",
       "stream": "stdout",
       "text": [
        "Num samples: 61\r\n",
        "Num observations: 1844\r\n",
        "Total count: 63398.0\r\n",
        "Table density (fraction of non-zero values): 0.0860\r\n",
        "Table md5 (unzipped): 428883fcc80dabc789d9a33aa9db1ce4\r\n",
        "\r\n",
        "Counts/sample summary:\r\n",
        " Min: 122.0\r\n",
        " Max: 2560.0\r\n",
        " Median: 891.0\r\n",
        " Mean: 1039.31147541\r\n",
        " Std. dev.: 758.901741863\r\n",
        " Sample Metadata Categories: None provided\r\n",
        " Observation Metadata Categories: taxonomy\r\n",
        "\r\n",
        "Counts/sample detail:\r\n",
        " L3S237: 122.0\r\n",
        " L3S235: 173.0\r\n",
        " L3S372: 186.0\r\n",
        " L3S373: 227.0\r\n",
        " L3S368: 238.0\r\n",
        " L3S370: 242.0\r\n",
        " L3S367: 243.0\r\n",
        " L3S236: 257.0\r\n",
        " L3S369: 260.0\r\n",
        " L3S238: 271.0\r\n",
        " L3S9: 271.0\r\n",
        " L3S8: 275.0\r\n",
        " L3S6: 279.0\r\n",
        " L3S371: 283.0\r\n",
        " L3S7: 301.0\r\n",
        " L5S234: 365.0\r\n",
        " L5S231: 381.0\r\n",
        " L5S235: 414.0\r\n",
        " L5S99: 426.0\r\n",
        " L5S98: 433.0\r\n",
        " L5S230: 442.0\r\n",
        " L5S232: 457.0\r\n",
        " L5S233: 459.0\r\n",
        " L5S229: 505.0\r\n",
        " L5S97: 512.0\r\n",
        " L5S100: 522.0\r\n",
        " L2S236: 584.0\r\n",
        " L2S234: 721.0\r\n",
        " L2S231: 769.0\r\n",
        " L2S229: 843.0\r\n",
        " L2S233: 891.0\r\n",
        " L2S99: 899.0\r\n",
        " L2S230: 935.0\r\n",
        " L2S232: 957.0\r\n",
        " L2S100: 1029.0\r\n",
        " L2S97: 1050.0\r\n",
        " L2S235: 1059.0\r\n",
        " L1S4: 1079.0\r\n",
        " L2S98: 1097.0\r\n",
        " L1S3: 1206.0\r\n",
        " L1S1: 1312.0\r\n",
        " L1S131: 1556.0\r\n",
        " L1S134: 1574.0\r\n",
        " L1S132: 1699.0\r\n",
        " L4S146: 1748.0\r\n",
        " L1S129: 1753.0\r\n",
        " L1S130: 1766.0\r\n",
        " L1S135: 1766.0\r\n",
        " L1S133: 1891.0\r\n",
        " L1S2: 1899.0\r\n",
        " L6S100: 1994.0\r\n",
        " L6S101: 2040.0\r\n",
        " L1S136: 2061.0\r\n",
        " L4S144: 2127.0\r\n",
        " L4S145: 2147.0\r\n",
        " L6S102: 2206.0\r\n",
        " L1S287: 2316.0\r\n",
        " L6S103: 2367.0\r\n",
        " L4S147: 2441.0\r\n",
        " L1S290: 2512.0\r\n",
        " L1S289: 2560.0\r\n"
       ]
      }
     ],
     "prompt_number": 11
    },
    {
     "cell_type": "heading",
     "level": 2,
     "metadata": {},
     "source": [
      "Create a single mapping file from the per-lane mapping files."
     ]
    },
    {
     "cell_type": "code",
     "collapsed": false,
     "input": [
      "!merge_mapping_files.py -o combined_mapping_file.txt -m moving_pictures_tutorial/filtered_mapping_l1.txt,moving_pictures_tutorial/filtered_mapping_l2.txt,moving_pictures_tutorial/filtered_mapping_l3.txt,moving_pictures_tutorial/filtered_mapping_l4.txt,moving_pictures_tutorial/filtered_mapping_l5.txt,moving_pictures_tutorial/filtered_mapping_l6.txt"
     ],
     "language": "python",
     "metadata": {},
     "outputs": [],
     "prompt_number": 12
    },
    {
     "cell_type": "code",
     "collapsed": false,
     "input": [
      "!head combined_mapping_file.txt"
     ],
     "language": "python",
     "metadata": {},
     "outputs": [
      {
       "output_type": "stream",
       "stream": "stdout",
       "text": [
        "#SampleID\tBarcodeSequence\tLinkerPrimerSequence\tdays_since_epoch\tSamplePlate\ttimestamp\tSampleType\tmonth\tPrimerPlate\tWellID\tyear\tday\tsubject\tDescription\r\n",
        "L6S100\tGTCGCTGTCTTC\tGTGCCAGCMGCCGCGGTAA\t14355\t20\t20090421\tTongue\t4\t5\td1\t2009\t21\t2\tRK_Tong_4_21_2009\r\n",
        "L2S229\tCAACTCATCGTA\tGTGCCAGCMGCCGCGGTAA\t14355\t7\t20090421\tL_palm\t4\t2\te5\t2009\t21\t1\tAB_L_Palm_4_21_2009\r\n",
        "L6S102\tGTTGACGACAGC\tGTGCCAGCMGCCGCGGTAA\t14357\t20\t20090423\tTongue\t4\t5\tf1\t2009\t23\t2\tRK_Tong_4_23_2009\r\n",
        "L6S103\tTACGCGCTGAGA\tGTGCCAGCMGCCGCGGTAA\t14358\t20\t20090424\tTongue\t4\t5\tg1\t2009\t24\t2\tRK_Tong_4_24_2009\r\n",
        "L3S369\tATACAGAGCTCC\tGTGCCAGCMGCCGCGGTAA\t14357\t12\t20090423\tR_palm\t4\t2\ta11\t2009\t23\t1\tAB_R_Palm_4_23_2009\r\n",
        "L3S368\tCATCTGTAGCGA\tGTGCCAGCMGCCGCGGTAA\t14356\t12\t20090422\tR_palm\t4\t2\th10\t2009\t22\t1\tAB_R_Palm_4_22_2009\r\n",
        "L2S100\tACGCTCATGGAT\tGTGCCAGCMGCCGCGGTAA\t14176\t6\t20081024\tL_palm\t10\t1\td1\t2008\t24\t1\tAB_L_Palm_10_24_2008\r\n",
        "L3S373\tCACATCTAACAC\tGTGCCAGCMGCCGCGGTAA\t14175\t12\t20081023\tR_palm\t10\t2\te11\t2008\t23\t2\tRK_R_Palm_10_23_2008\r\n",
        "L3S370\tATCCTCAGTAGT\tGTGCCAGCMGCCGCGGTAA\t14358\t12\t20090424\tR_palm\t4\t2\tb11\t2009\t24\t1\tAB_R_Palm_4_24_2009\r\n"
       ]
      }
     ],
     "prompt_number": 13
    },
    {
     "cell_type": "markdown",
     "metadata": {},
     "source": [
      "To view a single file (rather than a directory) we use the ``FileLink`` function instead of the ``FileLinks`` function."
     ]
    },
    {
     "cell_type": "code",
     "collapsed": false,
     "input": [
      "FileLink('combined_mapping_file.txt')"
     ],
     "language": "python",
     "metadata": {},
     "outputs": [
      {
       "html": [
        "<a href='files/combined_mapping_file.txt' target='_blank'>combined_mapping_file.txt</a><br>"
       ],
       "output_type": "pyout",
       "prompt_number": 14,
       "text": [
        "/Users/caporaso/Dropbox/code/qiime/examples/ipynb/combined_mapping_file.txt"
       ]
      }
     ],
     "prompt_number": 14
    },
    {
     "cell_type": "heading",
     "level": 2,
     "metadata": {},
     "source": [
      "Run diversity analyses"
     ]
    },
    {
     "cell_type": "markdown",
     "metadata": {},
     "source": [
      "Here we're running the ``core_diversity_analyses.py`` script which applies many of the \"first-pass\" diversity analyses that users are generally interested in. The main output that users will interact with is the ``index.html`` file, which provides links into the different analysis results."
     ]
    },
    {
     "cell_type": "code",
     "collapsed": false,
     "input": [
      "!core_diversity_analyses.py -o cd258/ -i ucrss_fast/otu_table_mc2_w_tax_no_pynast_failures.biom -m combined_mapping_file.txt -t ucrss_fast/rep_set.tre -e 258 -c \"SampleType,days_since_epoch\" "
     ],
     "language": "python",
     "metadata": {},
     "outputs": [
      {
       "output_type": "stream",
       "stream": "stdout",
       "text": [
        "Traceback (most recent call last):\r\n",
        "  File \"/Users/caporaso/.virtualenvs/qiime/bin/core_diversity_analyses.py\", line 176, in <module>\r\n",
        "    main()    \r\n",
        "  File \"/Users/caporaso/.virtualenvs/qiime/bin/core_diversity_analyses.py\", line 173, in main\r\n",
        "    status_update_callback=status_update_callback)\r\n",
        "  File \"/Users/caporaso/.virtualenvs/qiime/lib/python2.7/site-packages/qiime/workflow/core_diversity_analyses.py\", line 368, in run_core_diversity_analyses\r\n",
        "    command_handler(commands, status_update_callback, logger)\r\n",
        "  File \"/Users/caporaso/.virtualenvs/qiime/lib/python2.7/site-packages/qiime/workflow/util.py\", line 117, in call_commands_serially\r\n",
        "    raise WorkflowError, msg\r\n",
        "qiime.workflow.util.WorkflowError: \r\n",
        "\r\n",
        "*** ERROR RAISED DURING STEP: Compare alpha diversity (SampleType, chao1)\r\n",
        "Command run was:\r\n",
        " compare_alpha_diversity.py -i cd258//arare_max258//alpha_div_collated/chao1.txt -m combined_mapping_file.txt -c SampleType -d 258 -o cd258//arare_max258//SampleType_chao1.txt -n 999 \r\n",
        "Command returned exit status: 1\r\n",
        "Stdout:\r\n",
        "\r\n",
        "Stderr\r\n",
        "Warning: invalid value encountered in double_scalars\r\n",
        "Traceback (most recent call last):\r\n",
        "  File \"/Users/caporaso/.virtualenvs/qiime/bin/compare_alpha_diversity.py\", line 179, in <module>\r\n",
        "    main()\r\n",
        "  File \"/Users/caporaso/.virtualenvs/qiime/bin/compare_alpha_diversity.py\", line 159, in main\r\n",
        "    category, depth, opts.test_type, opts.num_permutations)\r\n",
        "  File \"/Users/caporaso/.virtualenvs/qiime/lib/python2.7/site-packages/qiime/compare_alpha_diversity.py\", line 152, in compare_alpha_diversities\r\n",
        "    rare_mat = (rare_mat.sum(0)/rare_mat.shape[0])[2:] #remove depth,iter cols\r\n",
        "IndexError: invalid index to scalar variable.\r\n",
        "\r\n",
        "\r\n"
       ]
      }
     ],
     "prompt_number": 21
    },
    {
     "cell_type": "code",
     "collapsed": false,
     "input": [
      "FileLink('cd258/index.html')"
     ],
     "language": "python",
     "metadata": {},
     "outputs": [],
     "prompt_number": 20
    }
   ],
   "metadata": {}
  }
 ]
}