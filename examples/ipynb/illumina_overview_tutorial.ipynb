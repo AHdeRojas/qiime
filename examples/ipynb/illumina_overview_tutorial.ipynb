{
 "metadata": {
  "name": "illumina_overview_tutorial"
 },
 "nbformat": 3,
 "nbformat_minor": 0,
 "worksheets": [
  {
   "cells": [
    {
     "cell_type": "markdown",
     "metadata": {},
     "source": [
      "## Notebook preparation\n",
      "\n",
      "This notebook illustrates the commands in the [Illumina Overview Tutorial](http://qiime.org/svn_documentation/tutorials/illumina_overview_tutorial.html), as well as some features that are convenient for working with the [IPython Notebook](http://ipython.org/ipython-doc/dev/interactive/htmlnotebook.html) and [QIIME](http://www.qiime.org). \n",
      "\n",
      "This tutorial makes use of the ``12_10`` release of the [Greengenes](http://www.ncbi.nlm.nih.gov/pubmed/22134646) reference OTUs. You can always find a link to the latest version of the reference OTUs on the [QIIME resources page](http://qiime.org/home_static/dataFiles.html)."
     ]
    },
    {
     "cell_type": "markdown",
     "metadata": {},
     "source": [
      "## Getting started\n",
      "\n",
      "We'll begin by downloading data and initializing some variables to configure our IPython computing environment."
     ]
    },
    {
     "cell_type": "code",
     "collapsed": false,
     "input": [
      "!wget https://s3.amazonaws.com/s3-qiime_tutorial_files/moving_pictures_tutorial-1.7.0.tgz\n",
      "!wget ftp://greengenes.microbio.me/greengenes_release/gg_12_10/gg_12_10_otus.tar.gz\n",
      "!tar -xzf moving_pictures_tutorial-1.7.0.tgz\n",
      "!tar -xzf gg_12_10_otus.tar.gz"
     ],
     "language": "python",
     "metadata": {},
     "outputs": [
      {
       "output_type": "stream",
       "stream": "stdout",
       "text": [
        "--2013-05-06 15:17:27--  https://s3.amazonaws.com/s3-qiime_tutorial_files/moving_pictures_tutorial-1.7.0.tgz\r\n",
        "Resolving s3.amazonaws.com... "
       ]
      },
      {
       "output_type": "stream",
       "stream": "stdout",
       "text": [
        "72.21.195.33\r\n",
        "Connecting to s3.amazonaws.com|72.21.195.33|:443... "
       ]
      },
      {
       "output_type": "stream",
       "stream": "stdout",
       "text": [
        "connected.\r\n"
       ]
      },
      {
       "output_type": "stream",
       "stream": "stdout",
       "text": [
        "HTTP request sent, awaiting response... "
       ]
      },
      {
       "output_type": "stream",
       "stream": "stdout",
       "text": [
        "200 OK\r\n",
        "Length: 29124505 (28M) [application/x-compressed]\r\n",
        "Saving to: \u2018moving_pictures_tutorial-1.7.0.tgz\u2019\r\n",
        "\r\n",
        "\r",
        " 0% [                                       ] 0           --.-K/s              "
       ]
      },
      {
       "output_type": "stream",
       "stream": "stdout",
       "text": [
        "\r",
        " 0% [                                       ] 142,775      696KB/s             "
       ]
      },
      {
       "output_type": "stream",
       "stream": "stdout",
       "text": [
        "\r",
        " 1% [                                       ] 385,775      941KB/s             "
       ]
      },
      {
       "output_type": "stream",
       "stream": "stdout",
       "text": [
        "\r",
        " 2% [                                       ] 586,748      868KB/s             "
       ]
      },
      {
       "output_type": "stream",
       "stream": "stdout",
       "text": [
        "\r",
        " 2% [>                                      ] 773,945      819KB/s             "
       ]
      },
      {
       "output_type": "stream",
       "stream": "stdout",
       "text": [
        "\r",
        " 3% [>                                      ] 977,420      850KB/s             "
       ]
      },
      {
       "output_type": "stream",
       "stream": "stdout",
       "text": [
        "\r",
        " 4% [>                                      ] 1,186,775    837KB/s             "
       ]
      },
      {
       "output_type": "stream",
       "stream": "stdout",
       "text": [
        "\r",
        " 4% [>                                      ] 1,439,084    887KB/s             "
       ]
      },
      {
       "output_type": "stream",
       "stream": "stdout",
       "text": [
        "\r",
        " 5% [=>                                     ] 1,699,532    930KB/s             "
       ]
      },
      {
       "output_type": "stream",
       "stream": "stdout",
       "text": [
        "\r",
        " 6% [=>                                     ] 1,957,721    935KB/s             "
       ]
      },
      {
       "output_type": "stream",
       "stream": "stdout",
       "text": [
        "\r",
        " 7% [=>                                     ] 2,185,613    951KB/s             "
       ]
      },
      {
       "output_type": "stream",
       "stream": "stdout",
       "text": [
        "\r",
        " 7% [==>                                    ] 2,299,559    918KB/s             "
       ]
      },
      {
       "output_type": "stream",
       "stream": "stdout",
       "text": [
        "\r",
        " 8% [==>                                    ] 2,364,671    852KB/s             "
       ]
      },
      {
       "output_type": "stream",
       "stream": "stdout",
       "text": [
        "\r",
        " 8% [==>                                    ] 2,397,227    786KB/s             "
       ]
      },
      {
       "output_type": "stream",
       "stream": "stdout",
       "text": [
        "\r",
        " 8% [==>                                    ] 2,421,644    729KB/s  eta 36s    "
       ]
      },
      {
       "output_type": "stream",
       "stream": "stdout",
       "text": [
        "\r",
        " 8% [==>                                    ] 2,454,200    684KB/s  eta 36s    "
       ]
      },
      {
       "output_type": "stream",
       "stream": "stdout",
       "text": [
        "\r",
        " 8% [==>                                    ] 2,500,775    648KB/s  eta 36s    "
       ]
      },
      {
       "output_type": "stream",
       "stream": "stdout",
       "text": [
        "\r",
        " 8% [==>                                    ] 2,549,609    627KB/s  eta 36s    "
       ]
      },
      {
       "output_type": "stream",
       "stream": "stdout",
       "text": [
        "\r",
        " 8% [==>                                    ] 2,614,721    609KB/s  eta 36s    "
       ]
      },
      {
       "output_type": "stream",
       "stream": "stdout",
       "text": [
        "\r",
        " 9% [==>                                    ] 2,687,972    574KB/s  eta 44s    "
       ]
      },
      {
       "output_type": "stream",
       "stream": "stdout",
       "text": [
        "\r",
        " 9% [==>                                    ] 2,769,362    526KB/s  eta 44s    "
       ]
      },
      {
       "output_type": "stream",
       "stream": "stdout",
       "text": [
        "\r",
        " 9% [==>                                    ] 2,858,891    519KB/s  eta 44s    "
       ]
      },
      {
       "output_type": "stream",
       "stream": "stdout",
       "text": [
        "\r",
        "10% [==>                                    ] 2,971,952    485KB/s  eta 44s    "
       ]
      },
      {
       "output_type": "stream",
       "stream": "stdout",
       "text": [
        "\r",
        "10% [===>                                   ] 3,094,037    469KB/s  eta 44s    "
       ]
      },
      {
       "output_type": "stream",
       "stream": "stdout",
       "text": [
        "\r",
        "11% [===>                                   ] 3,231,026    448KB/s  eta 45s    "
       ]
      },
      {
       "output_type": "stream",
       "stream": "stdout",
       "text": [
        "\r",
        "11% [===>                                   ] 3,369,389    426KB/s  eta 45s    "
       ]
      },
      {
       "output_type": "stream",
       "stream": "stdout",
       "text": [
        "\r",
        "12% [===>                                   ] 3,515,891    397KB/s  eta 45s    "
       ]
      },
      {
       "output_type": "stream",
       "stream": "stdout",
       "text": [
        "\r",
        "12% [===>                                   ] 3,680,488    375KB/s  eta 45s    "
       ]
      },
      {
       "output_type": "stream",
       "stream": "stdout",
       "text": [
        "\r",
        "13% [====>                                  ] 3,855,470    384KB/s  eta 45s    "
       ]
      },
      {
       "output_type": "stream",
       "stream": "stdout",
       "text": [
        "\r",
        "13% [====>                                  ] 4,034,528    410KB/s  eta 41s    "
       ]
      },
      {
       "output_type": "stream",
       "stream": "stdout",
       "text": [
        "\r",
        "14% [====>                                  ] 4,229,864    441KB/s  eta 41s    "
       ]
      },
      {
       "output_type": "stream",
       "stream": "stdout",
       "text": [
        "\r",
        "15% [====>                                  ] 4,457,756    491KB/s  eta 41s    "
       ]
      },
      {
       "output_type": "stream",
       "stream": "stdout",
       "text": [
        "\r",
        "16% [=====>                                 ] 4,699,667    544KB/s  eta 41s    "
       ]
      },
      {
       "output_type": "stream",
       "stream": "stdout",
       "text": [
        "\r",
        "16% [=====>                                 ] 4,943,487    596KB/s  eta 41s    "
       ]
      },
      {
       "output_type": "stream",
       "stream": "stdout",
       "text": [
        "\r",
        "17% [=====>                                 ] 5,202,026    652KB/s  eta 35s    "
       ]
      },
      {
       "output_type": "stream",
       "stream": "stdout",
       "text": [
        "\r",
        "18% [======>                                ] 5,486,891    725KB/s  eta 35s    "
       ]
      },
      {
       "output_type": "stream",
       "stream": "stdout",
       "text": [
        "\r",
        "19% [======>                                ] 5,785,775    785KB/s  eta 35s    "
       ]
      },
      {
       "output_type": "stream",
       "stream": "stdout",
       "text": [
        "\r",
        "20% [=======>                               ] 6,111,335    850KB/s  eta 35s    "
       ]
      },
      {
       "output_type": "stream",
       "stream": "stdout",
       "text": [
        "\r",
        "22% [=======>                               ] 6,428,756    898KB/s  eta 35s    "
       ]
      },
      {
       "output_type": "stream",
       "stream": "stdout",
       "text": [
        "\r",
        "22% [=======>                               ] 6,581,138    900KB/s  eta 30s    "
       ]
      },
      {
       "output_type": "stream",
       "stream": "stdout",
       "text": [
        "\r",
        "22% [=======>                               ] 6,678,806    904KB/s  eta 30s    "
       ]
      },
      {
       "output_type": "stream",
       "stream": "stdout",
       "text": [
        "\r",
        "23% [========>                              ] 6,789,013    914KB/s  eta 30s    "
       ]
      },
      {
       "output_type": "stream",
       "stream": "stdout",
       "text": [
        "\r",
        "23% [========>                              ] 6,919,237    915KB/s  eta 30s    "
       ]
      },
      {
       "output_type": "stream",
       "stream": "stdout",
       "text": [
        "\r",
        "24% [========>                              ] 7,049,461    901KB/s  eta 30s    "
       ]
      },
      {
       "output_type": "stream",
       "stream": "stdout",
       "text": [
        "\r",
        "24% [========>                              ] 7,189,304    900KB/s  eta 30s    "
       ]
      },
      {
       "output_type": "stream",
       "stream": "stdout",
       "text": [
        "\r",
        "25% [========>                              ] 7,376,501    910KB/s  eta 30s    "
       ]
      },
      {
       "output_type": "stream",
       "stream": "stdout",
       "text": [
        "\r",
        "26% [=========>                             ] 7,579,976    907KB/s  eta 30s    "
       ]
      },
      {
       "output_type": "stream",
       "stream": "stdout",
       "text": [
        "\r",
        "26% [=========>                             ] 7,813,748    922KB/s  eta 30s    "
       ]
      },
      {
       "output_type": "stream",
       "stream": "stdout",
       "text": [
        "\r",
        "27% [=========>                             ] 8,057,667    939KB/s  eta 30s    "
       ]
      },
      {
       "output_type": "stream",
       "stream": "stdout",
       "text": [
        "\r",
        "28% [==========>                            ] 8,253,003    941KB/s  eta 28s    "
       ]
      },
      {
       "output_type": "stream",
       "stream": "stdout",
       "text": [
        "\r",
        "29% [==========>                            ] 8,503,304    950KB/s  eta 28s    "
       ]
      },
      {
       "output_type": "stream",
       "stream": "stdout",
       "text": [
        "\r",
        "30% [==========>                            ] 8,796,308    967KB/s  eta 28s    "
       ]
      },
      {
       "output_type": "stream",
       "stream": "stdout",
       "text": [
        "\r",
        "31% [===========>                           ] 9,111,470    985KB/s  eta 28s    "
       ]
      },
      {
       "output_type": "stream",
       "stream": "stdout",
       "text": [
        "\r",
        "32% [===========>                           ] 9,453,308   1006KB/s  eta 28s    "
       ]
      },
      {
       "output_type": "stream",
       "stream": "stdout",
       "text": [
        "\r",
        "33% [============>                          ] 9,752,192   1011KB/s  eta 24s    "
       ]
      },
      {
       "output_type": "stream",
       "stream": "stdout",
       "text": [
        "\r",
        "34% [============>                          ] 9,977,686    959KB/s  eta 24s    "
       ]
      },
      {
       "output_type": "stream",
       "stream": "stdout",
       "text": [
        "\r",
        "35% [============>                          ] 10,197,439   937KB/s  eta 24s    "
       ]
      },
      {
       "output_type": "stream",
       "stream": "stdout",
       "text": [
        "\r",
        "35% [============>                          ] 10,441,748   956KB/s  eta 24s    "
       ]
      },
      {
       "output_type": "stream",
       "stream": "stdout",
       "text": [
        "\r",
        "36% [=============>                         ] 10,688,554  1000KB/s  eta 24s    "
       ]
      },
      {
       "output_type": "stream",
       "stream": "stdout",
       "text": [
        "\r",
        "37% [=============>                         ] 10,953,151  1.00MB/s  eta 22s    "
       ]
      },
      {
       "output_type": "stream",
       "stream": "stdout",
       "text": [
        "\r",
        "38% [==============>                        ] 11,253,389  1.05MB/s  eta 22s    "
       ]
      },
      {
       "output_type": "stream",
       "stream": "stdout",
       "text": [
        "\r",
        "39% [==============>                        ] 11,587,088  1.10MB/s  eta 22s    "
       ]
      },
      {
       "output_type": "stream",
       "stream": "stdout",
       "text": [
        "\r",
        "40% [==============>                        ] 11,934,806  1.16MB/s  eta 22s    "
       ]
      },
      {
       "output_type": "stream",
       "stream": "stdout",
       "text": [
        "\r",
        "41% [===============>                       ] 12,206,551  1.17MB/s  eta 22s    "
       ]
      },
      {
       "output_type": "stream",
       "stream": "stdout",
       "text": [
        "\r",
        "42% [===============>                       ] 12,380,192  1.18MB/s  eta 19s    "
       ]
      },
      {
       "output_type": "stream",
       "stream": "stdout",
       "text": [
        "\r",
        "43% [===============>                       ] 12,575,528  1.19MB/s  eta 19s    "
       ]
      },
      {
       "output_type": "stream",
       "stream": "stdout",
       "text": [
        "\r",
        "43% [================>                      ] 12,803,420  1.19MB/s  eta 19s    "
       ]
      },
      {
       "output_type": "stream",
       "stream": "stdout",
       "text": [
        "\r",
        "44% [================>                      ] 13,053,470  1.20MB/s  eta 19s    "
       ]
      },
      {
       "output_type": "stream",
       "stream": "stdout",
       "text": [
        "\r",
        "45% [================>                      ] 13,310,126  1.20MB/s  eta 19s    "
       ]
      },
      {
       "output_type": "stream",
       "stream": "stdout",
       "text": [
        "\r",
        "46% [=================>                     ] 13,594,991  1.20MB/s  eta 17s    "
       ]
      },
      {
       "output_type": "stream",
       "stream": "stdout",
       "text": [
        "\r",
        "47% [=================>                     ] 13,913,945  1.21MB/s  eta 17s    "
       ]
      },
      {
       "output_type": "stream",
       "stream": "stdout",
       "text": [
        "\r",
        "48% [=================>                     ] 14,068,586  1.17MB/s  eta 17s    "
       ]
      },
      {
       "output_type": "stream",
       "stream": "stdout",
       "text": [
        "\r",
        "49% [==================>                    ] 14,287,857  1.14MB/s  eta 17s    "
       ]
      },
      {
       "output_type": "stream",
       "stream": "stdout",
       "text": [
        "\r",
        "49% [==================>                    ] 14,497,694  1.11MB/s  eta 17s    "
       ]
      },
      {
       "output_type": "stream",
       "stream": "stdout",
       "text": [
        "\r",
        "50% [==================>                    ] 14,758,142  1.13MB/s  eta 16s    "
       ]
      },
      {
       "output_type": "stream",
       "stream": "stdout",
       "text": [
        "\r",
        "51% [===================>                   ] 14,969,756  1.11MB/s  eta 16s    "
       ]
      },
      {
       "output_type": "stream",
       "stream": "stdout",
       "text": [
        "\r",
        "51% [===================>                   ] 15,105,860  1.08MB/s  eta 16s    "
       ]
      },
      {
       "output_type": "stream",
       "stream": "stdout",
       "text": [
        "\r",
        "52% [===================>                   ] 15,226,168  1.05MB/s  eta 16s    "
       ]
      },
      {
       "output_type": "stream",
       "stream": "stdout",
       "text": [
        "\r",
        "52% [===================>                   ] 15,364,531  1021KB/s  eta 16s    "
       ]
      },
      {
       "output_type": "stream",
       "stream": "stdout",
       "text": [
        "\r",
        "53% [===================>                   ] 15,511,033   986KB/s  eta 15s    "
       ]
      },
      {
       "output_type": "stream",
       "stream": "stdout",
       "text": [
        "\r",
        "53% [===================>                   ] 15,673,331   950KB/s  eta 15s    "
       ]
      },
      {
       "output_type": "stream",
       "stream": "stdout",
       "text": [
        "\r",
        "54% [====================>                  ] 15,836,111   904KB/s  eta 15s    "
       ]
      },
      {
       "output_type": "stream",
       "stream": "stdout",
       "text": [
        "\r",
        "54% [====================>                  ] 16,015,169   897KB/s  eta 15s    "
       ]
      },
      {
       "output_type": "stream",
       "stream": "stdout",
       "text": [
        "\r",
        "55% [====================>                  ] 16,230,833   906KB/s  eta 15s    "
       ]
      },
      {
       "output_type": "stream",
       "stream": "stdout",
       "text": [
        "\r",
        "56% [=====================>                 ] 16,452,416   912KB/s  eta 14s    "
       ]
      },
      {
       "output_type": "stream",
       "stream": "stdout",
       "text": [
        "\r",
        "57% [=====================>                 ] 16,680,308   890KB/s  eta 14s    "
       ]
      },
      {
       "output_type": "stream",
       "stream": "stdout",
       "text": [
        "\r",
        "58% [=====================>                 ] 16,946,636   894KB/s  eta 14s    "
       ]
      },
      {
       "output_type": "stream",
       "stream": "stdout",
       "text": [
        "\r",
        "59% [======================>                ] 17,231,501   898KB/s  eta 14s    "
       ]
      },
      {
       "output_type": "stream",
       "stream": "stdout",
       "text": [
        "\r",
        "60% [======================>                ] 17,573,141   911KB/s  eta 14s    "
       ]
      },
      {
       "output_type": "stream",
       "stream": "stdout",
       "text": [
        "\r",
        "61% [======================>                ] 17,880,362   924KB/s  eta 12s    "
       ]
      },
      {
       "output_type": "stream",
       "stream": "stdout",
       "text": [
        "\r",
        "62% [=======================>               ] 18,083,837   932KB/s  eta 12s    "
       ]
      },
      {
       "output_type": "stream",
       "stream": "stdout",
       "text": [
        "\r",
        "62% [=======================>               ] 18,254,756   912KB/s  eta 12s    "
       ]
      },
      {
       "output_type": "stream",
       "stream": "stdout",
       "text": [
        "\r",
        "63% [=======================>               ] 18,461,997   910KB/s  eta 12s    "
       ]
      },
      {
       "output_type": "stream",
       "stream": "stdout",
       "text": [
        "\r",
        "64% [========================>              ] 18,689,889   910KB/s  eta 12s    "
       ]
      },
      {
       "output_type": "stream",
       "stream": "stdout",
       "text": [
        "\r",
        "64% [========================>              ] 18,925,775   940KB/s  eta 11s    "
       ]
      },
      {
       "output_type": "stream",
       "stream": "stdout",
       "text": [
        "\r",
        "65% [========================>              ] 19,194,362   980KB/s  eta 11s    "
       ]
      },
      {
       "output_type": "stream",
       "stream": "stdout",
       "text": [
        "\r",
        "66% [=========================>             ] 19,490,240  1.00MB/s  eta 11s    "
       ]
      },
      {
       "output_type": "stream",
       "stream": "stdout",
       "text": [
        "\r",
        "68% [=========================>             ] 19,826,945  1.03MB/s  eta 11s    "
       ]
      },
      {
       "output_type": "stream",
       "stream": "stdout",
       "text": [
        "\r",
        "69% [==========================>            ] 20,176,922  1.08MB/s  eta 11s    "
       ]
      },
      {
       "output_type": "stream",
       "stream": "stdout",
       "text": [
        "\r",
        "70% [==========================>            ] 20,560,453  1.14MB/s  eta 9s     "
       ]
      },
      {
       "output_type": "stream",
       "stream": "stdout",
       "text": [
        "\r",
        "71% [==========================>            ] 20,837,179  1.17MB/s  eta 9s     "
       ]
      },
      {
       "output_type": "stream",
       "stream": "stdout",
       "text": [
        "\r",
        "72% [===========================>           ] 21,051,416  1.17MB/s  eta 9s     "
       ]
      },
      {
       "output_type": "stream",
       "stream": "stdout",
       "text": [
        "\r",
        "72% [===========================>           ] 21,214,196  1.15MB/s  eta 9s     "
       ]
      },
      {
       "output_type": "stream",
       "stream": "stdout",
       "text": [
        "\r",
        "73% [===========================>           ] 21,401,096  1.15MB/s  eta 9s     "
       ]
      },
      {
       "output_type": "stream",
       "stream": "stdout",
       "text": [
        "\r",
        "74% [===========================>           ] 21,602,609  1.14MB/s  eta 8s     "
       ]
      },
      {
       "output_type": "stream",
       "stream": "stdout",
       "text": [
        "\r",
        "74% [============================>          ] 21,797,945  1.10MB/s  eta 8s     "
       ]
      },
      {
       "output_type": "stream",
       "stream": "stdout",
       "text": [
        "\r",
        "75% [============================>          ] 22,009,559  1.08MB/s  eta 8s     "
       ]
      },
      {
       "output_type": "stream",
       "stream": "stdout",
       "text": [
        "\r",
        "76% [============================>          ] 22,251,470  1.07MB/s  eta 8s     "
       ]
      },
      {
       "output_type": "stream",
       "stream": "stdout",
       "text": [
        "\r",
        "77% [=============================>         ] 22,438,667  1.07MB/s  eta 8s     "
       ]
      },
      {
       "output_type": "stream",
       "stream": "stdout",
       "text": [
        "\r",
        "77% [=============================>         ] 22,537,445  1.04MB/s  eta 7s     "
       ]
      },
      {
       "output_type": "stream",
       "stream": "stdout",
       "text": [
        "\r",
        "77% [=============================>         ] 22,659,530  1.03MB/s  eta 7s     "
       ]
      },
      {
       "output_type": "stream",
       "stream": "stdout",
       "text": [
        "\r",
        "78% [=============================>         ] 22,781,615  1018KB/s  eta 7s     "
       ]
      },
      {
       "output_type": "stream",
       "stream": "stdout",
       "text": [
        "\r",
        "78% [=============================>         ] 22,875,914   971KB/s  eta 7s     "
       ]
      },
      {
       "output_type": "stream",
       "stream": "stdout",
       "text": [
        "\r",
        "78% [=============================>         ] 22,916,609   920KB/s  eta 7s     "
       ]
      },
      {
       "output_type": "stream",
       "stream": "stdout",
       "text": [
        "\r",
        "78% [=============================>         ] 22,957,304   852KB/s  eta 7s     "
       ]
      },
      {
       "output_type": "stream",
       "stream": "stdout",
       "text": [
        "\r",
        "79% [=============================>         ] 23,014,277   794KB/s  eta 7s     "
       ]
      },
      {
       "output_type": "stream",
       "stream": "stdout",
       "text": [
        "\r",
        "79% [=============================>         ] 23,071,250   718KB/s  eta 7s     "
       ]
      },
      {
       "output_type": "stream",
       "stream": "stdout",
       "text": [
        "\r",
        "79% [=============================>         ] 23,144,501   653KB/s  eta 7s     "
       ]
      },
      {
       "output_type": "stream",
       "stream": "stdout",
       "text": [
        "\r",
        "79% [==============================>        ] 23,225,891   582KB/s  eta 7s     "
       ]
      },
      {
       "output_type": "stream",
       "stream": "stdout",
       "text": [
        "\r",
        "80% [==============================>        ] 23,323,559   545KB/s  eta 7s     "
       ]
      },
      {
       "output_type": "stream",
       "stream": "stdout",
       "text": [
        "\r",
        "80% [==============================>        ] 23,437,505   533KB/s  eta 7s     "
       ]
      },
      {
       "output_type": "stream",
       "stream": "stdout",
       "text": [
        "\r",
        "80% [==============================>        ] 23,549,192   520KB/s  eta 7s     "
       ]
      },
      {
       "output_type": "stream",
       "stream": "stdout",
       "text": [
        "\r",
        "81% [==============================>        ] 23,671,277   499KB/s  eta 7s     "
       ]
      },
      {
       "output_type": "stream",
       "stream": "stdout",
       "text": [
        "\r",
        "81% [==============================>        ] 23,801,501   484KB/s  eta 7s     "
       ]
      },
      {
       "output_type": "stream",
       "stream": "stdout",
       "text": [
        "\r",
        "82% [===============================>       ] 23,955,944   472KB/s  eta 6s     "
       ]
      },
      {
       "output_type": "stream",
       "stream": "stdout",
       "text": [
        "\r",
        "82% [===============================>       ] 24,110,585   449KB/s  eta 6s     "
       ]
      },
      {
       "output_type": "stream",
       "stream": "stdout",
       "text": [
        "\r",
        "83% [===============================>       ] 24,295,721   452KB/s  eta 6s     "
       ]
      },
      {
       "output_type": "stream",
       "stream": "stdout",
       "text": [
        "\r",
        "84% [===============================>       ] 24,488,375   472KB/s  eta 6s     "
       ]
      },
      {
       "output_type": "stream",
       "stream": "stdout",
       "text": [
        "\r",
        "84% [================================>      ] 24,708,128   501KB/s  eta 6s     "
       ]
      },
      {
       "output_type": "stream",
       "stream": "stdout",
       "text": [
        "\r",
        "85% [================================>      ] 24,920,165   517KB/s  eta 5s     "
       ]
      },
      {
       "output_type": "stream",
       "stream": "stdout",
       "text": [
        "\r",
        "86% [================================>      ] 25,148,057   560KB/s  eta 5s     "
       ]
      },
      {
       "output_type": "stream",
       "stream": "stdout",
       "text": [
        "\r",
        "87% [=================================>     ] 25,408,505   615KB/s  eta 5s     "
       ]
      },
      {
       "output_type": "stream",
       "stream": "stdout",
       "text": [
        "\r",
        "88% [=================================>     ] 25,675,388   671KB/s  eta 5s     "
       ]
      },
      {
       "output_type": "stream",
       "stream": "stdout",
       "text": [
        "\r",
        "89% [=================================>     ] 25,968,392   732KB/s  eta 5s     "
       ]
      },
      {
       "output_type": "stream",
       "stream": "stdout",
       "text": [
        "\r",
        "90% [==================================>    ] 26,291,138   799KB/s  eta 3s     "
       ]
      },
      {
       "output_type": "stream",
       "stream": "stdout",
       "text": [
        "\r",
        "91% [==================================>    ] 26,649,023   872KB/s  eta 3s     "
       ]
      },
      {
       "output_type": "stream",
       "stream": "stdout",
       "text": [
        "\r",
        "92% [===================================>   ] 27,013,250   933KB/s  eta 3s     "
       ]
      },
      {
       "output_type": "stream",
       "stream": "stdout",
       "text": [
        "\r",
        "94% [===================================>   ] 27,412,061  1011KB/s  eta 3s     "
       ]
      },
      {
       "output_type": "stream",
       "stream": "stdout",
       "text": [
        "\r",
        "95% [====================================>  ] 27,815,847  1.06MB/s  eta 3s     "
       ]
      },
      {
       "output_type": "stream",
       "stream": "stdout",
       "text": [
        "\r",
        "96% [====================================>  ] 28,229,582  1.14MB/s  eta 1s     "
       ]
      },
      {
       "output_type": "stream",
       "stream": "stdout",
       "text": [
        "\r",
        "97% [=====================================> ] 28,506,308  1.18MB/s  eta 1s     "
       ]
      },
      {
       "output_type": "stream",
       "stream": "stdout",
       "text": [
        "\r",
        "98% [=====================================> ] 28,701,565  1.20MB/s  eta 1s     "
       ]
      },
      {
       "output_type": "stream",
       "stream": "stdout",
       "text": [
        "\r",
        "98% [=====================================> ] 28,821,470  1.20MB/s  eta 1s     "
       ]
      },
      {
       "output_type": "stream",
       "stream": "stdout",
       "text": [
        "\r",
        "99% [=====================================> ] 28,943,555  1.18MB/s  eta 1s     "
       ]
      },
      {
       "output_type": "stream",
       "stream": "stdout",
       "text": [
        "\r",
        "99% [=====================================> ] 29,090,057  1.18MB/s  eta 0s     "
       ]
      },
      {
       "output_type": "stream",
       "stream": "stdout",
       "text": [
        "\r",
        "100%[======================================>] 29,124,505  1.19MB/s   in 32s    \r\n",
        "\r\n",
        "2013-05-06 15:17:59 (895 KB/s) - \u2018moving_pictures_tutorial-1.7.0.tgz\u2019 saved [29124505/29124505]\r\n",
        "\r\n"
       ]
      },
      {
       "output_type": "stream",
       "stream": "stdout",
       "text": [
        "--2013-05-06 15:17:59--  ftp://greengenes.microbio.me/greengenes_release/gg_12_10/gg_12_10_otus.tar.gz\r\n",
        "           => \u2018gg_12_10_otus.tar.gz\u2019\r\n",
        "Resolving greengenes.microbio.me... 128.138.93.17\r\n",
        "Connecting to greengenes.microbio.me|128.138.93.17|:21... "
       ]
      },
      {
       "output_type": "stream",
       "stream": "stdout",
       "text": [
        "connected.\r\n",
        "Logging in as anonymous ... "
       ]
      },
      {
       "output_type": "stream",
       "stream": "stdout",
       "text": [
        "Logged in!\r\n",
        "==> SYST ... "
       ]
      },
      {
       "output_type": "stream",
       "stream": "stdout",
       "text": [
        "done.    ==> PWD ... "
       ]
      },
      {
       "output_type": "stream",
       "stream": "stdout",
       "text": [
        "done.\r\n",
        "==> TYPE I ... "
       ]
      },
      {
       "output_type": "stream",
       "stream": "stdout",
       "text": [
        "done.  ==> CWD (1) /greengenes_release/gg_12_10 ... "
       ]
      },
      {
       "output_type": "stream",
       "stream": "stdout",
       "text": [
        "done.\r\n",
        "==> SIZE gg_12_10_otus.tar.gz ... "
       ]
      },
      {
       "output_type": "stream",
       "stream": "stdout",
       "text": [
        "135667617\r\n",
        "==> PASV ... "
       ]
      },
      {
       "output_type": "stream",
       "stream": "stdout",
       "text": [
        "done.    ==> RETR gg_12_10_otus.tar.gz ... "
       ]
      },
      {
       "output_type": "stream",
       "stream": "stdout",
       "text": [
        "done.\r\n",
        "Length: 135667617 (129M) (unauthoritative)\r\n",
        "\r\n",
        "\r",
        " 0% [                                       ] 0           --.-K/s              "
       ]
      },
      {
       "output_type": "stream",
       "stream": "stdout",
       "text": [
        "\r",
        " 0% [                                       ] 41,040       173KB/s             "
       ]
      },
      {
       "output_type": "stream",
       "stream": "stdout",
       "text": [
        "\r",
        " 0% [                                       ] 190,152      431KB/s             "
       ]
      },
      {
       "output_type": "stream",
       "stream": "stdout",
       "text": [
        "\r",
        " 0% [                                       ] 592,344      916KB/s             "
       ]
      },
      {
       "output_type": "stream",
       "stream": "stdout",
       "text": [
        "\r",
        " 0% [                                       ] 1,064,304   1.22MB/s             "
       ]
      },
      {
       "output_type": "stream",
       "stream": "stdout",
       "text": [
        "\r",
        " 1% [                                       ] 1,545,840   1.43MB/s             "
       ]
      },
      {
       "output_type": "stream",
       "stream": "stdout",
       "text": [
        "\r",
        " 1% [                                       ] 1,972,656   1.52MB/s             "
       ]
      },
      {
       "output_type": "stream",
       "stream": "stdout",
       "text": [
        "\r",
        " 1% [                                       ] 2,462,400   1.64MB/s             "
       ]
      },
      {
       "output_type": "stream",
       "stream": "stdout",
       "text": [
        "\r",
        " 2% [                                       ] 2,980,872   1.74MB/s             "
       ]
      },
      {
       "output_type": "stream",
       "stream": "stdout",
       "text": [
        "\r",
        " 2% [>                                      ] 3,488,400   1.81MB/s             "
       ]
      },
      {
       "output_type": "stream",
       "stream": "stdout",
       "text": [
        "\r",
        " 2% [>                                      ] 3,950,784   1.85MB/s             "
       ]
      },
      {
       "output_type": "stream",
       "stream": "stdout",
       "text": [
        "\r",
        " 3% [>                                      ] 4,480,200   1.90MB/s             "
       ]
      },
      {
       "output_type": "stream",
       "stream": "stdout",
       "text": [
        "\r",
        " 3% [>                                      ] 4,998,672   1.94MB/s             "
       ]
      },
      {
       "output_type": "stream",
       "stream": "stdout",
       "text": [
        "\r",
        " 4% [>                                      ] 5,488,416   1.97MB/s             "
       ]
      },
      {
       "output_type": "stream",
       "stream": "stdout",
       "text": [
        "\r",
        " 4% [>                                      ] 5,946,696   1.99MB/s             "
       ]
      },
      {
       "output_type": "stream",
       "stream": "stdout",
       "text": [
        "\r",
        " 4% [>                                      ] 6,469,272   2.02MB/s  eta 61s    "
       ]
      },
      {
       "output_type": "stream",
       "stream": "stdout",
       "text": [
        "\r",
        " 5% [=>                                     ] 6,998,688   2.15MB/s  eta 61s    "
       ]
      },
      {
       "output_type": "stream",
       "stream": "stdout",
       "text": [
        "\r",
        " 5% [=>                                     ] 7,524,000   2.28MB/s  eta 61s    "
       ]
      },
      {
       "output_type": "stream",
       "stream": "stdout",
       "text": [
        "\r",
        " 5% [=>                                     ] 8,031,528   2.32MB/s  eta 61s    "
       ]
      },
      {
       "output_type": "stream",
       "stream": "stdout",
       "text": [
        "\r",
        " 6% [=>                                     ] 8,589,672   2.36MB/s  eta 61s    "
       ]
      },
      {
       "output_type": "stream",
       "stream": "stdout",
       "text": [
        "\r",
        " 6% [=>                                     ] 9,099,936   2.37MB/s  eta 57s    "
       ]
      },
      {
       "output_type": "stream",
       "stream": "stdout",
       "text": [
        "\r",
        " 7% [=>                                     ] 9,662,184   2.40MB/s  eta 57s    "
       ]
      },
      {
       "output_type": "stream",
       "stream": "stdout",
       "text": [
        "\r",
        " 7% [=>                                     ] 10,157,400  2.42MB/s  eta 57s    "
       ]
      },
      {
       "output_type": "stream",
       "stream": "stdout",
       "text": [
        "\r",
        " 7% [==>                                    ] 10,703,232  2.42MB/s  eta 57s    "
       ]
      },
      {
       "output_type": "stream",
       "stream": "stdout",
       "text": [
        "\r",
        " 8% [==>                                    ] 11,234,016  2.43MB/s  eta 57s    "
       ]
      },
      {
       "output_type": "stream",
       "stream": "stdout",
       "text": [
        "\r",
        " 8% [==>                                    ] 11,789,424  2.46MB/s  eta 53s    "
       ]
      },
      {
       "output_type": "stream",
       "stream": "stdout",
       "text": [
        "\r",
        " 9% [==>                                    ] 12,355,776  2.47MB/s  eta 53s    "
       ]
      },
      {
       "output_type": "stream",
       "stream": "stdout",
       "text": [
        "\r",
        " 9% [==>                                    ] 12,945,384  2.50MB/s  eta 53s    "
       ]
      },
      {
       "output_type": "stream",
       "stream": "stdout",
       "text": [
        "\r",
        " 9% [==>                                    ] 13,525,416  2.53MB/s  eta 53s    "
       ]
      },
      {
       "output_type": "stream",
       "stream": "stdout",
       "text": [
        "\r",
        "10% [===>                                   ] 14,113,656  2.55MB/s  eta 53s    "
       ]
      },
      {
       "output_type": "stream",
       "stream": "stdout",
       "text": [
        "\r",
        "10% [===>                                   ] 14,756,616  2.60MB/s  eta 50s    "
       ]
      },
      {
       "output_type": "stream",
       "stream": "stdout",
       "text": [
        "\r",
        "11% [===>                                   ] 15,365,376  2.62MB/s  eta 50s    "
       ]
      },
      {
       "output_type": "stream",
       "stream": "stdout",
       "text": [
        "\r",
        "11% [===>                                   ] 15,909,840  2.64MB/s  eta 50s    "
       ]
      },
      {
       "output_type": "stream",
       "stream": "stdout",
       "text": [
        "\r",
        "12% [===>                                   ] 16,428,312  2.63MB/s  eta 50s    "
       ]
      },
      {
       "output_type": "stream",
       "stream": "stdout",
       "text": [
        "\r",
        "12% [===>                                   ] 17,011,080  2.65MB/s  eta 50s    "
       ]
      },
      {
       "output_type": "stream",
       "stream": "stdout",
       "text": [
        "\r",
        "12% [====>                                  ] 17,541,864  2.66MB/s  eta 48s    "
       ]
      },
      {
       "output_type": "stream",
       "stream": "stdout",
       "text": [
        "\r",
        "13% [====>                                  ] 18,120,528  2.67MB/s  eta 48s    "
       ]
      },
      {
       "output_type": "stream",
       "stream": "stdout",
       "text": [
        "\r",
        "13% [====>                                  ] 18,680,040  2.68MB/s  eta 48s    "
       ]
      },
      {
       "output_type": "stream",
       "stream": "stdout",
       "text": [
        "\r",
        "14% [====>                                  ] 19,251,864  2.69MB/s  eta 48s    "
       ]
      },
      {
       "output_type": "stream",
       "stream": "stdout",
       "text": [
        "\r",
        "14% [====>                                  ] 19,841,472  2.72MB/s  eta 48s    "
       ]
      },
      {
       "output_type": "stream",
       "stream": "stdout",
       "text": [
        "\r",
        "15% [====>                                  ] 20,388,672  2.71MB/s  eta 46s    "
       ]
      },
      {
       "output_type": "stream",
       "stream": "stdout",
       "text": [
        "\r",
        "15% [=====>                                 ] 20,987,856  2.73MB/s  eta 46s    "
       ]
      },
      {
       "output_type": "stream",
       "stream": "stdout",
       "text": [
        "\r",
        "15% [=====>                                 ] 21,654,072  2.75MB/s  eta 46s    "
       ]
      },
      {
       "output_type": "stream",
       "stream": "stdout",
       "text": [
        "\r",
        "16% [=====>                                 ] 22,276,512  2.77MB/s  eta 46s    "
       ]
      },
      {
       "output_type": "stream",
       "stream": "stdout",
       "text": [
        "\r",
        "16% [=====>                                 ] 22,877,064  2.79MB/s  eta 46s    "
       ]
      },
      {
       "output_type": "stream",
       "stream": "stdout",
       "text": [
        "\r",
        "17% [=====>                                 ] 23,496,768  2.77MB/s  eta 43s    "
       ]
      },
      {
       "output_type": "stream",
       "stream": "stdout",
       "text": [
        "\r",
        "17% [=====>                                 ] 24,124,680  2.77MB/s  eta 43s    "
       ]
      },
      {
       "output_type": "stream",
       "stream": "stdout",
       "text": [
        "\r",
        "18% [======>                                ] 24,758,064  2.80MB/s  eta 43s    "
       ]
      },
      {
       "output_type": "stream",
       "stream": "stdout",
       "text": [
        "\r",
        "18% [======>                                ] 25,401,024  2.84MB/s  eta 43s    "
       ]
      },
      {
       "output_type": "stream",
       "stream": "stdout",
       "text": [
        "\r",
        "19% [======>                                ] 26,026,200  2.85MB/s  eta 43s    "
       ]
      },
      {
       "output_type": "stream",
       "stream": "stdout",
       "text": [
        "\r",
        "19% [======>                                ] 26,643,168  2.88MB/s  eta 41s    "
       ]
      },
      {
       "output_type": "stream",
       "stream": "stdout",
       "text": [
        "\r",
        "20% [======>                                ] 27,295,704  2.91MB/s  eta 41s    "
       ]
      },
      {
       "output_type": "stream",
       "stream": "stdout",
       "text": [
        "\r",
        "20% [=======>                               ] 27,931,824  2.92MB/s  eta 41s    "
       ]
      },
      {
       "output_type": "stream",
       "stream": "stdout",
       "text": [
        "\r",
        "21% [=======>                               ] 28,574,784  2.95MB/s  eta 41s    "
       ]
      },
      {
       "output_type": "stream",
       "stream": "stdout",
       "text": [
        "\r",
        "21% [=======>                               ] 29,235,528  2.97MB/s  eta 41s    "
       ]
      },
      {
       "output_type": "stream",
       "stream": "stdout",
       "text": [
        "\r",
        "22% [=======>                               ] 29,885,328  2.99MB/s  eta 39s    "
       ]
      },
      {
       "output_type": "stream",
       "stream": "stdout",
       "text": [
        "\r",
        "22% [=======>                               ] 30,496,824  3.00MB/s  eta 39s    "
       ]
      },
      {
       "output_type": "stream",
       "stream": "stdout",
       "text": [
        "\r",
        "22% [=======>                               ] 31,132,944  3.01MB/s  eta 39s    "
       ]
      },
      {
       "output_type": "stream",
       "stream": "stdout",
       "text": [
        "\r",
        "23% [========>                              ] 31,743,072  3.00MB/s  eta 39s    "
       ]
      },
      {
       "output_type": "stream",
       "stream": "stdout",
       "text": [
        "\r",
        "23% [========>                              ] 32,373,720  3.01MB/s  eta 39s    "
       ]
      },
      {
       "output_type": "stream",
       "stream": "stdout",
       "text": [
        "\r",
        "24% [========>                              ] 32,982,480  3.00MB/s  eta 38s    "
       ]
      },
      {
       "output_type": "stream",
       "stream": "stdout",
       "text": [
        "\r",
        "24% [========>                              ] 33,603,552  3.00MB/s  eta 38s    "
       ]
      },
      {
       "output_type": "stream",
       "stream": "stdout",
       "text": [
        "\r",
        "25% [========>                              ] 34,200,000  2.99MB/s  eta 38s    "
       ]
      },
      {
       "output_type": "stream",
       "stream": "stdout",
       "text": [
        "\r",
        "25% [=========>                             ] 34,806,024  2.98MB/s  eta 38s    "
       ]
      },
      {
       "output_type": "stream",
       "stream": "stdout",
       "text": [
        "\r",
        "26% [=========>                             ] 35,436,672  2.98MB/s  eta 38s    "
       ]
      },
      {
       "output_type": "stream",
       "stream": "stdout",
       "text": [
        "\r",
        "26% [=========>                             ] 36,119,304  2.99MB/s  eta 36s    "
       ]
      },
      {
       "output_type": "stream",
       "stream": "stdout",
       "text": [
        "\r",
        "27% [=========>                             ] 36,766,368  3.00MB/s  eta 36s    "
       ]
      },
      {
       "output_type": "stream",
       "stream": "stdout",
       "text": [
        "\r",
        "27% [=========>                             ] 37,398,384  2.99MB/s  eta 36s    "
       ]
      },
      {
       "output_type": "stream",
       "stream": "stdout",
       "text": [
        "\r",
        "28% [=========>                             ] 38,034,504  3.00MB/s  eta 36s    "
       ]
      },
      {
       "output_type": "stream",
       "stream": "stdout",
       "text": [
        "\r",
        "28% [==========>                            ] 38,691,144  3.00MB/s  eta 36s    "
       ]
      },
      {
       "output_type": "stream",
       "stream": "stdout",
       "text": [
        "\r",
        "28% [==========>                            ] 39,312,216  2.99MB/s  eta 35s    "
       ]
      },
      {
       "output_type": "stream",
       "stream": "stdout",
       "text": [
        "\r",
        "29% [==========>                            ] 40,008,528  3.01MB/s  eta 35s    "
       ]
      },
      {
       "output_type": "stream",
       "stream": "stdout",
       "text": [
        "\r",
        "29% [==========>                            ] 40,691,160  3.03MB/s  eta 35s    "
       ]
      },
      {
       "output_type": "stream",
       "stream": "stdout",
       "text": [
        "\r",
        "30% [==========>                            ] 41,392,944  3.05MB/s  eta 35s    "
       ]
      },
      {
       "output_type": "stream",
       "stream": "stdout",
       "text": [
        "\r",
        "31% [===========>                           ] 42,079,680  3.07MB/s  eta 35s    "
       ]
      },
      {
       "output_type": "stream",
       "stream": "stdout",
       "text": [
        "\r",
        "31% [===========>                           ] 42,724,008  3.08MB/s  eta 33s    "
       ]
      },
      {
       "output_type": "stream",
       "stream": "stdout",
       "text": [
        "\r",
        "31% [===========>                           ] 43,293,096  3.06MB/s  eta 33s    "
       ]
      },
      {
       "output_type": "stream",
       "stream": "stdout",
       "text": [
        "\r",
        "32% [===========>                           ] 43,789,680  3.02MB/s  eta 33s    "
       ]
      },
      {
       "output_type": "stream",
       "stream": "stdout",
       "text": [
        "\r",
        "32% [===========>                           ] 44,290,368  3.00MB/s  eta 33s    "
       ]
      },
      {
       "output_type": "stream",
       "stream": "stdout",
       "text": [
        "\r",
        "33% [===========>                           ] 44,823,888  2.97MB/s  eta 33s    "
       ]
      },
      {
       "output_type": "stream",
       "stream": "stdout",
       "text": [
        "\r",
        "33% [============>                          ] 45,346,464  2.91MB/s  eta 32s    "
       ]
      },
      {
       "output_type": "stream",
       "stream": "stdout",
       "text": [
        "\r",
        "33% [============>                          ] 45,819,792  2.86MB/s  eta 32s    "
       ]
      },
      {
       "output_type": "stream",
       "stream": "stdout",
       "text": [
        "\r",
        "34% [============>                          ] 46,306,800  2.82MB/s  eta 32s    "
       ]
      },
      {
       "output_type": "stream",
       "stream": "stdout",
       "text": [
        "\r",
        "34% [============>                          ] 46,866,312  2.80MB/s  eta 32s    "
       ]
      },
      {
       "output_type": "stream",
       "stream": "stdout",
       "text": [
        "\r",
        "34% [============>                          ] 47,351,952  2.75MB/s  eta 32s    "
       ]
      },
      {
       "output_type": "stream",
       "stream": "stdout",
       "text": [
        "\r",
        "35% [============>                          ] 47,869,056  2.71MB/s  eta 31s    "
       ]
      },
      {
       "output_type": "stream",
       "stream": "stdout",
       "text": [
        "\r",
        "35% [============>                          ] 48,379,320  2.64MB/s  eta 31s    "
       ]
      },
      {
       "output_type": "stream",
       "stream": "stdout",
       "text": [
        "\r",
        "36% [=============>                         ] 48,953,880  2.62MB/s  eta 31s    "
       ]
      },
      {
       "output_type": "stream",
       "stream": "stdout",
       "text": [
        "\r",
        "36% [=============>                         ] 49,487,400  2.53MB/s  eta 31s    "
       ]
      },
      {
       "output_type": "stream",
       "stream": "stdout",
       "text": [
        "\r",
        "36% [=============>                         ] 50,060,592  2.51MB/s  eta 31s    "
       ]
      },
      {
       "output_type": "stream",
       "stream": "stdout",
       "text": [
        "\r",
        "37% [=============>                         ] 50,624,208  2.50MB/s  eta 31s    "
       ]
      },
      {
       "output_type": "stream",
       "stream": "stdout",
       "text": [
        "\r",
        "37% [=============>                         ] 51,167,304  2.48MB/s  eta 31s    "
       ]
      },
      {
       "output_type": "stream",
       "stream": "stdout",
       "text": [
        "\r",
        "38% [=============>                         ] 51,745,968  2.50MB/s  eta 31s    "
       ]
      },
      {
       "output_type": "stream",
       "stream": "stdout",
       "text": [
        "\r",
        "38% [==============>                        ] 52,323,264  2.53MB/s  eta 31s    "
       ]
      },
      {
       "output_type": "stream",
       "stream": "stdout",
       "text": [
        "\r",
        "38% [==============>                        ] 52,862,256  2.53MB/s  eta 31s    "
       ]
      },
      {
       "output_type": "stream",
       "stream": "stdout",
       "text": [
        "\r",
        "39% [==============>                        ] 53,394,408  2.53MB/s  eta 30s    "
       ]
      },
      {
       "output_type": "stream",
       "stream": "stdout",
       "text": [
        "\r",
        "39% [==============>                        ] 54,008,640  2.57MB/s  eta 30s    "
       ]
      },
      {
       "output_type": "stream",
       "stream": "stdout",
       "text": [
        "\r",
        "40% [==============>                        ] 54,558,576  2.58MB/s  eta 30s    "
       ]
      },
      {
       "output_type": "stream",
       "stream": "stdout",
       "text": [
        "\r",
        "40% [==============>                        ] 55,118,088  2.60MB/s  eta 30s    "
       ]
      },
      {
       "output_type": "stream",
       "stream": "stdout",
       "text": [
        "\r",
        "41% [==============>                        ] 55,646,136  2.61MB/s  eta 30s    "
       ]
      },
      {
       "output_type": "stream",
       "stream": "stdout",
       "text": [
        "\r",
        "41% [===============>                       ] 56,111,256  2.59MB/s  eta 29s    "
       ]
      },
      {
       "output_type": "stream",
       "stream": "stdout",
       "text": [
        "\r",
        "41% [===============>                       ] 56,642,040  2.60MB/s  eta 29s    "
       ]
      },
      {
       "output_type": "stream",
       "stream": "stdout",
       "text": [
        "\r",
        "42% [===============>                       ] 57,156,408  2.60MB/s  eta 29s    "
       ]
      },
      {
       "output_type": "stream",
       "stream": "stdout",
       "text": [
        "\r",
        "42% [===============>                       ] 57,696,768  2.60MB/s  eta 29s    "
       ]
      },
      {
       "output_type": "stream",
       "stream": "stdout",
       "text": [
        "\r",
        "42% [===============>                       ] 58,230,288  2.59MB/s  eta 29s    "
       ]
      },
      {
       "output_type": "stream",
       "stream": "stdout",
       "text": [
        "\r",
        "43% [===============>                       ] 58,818,528  2.60MB/s  eta 28s    "
       ]
      },
      {
       "output_type": "stream",
       "stream": "stdout",
       "text": [
        "\r",
        "43% [================>                      ] 59,327,424  2.59MB/s  eta 28s    "
       ]
      },
      {
       "output_type": "stream",
       "stream": "stdout",
       "text": [
        "\r",
        "44% [================>                      ] 59,892,408  2.57MB/s  eta 28s    "
       ]
      },
      {
       "output_type": "stream",
       "stream": "stdout",
       "text": [
        "\r",
        "44% [================>                      ] 60,428,664  2.57MB/s  eta 28s    "
       ]
      },
      {
       "output_type": "stream",
       "stream": "stdout",
       "text": [
        "\r",
        "44% [================>                      ] 60,974,496  2.56MB/s  eta 28s    "
       ]
      },
      {
       "output_type": "stream",
       "stream": "stdout",
       "text": [
        "\r",
        "45% [================>                      ] 61,536,744  2.57MB/s  eta 27s    "
       ]
      },
      {
       "output_type": "stream",
       "stream": "stdout",
       "text": [
        "\r",
        "45% [================>                      ] 62,089,416  2.56MB/s  eta 27s    "
       ]
      },
      {
       "output_type": "stream",
       "stream": "stdout",
       "text": [
        "\r",
        "46% [=================>                     ] 62,633,880  2.56MB/s  eta 27s    "
       ]
      },
      {
       "output_type": "stream",
       "stream": "stdout",
       "text": [
        "\r",
        "46% [=================>                     ] 63,178,344  2.55MB/s  eta 27s    "
       ]
      },
      {
       "output_type": "stream",
       "stream": "stdout",
       "text": [
        "\r",
        "47% [=================>                     ] 63,781,632  2.57MB/s  eta 27s    "
       ]
      },
      {
       "output_type": "stream",
       "stream": "stdout",
       "text": [
        "\r",
        "47% [=================>                     ] 64,352,088  2.58MB/s  eta 26s    "
       ]
      },
      {
       "output_type": "stream",
       "stream": "stdout",
       "text": [
        "\r",
        "47% [=================>                     ] 64,873,296  2.59MB/s  eta 26s    "
       ]
      },
      {
       "output_type": "stream",
       "stream": "stdout",
       "text": [
        "\r",
        "48% [=================>                     ] 65,421,864  2.61MB/s  eta 26s    "
       ]
      },
      {
       "output_type": "stream",
       "stream": "stdout",
       "text": [
        "\r",
        "48% [=================>                     ] 65,951,280  2.60MB/s  eta 26s    "
       ]
      },
      {
       "output_type": "stream",
       "stream": "stdout",
       "text": [
        "\r",
        "49% [==================>                    ] 66,503,952  2.61MB/s  eta 26s    "
       ]
      },
      {
       "output_type": "stream",
       "stream": "stdout",
       "text": [
        "\r",
        "49% [==================>                    ] 67,093,560  2.61MB/s  eta 25s    "
       ]
      },
      {
       "output_type": "stream",
       "stream": "stdout",
       "text": [
        "\r",
        "49% [==================>                    ] 67,659,912  2.62MB/s  eta 25s    "
       ]
      },
      {
       "output_type": "stream",
       "stream": "stdout",
       "text": [
        "\r",
        "50% [==================>                    ] 68,213,952  2.62MB/s  eta 25s    "
       ]
      },
      {
       "output_type": "stream",
       "stream": "stdout",
       "text": [
        "\r",
        "50% [==================>                    ] 68,766,624  2.62MB/s  eta 25s    "
       ]
      },
      {
       "output_type": "stream",
       "stream": "stdout",
       "text": [
        "\r",
        "51% [==================>                    ] 69,360,336  2.65MB/s  eta 25s    "
       ]
      },
      {
       "output_type": "stream",
       "stream": "stdout",
       "text": [
        "\r",
        "51% [===================>                   ] 69,937,632  2.65MB/s  eta 24s    "
       ]
      },
      {
       "output_type": "stream",
       "stream": "stdout",
       "text": [
        "\r",
        "52% [===================>                   ] 70,560,072  2.66MB/s  eta 24s    "
       ]
      },
      {
       "output_type": "stream",
       "stream": "stdout",
       "text": [
        "\r",
        "52% [===================>                   ] 71,163,360  2.69MB/s  eta 24s    "
       ]
      },
      {
       "output_type": "stream",
       "stream": "stdout",
       "text": [
        "\r",
        "52% [===================>                   ] 71,744,744  2.70MB/s  eta 24s    "
       ]
      },
      {
       "output_type": "stream",
       "stream": "stdout",
       "text": [
        "\r",
        "53% [===================>                   ] 72,341,208  2.70MB/s  eta 24s    "
       ]
      },
      {
       "output_type": "stream",
       "stream": "stdout",
       "text": [
        "\r",
        "53% [===================>                   ] 72,928,080  2.70MB/s  eta 23s    "
       ]
      },
      {
       "output_type": "stream",
       "stream": "stdout",
       "text": [
        "\r",
        "54% [====================>                  ] 73,524,528  2.72MB/s  eta 23s    "
       ]
      },
      {
       "output_type": "stream",
       "stream": "stdout",
       "text": [
        "\r",
        "54% [====================>                  ] 74,096,352  2.74MB/s  eta 23s    "
       ]
      },
      {
       "output_type": "stream",
       "stream": "stdout",
       "text": [
        "\r",
        "55% [====================>                  ] 74,711,952  2.76MB/s  eta 23s    "
       ]
      },
      {
       "output_type": "stream",
       "stream": "stdout",
       "text": [
        "\r",
        "55% [====================>                  ] 75,353,544  2.79MB/s  eta 23s    "
       ]
      },
      {
       "output_type": "stream",
       "stream": "stdout",
       "text": [
        "\r",
        "56% [====================>                  ] 76,006,080  2.82MB/s  eta 21s    "
       ]
      },
      {
       "output_type": "stream",
       "stream": "stdout",
       "text": [
        "\r",
        "56% [=====================>                 ] 76,669,560  2.84MB/s  eta 21s    "
       ]
      },
      {
       "output_type": "stream",
       "stream": "stdout",
       "text": [
        "\r",
        "56% [=====================>                 ] 77,315,256  2.87MB/s  eta 21s    "
       ]
      },
      {
       "output_type": "stream",
       "stream": "stdout",
       "text": [
        "\r",
        "57% [=====================>                 ] 77,955,480  2.90MB/s  eta 21s    "
       ]
      },
      {
       "output_type": "stream",
       "stream": "stdout",
       "text": [
        "\r",
        "57% [=====================>                 ] 78,653,160  2.94MB/s  eta 21s    "
       ]
      },
      {
       "output_type": "stream",
       "stream": "stdout",
       "text": [
        "\r",
        "58% [=====================>                 ] 79,334,424  2.97MB/s  eta 20s    "
       ]
      },
      {
       "output_type": "stream",
       "stream": "stdout",
       "text": [
        "\r",
        "58% [======================>                ] 80,023,896  2.99MB/s  eta 20s    "
       ]
      },
      {
       "output_type": "stream",
       "stream": "stdout",
       "text": [
        "\r",
        "59% [======================>                ] 80,714,736  3.02MB/s  eta 20s    "
       ]
      },
      {
       "output_type": "stream",
       "stream": "stdout",
       "text": [
        "\r",
        "60% [======================>                ] 81,430,200  3.08MB/s  eta 20s    "
       ]
      },
      {
       "output_type": "stream",
       "stream": "stdout",
       "text": [
        "\r",
        "60% [======================>                ] 82,147,032  3.11MB/s  eta 20s    "
       ]
      },
      {
       "output_type": "stream",
       "stream": "stdout",
       "text": [
        "\r",
        "61% [======================>                ] 82,863,864  3.15MB/s  eta 19s    "
       ]
      },
      {
       "output_type": "stream",
       "stream": "stdout",
       "text": [
        "\r",
        "61% [=======================>               ] 83,579,328  3.19MB/s  eta 19s    "
       ]
      },
      {
       "output_type": "stream",
       "stream": "stdout",
       "text": [
        "\r",
        "62% [=======================>               ] 84,294,792  3.21MB/s  eta 19s    "
       ]
      },
      {
       "output_type": "stream",
       "stream": "stdout",
       "text": [
        "\r",
        "62% [=======================>               ] 85,011,624  3.26MB/s  eta 19s    "
       ]
      },
      {
       "output_type": "stream",
       "stream": "stdout",
       "text": [
        "\r",
        "63% [=======================>               ] 85,727,088  3.29MB/s  eta 19s    "
       ]
      },
      {
       "output_type": "stream",
       "stream": "stdout",
       "text": [
        "\r",
        "63% [=======================>               ] 86,442,552  3.31MB/s  eta 17s    "
       ]
      },
      {
       "output_type": "stream",
       "stream": "stdout",
       "text": [
        "\r",
        "64% [========================>              ] 87,159,384  3.32MB/s  eta 17s    "
       ]
      },
      {
       "output_type": "stream",
       "stream": "stdout",
       "text": [
        "\r",
        "64% [========================>              ] 87,874,848  3.35MB/s  eta 17s    "
       ]
      },
      {
       "output_type": "stream",
       "stream": "stdout",
       "text": [
        "\r",
        "65% [========================>              ] 88,505,480  3.24MB/s  eta 17s    "
       ]
      },
      {
       "output_type": "stream",
       "stream": "stdout",
       "text": [
        "\r",
        "65% [========================>              ] 89,225,064  3.25MB/s  eta 17s    "
       ]
      },
      {
       "output_type": "stream",
       "stream": "stdout",
       "text": [
        "\r",
        "66% [========================>              ] 89,844,768  3.23MB/s  eta 16s    "
       ]
      },
      {
       "output_type": "stream",
       "stream": "stdout",
       "text": [
        "\r",
        "66% [=========================>             ] 90,560,232  3.24MB/s  eta 16s    "
       ]
      },
      {
       "output_type": "stream",
       "stream": "stdout",
       "text": [
        "\r",
        "67% [=========================>             ] 91,275,696  3.24MB/s  eta 16s    "
       ]
      },
      {
       "output_type": "stream",
       "stream": "stdout",
       "text": [
        "\r",
        "67% [=========================>             ] 91,996,632  3.24MB/s  eta 16s    "
       ]
      },
      {
       "output_type": "stream",
       "stream": "stdout",
       "text": [
        "\r",
        "68% [=========================>             ] 92,712,096  3.25MB/s  eta 16s    "
       ]
      },
      {
       "output_type": "stream",
       "stream": "stdout",
       "text": [
        "\r",
        "68% [=========================>             ] 93,411,144  3.24MB/s  eta 15s    "
       ]
      },
      {
       "output_type": "stream",
       "stream": "stdout",
       "text": [
        "\r",
        "69% [==========================>            ] 94,107,456  3.23MB/s  eta 15s    "
       ]
      },
      {
       "output_type": "stream",
       "stream": "stdout",
       "text": [
        "\r",
        "69% [==========================>            ] 94,814,712  3.23MB/s  eta 15s    "
       ]
      },
      {
       "output_type": "stream",
       "stream": "stdout",
       "text": [
        "\r",
        "70% [==========================>            ] 95,530,176  3.23MB/s  eta 15s    "
       ]
      },
      {
       "output_type": "stream",
       "stream": "stdout",
       "text": [
        "\r",
        "70% [==========================>            ] 96,245,640  3.23MB/s  eta 15s    "
       ]
      },
      {
       "output_type": "stream",
       "stream": "stdout",
       "text": [
        "\r",
        "71% [==========================>            ] 96,961,104  3.23MB/s  eta 13s    "
       ]
      },
      {
       "output_type": "stream",
       "stream": "stdout",
       "text": [
        "\r",
        "71% [===========================>           ] 97,676,568  3.23MB/s  eta 13s    "
       ]
      },
      {
       "output_type": "stream",
       "stream": "stdout",
       "text": [
        "\r",
        "72% [===========================>           ] 98,392,032  3.23MB/s  eta 13s    "
       ]
      },
      {
       "output_type": "stream",
       "stream": "stdout",
       "text": [
        "\r",
        "73% [===========================>           ] 99,108,864  3.23MB/s  eta 13s    "
       ]
      },
      {
       "output_type": "stream",
       "stream": "stdout",
       "text": [
        "\r",
        "73% [===========================>           ] 99,824,328  3.36MB/s  eta 13s    "
       ]
      },
      {
       "output_type": "stream",
       "stream": "stdout",
       "text": [
        "\r",
        "74% [===========================>           ] 100,539,792 3.40MB/s  eta 12s    "
       ]
      },
      {
       "output_type": "stream",
       "stream": "stdout",
       "text": [
        "\r",
        "74% [============================>          ] 101,255,256 3.40MB/s  eta 12s    "
       ]
      },
      {
       "output_type": "stream",
       "stream": "stdout",
       "text": [
        "\r",
        "75% [============================>          ] 101,754,560 3.26MB/s  eta 12s    "
       ]
      },
      {
       "output_type": "stream",
       "stream": "stdout",
       "text": [
        "\r",
        "75% [============================>          ] 102,679,344 3.33MB/s  eta 12s    "
       ]
      },
      {
       "output_type": "stream",
       "stream": "stdout",
       "text": [
        "\r",
        "76% [============================>          ] 103,394,808 3.33MB/s  eta 12s    "
       ]
      },
      {
       "output_type": "stream",
       "stream": "stdout",
       "text": [
        "\r",
        "76% [============================>          ] 104,110,272 3.33MB/s  eta 11s    "
       ]
      },
      {
       "output_type": "stream",
       "stream": "stdout",
       "text": [
        "\r",
        "77% [=============================>         ] 104,825,736 3.34MB/s  eta 11s    "
       ]
      },
      {
       "output_type": "stream",
       "stream": "stdout",
       "text": [
        "\r",
        "77% [=============================>         ] 105,542,568 3.34MB/s  eta 11s    "
       ]
      },
      {
       "output_type": "stream",
       "stream": "stdout",
       "text": [
        "\r",
        "78% [=============================>         ] 106,258,032 3.35MB/s  eta 11s    "
       ]
      },
      {
       "output_type": "stream",
       "stream": "stdout",
       "text": [
        "\r",
        "78% [=============================>         ] 106,973,496 3.34MB/s  eta 11s    "
       ]
      },
      {
       "output_type": "stream",
       "stream": "stdout",
       "text": [
        "\r",
        "79% [=============================>         ] 107,671,176 3.34MB/s  eta 9s     "
       ]
      },
      {
       "output_type": "stream",
       "stream": "stdout",
       "text": [
        "\r",
        "79% [==============================>        ] 108,364,752 3.33MB/s  eta 9s     "
       ]
      },
      {
       "output_type": "stream",
       "stream": "stdout",
       "text": [
        "\r",
        "80% [==============================>        ] 109,077,480 3.33MB/s  eta 9s     "
       ]
      },
      {
       "output_type": "stream",
       "stream": "stdout",
       "text": [
        "\r",
        "80% [==============================>        ] 109,792,944 3.33MB/s  eta 9s     "
       ]
      },
      {
       "output_type": "stream",
       "stream": "stdout",
       "text": [
        "\r",
        "81% [==============================>        ] 110,508,408 3.33MB/s  eta 9s     "
       ]
      },
      {
       "output_type": "stream",
       "stream": "stdout",
       "text": [
        "\r",
        "81% [==============================>        ] 111,225,240 3.33MB/s  eta 8s     "
       ]
      },
      {
       "output_type": "stream",
       "stream": "stdout",
       "text": [
        "\r",
        "82% [===============================>       ] 111,942,072 3.33MB/s  eta 8s     "
       ]
      },
      {
       "output_type": "stream",
       "stream": "stdout",
       "text": [
        "\r",
        "83% [===============================>       ] 112,658,904 3.33MB/s  eta 8s     "
       ]
      },
      {
       "output_type": "stream",
       "stream": "stdout",
       "text": [
        "\r",
        "83% [===============================>       ] 113,375,736 3.40MB/s  eta 8s     "
       ]
      },
      {
       "output_type": "stream",
       "stream": "stdout",
       "text": [
        "\r",
        "84% [===============================>       ] 114,091,200 3.40MB/s  eta 8s     "
       ]
      },
      {
       "output_type": "stream",
       "stream": "stdout",
       "text": [
        "\r",
        "84% [================================>      ] 114,806,664 3.40MB/s  eta 7s     "
       ]
      },
      {
       "output_type": "stream",
       "stream": "stdout",
       "text": [
        "\r",
        "85% [================================>      ] 115,522,128 3.40MB/s  eta 7s     "
       ]
      },
      {
       "output_type": "stream",
       "stream": "stdout",
       "text": [
        "\r",
        "85% [================================>      ] 116,237,592 3.40MB/s  eta 7s     "
       ]
      },
      {
       "output_type": "stream",
       "stream": "stdout",
       "text": [
        "\r",
        "86% [================================>      ] 116,953,056 3.40MB/s  eta 7s     "
       ]
      },
      {
       "output_type": "stream",
       "stream": "stdout",
       "text": [
        "\r",
        "86% [================================>      ] 117,668,520 3.40MB/s  eta 7s     "
       ]
      },
      {
       "output_type": "stream",
       "stream": "stdout",
       "text": [
        "\r",
        "87% [=================================>     ] 118,385,352 3.40MB/s  eta 6s     "
       ]
      },
      {
       "output_type": "stream",
       "stream": "stdout",
       "text": [
        "\r",
        "87% [=================================>     ] 119,103,552 3.41MB/s  eta 6s     "
       ]
      },
      {
       "output_type": "stream",
       "stream": "stdout",
       "text": [
        "\r",
        "88% [=================================>     ] 119,820,384 3.41MB/s  eta 6s     "
       ]
      },
      {
       "output_type": "stream",
       "stream": "stdout",
       "text": [
        "\r",
        "88% [=================================>     ] 120,535,848 3.41MB/s  eta 6s     "
       ]
      },
      {
       "output_type": "stream",
       "stream": "stdout",
       "text": [
        "\r",
        "89% [=================================>     ] 121,251,312 3.41MB/s  eta 6s     "
       ]
      },
      {
       "output_type": "stream",
       "stream": "stdout",
       "text": [
        "\r",
        "89% [==================================>    ] 121,957,200 3.41MB/s  eta 5s     "
       ]
      },
      {
       "output_type": "stream",
       "stream": "stdout",
       "text": [
        "\r",
        "90% [==================================>    ] 122,653,512 3.40MB/s  eta 5s     "
       ]
      },
      {
       "output_type": "stream",
       "stream": "stdout",
       "text": [
        "\r",
        "90% [==================================>    ] 123,355,296 3.40MB/s  eta 5s     "
       ]
      },
      {
       "output_type": "stream",
       "stream": "stdout",
       "text": [
        "\r",
        "91% [==================================>    ] 124,069,392 3.40MB/s  eta 5s     "
       ]
      },
      {
       "output_type": "stream",
       "stream": "stdout",
       "text": [
        "\r",
        "91% [==================================>    ] 124,786,224 3.40MB/s  eta 5s     "
       ]
      },
      {
       "output_type": "stream",
       "stream": "stdout",
       "text": [
        "\r",
        "92% [===================================>   ] 125,501,688 3.40MB/s  eta 3s     "
       ]
      },
      {
       "output_type": "stream",
       "stream": "stdout",
       "text": [
        "\r",
        "93% [===================================>   ] 126,217,152 3.40MB/s  eta 3s     "
       ]
      },
      {
       "output_type": "stream",
       "stream": "stdout",
       "text": [
        "\r",
        "93% [===================================>   ] 126,933,984 3.40MB/s  eta 3s     "
       ]
      },
      {
       "output_type": "stream",
       "stream": "stdout",
       "text": [
        "\r",
        "94% [===================================>   ] 127,649,448 3.40MB/s  eta 3s     "
       ]
      },
      {
       "output_type": "stream",
       "stream": "stdout",
       "text": [
        "\r",
        "94% [===================================>   ] 128,366,280 3.40MB/s  eta 3s     "
       ]
      },
      {
       "output_type": "stream",
       "stream": "stdout",
       "text": [
        "\r",
        "95% [====================================>  ] 129,081,744 3.40MB/s  eta 2s     "
       ]
      },
      {
       "output_type": "stream",
       "stream": "stdout",
       "text": [
        "\r",
        "95% [====================================>  ] 129,797,208 3.40MB/s  eta 2s     "
       ]
      },
      {
       "output_type": "stream",
       "stream": "stdout",
       "text": [
        "\r",
        "96% [====================================>  ] 130,514,040 3.40MB/s  eta 2s     "
       ]
      },
      {
       "output_type": "stream",
       "stream": "stdout",
       "text": [
        "\r",
        "96% [====================================>  ] 131,229,504 3.40MB/s  eta 2s     "
       ]
      },
      {
       "output_type": "stream",
       "stream": "stdout",
       "text": [
        "\r",
        "97% [====================================>  ] 131,946,336 3.40MB/s  eta 2s     "
       ]
      },
      {
       "output_type": "stream",
       "stream": "stdout",
       "text": [
        "\r",
        "97% [=====================================> ] 132,663,168 3.40MB/s  eta 1s     "
       ]
      },
      {
       "output_type": "stream",
       "stream": "stdout",
       "text": [
        "\r",
        "98% [=====================================> ] 133,380,000 3.40MB/s  eta 1s     "
       ]
      },
      {
       "output_type": "stream",
       "stream": "stdout",
       "text": [
        "\r",
        "98% [=====================================> ] 134,095,464 3.41MB/s  eta 1s     "
       ]
      },
      {
       "output_type": "stream",
       "stream": "stdout",
       "text": [
        "\r",
        "99% [=====================================> ] 134,812,296 3.41MB/s  eta 1s     "
       ]
      },
      {
       "output_type": "stream",
       "stream": "stdout",
       "text": [
        "\r",
        "99% [=====================================> ] 135,529,128 3.41MB/s  eta 1s     "
       ]
      },
      {
       "output_type": "stream",
       "stream": "stdout",
       "text": [
        "\r",
        "100%[======================================>] 135,667,617 3.41MB/s   in 44s    \r\n",
        "\r\n"
       ]
      },
      {
       "output_type": "stream",
       "stream": "stdout",
       "text": [
        "2013-05-06 15:18:45 (2.92 MB/s) - \u2018gg_12_10_otus.tar.gz\u2019 saved [135667617]\r\n",
        "\r\n"
       ]
      }
     ],
     "prompt_number": 1
    },
    {
     "cell_type": "code",
     "collapsed": false,
     "input": [
      "from os import chdir, mkdir\n",
      "from os.path import join\n",
      "# these are only available in the current development branch of IPython\n",
      "from IPython.display import FileLinks, FileLink\n",
      "\n",
      "otu_base = \"gg_12_10_otus/\"\n",
      "reference_seqs = join(otu_base,\"rep_set/97_otus.fasta\")\n",
      "reference_tree = join(otu_base,\"trees/97_otus.tree\")\n",
      "reference_tax = join(otu_base,\"taxonomy/97_otu_taxonomy.txt\")"
     ],
     "language": "python",
     "metadata": {},
     "outputs": [],
     "prompt_number": 3
    },
    {
     "cell_type": "markdown",
     "metadata": {},
     "source": [
      "Start by seeing what files are in our tutorial direcotry. We can do this using `ls` as we would on the command line, but in this case we prefix with an `!` to tell IPython that we're issuing a `bash` (i.e., command line) command, rather than a python command."
     ]
    },
    {
     "cell_type": "code",
     "collapsed": false,
     "input": [
      "!ls moving_pictures_tutorial-1.7.0"
     ],
     "language": "python",
     "metadata": {},
     "outputs": [
      {
       "output_type": "stream",
       "stream": "stdout",
       "text": [
        "\u001b[34m454\u001b[m\u001b[m                 README.txt          \u001b[34millumina\u001b[m\u001b[m            \u001b[34mprocrustes_analysis\u001b[m\u001b[m uc_fast_params.txt\r\n"
       ]
      }
     ],
     "prompt_number": 4
    },
    {
     "cell_type": "markdown",
     "metadata": {},
     "source": [
      "QIIME additionally supports more convenient output formattting for the IPython notebook so you can directly interact with or download your data."
     ]
    },
    {
     "cell_type": "code",
     "collapsed": false,
     "input": [
      "FileLinks('moving_pictures_tutorial-1.7.0')"
     ],
     "language": "python",
     "metadata": {},
     "outputs": [
      {
       "html": [
        "moving_pictures_tutorial-1.7.0/<br>\n",
        "&nbsp;&nbsp;<a href='files/moving_pictures_tutorial-1.7.0/README.txt' target='_blank'>README.txt</a><br>\n",
        "&nbsp;&nbsp;<a href='files/moving_pictures_tutorial-1.7.0/uc_fast_params.txt' target='_blank'>uc_fast_params.txt</a><br>\n",
        "moving_pictures_tutorial-1.7.0/454/raw/<br>\n",
        "&nbsp;&nbsp;<a href='files/moving_pictures_tutorial-1.7.0/454/raw/454_map.txt' target='_blank'>454_map.txt</a><br>\n",
        "&nbsp;&nbsp;<a href='files/moving_pictures_tutorial-1.7.0/454/raw/subsampled_454_seqs.fna' target='_blank'>subsampled_454_seqs.fna</a><br>\n",
        "moving_pictures_tutorial-1.7.0/illumina/raw/<br>\n",
        "&nbsp;&nbsp;<a href='files/moving_pictures_tutorial-1.7.0/illumina/raw/filtered_mapping_l1.bad.txt' target='_blank'>filtered_mapping_l1.bad.txt</a><br>\n",
        "&nbsp;&nbsp;<a href='files/moving_pictures_tutorial-1.7.0/illumina/raw/filtered_mapping_l1.txt' target='_blank'>filtered_mapping_l1.txt</a><br>\n",
        "&nbsp;&nbsp;<a href='files/moving_pictures_tutorial-1.7.0/illumina/raw/filtered_mapping_l2.txt' target='_blank'>filtered_mapping_l2.txt</a><br>\n",
        "&nbsp;&nbsp;<a href='files/moving_pictures_tutorial-1.7.0/illumina/raw/filtered_mapping_l3.txt' target='_blank'>filtered_mapping_l3.txt</a><br>\n",
        "&nbsp;&nbsp;<a href='files/moving_pictures_tutorial-1.7.0/illumina/raw/filtered_mapping_l4.txt' target='_blank'>filtered_mapping_l4.txt</a><br>\n",
        "&nbsp;&nbsp;<a href='files/moving_pictures_tutorial-1.7.0/illumina/raw/filtered_mapping_l5.txt' target='_blank'>filtered_mapping_l5.txt</a><br>\n",
        "&nbsp;&nbsp;<a href='files/moving_pictures_tutorial-1.7.0/illumina/raw/filtered_mapping_l6.txt' target='_blank'>filtered_mapping_l6.txt</a><br>\n",
        "&nbsp;&nbsp;<a href='files/moving_pictures_tutorial-1.7.0/illumina/raw/subsampled_s_1_sequence.fastq' target='_blank'>subsampled_s_1_sequence.fastq</a><br>\n",
        "&nbsp;&nbsp;<a href='files/moving_pictures_tutorial-1.7.0/illumina/raw/subsampled_s_1_sequence_barcodes.fastq' target='_blank'>subsampled_s_1_sequence_barcodes.fastq</a><br>\n",
        "&nbsp;&nbsp;<a href='files/moving_pictures_tutorial-1.7.0/illumina/raw/subsampled_s_2_sequence.fastq' target='_blank'>subsampled_s_2_sequence.fastq</a><br>\n",
        "&nbsp;&nbsp;<a href='files/moving_pictures_tutorial-1.7.0/illumina/raw/subsampled_s_2_sequence_barcodes.fastq' target='_blank'>subsampled_s_2_sequence_barcodes.fastq</a><br>\n",
        "&nbsp;&nbsp;<a href='files/moving_pictures_tutorial-1.7.0/illumina/raw/subsampled_s_3_sequence.fastq' target='_blank'>subsampled_s_3_sequence.fastq</a><br>\n",
        "&nbsp;&nbsp;<a href='files/moving_pictures_tutorial-1.7.0/illumina/raw/subsampled_s_3_sequence_barcodes.fastq' target='_blank'>subsampled_s_3_sequence_barcodes.fastq</a><br>\n",
        "&nbsp;&nbsp;<a href='files/moving_pictures_tutorial-1.7.0/illumina/raw/subsampled_s_4_sequence.fastq' target='_blank'>subsampled_s_4_sequence.fastq</a><br>\n",
        "&nbsp;&nbsp;<a href='files/moving_pictures_tutorial-1.7.0/illumina/raw/subsampled_s_4_sequence_barcodes.fastq' target='_blank'>subsampled_s_4_sequence_barcodes.fastq</a><br>\n",
        "&nbsp;&nbsp;<a href='files/moving_pictures_tutorial-1.7.0/illumina/raw/subsampled_s_5_sequence.fastq' target='_blank'>subsampled_s_5_sequence.fastq</a><br>\n",
        "&nbsp;&nbsp;<a href='files/moving_pictures_tutorial-1.7.0/illumina/raw/subsampled_s_5_sequence_barcodes.fastq' target='_blank'>subsampled_s_5_sequence_barcodes.fastq</a><br>\n",
        "&nbsp;&nbsp;<a href='files/moving_pictures_tutorial-1.7.0/illumina/raw/subsampled_s_6_sequence.fastq' target='_blank'>subsampled_s_6_sequence.fastq</a><br>\n",
        "&nbsp;&nbsp;<a href='files/moving_pictures_tutorial-1.7.0/illumina/raw/subsampled_s_6_sequence_barcodes.fastq' target='_blank'>subsampled_s_6_sequence_barcodes.fastq</a><br>\n",
        "moving_pictures_tutorial-1.7.0/procrustes_analysis/<br>\n",
        "&nbsp;&nbsp;<a href='files/moving_pictures_tutorial-1.7.0/procrustes_analysis/procrustes_metadata_map.txt' target='_blank'>procrustes_metadata_map.txt</a><br>\n",
        "&nbsp;&nbsp;<a href='files/moving_pictures_tutorial-1.7.0/procrustes_analysis/procrustes_sid_map.txt' target='_blank'>procrustes_sid_map.txt</a><br>"
       ],
       "output_type": "pyout",
       "prompt_number": 5,
       "text": [
        "moving_pictures_tutorial-1.7.0/\n",
        "  README.txt\n",
        "  uc_fast_params.txt\n",
        "moving_pictures_tutorial-1.7.0/454/raw/\n",
        "  454_map.txt\n",
        "  subsampled_454_seqs.fna\n",
        "moving_pictures_tutorial-1.7.0/illumina/raw/\n",
        "  filtered_mapping_l1.bad.txt\n",
        "  filtered_mapping_l1.txt\n",
        "  filtered_mapping_l2.txt\n",
        "  filtered_mapping_l3.txt\n",
        "  filtered_mapping_l4.txt\n",
        "  filtered_mapping_l5.txt\n",
        "  filtered_mapping_l6.txt\n",
        "  subsampled_s_1_sequence.fastq\n",
        "  subsampled_s_1_sequence_barcodes.fastq\n",
        "  subsampled_s_2_sequence.fastq\n",
        "  subsampled_s_2_sequence_barcodes.fastq\n",
        "  subsampled_s_3_sequence.fastq\n",
        "  subsampled_s_3_sequence_barcodes.fastq\n",
        "  subsampled_s_4_sequence.fastq\n",
        "  subsampled_s_4_sequence_barcodes.fastq\n",
        "  subsampled_s_5_sequence.fastq\n",
        "  subsampled_s_5_sequence_barcodes.fastq\n",
        "  subsampled_s_6_sequence.fastq\n",
        "  subsampled_s_6_sequence_barcodes.fastq\n",
        "moving_pictures_tutorial-1.7.0/procrustes_analysis/\n",
        "  procrustes_metadata_map.txt\n",
        "  procrustes_sid_map.txt"
       ]
      }
     ],
     "prompt_number": 5
    },
    {
     "cell_type": "heading",
     "level": 2,
     "metadata": {},
     "source": [
      "First, let's check our mapping file for errors"
     ]
    },
    {
     "cell_type": "code",
     "collapsed": false,
     "input": [
      "!check_id_map.py -o moving_pictures_tutorial-1.7.0/illumina/cid_l1/ -m moving_pictures_tutorial-1.7.0/illumina/raw/filtered_mapping_l1.txt"
     ],
     "language": "python",
     "metadata": {},
     "outputs": [
      {
       "output_type": "stream",
       "stream": "stdout",
       "text": [
        "No errors or warnings were found in mapping file.\r\n"
       ]
      }
     ],
     "prompt_number": 6
    },
    {
     "cell_type": "markdown",
     "metadata": {},
     "source": [
      "In this case there were no errors, but if there were we would review the resulting html summary to find out what errors are present. You could then fix those in a spreadsheet program or text editor. To view that html file, call ``FileLinks`` on the output directory from the previous step and click the link to the ``html`` file.\n",
      "\n",
      "For the sake of illustrating what errors in a mapping file might look like, we've created a bad mapping file (``filtered_mapping_l1.bad.txt``) and provided that as an example. Call ``check_id_map.py`` on the file ``filtered_mapping_l1.bad.txt``, and then view the html output. What are the issues with that mapping file? "
     ]
    },
    {
     "cell_type": "heading",
     "level": 2,
     "metadata": {},
     "source": [
      "Demultiplexing and quality filtering seqeunces"
     ]
    },
    {
     "cell_type": "code",
     "collapsed": false,
     "input": [
      "!split_libraries_fastq.py -o moving_pictures_tutorial-1.7.0/illumina/slout/ -i moving_pictures_tutorial-1.7.0/illumina/raw/subsampled_s_1_sequence.fastq,moving_pictures_tutorial-1.7.0/illumina/raw/subsampled_s_2_sequence.fastq,moving_pictures_tutorial-1.7.0/illumina/raw/subsampled_s_3_sequence.fastq,moving_pictures_tutorial-1.7.0/illumina/raw/subsampled_s_4_sequence.fastq,moving_pictures_tutorial-1.7.0/illumina/raw/subsampled_s_5_sequence.fastq,moving_pictures_tutorial-1.7.0/illumina/raw/subsampled_s_6_sequence.fastq -b moving_pictures_tutorial-1.7.0/illumina/raw/subsampled_s_1_sequence_barcodes.fastq,moving_pictures_tutorial-1.7.0/illumina/raw/subsampled_s_2_sequence_barcodes.fastq,moving_pictures_tutorial-1.7.0/illumina/raw/subsampled_s_3_sequence_barcodes.fastq,moving_pictures_tutorial-1.7.0/illumina/raw/subsampled_s_4_sequence_barcodes.fastq,moving_pictures_tutorial-1.7.0/illumina/raw/subsampled_s_5_sequence_barcodes.fastq,moving_pictures_tutorial-1.7.0/illumina/raw/subsampled_s_6_sequence_barcodes.fastq -m moving_pictures_tutorial-1.7.0/illumina/raw/filtered_mapping_l1.txt,moving_pictures_tutorial-1.7.0/illumina/raw/filtered_mapping_l2.txt,moving_pictures_tutorial-1.7.0/illumina/raw/filtered_mapping_l3.txt,moving_pictures_tutorial-1.7.0/illumina/raw/filtered_mapping_l4.txt,moving_pictures_tutorial-1.7.0/illumina/raw/filtered_mapping_l5.txt,moving_pictures_tutorial-1.7.0/illumina/raw/filtered_mapping_l6.txt"
     ],
     "language": "python",
     "metadata": {},
     "outputs": [],
     "prompt_number": 8
    },
    {
     "cell_type": "markdown",
     "metadata": {},
     "source": [
      "We often want to see the results of running a command. Here we can do that by calling our output formatter again, this time passing the output directory from the previous step."
     ]
    },
    {
     "cell_type": "code",
     "collapsed": false,
     "input": [
      "FileLinks('moving_pictures_tutorial-1.7.0/illumina/slout/')"
     ],
     "language": "python",
     "metadata": {},
     "outputs": [
      {
       "html": [
        "moving_pictures_tutorial-1.7.0/illumina/slout/<br>\n",
        "&nbsp;&nbsp;<a href='files/moving_pictures_tutorial-1.7.0/illumina/slout/histograms.txt' target='_blank'>histograms.txt</a><br>\n",
        "&nbsp;&nbsp;<a href='files/moving_pictures_tutorial-1.7.0/illumina/slout/seqs.fna' target='_blank'>seqs.fna</a><br>\n",
        "&nbsp;&nbsp;<a href='files/moving_pictures_tutorial-1.7.0/illumina/slout/split_library_log.txt' target='_blank'>split_library_log.txt</a><br>"
       ],
       "output_type": "pyout",
       "prompt_number": 9,
       "text": [
        "moving_pictures_tutorial-1.7.0/illumina/slout/\n",
        "  histograms.txt\n",
        "  seqs.fna\n",
        "  split_library_log.txt"
       ]
      }
     ],
     "prompt_number": 9
    },
    {
     "cell_type": "code",
     "collapsed": false,
     "input": [
      "!count_seqs.py -i moving_pictures_tutorial-1.7.0/illumina/slout/seqs.fna"
     ],
     "language": "python",
     "metadata": {},
     "outputs": [
      {
       "output_type": "stream",
       "stream": "stdout",
       "text": [
        "\r\n",
        "66189  : moving_pictures_tutorial-1.7.0/illumina/slout/seqs.fna (Sequence lengths (mean +/- std): 132.1182 +/- 9.6185)\r\n",
        "66189  : Total\r\n"
       ]
      }
     ],
     "prompt_number": 10
    },
    {
     "cell_type": "heading",
     "level": 2,
     "metadata": {},
     "source": [
      "OTU picking: using an open-reference OTU picking protocol by searching reads agsint the Greengenes database."
     ]
    },
    {
     "cell_type": "code",
     "collapsed": false,
     "input": [
      "!pick_open_reference_otus.py -o moving_pictures_tutorial-1.7.0/illumina/otus/ -i moving_pictures_tutorial-1.7.0/illumina/slout/seqs.fna -r $reference_seqs -p moving_pictures_tutorial-1.7.0/uc_fast_params.txt"
     ],
     "language": "python",
     "metadata": {},
     "outputs": [],
     "prompt_number": 11
    },
    {
     "cell_type": "code",
     "collapsed": false,
     "input": [
      "FileLinks('moving_pictures_tutorial-1.7.0/illumina/otus/')"
     ],
     "language": "python",
     "metadata": {},
     "outputs": [
      {
       "html": [
        "moving_pictures_tutorial-1.7.0/illumina/otus/<br>\n",
        "&nbsp;&nbsp;<a href='files/moving_pictures_tutorial-1.7.0/illumina/otus/final_otu_map.txt' target='_blank'>final_otu_map.txt</a><br>\n",
        "&nbsp;&nbsp;<a href='files/moving_pictures_tutorial-1.7.0/illumina/otus/final_otu_map_mc2.txt' target='_blank'>final_otu_map_mc2.txt</a><br>\n",
        "&nbsp;&nbsp;<a href='files/moving_pictures_tutorial-1.7.0/illumina/otus/log_20130506153003.txt' target='_blank'>log_20130506153003.txt</a><br>\n",
        "&nbsp;&nbsp;<a href='files/moving_pictures_tutorial-1.7.0/illumina/otus/new_refseqs.fna' target='_blank'>new_refseqs.fna</a><br>\n",
        "&nbsp;&nbsp;<a href='files/moving_pictures_tutorial-1.7.0/illumina/otus/otu_table_mc2.biom' target='_blank'>otu_table_mc2.biom</a><br>\n",
        "&nbsp;&nbsp;<a href='files/moving_pictures_tutorial-1.7.0/illumina/otus/otu_table_mc2_w_tax.biom' target='_blank'>otu_table_mc2_w_tax.biom</a><br>\n",
        "&nbsp;&nbsp;<a href='files/moving_pictures_tutorial-1.7.0/illumina/otus/otu_table_mc2_w_tax_no_pynast_failures.biom' target='_blank'>otu_table_mc2_w_tax_no_pynast_failures.biom</a><br>\n",
        "&nbsp;&nbsp;<a href='files/moving_pictures_tutorial-1.7.0/illumina/otus/rep_set.fna' target='_blank'>rep_set.fna</a><br>\n",
        "&nbsp;&nbsp;<a href='files/moving_pictures_tutorial-1.7.0/illumina/otus/rep_set.tre' target='_blank'>rep_set.tre</a><br>\n",
        "moving_pictures_tutorial-1.7.0/illumina/otus/prefilter_otus/<br>\n",
        "&nbsp;&nbsp;<a href='files/moving_pictures_tutorial-1.7.0/illumina/otus/prefilter_otus/prefiltered_seqs.fna' target='_blank'>prefiltered_seqs.fna</a><br>\n",
        "&nbsp;&nbsp;<a href='files/moving_pictures_tutorial-1.7.0/illumina/otus/prefilter_otus/seqs_clusters.uc' target='_blank'>seqs_clusters.uc</a><br>\n",
        "&nbsp;&nbsp;<a href='files/moving_pictures_tutorial-1.7.0/illumina/otus/prefilter_otus/seqs_failures.txt' target='_blank'>seqs_failures.txt</a><br>\n",
        "&nbsp;&nbsp;<a href='files/moving_pictures_tutorial-1.7.0/illumina/otus/prefilter_otus/seqs_otus.log' target='_blank'>seqs_otus.log</a><br>\n",
        "&nbsp;&nbsp;<a href='files/moving_pictures_tutorial-1.7.0/illumina/otus/prefilter_otus/seqs_otus.txt' target='_blank'>seqs_otus.txt</a><br>\n",
        "moving_pictures_tutorial-1.7.0/illumina/otus/pynast_aligned_seqs/<br>\n",
        "&nbsp;&nbsp;<a href='files/moving_pictures_tutorial-1.7.0/illumina/otus/pynast_aligned_seqs/rep_set_aligned.fasta' target='_blank'>rep_set_aligned.fasta</a><br>\n",
        "&nbsp;&nbsp;<a href='files/moving_pictures_tutorial-1.7.0/illumina/otus/pynast_aligned_seqs/rep_set_aligned_pfiltered.fasta' target='_blank'>rep_set_aligned_pfiltered.fasta</a><br>\n",
        "&nbsp;&nbsp;<a href='files/moving_pictures_tutorial-1.7.0/illumina/otus/pynast_aligned_seqs/rep_set_failures.fasta' target='_blank'>rep_set_failures.fasta</a><br>\n",
        "&nbsp;&nbsp;<a href='files/moving_pictures_tutorial-1.7.0/illumina/otus/pynast_aligned_seqs/rep_set_log.txt' target='_blank'>rep_set_log.txt</a><br>\n",
        "moving_pictures_tutorial-1.7.0/illumina/otus/rdp_assigned_taxonomy/<br>\n",
        "&nbsp;&nbsp;<a href='files/moving_pictures_tutorial-1.7.0/illumina/otus/rdp_assigned_taxonomy/rep_set_tax_assignments.log' target='_blank'>rep_set_tax_assignments.log</a><br>\n",
        "&nbsp;&nbsp;<a href='files/moving_pictures_tutorial-1.7.0/illumina/otus/rdp_assigned_taxonomy/rep_set_tax_assignments.txt' target='_blank'>rep_set_tax_assignments.txt</a><br>\n",
        "moving_pictures_tutorial-1.7.0/illumina/otus/step1_otus/<br>\n",
        "&nbsp;&nbsp;<a href='files/moving_pictures_tutorial-1.7.0/illumina/otus/step1_otus/failures.fasta' target='_blank'>failures.fasta</a><br>\n",
        "&nbsp;&nbsp;<a href='files/moving_pictures_tutorial-1.7.0/illumina/otus/step1_otus/prefiltered_seqs_clusters.uc' target='_blank'>prefiltered_seqs_clusters.uc</a><br>\n",
        "&nbsp;&nbsp;<a href='files/moving_pictures_tutorial-1.7.0/illumina/otus/step1_otus/prefiltered_seqs_failures.txt' target='_blank'>prefiltered_seqs_failures.txt</a><br>\n",
        "&nbsp;&nbsp;<a href='files/moving_pictures_tutorial-1.7.0/illumina/otus/step1_otus/prefiltered_seqs_otus.log' target='_blank'>prefiltered_seqs_otus.log</a><br>\n",
        "&nbsp;&nbsp;<a href='files/moving_pictures_tutorial-1.7.0/illumina/otus/step1_otus/prefiltered_seqs_otus.txt' target='_blank'>prefiltered_seqs_otus.txt</a><br>\n",
        "&nbsp;&nbsp;<a href='files/moving_pictures_tutorial-1.7.0/illumina/otus/step1_otus/step1_rep_set.fna' target='_blank'>step1_rep_set.fna</a><br>\n",
        "&nbsp;&nbsp;<a href='files/moving_pictures_tutorial-1.7.0/illumina/otus/step1_otus/subsampled_failures.fasta' target='_blank'>subsampled_failures.fasta</a><br>\n",
        "moving_pictures_tutorial-1.7.0/illumina/otus/step2_otus/<br>\n",
        "&nbsp;&nbsp;<a href='files/moving_pictures_tutorial-1.7.0/illumina/otus/step2_otus/step2_rep_set.fna' target='_blank'>step2_rep_set.fna</a><br>\n",
        "&nbsp;&nbsp;<a href='files/moving_pictures_tutorial-1.7.0/illumina/otus/step2_otus/subsampled_failures_clusters.uc' target='_blank'>subsampled_failures_clusters.uc</a><br>\n",
        "&nbsp;&nbsp;<a href='files/moving_pictures_tutorial-1.7.0/illumina/otus/step2_otus/subsampled_failures_otus.log' target='_blank'>subsampled_failures_otus.log</a><br>\n",
        "&nbsp;&nbsp;<a href='files/moving_pictures_tutorial-1.7.0/illumina/otus/step2_otus/subsampled_failures_otus.txt' target='_blank'>subsampled_failures_otus.txt</a><br>\n",
        "moving_pictures_tutorial-1.7.0/illumina/otus/step3_otus/<br>\n",
        "&nbsp;&nbsp;<a href='files/moving_pictures_tutorial-1.7.0/illumina/otus/step3_otus/failures_clusters.uc' target='_blank'>failures_clusters.uc</a><br>\n",
        "&nbsp;&nbsp;<a href='files/moving_pictures_tutorial-1.7.0/illumina/otus/step3_otus/failures_failures.fasta' target='_blank'>failures_failures.fasta</a><br>\n",
        "&nbsp;&nbsp;<a href='files/moving_pictures_tutorial-1.7.0/illumina/otus/step3_otus/failures_failures.txt' target='_blank'>failures_failures.txt</a><br>\n",
        "&nbsp;&nbsp;<a href='files/moving_pictures_tutorial-1.7.0/illumina/otus/step3_otus/failures_otus.log' target='_blank'>failures_otus.log</a><br>\n",
        "&nbsp;&nbsp;<a href='files/moving_pictures_tutorial-1.7.0/illumina/otus/step3_otus/failures_otus.txt' target='_blank'>failures_otus.txt</a><br>\n",
        "moving_pictures_tutorial-1.7.0/illumina/otus/step4_otus/<br>\n",
        "&nbsp;&nbsp;<a href='files/moving_pictures_tutorial-1.7.0/illumina/otus/step4_otus/failures_failures_clusters.uc' target='_blank'>failures_failures_clusters.uc</a><br>\n",
        "&nbsp;&nbsp;<a href='files/moving_pictures_tutorial-1.7.0/illumina/otus/step4_otus/failures_failures_otus.log' target='_blank'>failures_failures_otus.log</a><br>\n",
        "&nbsp;&nbsp;<a href='files/moving_pictures_tutorial-1.7.0/illumina/otus/step4_otus/failures_failures_otus.txt' target='_blank'>failures_failures_otus.txt</a><br>\n",
        "&nbsp;&nbsp;<a href='files/moving_pictures_tutorial-1.7.0/illumina/otus/step4_otus/step4_rep_set.fna' target='_blank'>step4_rep_set.fna</a><br>"
       ],
       "output_type": "pyout",
       "prompt_number": 12,
       "text": [
        "moving_pictures_tutorial-1.7.0/illumina/otus/\n",
        "  final_otu_map.txt\n",
        "  final_otu_map_mc2.txt\n",
        "  log_20130506153003.txt\n",
        "  new_refseqs.fna\n",
        "  otu_table_mc2.biom\n",
        "  otu_table_mc2_w_tax.biom\n",
        "  otu_table_mc2_w_tax_no_pynast_failures.biom\n",
        "  rep_set.fna\n",
        "  rep_set.tre\n",
        "moving_pictures_tutorial-1.7.0/illumina/otus/prefilter_otus/\n",
        "  prefiltered_seqs.fna\n",
        "  seqs_clusters.uc\n",
        "  seqs_failures.txt\n",
        "  seqs_otus.log\n",
        "  seqs_otus.txt\n",
        "moving_pictures_tutorial-1.7.0/illumina/otus/pynast_aligned_seqs/\n",
        "  rep_set_aligned.fasta\n",
        "  rep_set_aligned_pfiltered.fasta\n",
        "  rep_set_failures.fasta\n",
        "  rep_set_log.txt\n",
        "moving_pictures_tutorial-1.7.0/illumina/otus/rdp_assigned_taxonomy/\n",
        "  rep_set_tax_assignments.log\n",
        "  rep_set_tax_assignments.txt\n",
        "moving_pictures_tutorial-1.7.0/illumina/otus/step1_otus/\n",
        "  failures.fasta\n",
        "  prefiltered_seqs_clusters.uc\n",
        "  prefiltered_seqs_failures.txt\n",
        "  prefiltered_seqs_otus.log\n",
        "  prefiltered_seqs_otus.txt\n",
        "  step1_rep_set.fna\n",
        "  subsampled_failures.fasta\n",
        "moving_pictures_tutorial-1.7.0/illumina/otus/step2_otus/\n",
        "  step2_rep_set.fna\n",
        "  subsampled_failures_clusters.uc\n",
        "  subsampled_failures_otus.log\n",
        "  subsampled_failures_otus.txt\n",
        "moving_pictures_tutorial-1.7.0/illumina/otus/step3_otus/\n",
        "  failures_clusters.uc\n",
        "  failures_failures.fasta\n",
        "  failures_failures.txt\n",
        "  failures_otus.log\n",
        "  failures_otus.txt\n",
        "moving_pictures_tutorial-1.7.0/illumina/otus/step4_otus/\n",
        "  failures_failures_clusters.uc\n",
        "  failures_failures_otus.log\n",
        "  failures_failures_otus.txt\n",
        "  step4_rep_set.fna"
       ]
      }
     ],
     "prompt_number": 12
    },
    {
     "cell_type": "code",
     "collapsed": false,
     "input": [
      "!print_biom_table_summary.py -i moving_pictures_tutorial-1.7.0/illumina/otus/otu_table_mc2_w_tax_no_pynast_failures.biom"
     ],
     "language": "python",
     "metadata": {},
     "outputs": [
      {
       "output_type": "stream",
       "stream": "stdout",
       "text": [
        "Num samples: 61\r\n",
        "Num observations: 1849\r\n",
        "Total count: 63397.0\r\n",
        "Table density (fraction of non-zero values): 0.0858\r\n",
        "Table md5 (unzipped): 710561ca739a293b3e24328d4a0d85ff\r\n",
        "\r\n",
        "Counts/sample summary:\r\n",
        " Min: 122.0\r\n",
        " Max: 2561.0\r\n",
        " Median: 891.0\r\n",
        " Mean: 1039.29508197\r\n",
        " Std. dev.: 758.902277652\r\n",
        " Sample Metadata Categories: None provided\r\n",
        " Observation Metadata Categories: taxonomy\r\n",
        "\r\n",
        "Counts/sample detail:\r\n",
        " L3S237: 122.0\r\n",
        " L3S235: 173.0\r\n",
        " L3S372: 186.0\r\n",
        " L3S373: 227.0\r\n",
        " L3S368: 238.0\r\n",
        " L3S370: 242.0\r\n",
        " L3S367: 243.0\r\n",
        " L3S236: 257.0\r\n",
        " L3S369: 260.0\r\n",
        " L3S238: 271.0\r\n",
        " L3S9: 271.0\r\n",
        " L3S8: 275.0\r\n",
        " L3S6: 279.0\r\n",
        " L3S371: 283.0\r\n",
        " L3S7: 301.0\r\n",
        " L5S234: 365.0\r\n",
        " L5S231: 381.0\r\n",
        " L5S235: 414.0\r\n",
        " L5S99: 426.0\r\n",
        " L5S98: 433.0\r\n",
        " L5S230: 442.0\r\n",
        " L5S232: 457.0\r\n",
        " L5S233: 459.0\r\n",
        " L5S229: 505.0\r\n",
        " L5S97: 512.0\r\n",
        " L5S100: 522.0\r\n",
        " L2S236: 584.0\r\n",
        " L2S234: 721.0\r\n",
        " L2S231: 769.0\r\n",
        " L2S229: 844.0\r\n",
        " L2S233: 891.0\r\n",
        " L2S99: 899.0\r\n",
        " L2S230: 935.0\r\n",
        " L2S232: 957.0\r\n",
        " L2S100: 1029.0\r\n",
        " L2S97: 1050.0\r\n",
        " L2S235: 1059.0\r\n",
        " L1S4: 1078.0\r\n",
        " L2S98: 1097.0\r\n",
        " L1S3: 1206.0\r\n",
        " L1S1: 1311.0\r\n",
        " L1S131: 1556.0\r\n",
        " L1S134: 1574.0\r\n",
        " L1S132: 1698.0\r\n",
        " L4S146: 1748.0\r\n",
        " L1S129: 1753.0\r\n",
        " L1S135: 1765.0\r\n",
        " L1S130: 1766.0\r\n",
        " L1S133: 1893.0\r\n",
        " L1S2: 1898.0\r\n",
        " L6S100: 1994.0\r\n",
        " L6S101: 2040.0\r\n",
        " L1S136: 2062.0\r\n",
        " L4S144: 2127.0\r\n",
        " L4S145: 2147.0\r\n",
        " L6S102: 2206.0\r\n",
        " L1S287: 2316.0\r\n",
        " L6S103: 2367.0\r\n",
        " L4S147: 2441.0\r\n",
        " L1S290: 2511.0\r\n",
        " L1S289: 2561.0\r\n"
       ]
      }
     ],
     "prompt_number": 13
    },
    {
     "cell_type": "heading",
     "level": 2,
     "metadata": {},
     "source": [
      "Create a single mapping file from the per-lane mapping files."
     ]
    },
    {
     "cell_type": "code",
     "collapsed": false,
     "input": [
      "!merge_mapping_files.py -o moving_pictures_tutorial-1.7.0/illumina/combined_mapping_file.txt -m moving_pictures_tutorial-1.7.0/illumina/raw/filtered_mapping_l1.txt,moving_pictures_tutorial-1.7.0/illumina/raw/filtered_mapping_l2.txt,moving_pictures_tutorial-1.7.0/illumina/raw/filtered_mapping_l3.txt,moving_pictures_tutorial-1.7.0/illumina/raw/filtered_mapping_l4.txt,moving_pictures_tutorial-1.7.0/illumina/raw/filtered_mapping_l5.txt,moving_pictures_tutorial-1.7.0/illumina/raw/filtered_mapping_l6.txt"
     ],
     "language": "python",
     "metadata": {},
     "outputs": [],
     "prompt_number": 15
    },
    {
     "cell_type": "code",
     "collapsed": false,
     "input": [
      "!head moving_pictures_tutorial-1.7.0/illumina/combined_mapping_file.txt"
     ],
     "language": "python",
     "metadata": {},
     "outputs": [
      {
       "output_type": "stream",
       "stream": "stdout",
       "text": [
        "#SampleID\tBarcodeSequence\tLinkerPrimerSequence\tdays_since_epoch\tSamplePlate\ttimestamp\tSampleType\tmonth\tPrimerPlate\tWellID\tyear\tday\tsubject\tDescription\r\n",
        "L6S100\tGTCGCTGTCTTC\tGTGCCAGCMGCCGCGGTAA\t14355\t20\t20090421\tTongue\t4\t5\td1\t2009\t21\t2\tRK_Tong_4_21_2009\r\n",
        "L2S229\tCAACTCATCGTA\tGTGCCAGCMGCCGCGGTAA\t14355\t7\t20090421\tL_palm\t4\t2\te5\t2009\t21\t1\tAB_L_Palm_4_21_2009\r\n",
        "L6S102\tGTTGACGACAGC\tGTGCCAGCMGCCGCGGTAA\t14357\t20\t20090423\tTongue\t4\t5\tf1\t2009\t23\t2\tRK_Tong_4_23_2009\r\n",
        "L6S103\tTACGCGCTGAGA\tGTGCCAGCMGCCGCGGTAA\t14358\t20\t20090424\tTongue\t4\t5\tg1\t2009\t24\t2\tRK_Tong_4_24_2009\r\n",
        "L3S369\tATACAGAGCTCC\tGTGCCAGCMGCCGCGGTAA\t14357\t12\t20090423\tR_palm\t4\t2\ta11\t2009\t23\t1\tAB_R_Palm_4_23_2009\r\n",
        "L3S368\tCATCTGTAGCGA\tGTGCCAGCMGCCGCGGTAA\t14356\t12\t20090422\tR_palm\t4\t2\th10\t2009\t22\t1\tAB_R_Palm_4_22_2009\r\n",
        "L2S100\tACGCTCATGGAT\tGTGCCAGCMGCCGCGGTAA\t14176\t6\t20081024\tL_palm\t10\t1\td1\t2008\t24\t1\tAB_L_Palm_10_24_2008\r\n",
        "L3S373\tCACATCTAACAC\tGTGCCAGCMGCCGCGGTAA\t14175\t12\t20081023\tR_palm\t10\t2\te11\t2008\t23\t2\tRK_R_Palm_10_23_2008\r\n",
        "L3S370\tATCCTCAGTAGT\tGTGCCAGCMGCCGCGGTAA\t14358\t12\t20090424\tR_palm\t4\t2\tb11\t2009\t24\t1\tAB_R_Palm_4_24_2009\r\n"
       ]
      }
     ],
     "prompt_number": 16
    },
    {
     "cell_type": "markdown",
     "metadata": {},
     "source": [
      "To view a single file (rather than a directory) we use the ``FileLink`` function instead of the ``FileLinks`` function."
     ]
    },
    {
     "cell_type": "code",
     "collapsed": false,
     "input": [
      "FileLink('moving_pictures_tutorial-1.7.0/illumina/combined_mapping_file.txt')"
     ],
     "language": "python",
     "metadata": {},
     "outputs": [
      {
       "html": [
        "<a href='files/moving_pictures_tutorial-1.7.0/illumina/combined_mapping_file.txt' target='_blank'>moving_pictures_tutorial-1.7.0/illumina/combined_mapping_file.txt</a><br>"
       ],
       "output_type": "pyout",
       "prompt_number": 17,
       "text": [
        "/Users/caporaso/Dropbox/code/qiime/examples/ipynb/moving_pictures_tutorial-1.7.0/illumina/combined_mapping_file.txt"
       ]
      }
     ],
     "prompt_number": 17
    },
    {
     "cell_type": "heading",
     "level": 2,
     "metadata": {},
     "source": [
      "Run diversity analyses"
     ]
    },
    {
     "cell_type": "markdown",
     "metadata": {},
     "source": [
      "Here we're running the ``core_diversity_analyses.py`` script which applies many of the \"first-pass\" diversity analyses that users are generally interested in. The main output that users will interact with is the ``index.html`` file, which provides links into the different analysis results.\n",
      "\n",
      "**Warning:** Here we're suppressing all alpha diversity calculations as generating alpha rarefaction plots can take approximately 20 minutes. If you'd like to include those, you should delete the ``--suppress_alpha_diversity`` parameter from this command."
     ]
    },
    {
     "cell_type": "code",
     "collapsed": false,
     "input": [
      "!core_diversity_analyses.py -o moving_pictures_tutorial-1.7.0/illumina/otus/cd258/ --suppress_alpha_diversity -i moving_pictures_tutorial-1.7.0/illumina/otus/otu_table_mc2_w_tax_no_pynast_failures.biom -m moving_pictures_tutorial-1.7.0/illumina/combined_mapping_file.txt -t moving_pictures_tutorial-1.7.0/illumina/otus/rep_set.tre -e 258 -c \"SampleType,days_since_epoch\""
     ],
     "language": "python",
     "metadata": {},
     "outputs": [],
     "prompt_number": 19
    },
    {
     "cell_type": "code",
     "collapsed": false,
     "input": [
      "FileLink('moving_pictures_tutorial-1.7.0/illumina/otus/cd258/index.html')"
     ],
     "language": "python",
     "metadata": {},
     "outputs": [
      {
       "html": [
        "<a href='files/moving_pictures_tutorial-1.7.0/illumina/otus/cd258/index.html' target='_blank'>moving_pictures_tutorial-1.7.0/illumina/otus/cd258/index.html</a><br>"
       ],
       "output_type": "pyout",
       "prompt_number": 20,
       "text": [
        "/Users/caporaso/Dropbox/code/qiime/examples/ipynb/moving_pictures_tutorial-1.7.0/illumina/otus/cd258/index.html"
       ]
      }
     ],
     "prompt_number": 20
    },
    {
     "cell_type": "code",
     "collapsed": false,
     "input": [],
     "language": "python",
     "metadata": {},
     "outputs": []
    }
   ],
   "metadata": {}
  }
 ]
}