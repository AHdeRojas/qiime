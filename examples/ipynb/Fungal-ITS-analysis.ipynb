{
 "metadata": {
  "name": "Fungal-ITS-analysis"
 },
 "nbformat": 3,
 "nbformat_minor": 0,
 "worksheets": [
  {
   "cells": [
    {
     "cell_type": "markdown",
     "metadata": {},
     "source": [
      "Fungal ITS QIIME analysis tutorial\n",
      "==================================\n",
      "\n",
      "In this tutorial we illustrate steps for analyzing fungal ITS amplicon data using the QIIME/UNITE reference OTUs (alpha version 12_11; find the link to the latest version of the reference OTUs on the [QIIME resources page](http://qiime.org/home_static/dataFiles.html)) to compare the composition of 9 soil communities using open-reference OTU picking.\n",
      "\n",
      "First we initialize our environment by obtaining the necessary files."
     ]
    },
    {
     "cell_type": "code",
     "collapsed": false,
     "input": [
      "tutorial_url = \"https://s3.amazonaws.com/s3-qiime_tutorial_files/its-soils-tutorial.tgz\"\n",
      "reference_url = \"https://github.com/downloads/qiime/its-reference-otus/its_12_11_otus.tar.gz\"\n",
      "!wget $tutorial_url\n",
      "!wget $reference_url"
     ],
     "language": "python",
     "metadata": {},
     "outputs": [
      {
       "output_type": "stream",
       "stream": "stdout",
       "text": [
        "--2012-12-17 08:16:01--  https://s3.amazonaws.com/s3-qiime_tutorial_files/its-soils-tutorial.tgz\r\n",
        "Resolving s3.amazonaws.com... "
       ]
      },
      {
       "output_type": "stream",
       "stream": "stdout",
       "text": [
        "72.21.215.100\r\n",
        "Connecting to s3.amazonaws.com|72.21.215.100|:443... "
       ]
      },
      {
       "output_type": "stream",
       "stream": "stdout",
       "text": [
        "connected.\r\n"
       ]
      },
      {
       "output_type": "stream",
       "stream": "stdout",
       "text": [
        "HTTP request sent, awaiting response... "
       ]
      },
      {
       "output_type": "stream",
       "stream": "stdout",
       "text": [
        "200 OK\r\n",
        "Length: 543458 (531K) [application/x-compressed]\r\n",
        "Saving to: \u2018its-soils-tutorial.tgz\u2019\r\n",
        "\r\n",
        "\r",
        " 0% [                                       ] 0           --.-K/s              "
       ]
      },
      {
       "output_type": "stream",
       "stream": "stdout",
       "text": [
        "\r",
        " 4% [>                                      ] 25,831       105KB/s             "
       ]
      },
      {
       "output_type": "stream",
       "stream": "stdout",
       "text": [
        "\r",
        "11% [===>                                   ] 61,831       128KB/s             "
       ]
      },
      {
       "output_type": "stream",
       "stream": "stdout",
       "text": [
        "\r",
        "29% [==========>                            ] 160,831      221KB/s             "
       ]
      },
      {
       "output_type": "stream",
       "stream": "stdout",
       "text": [
        "\r",
        "77% [=============================>         ] 421,831      439KB/s             "
       ]
      },
      {
       "output_type": "stream",
       "stream": "stdout",
       "text": [
        "\r",
        "100%[======================================>] 543,458      531KB/s   in 1.0s   \r\n",
        "\r\n"
       ]
      },
      {
       "output_type": "stream",
       "stream": "stdout",
       "text": [
        "2012-12-17 08:16:03 (531 KB/s) - \u2018its-soils-tutorial.tgz\u2019 saved [543458/543458]\r\n",
        "\r\n"
       ]
      },
      {
       "output_type": "stream",
       "stream": "stdout",
       "text": [
        "--2012-12-17 08:16:04--  https://github.com/downloads/qiime/its-reference-otus/its_12_11_otus.tar.gz\r\n",
        "Resolving github.com... "
       ]
      },
      {
       "output_type": "stream",
       "stream": "stdout",
       "text": [
        "207.97.227.239\r\n",
        "Connecting to github.com|207.97.227.239|:443... "
       ]
      },
      {
       "output_type": "stream",
       "stream": "stdout",
       "text": [
        "connected.\r\n"
       ]
      },
      {
       "output_type": "stream",
       "stream": "stdout",
       "text": [
        "HTTP request sent, awaiting response... "
       ]
      },
      {
       "output_type": "stream",
       "stream": "stdout",
       "text": [
        "302 Found\r\n",
        "Location: http://cloud.github.com/downloads/qiime/its-reference-otus/its_12_11_otus.tar.gz [following]\r\n",
        "--2012-12-17 08:16:05--  http://cloud.github.com/downloads/qiime/its-reference-otus/its_12_11_otus.tar.gz\r\n",
        "Resolving cloud.github.com... "
       ]
      },
      {
       "output_type": "stream",
       "stream": "stdout",
       "text": [
        "216.137.39.90, 216.137.39.64, 216.137.39.191, ...\r\n",
        "Connecting to cloud.github.com|216.137.39.90|:80... "
       ]
      },
      {
       "output_type": "stream",
       "stream": "stdout",
       "text": [
        "connected.\r\n",
        "HTTP request sent, awaiting response... "
       ]
      },
      {
       "output_type": "stream",
       "stream": "stdout",
       "text": [
        "200 OK\r\n",
        "Length: 24441994 (23M) [application/gzip]\r\n",
        "Saving to: \u2018its_12_11_otus.tar.gz.1\u2019\r\n",
        "\r\n",
        "\r",
        " 0% [                                       ] 0           --.-K/s              "
       ]
      },
      {
       "output_type": "stream",
       "stream": "stdout",
       "text": [
        "\r",
        " 0% [                                       ] 27,682       135KB/s             "
       ]
      },
      {
       "output_type": "stream",
       "stream": "stdout",
       "text": [
        "\r",
        " 0% [                                       ] 90,310       219KB/s             "
       ]
      },
      {
       "output_type": "stream",
       "stream": "stdout",
       "text": [
        "\r",
        " 1% [                                       ] 258,546      404KB/s             "
       ]
      },
      {
       "output_type": "stream",
       "stream": "stdout",
       "text": [
        "\r",
        " 1% [                                       ] 462,394      543KB/s             "
       ]
      },
      {
       "output_type": "stream",
       "stream": "stdout",
       "text": [
        "\r",
        " 2% [>                                      ] 719,046      680KB/s             "
       ]
      },
      {
       "output_type": "stream",
       "stream": "stdout",
       "text": [
        "\r",
        " 3% [>                                      ] 941,314      745KB/s             "
       ]
      },
      {
       "output_type": "stream",
       "stream": "stdout",
       "text": [
        "\r",
        " 5% [>                                      ] 1,227,438    836KB/s             "
       ]
      },
      {
       "output_type": "stream",
       "stream": "stdout",
       "text": [
        "\r",
        " 6% [=>                                     ] 1,497,598    894KB/s             "
       ]
      },
      {
       "output_type": "stream",
       "stream": "stdout",
       "text": [
        "\r",
        " 7% [=>                                     ] 1,847,578    975KB/s             "
       ]
      },
      {
       "output_type": "stream",
       "stream": "stdout",
       "text": [
        "\r",
        " 9% [==>                                    ] 2,218,434   1.03MB/s             "
       ]
      },
      {
       "output_type": "stream",
       "stream": "stdout",
       "text": [
        "\r",
        "10% [===>                                   ] 2,586,834   1.10MB/s             "
       ]
      },
      {
       "output_type": "stream",
       "stream": "stdout",
       "text": [
        "\r",
        "11% [===>                                   ] 2,742,790   1.05MB/s             "
       ]
      },
      {
       "output_type": "stream",
       "stream": "stdout",
       "text": [
        "\r",
        "12% [===>                                   ] 3,059,614   1.07MB/s             "
       ]
      },
      {
       "output_type": "stream",
       "stream": "stdout",
       "text": [
        "\r",
        "12% [====>                                  ] 3,176,274   1.03MB/s             "
       ]
      },
      {
       "output_type": "stream",
       "stream": "stdout",
       "text": [
        "\r",
        "13% [====>                                  ] 3,312,582   1.00MB/s  eta 20s    "
       ]
      },
      {
       "output_type": "stream",
       "stream": "stdout",
       "text": [
        "\r",
        "14% [====>                                  ] 3,474,678   1006KB/s  eta 20s    "
       ]
      },
      {
       "output_type": "stream",
       "stream": "stdout",
       "text": [
        "\r",
        "15% [====>                                  ] 3,669,930    990KB/s  eta 20s    "
       ]
      },
      {
       "output_type": "stream",
       "stream": "stdout",
       "text": [
        "\r",
        "15% [=====>                                 ] 3,800,098   1.03MB/s  eta 20s    "
       ]
      },
      {
       "output_type": "stream",
       "stream": "stdout",
       "text": [
        "\r",
        "16% [=====>                                 ] 3,930,266   1.01MB/s  eta 20s    "
       ]
      },
      {
       "output_type": "stream",
       "stream": "stdout",
       "text": [
        "\r",
        "16% [=====>                                 ] 4,094,818   1.01MB/s  eta 21s    "
       ]
      },
      {
       "output_type": "stream",
       "stream": "stdout",
       "text": [
        "\r",
        "17% [=====>                                 ] 4,255,686   1012KB/s  eta 21s    "
       ]
      },
      {
       "output_type": "stream",
       "stream": "stdout",
       "text": [
        "\r",
        "18% [======>                                ] 4,428,834    980KB/s  eta 21s    "
       ]
      },
      {
       "output_type": "stream",
       "stream": "stdout",
       "text": [
        "\r",
        "18% [======>                                ] 4,616,718    959KB/s  eta 21s    "
       ]
      },
      {
       "output_type": "stream",
       "stream": "stdout",
       "text": [
        "\r",
        "19% [======>                                ] 4,776,358    925KB/s  eta 21s    "
       ]
      },
      {
       "output_type": "stream",
       "stream": "stdout",
       "text": [
        "\r",
        "20% [======>                                ] 4,970,382    868KB/s  eta 21s    "
       ]
      },
      {
       "output_type": "stream",
       "stream": "stdout",
       "text": [
        "\r",
        "20% [=======>                               ] 5,101,778    820KB/s  eta 21s    "
       ]
      },
      {
       "output_type": "stream",
       "stream": "stdout",
       "text": [
        "\r",
        "21% [=======>                               ] 5,261,418    782KB/s  eta 21s    "
       ]
      },
      {
       "output_type": "stream",
       "stream": "stdout",
       "text": [
        "\r",
        "22% [=======>                               ] 5,398,954    738KB/s  eta 21s    "
       ]
      },
      {
       "output_type": "stream",
       "stream": "stdout",
       "text": [
        "\r",
        "22% [=======>                               ] 5,557,366    694KB/s  eta 21s    "
       ]
      },
      {
       "output_type": "stream",
       "stream": "stdout",
       "text": [
        "\r",
        "23% [========>                              ] 5,723,146    708KB/s  eta 21s    "
       ]
      },
      {
       "output_type": "stream",
       "stream": "stdout",
       "text": [
        "\r",
        "24% [========>                              ] 5,882,786    705KB/s  eta 21s    "
       ]
      },
      {
       "output_type": "stream",
       "stream": "stdout",
       "text": [
        "\r",
        "24% [========>                              ] 6,078,038    717KB/s  eta 21s    "
       ]
      },
      {
       "output_type": "stream",
       "stream": "stdout",
       "text": [
        "\r",
        "25% [=========>                             ] 6,273,290    715KB/s  eta 21s    "
       ]
      },
      {
       "output_type": "stream",
       "stream": "stdout",
       "text": [
        "\r",
        "26% [=========>                             ] 6,455,034    745KB/s  eta 21s    "
       ]
      },
      {
       "output_type": "stream",
       "stream": "stdout",
       "text": [
        "\r",
        "27% [=========>                             ] 6,622,042    738KB/s  eta 20s    "
       ]
      },
      {
       "output_type": "stream",
       "stream": "stdout",
       "text": [
        "\r",
        "27% [=========>                             ] 6,748,526    745KB/s  eta 20s    "
       ]
      },
      {
       "output_type": "stream",
       "stream": "stdout",
       "text": [
        "\r",
        "28% [==========>                            ] 6,924,130    741KB/s  eta 20s    "
       ]
      },
      {
       "output_type": "stream",
       "stream": "stdout",
       "text": [
        "\r",
        "29% [==========>                            ] 7,097,278    742KB/s  eta 20s    "
       ]
      },
      {
       "output_type": "stream",
       "stream": "stdout",
       "text": [
        "\r",
        "29% [==========>                            ] 7,249,550    744KB/s  eta 20s    "
       ]
      },
      {
       "output_type": "stream",
       "stream": "stdout",
       "text": [
        "\r",
        "30% [==========>                            ] 7,423,926    746KB/s  eta 20s    "
       ]
      },
      {
       "output_type": "stream",
       "stream": "stdout",
       "text": [
        "\r",
        "30% [===========>                           ] 7,574,970    735KB/s  eta 20s    "
       ]
      },
      {
       "output_type": "stream",
       "stream": "stdout",
       "text": [
        "\r",
        "31% [===========>                           ] 7,770,222    745KB/s  eta 20s    "
       ]
      },
      {
       "output_type": "stream",
       "stream": "stdout",
       "text": [
        "\r",
        "32% [===========>                           ] 7,965,474    747KB/s  eta 20s    "
       ]
      },
      {
       "output_type": "stream",
       "stream": "stdout",
       "text": [
        "\r",
        "33% [===========>                           ] 8,133,710    753KB/s  eta 20s    "
       ]
      },
      {
       "output_type": "stream",
       "stream": "stdout",
       "text": [
        "\r",
        "34% [============>                          ] 8,332,646    766KB/s  eta 19s    "
       ]
      },
      {
       "output_type": "stream",
       "stream": "stdout",
       "text": [
        "\r",
        "34% [============>                          ] 8,531,582    759KB/s  eta 19s    "
       ]
      },
      {
       "output_type": "stream",
       "stream": "stdout",
       "text": [
        "\r",
        "35% [============>                          ] 8,720,694    775KB/s  eta 19s    "
       ]
      },
      {
       "output_type": "stream",
       "stream": "stdout",
       "text": [
        "\r",
        "36% [=============>                         ] 8,913,490    775KB/s  eta 19s    "
       ]
      },
      {
       "output_type": "stream",
       "stream": "stdout",
       "text": [
        "\r",
        "37% [=============>                         ] 9,111,198    781KB/s  eta 19s    "
       ]
      },
      {
       "output_type": "stream",
       "stream": "stdout",
       "text": [
        "\r",
        "37% [=============>                         ] 9,267,154    776KB/s  eta 18s    "
       ]
      },
      {
       "output_type": "stream",
       "stream": "stdout",
       "text": [
        "\r",
        "38% [==============>                        ] 9,431,706    783KB/s  eta 18s    "
       ]
      },
      {
       "output_type": "stream",
       "stream": "stdout",
       "text": [
        "\r",
        "39% [==============>                        ] 9,592,574    782KB/s  eta 18s    "
       ]
      },
      {
       "output_type": "stream",
       "stream": "stdout",
       "text": [
        "\r",
        "40% [==============>                        ] 9,779,230    790KB/s  eta 18s    "
       ]
      },
      {
       "output_type": "stream",
       "stream": "stdout",
       "text": [
        "\r",
        "40% [==============>                        ] 9,938,870    787KB/s  eta 18s    "
       ]
      },
      {
       "output_type": "stream",
       "stream": "stdout",
       "text": [
        "\r",
        "41% [===============>                       ] 10,092,370   794KB/s  eta 17s    "
       ]
      },
      {
       "output_type": "stream",
       "stream": "stdout",
       "text": [
        "\r",
        "42% [===============>                       ] 10,282,710   808KB/s  eta 17s    "
       ]
      },
      {
       "output_type": "stream",
       "stream": "stdout",
       "text": [
        "\r",
        "42% [===============>                       ] 10,447,262   817KB/s  eta 17s    "
       ]
      },
      {
       "output_type": "stream",
       "stream": "stdout",
       "text": [
        "\r",
        "43% [===============>                       ] 10,625,322   806KB/s  eta 17s    "
       ]
      },
      {
       "output_type": "stream",
       "stream": "stdout",
       "text": [
        "\r",
        "44% [================>                      ] 10,773,910   813KB/s  eta 17s    "
       ]
      },
      {
       "output_type": "stream",
       "stream": "stdout",
       "text": [
        "\r",
        "44% [================>                      ] 10,959,338   810KB/s  eta 16s    "
       ]
      },
      {
       "output_type": "stream",
       "stream": "stdout",
       "text": [
        "\r",
        "45% [================>                      ] 11,154,590   817KB/s  eta 16s    "
       ]
      },
      {
       "output_type": "stream",
       "stream": "stdout",
       "text": [
        "\r",
        "46% [=================>                     ] 11,333,878   816KB/s  eta 16s    "
       ]
      },
      {
       "output_type": "stream",
       "stream": "stdout",
       "text": [
        "\r",
        "46% [=================>                     ] 11,486,150   813KB/s  eta 16s    "
       ]
      },
      {
       "output_type": "stream",
       "stream": "stdout",
       "text": [
        "\r",
        "47% [=================>                     ] 11,674,034   820KB/s  eta 16s    "
       ]
      },
      {
       "output_type": "stream",
       "stream": "stdout",
       "text": [
        "\r",
        "48% [=================>                     ] 11,850,866   816KB/s  eta 15s    "
       ]
      },
      {
       "output_type": "stream",
       "stream": "stdout",
       "text": [
        "\r",
        "49% [==================>                    ] 12,042,434   822KB/s  eta 15s    "
       ]
      },
      {
       "output_type": "stream",
       "stream": "stdout",
       "text": [
        "\r",
        "50% [==================>                    ] 12,238,914   820KB/s  eta 15s    "
       ]
      },
      {
       "output_type": "stream",
       "stream": "stdout",
       "text": [
        "\r",
        "50% [==================>                    ] 12,436,622   828KB/s  eta 15s    "
       ]
      },
      {
       "output_type": "stream",
       "stream": "stdout",
       "text": [
        "\r",
        "51% [===================>                   ] 12,633,102   834KB/s  eta 15s    "
       ]
      },
      {
       "output_type": "stream",
       "stream": "stdout",
       "text": [
        "\r",
        "52% [===================>                   ] 12,816,074   841KB/s  eta 14s    "
       ]
      },
      {
       "output_type": "stream",
       "stream": "stdout",
       "text": [
        "\r",
        "53% [===================>                   ] 12,974,486   836KB/s  eta 14s    "
       ]
      },
      {
       "output_type": "stream",
       "stream": "stdout",
       "text": [
        "\r",
        "53% [===================>                   ] 13,151,318   842KB/s  eta 14s    "
       ]
      },
      {
       "output_type": "stream",
       "stream": "stdout",
       "text": [
        "\r",
        "54% [====================>                  ] 13,349,026   833KB/s  eta 14s    "
       ]
      },
      {
       "output_type": "stream",
       "stream": "stdout",
       "text": [
        "\r",
        "55% [====================>                  ] 13,546,734   835KB/s  eta 14s    "
       ]
      },
      {
       "output_type": "stream",
       "stream": "stdout",
       "text": [
        "\r",
        "56% [====================>                  ] 13,735,846   841KB/s  eta 13s    "
       ]
      },
      {
       "output_type": "stream",
       "stream": "stdout",
       "text": [
        "\r",
        "56% [=====================>                 ] 13,931,098   841KB/s  eta 13s    "
       ]
      },
      {
       "output_type": "stream",
       "stream": "stdout",
       "text": [
        "\r",
        "57% [=====================>                 ] 14,131,262   838KB/s  eta 13s    "
       ]
      },
      {
       "output_type": "stream",
       "stream": "stdout",
       "text": [
        "\r",
        "58% [=====================>                 ] 14,327,742   854KB/s  eta 13s    "
       ]
      },
      {
       "output_type": "stream",
       "stream": "stdout",
       "text": [
        "\r",
        "59% [======================>                ] 14,504,574   844KB/s  eta 13s    "
       ]
      },
      {
       "output_type": "stream",
       "stream": "stdout",
       "text": [
        "\r",
        "60% [======================>                ] 14,669,126   851KB/s  eta 11s    "
       ]
      },
      {
       "output_type": "stream",
       "stream": "stdout",
       "text": [
        "\r",
        "60% [======================>                ] 14,864,378   844KB/s  eta 11s    "
       ]
      },
      {
       "output_type": "stream",
       "stream": "stdout",
       "text": [
        "\r",
        "61% [=======================>               ] 15,048,578   848KB/s  eta 11s    "
       ]
      },
      {
       "output_type": "stream",
       "stream": "stdout",
       "text": [
        "\r",
        "62% [=======================>               ] 15,232,778   853KB/s  eta 11s    "
       ]
      },
      {
       "output_type": "stream",
       "stream": "stdout",
       "text": [
        "\r",
        "63% [=======================>               ] 15,434,170   854KB/s  eta 11s    "
       ]
      },
      {
       "output_type": "stream",
       "stream": "stdout",
       "text": [
        "\r",
        "64% [=======================>               ] 15,645,386   852KB/s  eta 10s    "
       ]
      },
      {
       "output_type": "stream",
       "stream": "stdout",
       "text": [
        "\r",
        "64% [========================>              ] 15,840,638   861KB/s  eta 10s    "
       ]
      },
      {
       "output_type": "stream",
       "stream": "stdout",
       "text": [
        "\r",
        "65% [========================>              ] 16,035,890   863KB/s  eta 10s    "
       ]
      },
      {
       "output_type": "stream",
       "stream": "stdout",
       "text": [
        "\r",
        "66% [========================>              ] 16,231,142   860KB/s  eta 10s    "
       ]
      },
      {
       "output_type": "stream",
       "stream": "stdout",
       "text": [
        "\r",
        "67% [=========================>             ] 16,426,394   862KB/s  eta 10s    "
       ]
      },
      {
       "output_type": "stream",
       "stream": "stdout",
       "text": [
        "\r",
        "68% [=========================>             ] 16,621,646   868KB/s  eta 9s     "
       ]
      },
      {
       "output_type": "stream",
       "stream": "stdout",
       "text": [
        "\r",
        "68% [=========================>             ] 16,856,194   879KB/s  eta 9s     "
       ]
      },
      {
       "output_type": "stream",
       "stream": "stdout",
       "text": [
        "\r",
        "69% [==========================>            ] 17,003,554   877KB/s  eta 9s     "
       ]
      },
      {
       "output_type": "stream",
       "stream": "stdout",
       "text": [
        "\r",
        "70% [==========================>            ] 17,170,562   870KB/s  eta 9s     "
       ]
      },
      {
       "output_type": "stream",
       "stream": "stdout",
       "text": [
        "\r",
        "70% [==========================>            ] 17,337,570   869KB/s  eta 9s     "
       ]
      },
      {
       "output_type": "stream",
       "stream": "stdout",
       "text": [
        "\r",
        "71% [==========================>            ] 17,532,822   869KB/s  eta 8s     "
       ]
      },
      {
       "output_type": "stream",
       "stream": "stdout",
       "text": [
        "\r",
        "72% [===========================>           ] 17,728,074   873KB/s  eta 8s     "
       ]
      },
      {
       "output_type": "stream",
       "stream": "stdout",
       "text": [
        "\r",
        "73% [===========================>           ] 17,923,326   869KB/s  eta 8s     "
       ]
      },
      {
       "output_type": "stream",
       "stream": "stdout",
       "text": [
        "\r",
        "74% [===========================>           ] 18,118,578   880KB/s  eta 8s     "
       ]
      },
      {
       "output_type": "stream",
       "stream": "stdout",
       "text": [
        "\r",
        "74% [============================>          ] 18,297,866   874KB/s  eta 8s     "
       ]
      },
      {
       "output_type": "stream",
       "stream": "stdout",
       "text": [
        "\r",
        "75% [============================>          ] 18,471,014   872KB/s  eta 7s     "
       ]
      },
      {
       "output_type": "stream",
       "stream": "stdout",
       "text": [
        "\r",
        "76% [============================>          ] 18,639,250   860KB/s  eta 7s     "
       ]
      },
      {
       "output_type": "stream",
       "stream": "stdout",
       "text": [
        "\r",
        "77% [=============================>         ] 18,834,502   872KB/s  eta 7s     "
       ]
      },
      {
       "output_type": "stream",
       "stream": "stdout",
       "text": [
        "\r",
        "77% [=============================>         ] 19,032,210   878KB/s  eta 7s     "
       ]
      },
      {
       "output_type": "stream",
       "stream": "stdout",
       "text": [
        "\r",
        "78% [=============================>         ] 19,221,322   882KB/s  eta 7s     "
       ]
      },
      {
       "output_type": "stream",
       "stream": "stdout",
       "text": [
        "\r",
        "79% [=============================>         ] 19,400,610   882KB/s  eta 6s     "
       ]
      },
      {
       "output_type": "stream",
       "stream": "stdout",
       "text": [
        "\r",
        "80% [==============================>        ] 19,594,634   878KB/s  eta 6s     "
       ]
      },
      {
       "output_type": "stream",
       "stream": "stdout",
       "text": [
        "\r",
        "80% [==============================>        ] 19,791,114   877KB/s  eta 6s     "
       ]
      },
      {
       "output_type": "stream",
       "stream": "stdout",
       "text": [
        "\r",
        "81% [==============================>        ] 19,986,366   862KB/s  eta 6s     "
       ]
      },
      {
       "output_type": "stream",
       "stream": "stdout",
       "text": [
        "\r",
        "82% [===============================>       ] 20,186,530   873KB/s  eta 6s     "
       ]
      },
      {
       "output_type": "stream",
       "stream": "stdout",
       "text": [
        "\r",
        "83% [===============================>       ] 20,371,958   877KB/s  eta 5s     "
       ]
      },
      {
       "output_type": "stream",
       "stream": "stdout",
       "text": [
        "\r",
        "84% [===============================>       ] 20,543,878   877KB/s  eta 5s     "
       ]
      },
      {
       "output_type": "stream",
       "stream": "stdout",
       "text": [
        "\r",
        "84% [================================>      ] 20,712,114   875KB/s  eta 5s     "
       ]
      },
      {
       "output_type": "stream",
       "stream": "stdout",
       "text": [
        "\r",
        "85% [================================>      ] 20,896,314   863KB/s  eta 5s     "
       ]
      },
      {
       "output_type": "stream",
       "stream": "stdout",
       "text": [
        "\r",
        "86% [================================>      ] 21,097,706   872KB/s  eta 5s     "
       ]
      },
      {
       "output_type": "stream",
       "stream": "stdout",
       "text": [
        "\r",
        "87% [=================================>     ] 21,358,042   894KB/s  eta 4s     "
       ]
      },
      {
       "output_type": "stream",
       "stream": "stdout",
       "text": [
        "\r",
        "88% [=================================>     ] 21,618,378   902KB/s  eta 4s     "
       ]
      },
      {
       "output_type": "stream",
       "stream": "stdout",
       "text": [
        "\r",
        "89% [=================================>     ] 21,879,942   925KB/s  eta 4s     "
       ]
      },
      {
       "output_type": "stream",
       "stream": "stdout",
       "text": [
        "\r",
        "90% [==================================>    ] 22,141,506   930KB/s  eta 4s     "
       ]
      },
      {
       "output_type": "stream",
       "stream": "stdout",
       "text": [
        "\r",
        "91% [==================================>    ] 22,403,070   948KB/s  eta 4s     "
       ]
      },
      {
       "output_type": "stream",
       "stream": "stdout",
       "text": [
        "\r",
        "92% [===================================>   ] 22,662,178   965KB/s  eta 2s     "
       ]
      },
      {
       "output_type": "stream",
       "stream": "stdout",
       "text": [
        "\r",
        "93% [===================================>   ] 22,915,146   973KB/s  eta 2s     "
       ]
      },
      {
       "output_type": "stream",
       "stream": "stdout",
       "text": [
        "\r",
        "94% [===================================>   ] 23,118,994   974KB/s  eta 2s     "
       ]
      },
      {
       "output_type": "stream",
       "stream": "stdout",
       "text": [
        "\r",
        "95% [====================================>  ] 23,375,646  1000KB/s  eta 2s     "
       ]
      },
      {
       "output_type": "stream",
       "stream": "stdout",
       "text": [
        "\r",
        "96% [====================================>  ] 23,633,526  1008KB/s  eta 2s     "
       ]
      },
      {
       "output_type": "stream",
       "stream": "stdout",
       "text": [
        "\r",
        "97% [=====================================> ] 23,895,090  1017KB/s  eta 1s     "
       ]
      },
      {
       "output_type": "stream",
       "stream": "stdout",
       "text": [
        "\r",
        "98% [=====================================> ] 24,159,110  1.01MB/s  eta 1s     "
       ]
      },
      {
       "output_type": "stream",
       "stream": "stdout",
       "text": [
        "\r",
        "99% [=====================================> ] 24,413,306  1.02MB/s  eta 1s     \r",
        "100%[======================================>] 24,441,994  1.03MB/s   in 27s    \r\n",
        "\r\n",
        "2012-12-17 08:16:33 (870 KB/s) - \u2018its_12_11_otus.tar.gz.1\u2019 saved [24441994/24441994]\r\n",
        "\r\n"
       ]
      }
     ],
     "prompt_number": 23
    },
    {
     "cell_type": "markdown",
     "metadata": {},
     "source": [
      "Now unzip these files."
     ]
    },
    {
     "cell_type": "code",
     "collapsed": false,
     "input": [
      "!tar -xzf its-soils-tutorial.tgz\n",
      "!tar -xzf its_12_11_otus.tar.gz\n",
      "!gunzip ./its_12_11_otus/rep_set/97_otus.fasta.gz\n",
      "!gunzip ./its_12_11_otus/taxonomy/97_otu_taxonomy.txt.gz"
     ],
     "language": "python",
     "metadata": {},
     "outputs": [],
     "prompt_number": 31
    },
    {
     "cell_type": "markdown",
     "metadata": {},
     "source": [
      "You can then view the files in each of these direcories by passing the directory name to the ``FileLinks`` function."
     ]
    },
    {
     "cell_type": "code",
     "collapsed": false,
     "input": [
      "from IPython.display import FileLinks\n",
      "FileLinks('its-soils-tutorial')"
     ],
     "language": "python",
     "metadata": {},
     "outputs": [
      {
       "html": [
        "its-soils-tutorial/<br>\n",
        "&nbsp;&nbsp;<a href='files/its-soils-tutorial/map.txt' target='_blank'>map.txt</a><br>\n",
        "&nbsp;&nbsp;<a href='files/its-soils-tutorial/params.txt' target='_blank'>params.txt</a><br>\n",
        "&nbsp;&nbsp;<a href='files/its-soils-tutorial/README.md' target='_blank'>README.md</a><br>\n",
        "&nbsp;&nbsp;<a href='files/its-soils-tutorial/seqs.fna' target='_blank'>seqs.fna</a><br>"
       ],
       "output_type": "pyout",
       "prompt_number": 32,
       "text": [
        "its-soils-tutorial/\n",
        "  map.txt\n",
        "  params.txt\n",
        "  README.md\n",
        "  seqs.fna"
       ]
      }
     ],
     "prompt_number": 32
    },
    {
     "cell_type": "markdown",
     "metadata": {},
     "source": [
      "The ``params.txt`` file contains many of the details of this analysis. You can review those by clicking the link or by catting the file. "
     ]
    },
    {
     "cell_type": "code",
     "collapsed": false,
     "input": [
      "!cat its-soils-tutorial/params.txt"
     ],
     "language": "python",
     "metadata": {},
     "outputs": [
      {
       "output_type": "stream",
       "stream": "stdout",
       "text": [
        "assign_taxonomy:rdp_max_memory 8000\r\n",
        "pick_otus:enable_rev_strand_match True\r\n",
        "pick_otus:max_accepts 1\r\n",
        "pick_otus:max_rejects 8\r\n",
        "pick_otus:stepwords 8\r\n",
        "pick_otus:word_length 8\r\n",
        "assign_taxonomy:id_to_taxonomy_fp its_12_11_otus/taxonomy/97_otu_taxonomy.txt\r\n",
        "assign_taxonomy:reference_seqs_fp its_12_11_otus/rep_set/97_otus.fasta\r\n",
        "beta_diversity:metrics bray_curtis\r\n"
       ]
      }
     ],
     "prompt_number": 33
    },
    {
     "cell_type": "markdown",
     "metadata": {},
     "source": [
      "The paramters that differentiate ITS analysis from analysis of other amplicons are the two ``assign_taxonomy`` parameters, which are pointing to the reference collection that we just downloaded, and the ``beta_diversity`` parameter, where we specify to compare communities using the non-phylogenetic Bray-Curtis metric, which we use here because we don't currently have a phylogenetic tree relating these OTUs."
     ]
    },
    {
     "cell_type": "markdown",
     "metadata": {},
     "source": [
      "Set up paths for the analysis steps."
     ]
    },
    {
     "cell_type": "code",
     "collapsed": false,
     "input": [
      "input_seqs_fp = \"its-soils-tutorial/seqs.fna\"\n",
      "reference_seqs_fp = \"its_12_11_otus/rep_set/97_otus.fasta\"\n",
      "output_dir = \"ucrss_fast/\"\n",
      "parameters_fp = \"its-soils-tutorial/params.txt\"\n",
      "mapping_fp = \"its-soils-tutorial/map.txt\""
     ],
     "language": "python",
     "metadata": {},
     "outputs": [],
     "prompt_number": 34
    },
    {
     "cell_type": "markdown",
     "metadata": {},
     "source": [
      "We're now ready to run the ``pick_subsampled_reference_otus_through_otu_table.py`` workflow. You can find [a description of this process here](http://qiime.org/tutorials/open_reference_illumina_processing.html#option-2-subsampled-open-reference-otu-picking)."
     ]
    },
    {
     "cell_type": "code",
     "collapsed": false,
     "input": [
      "!pick_subsampled_reference_otus_through_otu_table.py -i $input_seqs_fp -r $reference_seqs_fp -o $output_dir -p $parameters_fp --suppress_align_and_tree"
     ],
     "language": "python",
     "metadata": {},
     "outputs": [],
     "prompt_number": 35
    },
    {
     "cell_type": "markdown",
     "metadata": {},
     "source": [
      "After that completes (it will take a few minutes) we'll have the OTU table with taxonomy. You can review all of the files that are created by passing the path to the output directory to the ``FileLinks`` function."
     ]
    },
    {
     "cell_type": "code",
     "collapsed": false,
     "input": [
      "FileLinks(\"ucrss_fast/\")"
     ],
     "language": "python",
     "metadata": {},
     "outputs": [
      {
       "html": [
        "ucrss_fast/<br>\n",
        "&nbsp;&nbsp;<a href='files/ucrss_fast/final_otu_map.txt' target='_blank'>final_otu_map.txt</a><br>\n",
        "&nbsp;&nbsp;<a href='files/ucrss_fast/final_otu_map_mc2.txt' target='_blank'>final_otu_map_mc2.txt</a><br>\n",
        "&nbsp;&nbsp;<a href='files/ucrss_fast/log_20121217082855.txt' target='_blank'>log_20121217082855.txt</a><br>\n",
        "&nbsp;&nbsp;<a href='files/ucrss_fast/new_refseqs.fna' target='_blank'>new_refseqs.fna</a><br>\n",
        "&nbsp;&nbsp;<a href='files/ucrss_fast/otu_table_mc2.biom' target='_blank'>otu_table_mc2.biom</a><br>\n",
        "&nbsp;&nbsp;<a href='files/ucrss_fast/otu_table_mc2_w_tax.biom' target='_blank'>otu_table_mc2_w_tax.biom</a><br>\n",
        "&nbsp;&nbsp;<a href='files/ucrss_fast/rep_set.fna' target='_blank'>rep_set.fna</a><br>\n",
        "ucrss_fast/prefilter_otus/<br>\n",
        "&nbsp;&nbsp;<a href='files/ucrss_fast/prefilter_otus/prefiltered_seqs.fna' target='_blank'>prefiltered_seqs.fna</a><br>\n",
        "&nbsp;&nbsp;<a href='files/ucrss_fast/prefilter_otus/seqs_clusters.uc' target='_blank'>seqs_clusters.uc</a><br>\n",
        "&nbsp;&nbsp;<a href='files/ucrss_fast/prefilter_otus/seqs_failures.txt' target='_blank'>seqs_failures.txt</a><br>\n",
        "&nbsp;&nbsp;<a href='files/ucrss_fast/prefilter_otus/seqs_otus.log' target='_blank'>seqs_otus.log</a><br>\n",
        "&nbsp;&nbsp;<a href='files/ucrss_fast/prefilter_otus/seqs_otus.txt' target='_blank'>seqs_otus.txt</a><br>\n",
        "ucrss_fast/rdp_assigned_taxonomy/<br>\n",
        "&nbsp;&nbsp;<a href='files/ucrss_fast/rdp_assigned_taxonomy/rep_set_tax_assignments.log' target='_blank'>rep_set_tax_assignments.log</a><br>\n",
        "&nbsp;&nbsp;<a href='files/ucrss_fast/rdp_assigned_taxonomy/rep_set_tax_assignments.txt' target='_blank'>rep_set_tax_assignments.txt</a><br>\n",
        "ucrss_fast/step1_otus/<br>\n",
        "&nbsp;&nbsp;<a href='files/ucrss_fast/step1_otus/failures.fasta' target='_blank'>failures.fasta</a><br>\n",
        "&nbsp;&nbsp;<a href='files/ucrss_fast/step1_otus/prefiltered_seqs_clusters.uc' target='_blank'>prefiltered_seqs_clusters.uc</a><br>\n",
        "&nbsp;&nbsp;<a href='files/ucrss_fast/step1_otus/prefiltered_seqs_failures.txt' target='_blank'>prefiltered_seqs_failures.txt</a><br>\n",
        "&nbsp;&nbsp;<a href='files/ucrss_fast/step1_otus/prefiltered_seqs_otus.log' target='_blank'>prefiltered_seqs_otus.log</a><br>\n",
        "&nbsp;&nbsp;<a href='files/ucrss_fast/step1_otus/prefiltered_seqs_otus.txt' target='_blank'>prefiltered_seqs_otus.txt</a><br>\n",
        "&nbsp;&nbsp;<a href='files/ucrss_fast/step1_otus/step1_rep_set.fna' target='_blank'>step1_rep_set.fna</a><br>\n",
        "&nbsp;&nbsp;<a href='files/ucrss_fast/step1_otus/subsampled_failures.fasta' target='_blank'>subsampled_failures.fasta</a><br>\n",
        "ucrss_fast/step2_otus/<br>\n",
        "&nbsp;&nbsp;<a href='files/ucrss_fast/step2_otus/step2_rep_set.fna' target='_blank'>step2_rep_set.fna</a><br>\n",
        "&nbsp;&nbsp;<a href='files/ucrss_fast/step2_otus/subsampled_failures_clusters.uc' target='_blank'>subsampled_failures_clusters.uc</a><br>\n",
        "&nbsp;&nbsp;<a href='files/ucrss_fast/step2_otus/subsampled_failures_otus.log' target='_blank'>subsampled_failures_otus.log</a><br>\n",
        "&nbsp;&nbsp;<a href='files/ucrss_fast/step2_otus/subsampled_failures_otus.txt' target='_blank'>subsampled_failures_otus.txt</a><br>\n",
        "ucrss_fast/step3_otus/<br>\n",
        "&nbsp;&nbsp;<a href='files/ucrss_fast/step3_otus/failures_clusters.uc' target='_blank'>failures_clusters.uc</a><br>\n",
        "&nbsp;&nbsp;<a href='files/ucrss_fast/step3_otus/failures_failures.fasta' target='_blank'>failures_failures.fasta</a><br>\n",
        "&nbsp;&nbsp;<a href='files/ucrss_fast/step3_otus/failures_failures.txt' target='_blank'>failures_failures.txt</a><br>\n",
        "&nbsp;&nbsp;<a href='files/ucrss_fast/step3_otus/failures_otus.log' target='_blank'>failures_otus.log</a><br>\n",
        "&nbsp;&nbsp;<a href='files/ucrss_fast/step3_otus/failures_otus.txt' target='_blank'>failures_otus.txt</a><br>\n",
        "ucrss_fast/step4_otus/<br>\n",
        "&nbsp;&nbsp;<a href='files/ucrss_fast/step4_otus/failures_failures_clusters.uc' target='_blank'>failures_failures_clusters.uc</a><br>\n",
        "&nbsp;&nbsp;<a href='files/ucrss_fast/step4_otus/failures_failures_otus.log' target='_blank'>failures_failures_otus.log</a><br>\n",
        "&nbsp;&nbsp;<a href='files/ucrss_fast/step4_otus/failures_failures_otus.txt' target='_blank'>failures_failures_otus.txt</a><br>\n",
        "&nbsp;&nbsp;<a href='files/ucrss_fast/step4_otus/step4_rep_set.fna' target='_blank'>step4_rep_set.fna</a><br>"
       ],
       "output_type": "pyout",
       "prompt_number": 37,
       "text": [
        "ucrss_fast/\n",
        "  final_otu_map.txt\n",
        "  final_otu_map_mc2.txt\n",
        "  log_20121217082855.txt\n",
        "  new_refseqs.fna\n",
        "  otu_table_mc2.biom\n",
        "  otu_table_mc2_w_tax.biom\n",
        "  rep_set.fna\n",
        "ucrss_fast/prefilter_otus/\n",
        "  prefiltered_seqs.fna\n",
        "  seqs_clusters.uc\n",
        "  seqs_failures.txt\n",
        "  seqs_otus.log\n",
        "  seqs_otus.txt\n",
        "ucrss_fast/rdp_assigned_taxonomy/\n",
        "  rep_set_tax_assignments.log\n",
        "  rep_set_tax_assignments.txt\n",
        "ucrss_fast/step1_otus/\n",
        "  failures.fasta\n",
        "  prefiltered_seqs_clusters.uc\n",
        "  prefiltered_seqs_failures.txt\n",
        "  prefiltered_seqs_otus.log\n",
        "  prefiltered_seqs_otus.txt\n",
        "  step1_rep_set.fna\n",
        "  subsampled_failures.fasta\n",
        "ucrss_fast/step2_otus/\n",
        "  step2_rep_set.fna\n",
        "  subsampled_failures_clusters.uc\n",
        "  subsampled_failures_otus.log\n",
        "  subsampled_failures_otus.txt\n",
        "ucrss_fast/step3_otus/\n",
        "  failures_clusters.uc\n",
        "  failures_failures.fasta\n",
        "  failures_failures.txt\n",
        "  failures_otus.log\n",
        "  failures_otus.txt\n",
        "ucrss_fast/step4_otus/\n",
        "  failures_failures_clusters.uc\n",
        "  failures_failures_otus.log\n",
        "  failures_failures_otus.txt\n",
        "  step4_rep_set.fna"
       ]
      }
     ],
     "prompt_number": 37
    },
    {
     "cell_type": "markdown",
     "metadata": {},
     "source": [
      "You can then pass the OTU table to ``per_library_stats.py`` to view a summary of the information in the OTU table."
     ]
    },
    {
     "cell_type": "code",
     "collapsed": false,
     "input": [
      "otu_table_fp = \"ucrss_fast/otu_table_mc2_w_tax.biom\"\n",
      "!per_library_stats.py -i $otu_table_fp"
     ],
     "language": "python",
     "metadata": {},
     "outputs": [
      {
       "output_type": "stream",
       "stream": "stdout",
       "text": [
        "Num samples: 9\r\n",
        "Num otus: 1103\r\n",
        "Num observations (sequences): 15925.0\r\n",
        "Table density (fraction of non-zero values): 0.1449\r\n",
        "\r\n",
        "Seqs/sample summary:\r\n",
        " Min: 287.0\r\n",
        " Max: 3773.0\r\n",
        " Median: 1259.0\r\n",
        " Mean: 1769.44444444\r\n",
        " Std. dev.: 1171.29122587\r\n",
        " Median Absolute Deviation: 861.0\r\n",
        " Default even sampling depth in\r\n",
        "  core_qiime_analyses.py (just a suggestion): 287.0\r\n",
        " Sample Metadata Categories: None provided\r\n",
        " Observation Metadata Categories: taxonomy\r\n",
        "\r\n",
        "Seqs/sample detail:\r\n",
        " LQ2: 287.0\r\n",
        " SV1: 656.0\r\n",
        " CL4: 875.0\r\n",
        " AR3: 1201.0\r\n",
        " MD4: 1259.0\r\n",
        " PE5: 2120.0\r\n",
        " KP4: 2193.0\r\n",
        " PE6: 3561.0\r\n",
        " SF1: 3773.0\r\n"
       ]
      }
     ],
     "prompt_number": 39
    },
    {
     "cell_type": "markdown",
     "metadata": {},
     "source": [
      "Next we'll run a few representative analyses on the OTU table. First we'll compute beta diveristy and generated PCoA plots, and then we'll generate taxonomic summaries of the samples. Note that for the beta diversity analysis we choose an even sampling depth of ``287`` based on the results of ``per_library_stats.py``."
     ]
    },
    {
     "cell_type": "code",
     "collapsed": false,
     "input": [
      "bdiv_output_dir = \"ucrss_fast/bdiv_even287/\"\n",
      "!beta_diversity_through_plots.py -i $otu_table_fp -o $bdiv_output_dir -e 287 -p $parameters_fp -m $mapping_fp"
     ],
     "language": "python",
     "metadata": {},
     "outputs": [],
     "prompt_number": 40
    },
    {
     "cell_type": "code",
     "collapsed": false,
     "input": [
      "FileLinks(\"ucrss_fast/bdiv_even287/\")"
     ],
     "language": "python",
     "metadata": {},
     "outputs": [
      {
       "html": [
        "ucrss_fast/bdiv_even287/<br>\n",
        "&nbsp;&nbsp;<a href='files/ucrss_fast/bdiv_even287/bray_curtis_dm.txt' target='_blank'>bray_curtis_dm.txt</a><br>\n",
        "&nbsp;&nbsp;<a href='files/ucrss_fast/bdiv_even287/bray_curtis_pc.txt' target='_blank'>bray_curtis_pc.txt</a><br>\n",
        "&nbsp;&nbsp;<a href='files/ucrss_fast/bdiv_even287/log_20121217083846.txt' target='_blank'>log_20121217083846.txt</a><br>\n",
        "&nbsp;&nbsp;<a href='files/ucrss_fast/bdiv_even287/otu_table_mc2_w_tax_even287.biom' target='_blank'>otu_table_mc2_w_tax_even287.biom</a><br>\n",
        "&nbsp;&nbsp;<a href='files/ucrss_fast/bdiv_even287/prefs.txt' target='_blank'>prefs.txt</a><br>\n",
        "ucrss_fast/bdiv_even287/bray_curtis_2d_continuous/<br>\n",
        "&nbsp;&nbsp;<a href='files/ucrss_fast/bdiv_even287/bray_curtis_2d_continuous/bray_curtis_pc_2D_PCoA_plots.html' target='_blank'>bray_curtis_pc_2D_PCoA_plots.html</a><br>\n",
        "ucrss_fast/bdiv_even287/bray_curtis_2d_continuous/20121217083848MAcctDsORPVAvsVfbsSx/20121217083848aQtb2u00LvnKpCz064Av/<br>\n",
        "&nbsp;&nbsp;<a href='files/ucrss_fast/bdiv_even287/bray_curtis_2d_continuous/20121217083848MAcctDsORPVAvsVfbsSx/20121217083848aQtb2u00LvnKpCz064Av/PC1_vs_PC2_plot.png' target='_blank'>PC1_vs_PC2_plot.png</a><br>\n",
        "&nbsp;&nbsp;<a href='files/ucrss_fast/bdiv_even287/bray_curtis_2d_continuous/20121217083848MAcctDsORPVAvsVfbsSx/20121217083848aQtb2u00LvnKpCz064Av/PC1_vs_PC3_plot.png' target='_blank'>PC1_vs_PC3_plot.png</a><br>\n",
        "&nbsp;&nbsp;<a href='files/ucrss_fast/bdiv_even287/bray_curtis_2d_continuous/20121217083848MAcctDsORPVAvsVfbsSx/20121217083848aQtb2u00LvnKpCz064Av/PC1vsPC2plot.eps.gz' target='_blank'>PC1vsPC2plot.eps.gz</a><br>\n",
        "&nbsp;&nbsp;<a href='files/ucrss_fast/bdiv_even287/bray_curtis_2d_continuous/20121217083848MAcctDsORPVAvsVfbsSx/20121217083848aQtb2u00LvnKpCz064Av/PC1vsPC3plot.eps.gz' target='_blank'>PC1vsPC3plot.eps.gz</a><br>\n",
        "&nbsp;&nbsp;<a href='files/ucrss_fast/bdiv_even287/bray_curtis_2d_continuous/20121217083848MAcctDsORPVAvsVfbsSx/20121217083848aQtb2u00LvnKpCz064Av/PC3_vs_PC2_plot.png' target='_blank'>PC3_vs_PC2_plot.png</a><br>\n",
        "&nbsp;&nbsp;<a href='files/ucrss_fast/bdiv_even287/bray_curtis_2d_continuous/20121217083848MAcctDsORPVAvsVfbsSx/20121217083848aQtb2u00LvnKpCz064Av/PC3vsPC2plot.eps.gz' target='_blank'>PC3vsPC2plot.eps.gz</a><br>\n",
        "ucrss_fast/bdiv_even287/bray_curtis_2d_continuous/js/<br>\n",
        "&nbsp;&nbsp;<a href='files/ucrss_fast/bdiv_even287/bray_curtis_2d_continuous/js/overlib.js' target='_blank'>overlib.js</a><br>\n",
        "ucrss_fast/bdiv_even287/bray_curtis_2d_discrete/<br>\n",
        "&nbsp;&nbsp;<a href='files/ucrss_fast/bdiv_even287/bray_curtis_2d_discrete/bray_curtis_pc_2D_PCoA_plots.html' target='_blank'>bray_curtis_pc_2D_PCoA_plots.html</a><br>\n",
        "ucrss_fast/bdiv_even287/bray_curtis_2d_discrete/201212170838494RQUVK26vBLA1SPOGYkM/20121217083849lykaXRpcgPgbwgbRvQ2S/<br>\n",
        "&nbsp;&nbsp;<a href='files/ucrss_fast/bdiv_even287/bray_curtis_2d_discrete/201212170838494RQUVK26vBLA1SPOGYkM/20121217083849lykaXRpcgPgbwgbRvQ2S/PC1_vs_PC2_plot.png' target='_blank'>PC1_vs_PC2_plot.png</a><br>\n",
        "&nbsp;&nbsp;<a href='files/ucrss_fast/bdiv_even287/bray_curtis_2d_discrete/201212170838494RQUVK26vBLA1SPOGYkM/20121217083849lykaXRpcgPgbwgbRvQ2S/PC1_vs_PC3_plot.png' target='_blank'>PC1_vs_PC3_plot.png</a><br>\n",
        "&nbsp;&nbsp;<a href='files/ucrss_fast/bdiv_even287/bray_curtis_2d_discrete/201212170838494RQUVK26vBLA1SPOGYkM/20121217083849lykaXRpcgPgbwgbRvQ2S/PC1vsPC2plot.eps.gz' target='_blank'>PC1vsPC2plot.eps.gz</a><br>\n",
        "&nbsp;&nbsp;<a href='files/ucrss_fast/bdiv_even287/bray_curtis_2d_discrete/201212170838494RQUVK26vBLA1SPOGYkM/20121217083849lykaXRpcgPgbwgbRvQ2S/PC1vsPC3plot.eps.gz' target='_blank'>PC1vsPC3plot.eps.gz</a><br>\n",
        "&nbsp;&nbsp;<a href='files/ucrss_fast/bdiv_even287/bray_curtis_2d_discrete/201212170838494RQUVK26vBLA1SPOGYkM/20121217083849lykaXRpcgPgbwgbRvQ2S/PC3_vs_PC2_plot.png' target='_blank'>PC3_vs_PC2_plot.png</a><br>\n",
        "&nbsp;&nbsp;<a href='files/ucrss_fast/bdiv_even287/bray_curtis_2d_discrete/201212170838494RQUVK26vBLA1SPOGYkM/20121217083849lykaXRpcgPgbwgbRvQ2S/PC3vsPC2plot.eps.gz' target='_blank'>PC3vsPC2plot.eps.gz</a><br>\n",
        "ucrss_fast/bdiv_even287/bray_curtis_2d_discrete/js/<br>\n",
        "&nbsp;&nbsp;<a href='files/ucrss_fast/bdiv_even287/bray_curtis_2d_discrete/js/overlib.js' target='_blank'>overlib.js</a><br>\n",
        "ucrss_fast/bdiv_even287/bray_curtis_3d_continuous/<br>\n",
        "&nbsp;&nbsp;<a href='files/ucrss_fast/bdiv_even287/bray_curtis_3d_continuous/bray_curtis_pc_3D_PCoA_plots.html' target='_blank'>bray_curtis_pc_3D_PCoA_plots.html</a><br>\n",
        "ucrss_fast/bdiv_even287/bray_curtis_3d_continuous/20121217083847tGA2UkilCfDwBwH76ASl/<br>\n",
        "&nbsp;&nbsp;<a href='files/ucrss_fast/bdiv_even287/bray_curtis_3d_continuous/20121217083847tGA2UkilCfDwBwH76ASl/bray_curtis_pc.txt.kin' target='_blank'>bray_curtis_pc.txt.kin</a><br>\n",
        "ucrss_fast/bdiv_even287/bray_curtis_3d_continuous/jar/<br>\n",
        "&nbsp;&nbsp;<a href='files/ucrss_fast/bdiv_even287/bray_curtis_3d_continuous/jar/king.jar' target='_blank'>king.jar</a><br>\n",
        "ucrss_fast/bdiv_even287/bray_curtis_3d_discrete/<br>\n",
        "&nbsp;&nbsp;<a href='files/ucrss_fast/bdiv_even287/bray_curtis_3d_discrete/bray_curtis_pc_3D_PCoA_plots.html' target='_blank'>bray_curtis_pc_3D_PCoA_plots.html</a><br>\n",
        "ucrss_fast/bdiv_even287/bray_curtis_3d_discrete/20121217083848riK1gmYbchgpPIXCYrbS/<br>\n",
        "&nbsp;&nbsp;<a href='files/ucrss_fast/bdiv_even287/bray_curtis_3d_discrete/20121217083848riK1gmYbchgpPIXCYrbS/bray_curtis_pc.txt.kin' target='_blank'>bray_curtis_pc.txt.kin</a><br>\n",
        "ucrss_fast/bdiv_even287/bray_curtis_3d_discrete/jar/<br>\n",
        "&nbsp;&nbsp;<a href='files/ucrss_fast/bdiv_even287/bray_curtis_3d_discrete/jar/king.jar' target='_blank'>king.jar</a><br>"
       ],
       "output_type": "pyout",
       "prompt_number": 41,
       "text": [
        "ucrss_fast/bdiv_even287/\n",
        "  bray_curtis_dm.txt\n",
        "  bray_curtis_pc.txt\n",
        "  log_20121217083846.txt\n",
        "  otu_table_mc2_w_tax_even287.biom\n",
        "  prefs.txt\n",
        "ucrss_fast/bdiv_even287/bray_curtis_2d_continuous/\n",
        "  bray_curtis_pc_2D_PCoA_plots.html\n",
        "ucrss_fast/bdiv_even287/bray_curtis_2d_continuous/20121217083848MAcctDsORPVAvsVfbsSx/20121217083848aQtb2u00LvnKpCz064Av/\n",
        "  PC1_vs_PC2_plot.png\n",
        "  PC1_vs_PC3_plot.png\n",
        "  PC1vsPC2plot.eps.gz\n",
        "  PC1vsPC3plot.eps.gz\n",
        "  PC3_vs_PC2_plot.png\n",
        "  PC3vsPC2plot.eps.gz\n",
        "ucrss_fast/bdiv_even287/bray_curtis_2d_continuous/js/\n",
        "  overlib.js\n",
        "ucrss_fast/bdiv_even287/bray_curtis_2d_discrete/\n",
        "  bray_curtis_pc_2D_PCoA_plots.html\n",
        "ucrss_fast/bdiv_even287/bray_curtis_2d_discrete/201212170838494RQUVK26vBLA1SPOGYkM/20121217083849lykaXRpcgPgbwgbRvQ2S/\n",
        "  PC1_vs_PC2_plot.png\n",
        "  PC1_vs_PC3_plot.png\n",
        "  PC1vsPC2plot.eps.gz\n",
        "  PC1vsPC3plot.eps.gz\n",
        "  PC3_vs_PC2_plot.png\n",
        "  PC3vsPC2plot.eps.gz\n",
        "ucrss_fast/bdiv_even287/bray_curtis_2d_discrete/js/\n",
        "  overlib.js\n",
        "ucrss_fast/bdiv_even287/bray_curtis_3d_continuous/\n",
        "  bray_curtis_pc_3D_PCoA_plots.html\n",
        "ucrss_fast/bdiv_even287/bray_curtis_3d_continuous/20121217083847tGA2UkilCfDwBwH76ASl/\n",
        "  bray_curtis_pc.txt.kin\n",
        "ucrss_fast/bdiv_even287/bray_curtis_3d_continuous/jar/\n",
        "  king.jar\n",
        "ucrss_fast/bdiv_even287/bray_curtis_3d_discrete/\n",
        "  bray_curtis_pc_3D_PCoA_plots.html\n",
        "ucrss_fast/bdiv_even287/bray_curtis_3d_discrete/20121217083848riK1gmYbchgpPIXCYrbS/\n",
        "  bray_curtis_pc.txt.kin\n",
        "ucrss_fast/bdiv_even287/bray_curtis_3d_discrete/jar/\n",
        "  king.jar"
       ]
      }
     ],
     "prompt_number": 41
    },
    {
     "cell_type": "markdown",
     "metadata": {},
     "source": [
      "The primary files of interested here are the 2d and 3d PCoA plots. You can view those by clicking the corresponding links."
     ]
    },
    {
     "cell_type": "code",
     "collapsed": false,
     "input": [
      "taxa_output_dir = 'ucrss_fast/taxa_plots/'\n",
      "!summarize_taxa_through_plots.py -i $otu_table_fp -o $taxa_output_dir"
     ],
     "language": "python",
     "metadata": {},
     "outputs": [],
     "prompt_number": 43
    },
    {
     "cell_type": "code",
     "collapsed": false,
     "input": [
      "FileLinks('ucrss_fast/taxa_plots/')"
     ],
     "language": "python",
     "metadata": {},
     "outputs": [
      {
       "html": [
        "ucrss_fast/taxa_plots/<br>\n",
        "&nbsp;&nbsp;<a href='files/ucrss_fast/taxa_plots/log_20121217083944.txt' target='_blank'>log_20121217083944.txt</a><br>\n",
        "&nbsp;&nbsp;<a href='files/ucrss_fast/taxa_plots/otu_table_mc2_w_tax_L2.txt' target='_blank'>otu_table_mc2_w_tax_L2.txt</a><br>\n",
        "&nbsp;&nbsp;<a href='files/ucrss_fast/taxa_plots/otu_table_mc2_w_tax_L3.txt' target='_blank'>otu_table_mc2_w_tax_L3.txt</a><br>\n",
        "&nbsp;&nbsp;<a href='files/ucrss_fast/taxa_plots/otu_table_mc2_w_tax_L4.txt' target='_blank'>otu_table_mc2_w_tax_L4.txt</a><br>\n",
        "&nbsp;&nbsp;<a href='files/ucrss_fast/taxa_plots/otu_table_mc2_w_tax_L5.txt' target='_blank'>otu_table_mc2_w_tax_L5.txt</a><br>\n",
        "&nbsp;&nbsp;<a href='files/ucrss_fast/taxa_plots/otu_table_mc2_w_tax_L6.txt' target='_blank'>otu_table_mc2_w_tax_L6.txt</a><br>\n",
        "ucrss_fast/taxa_plots/taxa_summary_plots/<br>\n",
        "&nbsp;&nbsp;<a href='files/ucrss_fast/taxa_plots/taxa_summary_plots/area_charts.html' target='_blank'>area_charts.html</a><br>\n",
        "&nbsp;&nbsp;<a href='files/ucrss_fast/taxa_plots/taxa_summary_plots/bar_charts.html' target='_blank'>bar_charts.html</a><br>\n",
        "ucrss_fast/taxa_plots/taxa_summary_plots/charts/<br>\n",
        "&nbsp;&nbsp;<a href='files/ucrss_fast/taxa_plots/taxa_summary_plots/charts/02YkT6W0o0T9i9u04CgF8QfN6KzzJ1.pdf' target='_blank'>02YkT6W0o0T9i9u04CgF8QfN6KzzJ1.pdf</a><br>\n",
        "&nbsp;&nbsp;<a href='files/ucrss_fast/taxa_plots/taxa_summary_plots/charts/15jzzheGSyZm2KdJS2KqnK0MDypLN2.pdf' target='_blank'>15jzzheGSyZm2KdJS2KqnK0MDypLN2.pdf</a><br>\n",
        "&nbsp;&nbsp;<a href='files/ucrss_fast/taxa_plots/taxa_summary_plots/charts/21lA4L0Fuw8a72h2xp1LY21NCSqZ0X.pdf' target='_blank'>21lA4L0Fuw8a72h2xp1LY21NCSqZ0X.pdf</a><br>\n",
        "&nbsp;&nbsp;<a href='files/ucrss_fast/taxa_plots/taxa_summary_plots/charts/3QOMl4y1B268ZOhO0sPO8eq9CimmG0.png' target='_blank'>3QOMl4y1B268ZOhO0sPO8eq9CimmG0.png</a><br>\n",
        "&nbsp;&nbsp;<a href='files/ucrss_fast/taxa_plots/taxa_summary_plots/charts/3QOMl4y1B268ZOhO0sPO8eq9CimmG0_legend.pdf' target='_blank'>3QOMl4y1B268ZOhO0sPO8eq9CimmG0_legend.pdf</a><br>\n",
        "&nbsp;&nbsp;<a href='files/ucrss_fast/taxa_plots/taxa_summary_plots/charts/5ATOlIKhTZRFW3jS2y2TzX3Y23XEop.pdf' target='_blank'>5ATOlIKhTZRFW3jS2y2TzX3Y23XEop.pdf</a><br>\n",
        "&nbsp;&nbsp;<a href='files/ucrss_fast/taxa_plots/taxa_summary_plots/charts/5nnz8X9wC0mQ19WydkgruTXJDmPJuS.png' target='_blank'>5nnz8X9wC0mQ19WydkgruTXJDmPJuS.png</a><br>\n",
        "&nbsp;&nbsp;<a href='files/ucrss_fast/taxa_plots/taxa_summary_plots/charts/5nnz8X9wC0mQ19WydkgruTXJDmPJuS_legend.pdf' target='_blank'>5nnz8X9wC0mQ19WydkgruTXJDmPJuS_legend.pdf</a><br>\n",
        "&nbsp;&nbsp;<a href='files/ucrss_fast/taxa_plots/taxa_summary_plots/charts/6bUlnZjskKBjq4BEqan9sR3p6phge7.png' target='_blank'>6bUlnZjskKBjq4BEqan9sR3p6phge7.png</a><br>\n",
        "&nbsp;&nbsp;<a href='files/ucrss_fast/taxa_plots/taxa_summary_plots/charts/6bUlnZjskKBjq4BEqan9sR3p6phge7_legend.pdf' target='_blank'>6bUlnZjskKBjq4BEqan9sR3p6phge7_legend.pdf</a><br>\n",
        "&nbsp;&nbsp;<a href='files/ucrss_fast/taxa_plots/taxa_summary_plots/charts/bCxyCGwUrBoWZhX0IzuD9m4zrXI4tw.pdf' target='_blank'>bCxyCGwUrBoWZhX0IzuD9m4zrXI4tw.pdf</a><br>\n",
        "&nbsp;&nbsp;<a href='files/ucrss_fast/taxa_plots/taxa_summary_plots/charts/DHZlrnZON0xwWugGHZBCHQMOHt97nt.png' target='_blank'>DHZlrnZON0xwWugGHZBCHQMOHt97nt.png</a><br>\n",
        "&nbsp;&nbsp;<a href='files/ucrss_fast/taxa_plots/taxa_summary_plots/charts/DHZlrnZON0xwWugGHZBCHQMOHt97nt_legend.pdf' target='_blank'>DHZlrnZON0xwWugGHZBCHQMOHt97nt_legend.pdf</a><br>\n",
        "&nbsp;&nbsp;<a href='files/ucrss_fast/taxa_plots/taxa_summary_plots/charts/e0ss5BY0eSWoJf3HNi2hrS2MiFjQqO.png' target='_blank'>e0ss5BY0eSWoJf3HNi2hrS2MiFjQqO.png</a><br>\n",
        "&nbsp;&nbsp;<a href='files/ucrss_fast/taxa_plots/taxa_summary_plots/charts/e0ss5BY0eSWoJf3HNi2hrS2MiFjQqO_legend.pdf' target='_blank'>e0ss5BY0eSWoJf3HNi2hrS2MiFjQqO_legend.pdf</a><br>\n",
        "&nbsp;&nbsp;<a href='files/ucrss_fast/taxa_plots/taxa_summary_plots/charts/eUiHWmKC369KUdkChlsSYNW21JuQeG.pdf' target='_blank'>eUiHWmKC369KUdkChlsSYNW21JuQeG.pdf</a><br>\n",
        "&nbsp;&nbsp;<a href='files/ucrss_fast/taxa_plots/taxa_summary_plots/charts/iwFlCZhMXXoueJJjDOdxdZfzROtu0c.png' target='_blank'>iwFlCZhMXXoueJJjDOdxdZfzROtu0c.png</a><br>\n",
        "&nbsp;&nbsp;<a href='files/ucrss_fast/taxa_plots/taxa_summary_plots/charts/iwFlCZhMXXoueJJjDOdxdZfzROtu0c_legend.pdf' target='_blank'>iwFlCZhMXXoueJJjDOdxdZfzROtu0c_legend.pdf</a><br>\n",
        "&nbsp;&nbsp;<a href='files/ucrss_fast/taxa_plots/taxa_summary_plots/charts/j0u0Zk0x3o6LWyUTrE6dnDm15UoBUb.png' target='_blank'>j0u0Zk0x3o6LWyUTrE6dnDm15UoBUb.png</a><br>\n",
        "&nbsp;&nbsp;<a href='files/ucrss_fast/taxa_plots/taxa_summary_plots/charts/j0u0Zk0x3o6LWyUTrE6dnDm15UoBUb_legend.pdf' target='_blank'>j0u0Zk0x3o6LWyUTrE6dnDm15UoBUb_legend.pdf</a><br>\n",
        "&nbsp;&nbsp;<a href='files/ucrss_fast/taxa_plots/taxa_summary_plots/charts/j0YIOdMdFHiiSByDGyCuLNZzF9DG4a.pdf' target='_blank'>j0YIOdMdFHiiSByDGyCuLNZzF9DG4a.pdf</a><br>\n",
        "&nbsp;&nbsp;<a href='files/ucrss_fast/taxa_plots/taxa_summary_plots/charts/rnGAPrqDgltbxFBXG4oF5PLECU3R2n.pdf' target='_blank'>rnGAPrqDgltbxFBXG4oF5PLECU3R2n.pdf</a><br>\n",
        "&nbsp;&nbsp;<a href='files/ucrss_fast/taxa_plots/taxa_summary_plots/charts/SOWQkzZ5BdZ7sC0RMflRmOshELlj3i.png' target='_blank'>SOWQkzZ5BdZ7sC0RMflRmOshELlj3i.png</a><br>\n",
        "&nbsp;&nbsp;<a href='files/ucrss_fast/taxa_plots/taxa_summary_plots/charts/SOWQkzZ5BdZ7sC0RMflRmOshELlj3i_legend.pdf' target='_blank'>SOWQkzZ5BdZ7sC0RMflRmOshELlj3i_legend.pdf</a><br>\n",
        "&nbsp;&nbsp;<a href='files/ucrss_fast/taxa_plots/taxa_summary_plots/charts/TNzkrJTtysT83tATz06xqD1TJ0bwTa.png' target='_blank'>TNzkrJTtysT83tATz06xqD1TJ0bwTa.png</a><br>\n",
        "&nbsp;&nbsp;<a href='files/ucrss_fast/taxa_plots/taxa_summary_plots/charts/TNzkrJTtysT83tATz06xqD1TJ0bwTa_legend.pdf' target='_blank'>TNzkrJTtysT83tATz06xqD1TJ0bwTa_legend.pdf</a><br>\n",
        "&nbsp;&nbsp;<a href='files/ucrss_fast/taxa_plots/taxa_summary_plots/charts/w0rZq6nz7diz1hrp1kMSli5pQe8bsE.png' target='_blank'>w0rZq6nz7diz1hrp1kMSli5pQe8bsE.png</a><br>\n",
        "&nbsp;&nbsp;<a href='files/ucrss_fast/taxa_plots/taxa_summary_plots/charts/w0rZq6nz7diz1hrp1kMSli5pQe8bsE_legend.pdf' target='_blank'>w0rZq6nz7diz1hrp1kMSli5pQe8bsE_legend.pdf</a><br>\n",
        "&nbsp;&nbsp;<a href='files/ucrss_fast/taxa_plots/taxa_summary_plots/charts/yPBRSHNzDLKZ11zqJHjF8yd0mWHbf7.pdf' target='_blank'>yPBRSHNzDLKZ11zqJHjF8yd0mWHbf7.pdf</a><br>\n",
        "&nbsp;&nbsp;<a href='files/ucrss_fast/taxa_plots/taxa_summary_plots/charts/ZmZB0rORbKiWJydkHA2Whqo79UcQtD.pdf' target='_blank'>ZmZB0rORbKiWJydkHA2Whqo79UcQtD.pdf</a><br>\n",
        "ucrss_fast/taxa_plots/taxa_summary_plots/css/<br>\n",
        "&nbsp;&nbsp;<a href='files/ucrss_fast/taxa_plots/taxa_summary_plots/css/qiime_style.css' target='_blank'>qiime_style.css</a><br>\n",
        "ucrss_fast/taxa_plots/taxa_summary_plots/js/<br>\n",
        "&nbsp;&nbsp;<a href='files/ucrss_fast/taxa_plots/taxa_summary_plots/js/overlib.js' target='_blank'>overlib.js</a><br>\n",
        "ucrss_fast/taxa_plots/taxa_summary_plots/raw_data/<br>\n",
        "&nbsp;&nbsp;<a href='files/ucrss_fast/taxa_plots/taxa_summary_plots/raw_data/otu_table_mc2_w_tax_L2.txt' target='_blank'>otu_table_mc2_w_tax_L2.txt</a><br>\n",
        "&nbsp;&nbsp;<a href='files/ucrss_fast/taxa_plots/taxa_summary_plots/raw_data/otu_table_mc2_w_tax_L3.txt' target='_blank'>otu_table_mc2_w_tax_L3.txt</a><br>\n",
        "&nbsp;&nbsp;<a href='files/ucrss_fast/taxa_plots/taxa_summary_plots/raw_data/otu_table_mc2_w_tax_L4.txt' target='_blank'>otu_table_mc2_w_tax_L4.txt</a><br>\n",
        "&nbsp;&nbsp;<a href='files/ucrss_fast/taxa_plots/taxa_summary_plots/raw_data/otu_table_mc2_w_tax_L5.txt' target='_blank'>otu_table_mc2_w_tax_L5.txt</a><br>\n",
        "&nbsp;&nbsp;<a href='files/ucrss_fast/taxa_plots/taxa_summary_plots/raw_data/otu_table_mc2_w_tax_L6.txt' target='_blank'>otu_table_mc2_w_tax_L6.txt</a><br>"
       ],
       "output_type": "pyout",
       "prompt_number": 44,
       "text": [
        "ucrss_fast/taxa_plots/\n",
        "  log_20121217083944.txt\n",
        "  otu_table_mc2_w_tax_L2.txt\n",
        "  otu_table_mc2_w_tax_L3.txt\n",
        "  otu_table_mc2_w_tax_L4.txt\n",
        "  otu_table_mc2_w_tax_L5.txt\n",
        "  otu_table_mc2_w_tax_L6.txt\n",
        "ucrss_fast/taxa_plots/taxa_summary_plots/\n",
        "  area_charts.html\n",
        "  bar_charts.html\n",
        "ucrss_fast/taxa_plots/taxa_summary_plots/charts/\n",
        "  02YkT6W0o0T9i9u04CgF8QfN6KzzJ1.pdf\n",
        "  15jzzheGSyZm2KdJS2KqnK0MDypLN2.pdf\n",
        "  21lA4L0Fuw8a72h2xp1LY21NCSqZ0X.pdf\n",
        "  3QOMl4y1B268ZOhO0sPO8eq9CimmG0.png\n",
        "  3QOMl4y1B268ZOhO0sPO8eq9CimmG0_legend.pdf\n",
        "  5ATOlIKhTZRFW3jS2y2TzX3Y23XEop.pdf\n",
        "  5nnz8X9wC0mQ19WydkgruTXJDmPJuS.png\n",
        "  5nnz8X9wC0mQ19WydkgruTXJDmPJuS_legend.pdf\n",
        "  6bUlnZjskKBjq4BEqan9sR3p6phge7.png\n",
        "  6bUlnZjskKBjq4BEqan9sR3p6phge7_legend.pdf\n",
        "  bCxyCGwUrBoWZhX0IzuD9m4zrXI4tw.pdf\n",
        "  DHZlrnZON0xwWugGHZBCHQMOHt97nt.png\n",
        "  DHZlrnZON0xwWugGHZBCHQMOHt97nt_legend.pdf\n",
        "  e0ss5BY0eSWoJf3HNi2hrS2MiFjQqO.png\n",
        "  e0ss5BY0eSWoJf3HNi2hrS2MiFjQqO_legend.pdf\n",
        "  eUiHWmKC369KUdkChlsSYNW21JuQeG.pdf\n",
        "  iwFlCZhMXXoueJJjDOdxdZfzROtu0c.png\n",
        "  iwFlCZhMXXoueJJjDOdxdZfzROtu0c_legend.pdf\n",
        "  j0u0Zk0x3o6LWyUTrE6dnDm15UoBUb.png\n",
        "  j0u0Zk0x3o6LWyUTrE6dnDm15UoBUb_legend.pdf\n",
        "  j0YIOdMdFHiiSByDGyCuLNZzF9DG4a.pdf\n",
        "  rnGAPrqDgltbxFBXG4oF5PLECU3R2n.pdf\n",
        "  SOWQkzZ5BdZ7sC0RMflRmOshELlj3i.png\n",
        "  SOWQkzZ5BdZ7sC0RMflRmOshELlj3i_legend.pdf\n",
        "  TNzkrJTtysT83tATz06xqD1TJ0bwTa.png\n",
        "  TNzkrJTtysT83tATz06xqD1TJ0bwTa_legend.pdf\n",
        "  w0rZq6nz7diz1hrp1kMSli5pQe8bsE.png\n",
        "  w0rZq6nz7diz1hrp1kMSli5pQe8bsE_legend.pdf\n",
        "  yPBRSHNzDLKZ11zqJHjF8yd0mWHbf7.pdf\n",
        "  ZmZB0rORbKiWJydkHA2Whqo79UcQtD.pdf\n",
        "ucrss_fast/taxa_plots/taxa_summary_plots/css/\n",
        "  qiime_style.css\n",
        "ucrss_fast/taxa_plots/taxa_summary_plots/js/\n",
        "  overlib.js\n",
        "ucrss_fast/taxa_plots/taxa_summary_plots/raw_data/\n",
        "  otu_table_mc2_w_tax_L2.txt\n",
        "  otu_table_mc2_w_tax_L3.txt\n",
        "  otu_table_mc2_w_tax_L4.txt\n",
        "  otu_table_mc2_w_tax_L5.txt\n",
        "  otu_table_mc2_w_tax_L6.txt"
       ]
      }
     ],
     "prompt_number": 44
    },
    {
     "cell_type": "markdown",
     "metadata": {},
     "source": [
      "Here the most interesting file is the ``bar_charts.html``. Click that to open it in a new browser window/tab."
     ]
    },
    {
     "cell_type": "code",
     "collapsed": false,
     "input": [],
     "language": "python",
     "metadata": {},
     "outputs": []
    }
   ],
   "metadata": {}
  }
 ]
}