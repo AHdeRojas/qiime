{
 "metadata": {
  "name": "illumina_overview_template_notebook"
 },
 "nbformat": 3,
 "nbformat_minor": 0,
 "worksheets": [
  {
   "cells": [
    {
     "cell_type": "markdown",
     "metadata": {},
     "source": [
      "## Notebook preparation\n",
      "\n",
      "This notebook was designed to run in AMI ami-e4bf1b8d with the [Illumina Overview Tutorial](http://qiime.org/svn_documentation/tutorials/illumina_overview_tutorial.html). Your system administrator should update to the latest version of QIIME before you run these analyses as follows:\n",
      "\n",
      "`wget ftp://thebeast.colorado.edu/pub/QIIME-v1.5.0-dependencies/app-deploy-qiime-1.5.0.tgz`\n",
      "\n",
      "`tar zxvf app-deploy-qiime-1.5.0.tgz`\n",
      "\n",
      "`cd app-deploy-qiime-1.5.0`\n",
      "\n",
      "`python app-deploy.py /home/ubuntu/qiime_software/ -f etc/qiime_1.5.0_repository.conf --force-remove-failed-dirs --force-remove-previous-repos`\n",
      "\n",
      "`source ~/.bashrc`"
     ]
    },
    {
     "cell_type": "markdown",
     "metadata": {},
     "source": [
      "## Getting started\n",
      "\n",
      "We'll begin by initializing some variables to configure our IPython computing environment. Don't edit anything in this first cell. "
     ]
    },
    {
     "cell_type": "code",
     "collapsed": false,
     "input": [
      "from random import choice\n",
      "from os import chdir, mkdir\n",
      "from os.path import join\n",
      "from qiime.format import get_ipynb_output_formatter\n",
      "\n",
      "# just in case this cell is re-run, we want to start in the IPython\n",
      "# home directory again.\n",
      "ip_homedir = get_ipython().home_dir\n",
      "chdir(ip_homedir)\n",
      "\n",
      "basedir = \"temp\"\n",
      "choices = \"ABCDEFGHIJKLMNOPQRSTUVWXYZ\"\n",
      "choices += choices.lower()\n",
      "working_dir = join(basedir,''.join([choice(choices) for i in range(10)]))\n",
      "\n",
      "otu_base = \"/home/ubuntu/qiime_software/gg_otus-4feb2011-release\"\n",
      "reference_seqs = join(otu_base,\"rep_set/gg_97_otus_4feb2011.fasta\")\n",
      "reference_tree = join(otu_base,\"trees/gg_97_otus_4feb2011.tre\")\n",
      "reference_tax = join(otu_base,\"taxonomies/greengenes_tax.txt\")\n",
      "\n",
      "print \"Your working directory is %s\" % working_dir\n",
      "mkdir(working_dir)\n",
      "chdir(working_dir)\n",
      "\n",
      "!wget https://s3.amazonaws.com/qiime-tutorial/moving_pictures_tutorial.tgz\n",
      "!tar -xzf moving_pictures_tutorial.tgz\n",
      "chdir('moving_pictures_tutorial')\n",
      "\n",
      "of = get_ipynb_output_formatter(join(working_dir,'moving_pictures_tutorial'))"
     ],
     "language": "python",
     "metadata": {},
     "outputs": []
    },
    {
     "cell_type": "markdown",
     "metadata": {},
     "source": [
      "## Running the Illumina Overview Tutorial\n",
      "\n",
      "You can now get started. Follow the steps found in the [Illumina Overview Tutorial](http://qiime.org/svn_documentation/tutorials/illumina_overview_tutorial.html). "
     ]
    },
    {
     "cell_type": "code",
     "collapsed": false,
     "input": [],
     "language": "python",
     "metadata": {},
     "outputs": []
    }
   ],
   "metadata": {}
  }
 ]
}