{
 "metadata": {
  "name": "illumina_overview_complete_notebook"
 },
 "nbformat": 3,
 "nbformat_minor": 0,
 "worksheets": [
  {
   "cells": [
    {
     "cell_type": "markdown",
     "metadata": {},
     "source": [
      "## Notebook preparation\n",
      "\n",
      "This notebook was designed to run in AMI ami-e4bf1b8d with the [Illumina Overview Tutorial](http://qiime.org/svn_documentation/tutorials/illumina_overview_tutorial.html). Your system administrator should update to the latest version of QIIME before you run these analyses as follows:\n",
      "\n",
      "`wget ftp://thebeast.colorado.edu/pub/QIIME-v1.5.0-dependencies/app-deploy-qiime-1.5.0.tgz`\n",
      "\n",
      "`tar zxvf app-deploy-qiime-1.5.0.tgz`\n",
      "\n",
      "`cd app-deploy-qiime-1.5.0`\n",
      "\n",
      "`python app-deploy.py /home/ubuntu/qiime_software/ -f etc/qiime_1.5.0_repository.conf --force-remove-failed-dirs --force-remove-previous-repos`\n",
      "\n",
      "`source ~/.bashrc`\n",
      "\n",
      "This notebook illustrates the results of the commands in the [Illumina Overview Tutorial](http://qiime.org/svn_documentation/tutorials/illumina_overview_tutorial.html)."
     ]
    },
    {
     "cell_type": "markdown",
     "metadata": {},
     "source": [
      "## Getting started\n",
      "\n",
      "We'll begin by initializing some variables to configure our IPython computing environment. Don't edit anything in this first cell. "
     ]
    },
    {
     "cell_type": "code",
     "collapsed": false,
     "input": [
      "from random import choice\n",
      "from os import chdir, mkdir\n",
      "from os.path import join\n",
      "from qiime.format import get_ipynb_output_formatter\n",
      "\n",
      "# just in case this cell is re-run, we want to start in the IPython\n",
      "# home directory again.\n",
      "ip_homedir = get_ipython().home_dir\n",
      "chdir(ip_homedir)\n",
      "\n",
      "basedir = \"temp\"\n",
      "choices = \"ABCDEFGHIJKLMNOPQRSTUVWXYZ\"\n",
      "choices += choices.lower()\n",
      "working_dir = join(basedir,''.join([choice(choices) for i in range(10)]))\n",
      "\n",
      "otu_base = \"/home/ubuntu/qiime_software/gg_otus-4feb2011-release\"\n",
      "reference_seqs = join(otu_base,\"rep_set/gg_97_otus_4feb2011.fasta\")\n",
      "reference_tree = join(otu_base,\"trees/gg_97_otus_4feb2011.tre\")\n",
      "reference_tax = join(otu_base,\"taxonomies/greengenes_tax.txt\")\n",
      "\n",
      "print \"Your working directory is %s\" % working_dir\n",
      "mkdir(working_dir)\n",
      "chdir(working_dir)\n",
      "\n",
      "!wget https://s3.amazonaws.com/qiime-tutorial/moving_pictures_tutorial.tgz\n",
      "!tar -xzf moving_pictures_tutorial.tgz\n",
      "chdir('moving_pictures_tutorial')\n",
      "\n",
      "of = get_ipynb_output_formatter(join(working_dir,'moving_pictures_tutorial'))"
     ],
     "language": "python",
     "metadata": {},
     "outputs": [
      {
       "output_type": "stream",
       "stream": "stdout",
       "text": [
        "Your working directory is temp/NHGaXPkCzI\n"
       ]
      }
     ],
     "prompt_number": 48
    },
    {
     "cell_type": "markdown",
     "metadata": {},
     "source": [
      "Start by seeing what files are in our tutorial direcotry. We can do this using `ls` as we would on the command line, but in this case we prefix with an `!` to tell IPython that we're issuing a `bash` (i.e., command line) command, rather than a python command."
     ]
    },
    {
     "cell_type": "code",
     "collapsed": false,
     "input": [
      "!ls"
     ],
     "language": "python",
     "metadata": {},
     "outputs": [
      {
       "output_type": "stream",
       "stream": "stdout",
       "text": [
        "454_map.txt\t\t filtered_mapping_l5.txt      subsampled_454_seqs.fna\r\n",
        "filtered_mapping_l1.txt  filtered_mapping_l6.txt      subsampled_fastq\r\n",
        "filtered_mapping_l2.txt  procrustes_metadata_map.txt  ucrC_fast_params.txt\r\n",
        "filtered_mapping_l3.txt  procrustes_sid_map.txt\r\n",
        "filtered_mapping_l4.txt  README.txt\r\n"
       ]
      }
     ],
     "prompt_number": 51
    },
    {
     "cell_type": "markdown",
     "metadata": {},
     "source": [
      "QIIME additionally supports more convenient output formattting for the IPython notebook so you can directly interact with or download your data."
     ]
    },
    {
     "cell_type": "code",
     "collapsed": false,
     "input": [
      "of('.')"
     ],
     "language": "python",
     "metadata": {},
     "outputs": [
      {
       "html": [
        "<a href='files/temp/NHGaXPkCzI/moving_pictures_tutorial/./procrustes_metadata_map.txt' target='_blank'>procrustes_metadata_map.txt</a><br>\n",
        "<a href='files/temp/NHGaXPkCzI/moving_pictures_tutorial/./ucrC_fast_params.txt' target='_blank'>ucrC_fast_params.txt</a><br>\n",
        "<a href='files/temp/NHGaXPkCzI/moving_pictures_tutorial/./filtered_mapping_l1.txt' target='_blank'>filtered_mapping_l1.txt</a><br>\n",
        "<a href='files/temp/NHGaXPkCzI/moving_pictures_tutorial/./README.txt' target='_blank'>README.txt</a><br>\n",
        "<a href='files/temp/NHGaXPkCzI/moving_pictures_tutorial/./filtered_mapping_l5.txt' target='_blank'>filtered_mapping_l5.txt</a><br>\n",
        "<a href='files/temp/NHGaXPkCzI/moving_pictures_tutorial/./454_map.txt' target='_blank'>454_map.txt</a><br>\n",
        "<a href='files/temp/NHGaXPkCzI/moving_pictures_tutorial/./filtered_mapping_l4.txt' target='_blank'>filtered_mapping_l4.txt</a><br>\n",
        "<a href='files/temp/NHGaXPkCzI/moving_pictures_tutorial/./procrustes_sid_map.txt' target='_blank'>procrustes_sid_map.txt</a><br>\n",
        "<a href='files/temp/NHGaXPkCzI/moving_pictures_tutorial/./filtered_mapping_l2.txt' target='_blank'>filtered_mapping_l2.txt</a><br>\n",
        "<a href='files/temp/NHGaXPkCzI/moving_pictures_tutorial/./filtered_mapping_l3.txt' target='_blank'>filtered_mapping_l3.txt</a><br>\n",
        "<a href='files/temp/NHGaXPkCzI/moving_pictures_tutorial/./subsampled_454_seqs.fna' target='_blank'>subsampled_454_seqs.fna</a><br>\n",
        "<a href='files/temp/NHGaXPkCzI/moving_pictures_tutorial/./filtered_mapping_l6.txt' target='_blank'>filtered_mapping_l6.txt</a><br>\n",
        "<a href='files/temp/NHGaXPkCzI/moving_pictures_tutorial/./subsampled_fastq/subsampled_s_1_sequence.fastq' target='_blank'>subsampled_s_1_sequence.fastq</a><br>\n",
        "<a href='files/temp/NHGaXPkCzI/moving_pictures_tutorial/./subsampled_fastq/subsampled_s_2_sequence_barcodes.fastq' target='_blank'>subsampled_s_2_sequence_barcodes.fastq</a><br>\n",
        "<a href='files/temp/NHGaXPkCzI/moving_pictures_tutorial/./subsampled_fastq/subsampled_s_1_sequence_barcodes.fastq' target='_blank'>subsampled_s_1_sequence_barcodes.fastq</a><br>\n",
        "<a href='files/temp/NHGaXPkCzI/moving_pictures_tutorial/./subsampled_fastq/subsampled_s_3_sequence.fastq' target='_blank'>subsampled_s_3_sequence.fastq</a><br>\n",
        "<a href='files/temp/NHGaXPkCzI/moving_pictures_tutorial/./subsampled_fastq/subsampled_s_6_sequence.fastq' target='_blank'>subsampled_s_6_sequence.fastq</a><br>\n",
        "<a href='files/temp/NHGaXPkCzI/moving_pictures_tutorial/./subsampled_fastq/subsampled_s_5_sequence_barcodes.fastq' target='_blank'>subsampled_s_5_sequence_barcodes.fastq</a><br>\n",
        "<a href='files/temp/NHGaXPkCzI/moving_pictures_tutorial/./subsampled_fastq/subsampled_s_4_sequence_barcodes.fastq' target='_blank'>subsampled_s_4_sequence_barcodes.fastq</a><br>\n",
        "<a href='files/temp/NHGaXPkCzI/moving_pictures_tutorial/./subsampled_fastq/subsampled_s_3_sequence_barcodes.fastq' target='_blank'>subsampled_s_3_sequence_barcodes.fastq</a><br>\n",
        "<a href='files/temp/NHGaXPkCzI/moving_pictures_tutorial/./subsampled_fastq/subsampled_s_6_sequence_barcodes.fastq' target='_blank'>subsampled_s_6_sequence_barcodes.fastq</a><br>\n",
        "<a href='files/temp/NHGaXPkCzI/moving_pictures_tutorial/./subsampled_fastq/subsampled_s_4_sequence.fastq' target='_blank'>subsampled_s_4_sequence.fastq</a><br>\n",
        "<a href='files/temp/NHGaXPkCzI/moving_pictures_tutorial/./subsampled_fastq/subsampled_s_2_sequence.fastq' target='_blank'>subsampled_s_2_sequence.fastq</a><br>\n",
        "<a href='files/temp/NHGaXPkCzI/moving_pictures_tutorial/./subsampled_fastq/subsampled_s_5_sequence.fastq' target='_blank'>subsampled_s_5_sequence.fastq</a><br>"
       ],
       "output_type": "display_data",
       "text": [
        "<IPython.core.display.HTML at 0x26e5e50>"
       ]
      }
     ],
     "prompt_number": 52
    },
    {
     "cell_type": "heading",
     "level": 2,
     "metadata": {},
     "source": [
      "Demultiplexing and quality filtering seqeunces"
     ]
    },
    {
     "cell_type": "code",
     "collapsed": false,
     "input": [
      "!split_libraries_fastq.py -o slout/ -i subsampled_fastq/subsampled_s_1_sequence.fastq,subsampled_fastq/subsampled_s_2_sequence.fastq,subsampled_fastq/subsampled_s_3_sequence.fastq,subsampled_fastq/subsampled_s_4_sequence.fastq,subsampled_fastq/subsampled_s_5_sequence.fastq,subsampled_fastq/subsampled_s_6_sequence.fastq -b subsampled_fastq/subsampled_s_1_sequence_barcodes.fastq,subsampled_fastq/subsampled_s_2_sequence_barcodes.fastq,subsampled_fastq/subsampled_s_3_sequence_barcodes.fastq,subsampled_fastq/subsampled_s_4_sequence_barcodes.fastq,subsampled_fastq/subsampled_s_5_sequence_barcodes.fastq,subsampled_fastq/subsampled_s_6_sequence_barcodes.fastq -m filtered_mapping_l1.txt,filtered_mapping_l2.txt,filtered_mapping_l3.txt,filtered_mapping_l4.txt,filtered_mapping_l5.txt,filtered_mapping_l6.txt"
     ],
     "language": "python",
     "metadata": {},
     "outputs": [],
     "prompt_number": 53
    },
    {
     "cell_type": "markdown",
     "metadata": {},
     "source": [
      "We often want to see the results of running a command. Here we can do that by calling our output formatter again, this time passing the output directory from the previous step."
     ]
    },
    {
     "cell_type": "code",
     "collapsed": false,
     "input": [
      "of('slout/')"
     ],
     "language": "python",
     "metadata": {},
     "outputs": [
      {
       "html": [
        "<a href='files/temp/NHGaXPkCzI/moving_pictures_tutorial/slout/histograms.txt' target='_blank'>histograms.txt</a><br>\n",
        "<a href='files/temp/NHGaXPkCzI/moving_pictures_tutorial/slout/split_library_log.txt' target='_blank'>split_library_log.txt</a><br>\n",
        "<a href='files/temp/NHGaXPkCzI/moving_pictures_tutorial/slout/seqs.fna' target='_blank'>seqs.fna</a><br>"
       ],
       "output_type": "display_data",
       "text": [
        "<IPython.core.display.HTML at 0x26e5b50>"
       ]
      }
     ],
     "prompt_number": 54
    },
    {
     "cell_type": "code",
     "collapsed": false,
     "input": [
      "!count_seqs.py -i slout/seqs.fna"
     ],
     "language": "python",
     "metadata": {},
     "outputs": [
      {
       "output_type": "stream",
       "stream": "stdout",
       "text": [
        "\r\n",
        "66189  : slout/seqs.fna (Sequence lengths (mean +/- std): 132.1182 +/- 9.6185)\r\n",
        "66189  : Total\r\n"
       ]
      }
     ],
     "prompt_number": 55
    },
    {
     "cell_type": "heading",
     "level": 2,
     "metadata": {},
     "source": [
      "OTU picking: using a closed-reference OTU picking protocol by searching reads agsint the Greengenes database, and discarding sequences that fail to hit at >=97% sequence identity."
     ]
    },
    {
     "cell_type": "code",
     "collapsed": false,
     "input": [
      "!pick_reference_otus_through_otu_table.py -o ucrC_fast/ -i slout/seqs.fna -r $reference_seqs -t $reference_tax -p ucrC_fast_params.txt"
     ],
     "language": "python",
     "metadata": {},
     "outputs": [],
     "prompt_number": 60
    },
    {
     "cell_type": "code",
     "collapsed": false,
     "input": [
      "of('ucrC_fast/')"
     ],
     "language": "python",
     "metadata": {},
     "outputs": [
      {
       "html": [
        "<a href='files/temp/NHGaXPkCzI/moving_pictures_tutorial/ucrC_fast/log_20120818023722.txt' target='_blank'>log_20120818023722.txt</a><br>\n",
        "<a href='files/temp/NHGaXPkCzI/moving_pictures_tutorial/ucrC_fast/uclust_ref_picked_otus/seqs_failures.txt' target='_blank'>seqs_failures.txt</a><br>\n",
        "<a href='files/temp/NHGaXPkCzI/moving_pictures_tutorial/ucrC_fast/uclust_ref_picked_otus/seqs_otus.txt' target='_blank'>seqs_otus.txt</a><br>\n",
        "<a href='files/temp/NHGaXPkCzI/moving_pictures_tutorial/ucrC_fast/uclust_ref_picked_otus/otu_table.biom' target='_blank'>otu_table.biom</a><br>"
       ],
       "output_type": "display_data",
       "text": [
        "<IPython.core.display.HTML at 0x26e5e10>"
       ]
      }
     ],
     "prompt_number": 61
    },
    {
     "cell_type": "code",
     "collapsed": false,
     "input": [
      "!per_library_stats.py -i ucrC_fast/uclust_ref_picked_otus/otu_table.biom"
     ],
     "language": "python",
     "metadata": {},
     "outputs": [
      {
       "output_type": "stream",
       "stream": "stdout",
       "text": [
        "Num samples: 61\r\n",
        "Num otus: 1999\r\n",
        "Num observations (sequences): 60524.0\r\n",
        "Table density (fraction of non-zero values): 0.4963\r\n",
        "\r\n",
        "Seqs/sample summary:\r\n",
        " Min: 124.0\r\n",
        " Max: 2403.0\r\n",
        " Median: 875.0\r\n",
        " Mean: 992.196721311\r\n",
        " Std. dev.: 707.409353972\r\n",
        " Median Absolute Deviation: 605.0\r\n",
        " Default even sampling depth in\r\n",
        "  core_qiime_analyses.py (just a suggestion): 124.0\r\n",
        "\r\n",
        "Seqs/sample detail:\r\n",
        " L3S237: 124.0\r\n",
        " L3S235: 172.0\r\n",
        " L3S372: 192.0\r\n",
        " L3S373: 224.0\r\n",
        " L3S367: 228.0\r\n",
        " L3S368: 228.0\r\n",
        " L3S370: 238.0\r\n",
        " L3S369: 258.0\r\n",
        " L3S236: 263.0\r\n",
        " L3S9: 267.0\r\n",
        " L3S238: 270.0\r\n",
        " L3S371: 273.0\r\n",
        " L3S6: 278.0\r\n",
        " L3S8: 280.0\r\n",
        " L3S7: 296.0\r\n",
        " L5S234: 338.0\r\n",
        " L5S231: 352.0\r\n",
        " L5S235: 387.0\r\n",
        " L5S230: 404.0\r\n",
        " L5S99: 411.0\r\n",
        " L5S233: 414.0\r\n",
        " L5S98: 425.0\r\n",
        " L5S232: 451.0\r\n",
        " L5S97: 472.0\r\n",
        " L5S229: 487.0\r\n",
        " L5S100: 503.0\r\n",
        " L2S236: 582.0\r\n",
        " L2S234: 710.0\r\n",
        " L2S231: 751.0\r\n",
        " L2S229: 824.0\r\n",
        " L2S233: 875.0\r\n",
        " L2S230: 904.0\r\n",
        " L2S232: 908.0\r\n",
        " L2S99: 924.0\r\n",
        " L2S100: 1031.0\r\n",
        " L1S4: 1042.0\r\n",
        " L2S97: 1046.0\r\n",
        " L2S235: 1055.0\r\n",
        " L2S98: 1098.0\r\n",
        " L1S3: 1184.0\r\n",
        " L1S1: 1315.0\r\n",
        " L1S131: 1491.0\r\n",
        " L1S134: 1537.0\r\n",
        " L1S132: 1623.0\r\n",
        " L1S129: 1673.0\r\n",
        " L1S130: 1682.0\r\n",
        " L1S135: 1699.0\r\n",
        " L4S146: 1754.0\r\n",
        " L1S2: 1802.0\r\n",
        " L6S101: 1823.0\r\n",
        " L1S133: 1828.0\r\n",
        " L6S100: 1859.0\r\n",
        " L6S102: 1928.0\r\n",
        " L1S136: 1930.0\r\n",
        " L4S144: 2059.0\r\n",
        " L6S103: 2090.0\r\n",
        " L4S145: 2099.0\r\n",
        " L1S287: 2146.0\r\n",
        " L4S147: 2283.0\r\n",
        " L1S289: 2331.0\r\n",
        " L1S290: 2403.0\r\n"
       ]
      }
     ],
     "prompt_number": 62
    },
    {
     "cell_type": "heading",
     "level": 2,
     "metadata": {},
     "source": [
      "Create a single mapping file from the per-lane mapping files."
     ]
    },
    {
     "cell_type": "code",
     "collapsed": false,
     "input": [
      "!merge_mapping_files.py -o combined_mapping_file.txt -m filtered_mapping_l1.txt,filtered_mapping_l2.txt,filtered_mapping_l3.txt,filtered_mapping_l4.txt,filtered_mapping_l5.txt,filtered_mapping_l6.txt"
     ],
     "language": "python",
     "metadata": {},
     "outputs": [],
     "prompt_number": 63
    },
    {
     "cell_type": "code",
     "collapsed": false,
     "input": [
      "!head combined_mapping_file.txt"
     ],
     "language": "python",
     "metadata": {},
     "outputs": [
      {
       "output_type": "stream",
       "stream": "stdout",
       "text": [
        "#SampleID\tBarcodeSequence\tLinkerPrimerSequence\tdays_since_epoch\tSamplePlate\ttimestamp\tSampleType\tmonth\tPrimerPlate\tWellID\tyear\tday\tsubject\tDescription\r\n",
        "L6S100\tGTCGCTGTCTTC\tGTGCCAGCMGCCGCGGTAA\t14355\t20\t20090421\tTongue\t4\t5\td1\t2009\t21\t2\tRK_Tong_4_21_2009\r\n",
        "L2S229\tCAACTCATCGTA\tGTGCCAGCMGCCGCGGTAA\t14355\t7\t20090421\tL_palm\t4\t2\te5\t2009\t21\t1\tAB_L_Palm_4_21_2009\r\n",
        "L6S102\tGTTGACGACAGC\tGTGCCAGCMGCCGCGGTAA\t14357\t20\t20090423\tTongue\t4\t5\tf1\t2009\t23\t2\tRK_Tong_4_23_2009\r\n",
        "L6S103\tTACGCGCTGAGA\tGTGCCAGCMGCCGCGGTAA\t14358\t20\t20090424\tTongue\t4\t5\tg1\t2009\t24\t2\tRK_Tong_4_24_2009\r\n",
        "L3S369\tATACAGAGCTCC\tGTGCCAGCMGCCGCGGTAA\t14357\t12\t20090423\tR_palm\t4\t2\ta11\t2009\t23\t1\tAB_R_Palm_4_23_2009\r\n",
        "L3S368\tCATCTGTAGCGA\tGTGCCAGCMGCCGCGGTAA\t14356\t12\t20090422\tR_palm\t4\t2\th10\t2009\t22\t1\tAB_R_Palm_4_22_2009\r\n",
        "L2S100\tACGCTCATGGAT\tGTGCCAGCMGCCGCGGTAA\t14176\t6\t20081024\tL_palm\t10\t1\td1\t2008\t24\t1\tAB_L_Palm_10_24_2008\r\n",
        "L3S373\tCACATCTAACAC\tGTGCCAGCMGCCGCGGTAA\t14175\t12\t20081023\tR_palm\t10\t2\te11\t2008\t23\t2\tRK_R_Palm_10_23_2008\r\n",
        "L3S370\tATCCTCAGTAGT\tGTGCCAGCMGCCGCGGTAA\t14358\t12\t20090424\tR_palm\t4\t2\tb11\t2009\t24\t1\tAB_R_Palm_4_24_2009\r\n"
       ]
      }
     ],
     "prompt_number": 64
    },
    {
     "cell_type": "code",
     "collapsed": false,
     "input": [
      "of('combined_mapping_file.txt')"
     ],
     "language": "python",
     "metadata": {},
     "outputs": [
      {
       "html": [
        "<a href='files/temp/NHGaXPkCzI/moving_pictures_tutorial/combined_mapping_file.txt' target='_blank'>combined_mapping_file.txt</a>"
       ],
       "output_type": "display_data",
       "text": [
        "<IPython.core.display.HTML at 0x26e5dd0>"
       ]
      }
     ],
     "prompt_number": 65
    },
    {
     "cell_type": "heading",
     "level": 2,
     "metadata": {},
     "source": [
      "Computing beta (i.e., betwteen-sample) diversity using weighted and unweighted unifrac"
     ]
    },
    {
     "cell_type": "code",
     "collapsed": false,
     "input": [
      "!beta_diversity_through_plots.py -o bdiv_even258/ -i ucrC_fast/uclust_ref_picked_otus/otu_table.biom -m combined_mapping_file.txt -t $reference_tree -e 258"
     ],
     "language": "python",
     "metadata": {},
     "outputs": [],
     "prompt_number": 66
    },
    {
     "cell_type": "code",
     "collapsed": false,
     "input": [
      "of('bdiv_even258/')"
     ],
     "language": "python",
     "metadata": {},
     "outputs": [
      {
       "html": [
        "<a href='files/temp/NHGaXPkCzI/moving_pictures_tutorial/bdiv_even258/otu_table_even258.biom' target='_blank'>otu_table_even258.biom</a><br>\n",
        "<a href='files/temp/NHGaXPkCzI/moving_pictures_tutorial/bdiv_even258/weighted_unifrac_dm.txt' target='_blank'>weighted_unifrac_dm.txt</a><br>\n",
        "<a href='files/temp/NHGaXPkCzI/moving_pictures_tutorial/bdiv_even258/log_20120818023850.txt' target='_blank'>log_20120818023850.txt</a><br>\n",
        "<a href='files/temp/NHGaXPkCzI/moving_pictures_tutorial/bdiv_even258/unweighted_unifrac_pc.txt' target='_blank'>unweighted_unifrac_pc.txt</a><br>\n",
        "<a href='files/temp/NHGaXPkCzI/moving_pictures_tutorial/bdiv_even258/prefs.txt' target='_blank'>prefs.txt</a><br>\n",
        "<a href='files/temp/NHGaXPkCzI/moving_pictures_tutorial/bdiv_even258/unweighted_unifrac_dm.txt' target='_blank'>unweighted_unifrac_dm.txt</a><br>\n",
        "<a href='files/temp/NHGaXPkCzI/moving_pictures_tutorial/bdiv_even258/weighted_unifrac_pc.txt' target='_blank'>weighted_unifrac_pc.txt</a><br>\n",
        "<a href='files/temp/NHGaXPkCzI/moving_pictures_tutorial/bdiv_even258/weighted_unifrac_2d_discrete/weighted_unifrac_pc_2D_PCoA_plots.html' target='_blank'>weighted_unifrac_pc_2D_PCoA_plots.html</a><br>\n",
        "<a href='files/temp/NHGaXPkCzI/moving_pictures_tutorial/bdiv_even258/weighted_unifrac_2d_continuous/weighted_unifrac_pc_2D_PCoA_plots.html' target='_blank'>weighted_unifrac_pc_2D_PCoA_plots.html</a><br>\n",
        "<a href='files/temp/NHGaXPkCzI/moving_pictures_tutorial/bdiv_even258/unweighted_unifrac_2d_discrete/unweighted_unifrac_pc_2D_PCoA_plots.html' target='_blank'>unweighted_unifrac_pc_2D_PCoA_plots.html</a><br>\n",
        "<a href='files/temp/NHGaXPkCzI/moving_pictures_tutorial/bdiv_even258/unweighted_unifrac_3d_continuous/unweighted_unifrac_pc_3D_PCoA_plots.html' target='_blank'>unweighted_unifrac_pc_3D_PCoA_plots.html</a><br>\n",
        "<a href='files/temp/NHGaXPkCzI/moving_pictures_tutorial/bdiv_even258/unweighted_unifrac_2d_continuous/unweighted_unifrac_pc_2D_PCoA_plots.html' target='_blank'>unweighted_unifrac_pc_2D_PCoA_plots.html</a><br>\n",
        "<a href='files/temp/NHGaXPkCzI/moving_pictures_tutorial/bdiv_even258/weighted_unifrac_3d_discrete/weighted_unifrac_pc_3D_PCoA_plots.html' target='_blank'>weighted_unifrac_pc_3D_PCoA_plots.html</a><br>\n",
        "<a href='files/temp/NHGaXPkCzI/moving_pictures_tutorial/bdiv_even258/unweighted_unifrac_3d_discrete/unweighted_unifrac_pc_3D_PCoA_plots.html' target='_blank'>unweighted_unifrac_pc_3D_PCoA_plots.html</a><br>\n",
        "<a href='files/temp/NHGaXPkCzI/moving_pictures_tutorial/bdiv_even258/weighted_unifrac_3d_continuous/weighted_unifrac_pc_3D_PCoA_plots.html' target='_blank'>weighted_unifrac_pc_3D_PCoA_plots.html</a><br>"
       ],
       "output_type": "display_data",
       "text": [
        "<IPython.core.display.HTML at 0x26e5cd0>"
       ]
      }
     ],
     "prompt_number": 67
    },
    {
     "cell_type": "heading",
     "level": 2,
     "metadata": {},
     "source": [
      "Summarize the taxonomic composition of the samples"
     ]
    },
    {
     "cell_type": "code",
     "collapsed": false,
     "input": [
      "!summarize_taxa_through_plots.py -o taxa_summaries/ -i ucrC_fast/uclust_ref_picked_otus/otu_table.biom -m combined_mapping_file.txt"
     ],
     "language": "python",
     "metadata": {},
     "outputs": [],
     "prompt_number": 68
    },
    {
     "cell_type": "code",
     "collapsed": false,
     "input": [
      "of('taxa_summaries/')"
     ],
     "language": "python",
     "metadata": {},
     "outputs": [
      {
       "html": [
        "<a href='files/temp/NHGaXPkCzI/moving_pictures_tutorial/taxa_summaries/otu_table_L3.txt' target='_blank'>otu_table_L3.txt</a><br>\n",
        "<a href='files/temp/NHGaXPkCzI/moving_pictures_tutorial/taxa_summaries/otu_table_L6.txt' target='_blank'>otu_table_L6.txt</a><br>\n",
        "<a href='files/temp/NHGaXPkCzI/moving_pictures_tutorial/taxa_summaries/log_20120818024028.txt' target='_blank'>log_20120818024028.txt</a><br>\n",
        "<a href='files/temp/NHGaXPkCzI/moving_pictures_tutorial/taxa_summaries/otu_table_L2.txt' target='_blank'>otu_table_L2.txt</a><br>\n",
        "<a href='files/temp/NHGaXPkCzI/moving_pictures_tutorial/taxa_summaries/otu_table_L5.txt' target='_blank'>otu_table_L5.txt</a><br>\n",
        "<a href='files/temp/NHGaXPkCzI/moving_pictures_tutorial/taxa_summaries/otu_table_L4.txt' target='_blank'>otu_table_L4.txt</a><br>\n",
        "<a href='files/temp/NHGaXPkCzI/moving_pictures_tutorial/taxa_summaries/taxa_summary_plots/bar_charts.html' target='_blank'>bar_charts.html</a><br>\n",
        "<a href='files/temp/NHGaXPkCzI/moving_pictures_tutorial/taxa_summaries/taxa_summary_plots/area_charts.html' target='_blank'>area_charts.html</a><br>\n",
        "<a href='files/temp/NHGaXPkCzI/moving_pictures_tutorial/taxa_summaries/taxa_summary_plots/raw_data/otu_table_L3.txt' target='_blank'>otu_table_L3.txt</a><br>\n",
        "<a href='files/temp/NHGaXPkCzI/moving_pictures_tutorial/taxa_summaries/taxa_summary_plots/raw_data/otu_table_L6.txt' target='_blank'>otu_table_L6.txt</a><br>\n",
        "<a href='files/temp/NHGaXPkCzI/moving_pictures_tutorial/taxa_summaries/taxa_summary_plots/raw_data/otu_table_L2.txt' target='_blank'>otu_table_L2.txt</a><br>\n",
        "<a href='files/temp/NHGaXPkCzI/moving_pictures_tutorial/taxa_summaries/taxa_summary_plots/raw_data/otu_table_L5.txt' target='_blank'>otu_table_L5.txt</a><br>\n",
        "<a href='files/temp/NHGaXPkCzI/moving_pictures_tutorial/taxa_summaries/taxa_summary_plots/raw_data/otu_table_L4.txt' target='_blank'>otu_table_L4.txt</a><br>"
       ],
       "output_type": "display_data",
       "text": [
        "<IPython.core.display.HTML at 0x26e5e10>"
       ]
      }
     ],
     "prompt_number": 69
    },
    {
     "cell_type": "code",
     "collapsed": false,
     "input": [
      "!summarize_taxa_through_plots.py -o taxa_summaries_by_SampleType/ -i ucrC_fast/uclust_ref_picked_otus/otu_table.biom -m combined_mapping_file.txt -c \"SampleType\""
     ],
     "language": "python",
     "metadata": {},
     "outputs": [],
     "prompt_number": 70
    },
    {
     "cell_type": "code",
     "collapsed": false,
     "input": [
      "of('taxa_summaries_by_SampleType/')"
     ],
     "language": "python",
     "metadata": {},
     "outputs": [
      {
       "html": [
        "<a href='files/temp/NHGaXPkCzI/moving_pictures_tutorial/taxa_summaries_by_SampleType/SampleType_otu_table.biom' target='_blank'>SampleType_otu_table.biom</a><br>\n",
        "<a href='files/temp/NHGaXPkCzI/moving_pictures_tutorial/taxa_summaries_by_SampleType/SampleType_otu_table_L5.txt' target='_blank'>SampleType_otu_table_L5.txt</a><br>\n",
        "<a href='files/temp/NHGaXPkCzI/moving_pictures_tutorial/taxa_summaries_by_SampleType/SampleType_otu_table_L4.txt' target='_blank'>SampleType_otu_table_L4.txt</a><br>\n",
        "<a href='files/temp/NHGaXPkCzI/moving_pictures_tutorial/taxa_summaries_by_SampleType/SampleType_otu_table_L2.txt' target='_blank'>SampleType_otu_table_L2.txt</a><br>\n",
        "<a href='files/temp/NHGaXPkCzI/moving_pictures_tutorial/taxa_summaries_by_SampleType/log_20120818024350.txt' target='_blank'>log_20120818024350.txt</a><br>\n",
        "<a href='files/temp/NHGaXPkCzI/moving_pictures_tutorial/taxa_summaries_by_SampleType/SampleType_otu_table_L6.txt' target='_blank'>SampleType_otu_table_L6.txt</a><br>\n",
        "<a href='files/temp/NHGaXPkCzI/moving_pictures_tutorial/taxa_summaries_by_SampleType/SampleType_otu_table_L3.txt' target='_blank'>SampleType_otu_table_L3.txt</a><br>\n",
        "<a href='files/temp/NHGaXPkCzI/moving_pictures_tutorial/taxa_summaries_by_SampleType/taxa_summary_plots/bar_charts.html' target='_blank'>bar_charts.html</a><br>\n",
        "<a href='files/temp/NHGaXPkCzI/moving_pictures_tutorial/taxa_summaries_by_SampleType/taxa_summary_plots/area_charts.html' target='_blank'>area_charts.html</a><br>\n",
        "<a href='files/temp/NHGaXPkCzI/moving_pictures_tutorial/taxa_summaries_by_SampleType/taxa_summary_plots/raw_data/SampleType_otu_table_L5.txt' target='_blank'>SampleType_otu_table_L5.txt</a><br>\n",
        "<a href='files/temp/NHGaXPkCzI/moving_pictures_tutorial/taxa_summaries_by_SampleType/taxa_summary_plots/raw_data/SampleType_otu_table_L4.txt' target='_blank'>SampleType_otu_table_L4.txt</a><br>\n",
        "<a href='files/temp/NHGaXPkCzI/moving_pictures_tutorial/taxa_summaries_by_SampleType/taxa_summary_plots/raw_data/SampleType_otu_table_L2.txt' target='_blank'>SampleType_otu_table_L2.txt</a><br>\n",
        "<a href='files/temp/NHGaXPkCzI/moving_pictures_tutorial/taxa_summaries_by_SampleType/taxa_summary_plots/raw_data/SampleType_otu_table_L6.txt' target='_blank'>SampleType_otu_table_L6.txt</a><br>\n",
        "<a href='files/temp/NHGaXPkCzI/moving_pictures_tutorial/taxa_summaries_by_SampleType/taxa_summary_plots/raw_data/SampleType_otu_table_L3.txt' target='_blank'>SampleType_otu_table_L3.txt</a><br>"
       ],
       "output_type": "display_data",
       "text": [
        "<IPython.core.display.HTML at 0x26e5250>"
       ]
      }
     ],
     "prompt_number": 71
    },
    {
     "cell_type": "heading",
     "level": 2,
     "metadata": {},
     "source": [
      "Compute alpha rarefaction plots"
     ]
    },
    {
     "cell_type": "code",
     "collapsed": false,
     "input": [
      "!alpha_rarefaction.py -o arare_max258/ -i ucrC_fast/uclust_ref_picked_otus/otu_table.biom -m combined_mapping_file.txt -t $reference_tree -e 258"
     ],
     "language": "python",
     "metadata": {},
     "outputs": [],
     "prompt_number": 72
    },
    {
     "cell_type": "code",
     "collapsed": false,
     "input": [
      "of('arare_max258/')"
     ],
     "language": "python",
     "metadata": {},
     "outputs": [
      {
       "html": [
        "<a href='files/temp/NHGaXPkCzI/moving_pictures_tutorial/arare_max258/log_20120818024442.txt' target='_blank'>log_20120818024442.txt</a><br>\n",
        "<a href='files/temp/NHGaXPkCzI/moving_pictures_tutorial/arare_max258/rarefaction/rarefaction_58_5.biom' target='_blank'>rarefaction_58_5.biom</a><br>\n",
        "<a href='files/temp/NHGaXPkCzI/moving_pictures_tutorial/arare_max258/rarefaction/rarefaction_130_9.biom' target='_blank'>rarefaction_130_9.biom</a><br>\n",
        "<a href='files/temp/NHGaXPkCzI/moving_pictures_tutorial/arare_max258/rarefaction/rarefaction_178_5.biom' target='_blank'>rarefaction_178_5.biom</a><br>\n",
        "<a href='files/temp/NHGaXPkCzI/moving_pictures_tutorial/arare_max258/rarefaction/rarefaction_82_7.biom' target='_blank'>rarefaction_82_7.biom</a><br>\n",
        "<a href='files/temp/NHGaXPkCzI/moving_pictures_tutorial/arare_max258/rarefaction/rarefaction_10_5.biom' target='_blank'>rarefaction_10_5.biom</a><br>\n",
        "<a href='files/temp/NHGaXPkCzI/moving_pictures_tutorial/arare_max258/rarefaction/rarefaction_226_8.biom' target='_blank'>rarefaction_226_8.biom</a><br>\n",
        "<a href='files/temp/NHGaXPkCzI/moving_pictures_tutorial/arare_max258/rarefaction/rarefaction_130_4.biom' target='_blank'>rarefaction_130_4.biom</a><br>\n",
        "<a href='files/temp/NHGaXPkCzI/moving_pictures_tutorial/arare_max258/rarefaction/rarefaction_82_5.biom' target='_blank'>rarefaction_82_5.biom</a><br>\n",
        "<a href='files/temp/NHGaXPkCzI/moving_pictures_tutorial/arare_max258/rarefaction/rarefaction_250_6.biom' target='_blank'>rarefaction_250_6.biom</a><br>\n",
        "<a href='files/temp/NHGaXPkCzI/moving_pictures_tutorial/arare_max258/rarefaction/rarefaction_250_4.biom' target='_blank'>rarefaction_250_4.biom</a><br>\n",
        "<a href='files/temp/NHGaXPkCzI/moving_pictures_tutorial/arare_max258/rarefaction/rarefaction_82_6.biom' target='_blank'>rarefaction_82_6.biom</a><br>\n",
        "<a href='files/temp/NHGaXPkCzI/moving_pictures_tutorial/arare_max258/rarefaction/rarefaction_10_0.biom' target='_blank'>rarefaction_10_0.biom</a><br>\n",
        "<a href='files/temp/NHGaXPkCzI/moving_pictures_tutorial/arare_max258/rarefaction/rarefaction_154_2.biom' target='_blank'>rarefaction_154_2.biom</a><br>\n",
        "<a href='files/temp/NHGaXPkCzI/moving_pictures_tutorial/arare_max258/rarefaction/rarefaction_82_1.biom' target='_blank'>rarefaction_82_1.biom</a><br>\n",
        "<a href='files/temp/NHGaXPkCzI/moving_pictures_tutorial/arare_max258/rarefaction/rarefaction_226_0.biom' target='_blank'>rarefaction_226_0.biom</a><br>\n",
        "<a href='files/temp/NHGaXPkCzI/moving_pictures_tutorial/arare_max258/rarefaction/rarefaction_106_6.biom' target='_blank'>rarefaction_106_6.biom</a><br>\n",
        "<a href='files/temp/NHGaXPkCzI/moving_pictures_tutorial/arare_max258/rarefaction/rarefaction_154_1.biom' target='_blank'>rarefaction_154_1.biom</a><br>\n",
        "<a href='files/temp/NHGaXPkCzI/moving_pictures_tutorial/arare_max258/rarefaction/rarefaction_250_5.biom' target='_blank'>rarefaction_250_5.biom</a><br>\n",
        "<a href='files/temp/NHGaXPkCzI/moving_pictures_tutorial/arare_max258/rarefaction/rarefaction_250_8.biom' target='_blank'>rarefaction_250_8.biom</a><br>\n",
        "<a href='files/temp/NHGaXPkCzI/moving_pictures_tutorial/arare_max258/rarefaction/rarefaction_154_0.biom' target='_blank'>rarefaction_154_0.biom</a><br>\n",
        "<a href='files/temp/NHGaXPkCzI/moving_pictures_tutorial/arare_max258/rarefaction/rarefaction_82_4.biom' target='_blank'>rarefaction_82_4.biom</a><br>\n",
        "<a href='files/temp/NHGaXPkCzI/moving_pictures_tutorial/arare_max258/rarefaction/rarefaction_82_8.biom' target='_blank'>rarefaction_82_8.biom</a><br>\n",
        "<a href='files/temp/NHGaXPkCzI/moving_pictures_tutorial/arare_max258/rarefaction/rarefaction_106_7.biom' target='_blank'>rarefaction_106_7.biom</a><br>\n",
        "<a href='files/temp/NHGaXPkCzI/moving_pictures_tutorial/arare_max258/rarefaction/rarefaction_106_8.biom' target='_blank'>rarefaction_106_8.biom</a><br>\n",
        "<a href='files/temp/NHGaXPkCzI/moving_pictures_tutorial/arare_max258/rarefaction/rarefaction_202_4.biom' target='_blank'>rarefaction_202_4.biom</a><br>\n",
        "<a href='files/temp/NHGaXPkCzI/moving_pictures_tutorial/arare_max258/rarefaction/rarefaction_130_6.biom' target='_blank'>rarefaction_130_6.biom</a><br>\n",
        "<a href='files/temp/NHGaXPkCzI/moving_pictures_tutorial/arare_max258/rarefaction/rarefaction_202_2.biom' target='_blank'>rarefaction_202_2.biom</a><br>\n",
        "<a href='files/temp/NHGaXPkCzI/moving_pictures_tutorial/arare_max258/rarefaction/rarefaction_226_7.biom' target='_blank'>rarefaction_226_7.biom</a><br>\n",
        "<a href='files/temp/NHGaXPkCzI/moving_pictures_tutorial/arare_max258/rarefaction/rarefaction_130_5.biom' target='_blank'>rarefaction_130_5.biom</a><br>\n",
        "<a href='files/temp/NHGaXPkCzI/moving_pictures_tutorial/arare_max258/rarefaction/rarefaction_58_0.biom' target='_blank'>rarefaction_58_0.biom</a><br>\n",
        "<a href='files/temp/NHGaXPkCzI/moving_pictures_tutorial/arare_max258/rarefaction/rarefaction_154_3.biom' target='_blank'>rarefaction_154_3.biom</a><br>\n",
        "<a href='files/temp/NHGaXPkCzI/moving_pictures_tutorial/arare_max258/rarefaction/rarefaction_10_8.biom' target='_blank'>rarefaction_10_8.biom</a><br>\n",
        "<a href='files/temp/NHGaXPkCzI/moving_pictures_tutorial/arare_max258/rarefaction/rarefaction_58_4.biom' target='_blank'>rarefaction_58_4.biom</a><br>\n",
        "<a href='files/temp/NHGaXPkCzI/moving_pictures_tutorial/arare_max258/rarefaction/rarefaction_58_1.biom' target='_blank'>rarefaction_58_1.biom</a><br>\n",
        "<a href='files/temp/NHGaXPkCzI/moving_pictures_tutorial/arare_max258/rarefaction/rarefaction_202_0.biom' target='_blank'>rarefaction_202_0.biom</a><br>\n",
        "<a href='files/temp/NHGaXPkCzI/moving_pictures_tutorial/arare_max258/rarefaction/rarefaction_34_0.biom' target='_blank'>rarefaction_34_0.biom</a><br>\n",
        "<a href='files/temp/NHGaXPkCzI/moving_pictures_tutorial/arare_max258/rarefaction/rarefaction_106_2.biom' target='_blank'>rarefaction_106_2.biom</a><br>\n",
        "<a href='files/temp/NHGaXPkCzI/moving_pictures_tutorial/arare_max258/rarefaction/rarefaction_34_3.biom' target='_blank'>rarefaction_34_3.biom</a><br>\n",
        "<a href='files/temp/NHGaXPkCzI/moving_pictures_tutorial/arare_max258/rarefaction/rarefaction_202_1.biom' target='_blank'>rarefaction_202_1.biom</a><br>\n",
        "<a href='files/temp/NHGaXPkCzI/moving_pictures_tutorial/arare_max258/rarefaction/rarefaction_178_3.biom' target='_blank'>rarefaction_178_3.biom</a><br>\n",
        "<a href='files/temp/NHGaXPkCzI/moving_pictures_tutorial/arare_max258/rarefaction/rarefaction_130_0.biom' target='_blank'>rarefaction_130_0.biom</a><br>\n",
        "<a href='files/temp/NHGaXPkCzI/moving_pictures_tutorial/arare_max258/rarefaction/rarefaction_226_9.biom' target='_blank'>rarefaction_226_9.biom</a><br>\n",
        "<a href='files/temp/NHGaXPkCzI/moving_pictures_tutorial/arare_max258/rarefaction/rarefaction_226_3.biom' target='_blank'>rarefaction_226_3.biom</a><br>\n",
        "<a href='files/temp/NHGaXPkCzI/moving_pictures_tutorial/arare_max258/rarefaction/rarefaction_226_6.biom' target='_blank'>rarefaction_226_6.biom</a><br>\n",
        "<a href='files/temp/NHGaXPkCzI/moving_pictures_tutorial/arare_max258/rarefaction/rarefaction_202_8.biom' target='_blank'>rarefaction_202_8.biom</a><br>\n",
        "<a href='files/temp/NHGaXPkCzI/moving_pictures_tutorial/arare_max258/rarefaction/rarefaction_154_6.biom' target='_blank'>rarefaction_154_6.biom</a><br>\n",
        "<a href='files/temp/NHGaXPkCzI/moving_pictures_tutorial/arare_max258/rarefaction/rarefaction_58_2.biom' target='_blank'>rarefaction_58_2.biom</a><br>\n",
        "<a href='files/temp/NHGaXPkCzI/moving_pictures_tutorial/arare_max258/rarefaction/rarefaction_82_9.biom' target='_blank'>rarefaction_82_9.biom</a><br>\n",
        "<a href='files/temp/NHGaXPkCzI/moving_pictures_tutorial/arare_max258/rarefaction/rarefaction_250_3.biom' target='_blank'>rarefaction_250_3.biom</a><br>\n",
        "<a href='files/temp/NHGaXPkCzI/moving_pictures_tutorial/arare_max258/rarefaction/rarefaction_58_3.biom' target='_blank'>rarefaction_58_3.biom</a><br>\n",
        "<a href='files/temp/NHGaXPkCzI/moving_pictures_tutorial/arare_max258/rarefaction/rarefaction_154_7.biom' target='_blank'>rarefaction_154_7.biom</a><br>\n",
        "<a href='files/temp/NHGaXPkCzI/moving_pictures_tutorial/arare_max258/rarefaction/rarefaction_82_3.biom' target='_blank'>rarefaction_82_3.biom</a><br>\n",
        "<a href='files/temp/NHGaXPkCzI/moving_pictures_tutorial/arare_max258/rarefaction/rarefaction_106_0.biom' target='_blank'>rarefaction_106_0.biom</a><br>\n",
        "<a href='files/temp/NHGaXPkCzI/moving_pictures_tutorial/arare_max258/rarefaction/rarefaction_106_4.biom' target='_blank'>rarefaction_106_4.biom</a><br>\n",
        "<a href='files/temp/NHGaXPkCzI/moving_pictures_tutorial/arare_max258/rarefaction/rarefaction_34_7.biom' target='_blank'>rarefaction_34_7.biom</a><br>\n",
        "<a href='files/temp/NHGaXPkCzI/moving_pictures_tutorial/arare_max258/rarefaction/rarefaction_250_1.biom' target='_blank'>rarefaction_250_1.biom</a><br>\n",
        "<a href='files/temp/NHGaXPkCzI/moving_pictures_tutorial/arare_max258/rarefaction/rarefaction_130_3.biom' target='_blank'>rarefaction_130_3.biom</a><br>\n",
        "<a href='files/temp/NHGaXPkCzI/moving_pictures_tutorial/arare_max258/rarefaction/rarefaction_250_7.biom' target='_blank'>rarefaction_250_7.biom</a><br>\n",
        "<a href='files/temp/NHGaXPkCzI/moving_pictures_tutorial/arare_max258/rarefaction/rarefaction_250_0.biom' target='_blank'>rarefaction_250_0.biom</a><br>\n",
        "<a href='files/temp/NHGaXPkCzI/moving_pictures_tutorial/arare_max258/rarefaction/rarefaction_202_9.biom' target='_blank'>rarefaction_202_9.biom</a><br>\n",
        "<a href='files/temp/NHGaXPkCzI/moving_pictures_tutorial/arare_max258/rarefaction/rarefaction_106_5.biom' target='_blank'>rarefaction_106_5.biom</a><br>\n",
        "<a href='files/temp/NHGaXPkCzI/moving_pictures_tutorial/arare_max258/rarefaction/rarefaction_10_6.biom' target='_blank'>rarefaction_10_6.biom</a><br>\n",
        "<a href='files/temp/NHGaXPkCzI/moving_pictures_tutorial/arare_max258/rarefaction/rarefaction_154_4.biom' target='_blank'>rarefaction_154_4.biom</a><br>\n",
        "<a href='files/temp/NHGaXPkCzI/moving_pictures_tutorial/arare_max258/rarefaction/rarefaction_250_9.biom' target='_blank'>rarefaction_250_9.biom</a><br>\n",
        "<a href='files/temp/NHGaXPkCzI/moving_pictures_tutorial/arare_max258/rarefaction/rarefaction_10_2.biom' target='_blank'>rarefaction_10_2.biom</a><br>\n",
        "<a href='files/temp/NHGaXPkCzI/moving_pictures_tutorial/arare_max258/rarefaction/rarefaction_178_7.biom' target='_blank'>rarefaction_178_7.biom</a><br>\n",
        "<a href='files/temp/NHGaXPkCzI/moving_pictures_tutorial/arare_max258/rarefaction/rarefaction_58_9.biom' target='_blank'>rarefaction_58_9.biom</a><br>\n",
        "<a href='files/temp/NHGaXPkCzI/moving_pictures_tutorial/arare_max258/rarefaction/rarefaction_58_7.biom' target='_blank'>rarefaction_58_7.biom</a><br>\n",
        "<a href='files/temp/NHGaXPkCzI/moving_pictures_tutorial/arare_max258/rarefaction/rarefaction_130_2.biom' target='_blank'>rarefaction_130_2.biom</a><br>\n",
        "<a href='files/temp/NHGaXPkCzI/moving_pictures_tutorial/arare_max258/rarefaction/rarefaction_226_2.biom' target='_blank'>rarefaction_226_2.biom</a><br>\n",
        "<a href='files/temp/NHGaXPkCzI/moving_pictures_tutorial/arare_max258/rarefaction/rarefaction_34_9.biom' target='_blank'>rarefaction_34_9.biom</a><br>\n",
        "<a href='files/temp/NHGaXPkCzI/moving_pictures_tutorial/arare_max258/rarefaction/rarefaction_202_3.biom' target='_blank'>rarefaction_202_3.biom</a><br>\n",
        "<a href='files/temp/NHGaXPkCzI/moving_pictures_tutorial/arare_max258/rarefaction/rarefaction_34_4.biom' target='_blank'>rarefaction_34_4.biom</a><br>\n",
        "<a href='files/temp/NHGaXPkCzI/moving_pictures_tutorial/arare_max258/rarefaction/rarefaction_34_6.biom' target='_blank'>rarefaction_34_6.biom</a><br>\n",
        "<a href='files/temp/NHGaXPkCzI/moving_pictures_tutorial/arare_max258/rarefaction/rarefaction_250_2.biom' target='_blank'>rarefaction_250_2.biom</a><br>\n",
        "<a href='files/temp/NHGaXPkCzI/moving_pictures_tutorial/arare_max258/rarefaction/rarefaction_130_7.biom' target='_blank'>rarefaction_130_7.biom</a><br>\n",
        "<a href='files/temp/NHGaXPkCzI/moving_pictures_tutorial/arare_max258/rarefaction/rarefaction_106_1.biom' target='_blank'>rarefaction_106_1.biom</a><br>\n",
        "<a href='files/temp/NHGaXPkCzI/moving_pictures_tutorial/arare_max258/rarefaction/rarefaction_58_6.biom' target='_blank'>rarefaction_58_6.biom</a><br>\n",
        "<a href='files/temp/NHGaXPkCzI/moving_pictures_tutorial/arare_max258/rarefaction/rarefaction_34_2.biom' target='_blank'>rarefaction_34_2.biom</a><br>\n",
        "<a href='files/temp/NHGaXPkCzI/moving_pictures_tutorial/arare_max258/rarefaction/rarefaction_178_8.biom' target='_blank'>rarefaction_178_8.biom</a><br>\n",
        "<a href='files/temp/NHGaXPkCzI/moving_pictures_tutorial/arare_max258/rarefaction/rarefaction_34_8.biom' target='_blank'>rarefaction_34_8.biom</a><br>\n",
        "<a href='files/temp/NHGaXPkCzI/moving_pictures_tutorial/arare_max258/rarefaction/rarefaction_106_3.biom' target='_blank'>rarefaction_106_3.biom</a><br>\n",
        "<a href='files/temp/NHGaXPkCzI/moving_pictures_tutorial/arare_max258/rarefaction/rarefaction_106_9.biom' target='_blank'>rarefaction_106_9.biom</a><br>\n",
        "<a href='files/temp/NHGaXPkCzI/moving_pictures_tutorial/arare_max258/rarefaction/rarefaction_10_4.biom' target='_blank'>rarefaction_10_4.biom</a><br>\n",
        "<a href='files/temp/NHGaXPkCzI/moving_pictures_tutorial/arare_max258/rarefaction/rarefaction_10_7.biom' target='_blank'>rarefaction_10_7.biom</a><br>\n",
        "<a href='files/temp/NHGaXPkCzI/moving_pictures_tutorial/arare_max258/rarefaction/rarefaction_130_8.biom' target='_blank'>rarefaction_130_8.biom</a><br>\n",
        "<a href='files/temp/NHGaXPkCzI/moving_pictures_tutorial/arare_max258/rarefaction/rarefaction_226_1.biom' target='_blank'>rarefaction_226_1.biom</a><br>\n",
        "<a href='files/temp/NHGaXPkCzI/moving_pictures_tutorial/arare_max258/rarefaction/rarefaction_154_9.biom' target='_blank'>rarefaction_154_9.biom</a><br>\n",
        "<a href='files/temp/NHGaXPkCzI/moving_pictures_tutorial/arare_max258/rarefaction/rarefaction_58_8.biom' target='_blank'>rarefaction_58_8.biom</a><br>\n",
        "<a href='files/temp/NHGaXPkCzI/moving_pictures_tutorial/arare_max258/rarefaction/rarefaction_178_4.biom' target='_blank'>rarefaction_178_4.biom</a><br>\n",
        "<a href='files/temp/NHGaXPkCzI/moving_pictures_tutorial/arare_max258/rarefaction/rarefaction_10_3.biom' target='_blank'>rarefaction_10_3.biom</a><br>\n",
        "<a href='files/temp/NHGaXPkCzI/moving_pictures_tutorial/arare_max258/rarefaction/rarefaction_178_0.biom' target='_blank'>rarefaction_178_0.biom</a><br>\n",
        "<a href='files/temp/NHGaXPkCzI/moving_pictures_tutorial/arare_max258/rarefaction/rarefaction_154_8.biom' target='_blank'>rarefaction_154_8.biom</a><br>\n",
        "<a href='files/temp/NHGaXPkCzI/moving_pictures_tutorial/arare_max258/rarefaction/rarefaction_10_9.biom' target='_blank'>rarefaction_10_9.biom</a><br>\n",
        "<a href='files/temp/NHGaXPkCzI/moving_pictures_tutorial/arare_max258/rarefaction/rarefaction_178_2.biom' target='_blank'>rarefaction_178_2.biom</a><br>\n",
        "<a href='files/temp/NHGaXPkCzI/moving_pictures_tutorial/arare_max258/rarefaction/rarefaction_154_5.biom' target='_blank'>rarefaction_154_5.biom</a><br>\n",
        "<a href='files/temp/NHGaXPkCzI/moving_pictures_tutorial/arare_max258/rarefaction/rarefaction_202_7.biom' target='_blank'>rarefaction_202_7.biom</a><br>\n",
        "<a href='files/temp/NHGaXPkCzI/moving_pictures_tutorial/arare_max258/rarefaction/rarefaction_178_1.biom' target='_blank'>rarefaction_178_1.biom</a><br>\n",
        "<a href='files/temp/NHGaXPkCzI/moving_pictures_tutorial/arare_max258/rarefaction/rarefaction_82_0.biom' target='_blank'>rarefaction_82_0.biom</a><br>\n",
        "<a href='files/temp/NHGaXPkCzI/moving_pictures_tutorial/arare_max258/rarefaction/rarefaction_82_2.biom' target='_blank'>rarefaction_82_2.biom</a><br>\n",
        "<a href='files/temp/NHGaXPkCzI/moving_pictures_tutorial/arare_max258/rarefaction/rarefaction_226_4.biom' target='_blank'>rarefaction_226_4.biom</a><br>\n",
        "<a href='files/temp/NHGaXPkCzI/moving_pictures_tutorial/arare_max258/rarefaction/rarefaction_226_5.biom' target='_blank'>rarefaction_226_5.biom</a><br>\n",
        "<a href='files/temp/NHGaXPkCzI/moving_pictures_tutorial/arare_max258/rarefaction/rarefaction_130_1.biom' target='_blank'>rarefaction_130_1.biom</a><br>\n",
        "<a href='files/temp/NHGaXPkCzI/moving_pictures_tutorial/arare_max258/rarefaction/rarefaction_202_5.biom' target='_blank'>rarefaction_202_5.biom</a><br>\n",
        "<a href='files/temp/NHGaXPkCzI/moving_pictures_tutorial/arare_max258/rarefaction/rarefaction_10_1.biom' target='_blank'>rarefaction_10_1.biom</a><br>\n",
        "<a href='files/temp/NHGaXPkCzI/moving_pictures_tutorial/arare_max258/rarefaction/rarefaction_178_6.biom' target='_blank'>rarefaction_178_6.biom</a><br>\n",
        "<a href='files/temp/NHGaXPkCzI/moving_pictures_tutorial/arare_max258/rarefaction/rarefaction_178_9.biom' target='_blank'>rarefaction_178_9.biom</a><br>\n",
        "<a href='files/temp/NHGaXPkCzI/moving_pictures_tutorial/arare_max258/rarefaction/rarefaction_34_5.biom' target='_blank'>rarefaction_34_5.biom</a><br>\n",
        "<a href='files/temp/NHGaXPkCzI/moving_pictures_tutorial/arare_max258/rarefaction/rarefaction_202_6.biom' target='_blank'>rarefaction_202_6.biom</a><br>\n",
        "<a href='files/temp/NHGaXPkCzI/moving_pictures_tutorial/arare_max258/rarefaction/rarefaction_34_1.biom' target='_blank'>rarefaction_34_1.biom</a><br>\n",
        "<a href='files/temp/NHGaXPkCzI/moving_pictures_tutorial/arare_max258/alpha_rarefaction_plots/rarefaction_plots.html' target='_blank'>rarefaction_plots.html</a><br>\n",
        "<a href='files/temp/NHGaXPkCzI/moving_pictures_tutorial/arare_max258/alpha_rarefaction_plots/average_tables/chao1subject.txt' target='_blank'>chao1subject.txt</a><br>\n",
        "<a href='files/temp/NHGaXPkCzI/moving_pictures_tutorial/arare_max258/alpha_rarefaction_plots/average_tables/PD_whole_treeSamplePlate.txt' target='_blank'>PD_whole_treeSamplePlate.txt</a><br>\n",
        "<a href='files/temp/NHGaXPkCzI/moving_pictures_tutorial/arare_max258/alpha_rarefaction_plots/average_tables/PD_whole_treetimestamp.txt' target='_blank'>PD_whole_treetimestamp.txt</a><br>\n",
        "<a href='files/temp/NHGaXPkCzI/moving_pictures_tutorial/arare_max258/alpha_rarefaction_plots/average_tables/chao1PrimerPlate.txt' target='_blank'>chao1PrimerPlate.txt</a><br>\n",
        "<a href='files/temp/NHGaXPkCzI/moving_pictures_tutorial/arare_max258/alpha_rarefaction_plots/average_tables/observed_speciesmonth.txt' target='_blank'>observed_speciesmonth.txt</a><br>\n",
        "<a href='files/temp/NHGaXPkCzI/moving_pictures_tutorial/arare_max258/alpha_rarefaction_plots/average_tables/PD_whole_treesubject.txt' target='_blank'>PD_whole_treesubject.txt</a><br>\n",
        "<a href='files/temp/NHGaXPkCzI/moving_pictures_tutorial/arare_max258/alpha_rarefaction_plots/average_tables/PD_whole_treeSampleID.txt' target='_blank'>PD_whole_treeSampleID.txt</a><br>\n",
        "<a href='files/temp/NHGaXPkCzI/moving_pictures_tutorial/arare_max258/alpha_rarefaction_plots/average_tables/chao1BarcodeSequence.txt' target='_blank'>chao1BarcodeSequence.txt</a><br>\n",
        "<a href='files/temp/NHGaXPkCzI/moving_pictures_tutorial/arare_max258/alpha_rarefaction_plots/average_tables/PD_whole_treeDescription.txt' target='_blank'>PD_whole_treeDescription.txt</a><br>\n",
        "<a href='files/temp/NHGaXPkCzI/moving_pictures_tutorial/arare_max258/alpha_rarefaction_plots/average_tables/PD_whole_treemonth.txt' target='_blank'>PD_whole_treemonth.txt</a><br>\n",
        "<a href='files/temp/NHGaXPkCzI/moving_pictures_tutorial/arare_max258/alpha_rarefaction_plots/average_tables/observed_speciesBarcodeSequence.txt' target='_blank'>observed_speciesBarcodeSequence.txt</a><br>\n",
        "<a href='files/temp/NHGaXPkCzI/moving_pictures_tutorial/arare_max258/alpha_rarefaction_plots/average_tables/chao1month.txt' target='_blank'>chao1month.txt</a><br>\n",
        "<a href='files/temp/NHGaXPkCzI/moving_pictures_tutorial/arare_max258/alpha_rarefaction_plots/average_tables/observed_speciesSampleType.txt' target='_blank'>observed_speciesSampleType.txt</a><br>\n",
        "<a href='files/temp/NHGaXPkCzI/moving_pictures_tutorial/arare_max258/alpha_rarefaction_plots/average_tables/PD_whole_treeBarcodeSequence.txt' target='_blank'>PD_whole_treeBarcodeSequence.txt</a><br>\n",
        "<a href='files/temp/NHGaXPkCzI/moving_pictures_tutorial/arare_max258/alpha_rarefaction_plots/average_tables/PD_whole_treeWellID.txt' target='_blank'>PD_whole_treeWellID.txt</a><br>\n",
        "<a href='files/temp/NHGaXPkCzI/moving_pictures_tutorial/arare_max258/alpha_rarefaction_plots/average_tables/chao1SampleID.txt' target='_blank'>chao1SampleID.txt</a><br>\n",
        "<a href='files/temp/NHGaXPkCzI/moving_pictures_tutorial/arare_max258/alpha_rarefaction_plots/average_tables/chao1day.txt' target='_blank'>chao1day.txt</a><br>\n",
        "<a href='files/temp/NHGaXPkCzI/moving_pictures_tutorial/arare_max258/alpha_rarefaction_plots/average_tables/observed_speciesdays_since_epoch.txt' target='_blank'>observed_speciesdays_since_epoch.txt</a><br>\n",
        "<a href='files/temp/NHGaXPkCzI/moving_pictures_tutorial/arare_max258/alpha_rarefaction_plots/average_tables/observed_speciesyear.txt' target='_blank'>observed_speciesyear.txt</a><br>\n",
        "<a href='files/temp/NHGaXPkCzI/moving_pictures_tutorial/arare_max258/alpha_rarefaction_plots/average_tables/observed_speciesday.txt' target='_blank'>observed_speciesday.txt</a><br>\n",
        "<a href='files/temp/NHGaXPkCzI/moving_pictures_tutorial/arare_max258/alpha_rarefaction_plots/average_tables/PD_whole_treeday.txt' target='_blank'>PD_whole_treeday.txt</a><br>\n",
        "<a href='files/temp/NHGaXPkCzI/moving_pictures_tutorial/arare_max258/alpha_rarefaction_plots/average_tables/chao1year.txt' target='_blank'>chao1year.txt</a><br>\n",
        "<a href='files/temp/NHGaXPkCzI/moving_pictures_tutorial/arare_max258/alpha_rarefaction_plots/average_tables/chao1Description.txt' target='_blank'>chao1Description.txt</a><br>\n",
        "<a href='files/temp/NHGaXPkCzI/moving_pictures_tutorial/arare_max258/alpha_rarefaction_plots/average_tables/PD_whole_treeLinkerPrimerSequence.txt' target='_blank'>PD_whole_treeLinkerPrimerSequence.txt</a><br>\n",
        "<a href='files/temp/NHGaXPkCzI/moving_pictures_tutorial/arare_max258/alpha_rarefaction_plots/average_tables/chao1WellID.txt' target='_blank'>chao1WellID.txt</a><br>\n",
        "<a href='files/temp/NHGaXPkCzI/moving_pictures_tutorial/arare_max258/alpha_rarefaction_plots/average_tables/observed_speciestimestamp.txt' target='_blank'>observed_speciestimestamp.txt</a><br>\n",
        "<a href='files/temp/NHGaXPkCzI/moving_pictures_tutorial/arare_max258/alpha_rarefaction_plots/average_tables/observed_speciesSamplePlate.txt' target='_blank'>observed_speciesSamplePlate.txt</a><br>\n",
        "<a href='files/temp/NHGaXPkCzI/moving_pictures_tutorial/arare_max258/alpha_rarefaction_plots/average_tables/chao1LinkerPrimerSequence.txt' target='_blank'>chao1LinkerPrimerSequence.txt</a><br>\n",
        "<a href='files/temp/NHGaXPkCzI/moving_pictures_tutorial/arare_max258/alpha_rarefaction_plots/average_tables/observed_speciesWellID.txt' target='_blank'>observed_speciesWellID.txt</a><br>\n",
        "<a href='files/temp/NHGaXPkCzI/moving_pictures_tutorial/arare_max258/alpha_rarefaction_plots/average_tables/observed_speciesSampleID.txt' target='_blank'>observed_speciesSampleID.txt</a><br>\n",
        "<a href='files/temp/NHGaXPkCzI/moving_pictures_tutorial/arare_max258/alpha_rarefaction_plots/average_tables/observed_speciesLinkerPrimerSequence.txt' target='_blank'>observed_speciesLinkerPrimerSequence.txt</a><br>\n",
        "<a href='files/temp/NHGaXPkCzI/moving_pictures_tutorial/arare_max258/alpha_rarefaction_plots/average_tables/observed_speciessubject.txt' target='_blank'>observed_speciessubject.txt</a><br>\n",
        "<a href='files/temp/NHGaXPkCzI/moving_pictures_tutorial/arare_max258/alpha_rarefaction_plots/average_tables/observed_speciesDescription.txt' target='_blank'>observed_speciesDescription.txt</a><br>\n",
        "<a href='files/temp/NHGaXPkCzI/moving_pictures_tutorial/arare_max258/alpha_rarefaction_plots/average_tables/PD_whole_treedays_since_epoch.txt' target='_blank'>PD_whole_treedays_since_epoch.txt</a><br>\n",
        "<a href='files/temp/NHGaXPkCzI/moving_pictures_tutorial/arare_max258/alpha_rarefaction_plots/average_tables/chao1timestamp.txt' target='_blank'>chao1timestamp.txt</a><br>\n",
        "<a href='files/temp/NHGaXPkCzI/moving_pictures_tutorial/arare_max258/alpha_rarefaction_plots/average_tables/chao1SampleType.txt' target='_blank'>chao1SampleType.txt</a><br>\n",
        "<a href='files/temp/NHGaXPkCzI/moving_pictures_tutorial/arare_max258/alpha_rarefaction_plots/average_tables/PD_whole_treeyear.txt' target='_blank'>PD_whole_treeyear.txt</a><br>\n",
        "<a href='files/temp/NHGaXPkCzI/moving_pictures_tutorial/arare_max258/alpha_rarefaction_plots/average_tables/chao1days_since_epoch.txt' target='_blank'>chao1days_since_epoch.txt</a><br>\n",
        "<a href='files/temp/NHGaXPkCzI/moving_pictures_tutorial/arare_max258/alpha_rarefaction_plots/average_tables/observed_speciesPrimerPlate.txt' target='_blank'>observed_speciesPrimerPlate.txt</a><br>\n",
        "<a href='files/temp/NHGaXPkCzI/moving_pictures_tutorial/arare_max258/alpha_rarefaction_plots/average_tables/PD_whole_treePrimerPlate.txt' target='_blank'>PD_whole_treePrimerPlate.txt</a><br>\n",
        "<a href='files/temp/NHGaXPkCzI/moving_pictures_tutorial/arare_max258/alpha_rarefaction_plots/average_tables/chao1SamplePlate.txt' target='_blank'>chao1SamplePlate.txt</a><br>\n",
        "<a href='files/temp/NHGaXPkCzI/moving_pictures_tutorial/arare_max258/alpha_rarefaction_plots/average_tables/PD_whole_treeSampleType.txt' target='_blank'>PD_whole_treeSampleType.txt</a><br>\n",
        "<a href='files/temp/NHGaXPkCzI/moving_pictures_tutorial/arare_max258/alpha_div/alpha_rarefaction_106_8.biom' target='_blank'>alpha_rarefaction_106_8.biom</a><br>\n",
        "<a href='files/temp/NHGaXPkCzI/moving_pictures_tutorial/arare_max258/alpha_div/alpha_rarefaction_202_4.biom' target='_blank'>alpha_rarefaction_202_4.biom</a><br>\n",
        "<a href='files/temp/NHGaXPkCzI/moving_pictures_tutorial/arare_max258/alpha_div/alpha_rarefaction_10_3.biom' target='_blank'>alpha_rarefaction_10_3.biom</a><br>\n",
        "<a href='files/temp/NHGaXPkCzI/moving_pictures_tutorial/arare_max258/alpha_div/alpha_rarefaction_82_3.biom' target='_blank'>alpha_rarefaction_82_3.biom</a><br>\n",
        "<a href='files/temp/NHGaXPkCzI/moving_pictures_tutorial/arare_max258/alpha_div/alpha_rarefaction_250_1.biom' target='_blank'>alpha_rarefaction_250_1.biom</a><br>\n",
        "<a href='files/temp/NHGaXPkCzI/moving_pictures_tutorial/arare_max258/alpha_div/alpha_rarefaction_178_0.biom' target='_blank'>alpha_rarefaction_178_0.biom</a><br>\n",
        "<a href='files/temp/NHGaXPkCzI/moving_pictures_tutorial/arare_max258/alpha_div/alpha_rarefaction_250_0.biom' target='_blank'>alpha_rarefaction_250_0.biom</a><br>\n",
        "<a href='files/temp/NHGaXPkCzI/moving_pictures_tutorial/arare_max258/alpha_div/alpha_rarefaction_154_0.biom' target='_blank'>alpha_rarefaction_154_0.biom</a><br>\n",
        "<a href='files/temp/NHGaXPkCzI/moving_pictures_tutorial/arare_max258/alpha_div/alpha_rarefaction_130_9.biom' target='_blank'>alpha_rarefaction_130_9.biom</a><br>\n",
        "<a href='files/temp/NHGaXPkCzI/moving_pictures_tutorial/arare_max258/alpha_div/alpha_rarefaction_10_8.biom' target='_blank'>alpha_rarefaction_10_8.biom</a><br>\n",
        "<a href='files/temp/NHGaXPkCzI/moving_pictures_tutorial/arare_max258/alpha_div/alpha_rarefaction_226_0.biom' target='_blank'>alpha_rarefaction_226_0.biom</a><br>\n",
        "<a href='files/temp/NHGaXPkCzI/moving_pictures_tutorial/arare_max258/alpha_div/alpha_rarefaction_226_9.biom' target='_blank'>alpha_rarefaction_226_9.biom</a><br>\n",
        "<a href='files/temp/NHGaXPkCzI/moving_pictures_tutorial/arare_max258/alpha_div/alpha_rarefaction_82_0.biom' target='_blank'>alpha_rarefaction_82_0.biom</a><br>\n",
        "<a href='files/temp/NHGaXPkCzI/moving_pictures_tutorial/arare_max258/alpha_div/alpha_rarefaction_250_6.biom' target='_blank'>alpha_rarefaction_250_6.biom</a><br>\n",
        "<a href='files/temp/NHGaXPkCzI/moving_pictures_tutorial/arare_max258/alpha_div/alpha_rarefaction_82_5.biom' target='_blank'>alpha_rarefaction_82_5.biom</a><br>\n",
        "<a href='files/temp/NHGaXPkCzI/moving_pictures_tutorial/arare_max258/alpha_div/alpha_rarefaction_58_6.biom' target='_blank'>alpha_rarefaction_58_6.biom</a><br>\n",
        "<a href='files/temp/NHGaXPkCzI/moving_pictures_tutorial/arare_max258/alpha_div/alpha_rarefaction_34_5.biom' target='_blank'>alpha_rarefaction_34_5.biom</a><br>\n",
        "<a href='files/temp/NHGaXPkCzI/moving_pictures_tutorial/arare_max258/alpha_div/alpha_rarefaction_202_6.biom' target='_blank'>alpha_rarefaction_202_6.biom</a><br>\n",
        "<a href='files/temp/NHGaXPkCzI/moving_pictures_tutorial/arare_max258/alpha_div/alpha_rarefaction_10_9.biom' target='_blank'>alpha_rarefaction_10_9.biom</a><br>\n",
        "<a href='files/temp/NHGaXPkCzI/moving_pictures_tutorial/arare_max258/alpha_div/alpha_rarefaction_58_9.biom' target='_blank'>alpha_rarefaction_58_9.biom</a><br>\n",
        "<a href='files/temp/NHGaXPkCzI/moving_pictures_tutorial/arare_max258/alpha_div/alpha_rarefaction_106_4.biom' target='_blank'>alpha_rarefaction_106_4.biom</a><br>\n",
        "<a href='files/temp/NHGaXPkCzI/moving_pictures_tutorial/arare_max258/alpha_div/alpha_rarefaction_154_8.biom' target='_blank'>alpha_rarefaction_154_8.biom</a><br>\n",
        "<a href='files/temp/NHGaXPkCzI/moving_pictures_tutorial/arare_max258/alpha_div/alpha_rarefaction_82_8.biom' target='_blank'>alpha_rarefaction_82_8.biom</a><br>\n",
        "<a href='files/temp/NHGaXPkCzI/moving_pictures_tutorial/arare_max258/alpha_div/alpha_rarefaction_130_7.biom' target='_blank'>alpha_rarefaction_130_7.biom</a><br>\n",
        "<a href='files/temp/NHGaXPkCzI/moving_pictures_tutorial/arare_max258/alpha_div/alpha_rarefaction_34_6.biom' target='_blank'>alpha_rarefaction_34_6.biom</a><br>\n",
        "<a href='files/temp/NHGaXPkCzI/moving_pictures_tutorial/arare_max258/alpha_div/alpha_rarefaction_154_5.biom' target='_blank'>alpha_rarefaction_154_5.biom</a><br>\n",
        "<a href='files/temp/NHGaXPkCzI/moving_pictures_tutorial/arare_max258/alpha_div/alpha_rarefaction_226_2.biom' target='_blank'>alpha_rarefaction_226_2.biom</a><br>\n",
        "<a href='files/temp/NHGaXPkCzI/moving_pictures_tutorial/arare_max258/alpha_div/alpha_rarefaction_82_9.biom' target='_blank'>alpha_rarefaction_82_9.biom</a><br>\n",
        "<a href='files/temp/NHGaXPkCzI/moving_pictures_tutorial/arare_max258/alpha_div/alpha_rarefaction_130_1.biom' target='_blank'>alpha_rarefaction_130_1.biom</a><br>\n",
        "<a href='files/temp/NHGaXPkCzI/moving_pictures_tutorial/arare_max258/alpha_div/alpha_rarefaction_250_3.biom' target='_blank'>alpha_rarefaction_250_3.biom</a><br>\n",
        "<a href='files/temp/NHGaXPkCzI/moving_pictures_tutorial/arare_max258/alpha_div/alpha_rarefaction_10_6.biom' target='_blank'>alpha_rarefaction_10_6.biom</a><br>\n",
        "<a href='files/temp/NHGaXPkCzI/moving_pictures_tutorial/arare_max258/alpha_div/alpha_rarefaction_250_2.biom' target='_blank'>alpha_rarefaction_250_2.biom</a><br>\n",
        "<a href='files/temp/NHGaXPkCzI/moving_pictures_tutorial/arare_max258/alpha_div/alpha_rarefaction_154_6.biom' target='_blank'>alpha_rarefaction_154_6.biom</a><br>\n",
        "<a href='files/temp/NHGaXPkCzI/moving_pictures_tutorial/arare_max258/alpha_div/alpha_rarefaction_226_6.biom' target='_blank'>alpha_rarefaction_226_6.biom</a><br>\n",
        "<a href='files/temp/NHGaXPkCzI/moving_pictures_tutorial/arare_max258/alpha_div/alpha_rarefaction_130_3.biom' target='_blank'>alpha_rarefaction_130_3.biom</a><br>\n",
        "<a href='files/temp/NHGaXPkCzI/moving_pictures_tutorial/arare_max258/alpha_div/alpha_rarefaction_178_9.biom' target='_blank'>alpha_rarefaction_178_9.biom</a><br>\n",
        "<a href='files/temp/NHGaXPkCzI/moving_pictures_tutorial/arare_max258/alpha_div/alpha_rarefaction_82_6.biom' target='_blank'>alpha_rarefaction_82_6.biom</a><br>\n",
        "<a href='files/temp/NHGaXPkCzI/moving_pictures_tutorial/arare_max258/alpha_div/alpha_rarefaction_250_4.biom' target='_blank'>alpha_rarefaction_250_4.biom</a><br>\n",
        "<a href='files/temp/NHGaXPkCzI/moving_pictures_tutorial/arare_max258/alpha_div/alpha_rarefaction_106_1.biom' target='_blank'>alpha_rarefaction_106_1.biom</a><br>\n",
        "<a href='files/temp/NHGaXPkCzI/moving_pictures_tutorial/arare_max258/alpha_div/alpha_rarefaction_58_5.biom' target='_blank'>alpha_rarefaction_58_5.biom</a><br>\n",
        "<a href='files/temp/NHGaXPkCzI/moving_pictures_tutorial/arare_max258/alpha_div/alpha_rarefaction_82_1.biom' target='_blank'>alpha_rarefaction_82_1.biom</a><br>\n",
        "<a href='files/temp/NHGaXPkCzI/moving_pictures_tutorial/arare_max258/alpha_div/alpha_rarefaction_130_4.biom' target='_blank'>alpha_rarefaction_130_4.biom</a><br>\n",
        "<a href='files/temp/NHGaXPkCzI/moving_pictures_tutorial/arare_max258/alpha_div/alpha_rarefaction_10_7.biom' target='_blank'>alpha_rarefaction_10_7.biom</a><br>\n",
        "<a href='files/temp/NHGaXPkCzI/moving_pictures_tutorial/arare_max258/alpha_div/alpha_rarefaction_154_7.biom' target='_blank'>alpha_rarefaction_154_7.biom</a><br>\n",
        "<a href='files/temp/NHGaXPkCzI/moving_pictures_tutorial/arare_max258/alpha_div/alpha_rarefaction_130_0.biom' target='_blank'>alpha_rarefaction_130_0.biom</a><br>\n",
        "<a href='files/temp/NHGaXPkCzI/moving_pictures_tutorial/arare_max258/alpha_div/alpha_rarefaction_178_5.biom' target='_blank'>alpha_rarefaction_178_5.biom</a><br>\n",
        "<a href='files/temp/NHGaXPkCzI/moving_pictures_tutorial/arare_max258/alpha_div/alpha_rarefaction_58_4.biom' target='_blank'>alpha_rarefaction_58_4.biom</a><br>\n",
        "<a href='files/temp/NHGaXPkCzI/moving_pictures_tutorial/arare_max258/alpha_div/alpha_rarefaction_34_2.biom' target='_blank'>alpha_rarefaction_34_2.biom</a><br>\n",
        "<a href='files/temp/NHGaXPkCzI/moving_pictures_tutorial/arare_max258/alpha_div/alpha_rarefaction_10_5.biom' target='_blank'>alpha_rarefaction_10_5.biom</a><br>\n",
        "<a href='files/temp/NHGaXPkCzI/moving_pictures_tutorial/arare_max258/alpha_div/alpha_rarefaction_178_8.biom' target='_blank'>alpha_rarefaction_178_8.biom</a><br>\n",
        "<a href='files/temp/NHGaXPkCzI/moving_pictures_tutorial/arare_max258/alpha_div/alpha_rarefaction_10_1.biom' target='_blank'>alpha_rarefaction_10_1.biom</a><br>\n",
        "<a href='files/temp/NHGaXPkCzI/moving_pictures_tutorial/arare_max258/alpha_div/alpha_rarefaction_250_7.biom' target='_blank'>alpha_rarefaction_250_7.biom</a><br>\n",
        "<a href='files/temp/NHGaXPkCzI/moving_pictures_tutorial/arare_max258/alpha_div/alpha_rarefaction_58_2.biom' target='_blank'>alpha_rarefaction_58_2.biom</a><br>\n",
        "<a href='files/temp/NHGaXPkCzI/moving_pictures_tutorial/arare_max258/alpha_div/alpha_rarefaction_202_1.biom' target='_blank'>alpha_rarefaction_202_1.biom</a><br>\n",
        "<a href='files/temp/NHGaXPkCzI/moving_pictures_tutorial/arare_max258/alpha_div/alpha_rarefaction_130_8.biom' target='_blank'>alpha_rarefaction_130_8.biom</a><br>\n",
        "<a href='files/temp/NHGaXPkCzI/moving_pictures_tutorial/arare_max258/alpha_div/alpha_rarefaction_202_8.biom' target='_blank'>alpha_rarefaction_202_8.biom</a><br>\n",
        "<a href='files/temp/NHGaXPkCzI/moving_pictures_tutorial/arare_max258/alpha_div/alpha_rarefaction_130_2.biom' target='_blank'>alpha_rarefaction_130_2.biom</a><br>\n",
        "<a href='files/temp/NHGaXPkCzI/moving_pictures_tutorial/arare_max258/alpha_div/alpha_rarefaction_154_4.biom' target='_blank'>alpha_rarefaction_154_4.biom</a><br>\n",
        "<a href='files/temp/NHGaXPkCzI/moving_pictures_tutorial/arare_max258/alpha_div/alpha_rarefaction_106_3.biom' target='_blank'>alpha_rarefaction_106_3.biom</a><br>\n",
        "<a href='files/temp/NHGaXPkCzI/moving_pictures_tutorial/arare_max258/alpha_div/alpha_rarefaction_58_0.biom' target='_blank'>alpha_rarefaction_58_0.biom</a><br>\n",
        "<a href='files/temp/NHGaXPkCzI/moving_pictures_tutorial/arare_max258/alpha_div/alpha_rarefaction_106_9.biom' target='_blank'>alpha_rarefaction_106_9.biom</a><br>\n",
        "<a href='files/temp/NHGaXPkCzI/moving_pictures_tutorial/arare_max258/alpha_div/alpha_rarefaction_82_2.biom' target='_blank'>alpha_rarefaction_82_2.biom</a><br>\n",
        "<a href='files/temp/NHGaXPkCzI/moving_pictures_tutorial/arare_max258/alpha_div/alpha_rarefaction_178_3.biom' target='_blank'>alpha_rarefaction_178_3.biom</a><br>\n",
        "<a href='files/temp/NHGaXPkCzI/moving_pictures_tutorial/arare_max258/alpha_div/alpha_rarefaction_154_1.biom' target='_blank'>alpha_rarefaction_154_1.biom</a><br>\n",
        "<a href='files/temp/NHGaXPkCzI/moving_pictures_tutorial/arare_max258/alpha_div/alpha_rarefaction_250_9.biom' target='_blank'>alpha_rarefaction_250_9.biom</a><br>\n",
        "<a href='files/temp/NHGaXPkCzI/moving_pictures_tutorial/arare_max258/alpha_div/alpha_rarefaction_58_1.biom' target='_blank'>alpha_rarefaction_58_1.biom</a><br>\n",
        "<a href='files/temp/NHGaXPkCzI/moving_pictures_tutorial/arare_max258/alpha_div/alpha_rarefaction_178_6.biom' target='_blank'>alpha_rarefaction_178_6.biom</a><br>\n",
        "<a href='files/temp/NHGaXPkCzI/moving_pictures_tutorial/arare_max258/alpha_div/alpha_rarefaction_10_0.biom' target='_blank'>alpha_rarefaction_10_0.biom</a><br>\n",
        "<a href='files/temp/NHGaXPkCzI/moving_pictures_tutorial/arare_max258/alpha_div/alpha_rarefaction_202_2.biom' target='_blank'>alpha_rarefaction_202_2.biom</a><br>\n",
        "<a href='files/temp/NHGaXPkCzI/moving_pictures_tutorial/arare_max258/alpha_div/alpha_rarefaction_154_3.biom' target='_blank'>alpha_rarefaction_154_3.biom</a><br>\n",
        "<a href='files/temp/NHGaXPkCzI/moving_pictures_tutorial/arare_max258/alpha_div/alpha_rarefaction_250_8.biom' target='_blank'>alpha_rarefaction_250_8.biom</a><br>\n",
        "<a href='files/temp/NHGaXPkCzI/moving_pictures_tutorial/arare_max258/alpha_div/alpha_rarefaction_202_9.biom' target='_blank'>alpha_rarefaction_202_9.biom</a><br>\n",
        "<a href='files/temp/NHGaXPkCzI/moving_pictures_tutorial/arare_max258/alpha_div/alpha_rarefaction_226_3.biom' target='_blank'>alpha_rarefaction_226_3.biom</a><br>\n",
        "<a href='files/temp/NHGaXPkCzI/moving_pictures_tutorial/arare_max258/alpha_div/alpha_rarefaction_202_7.biom' target='_blank'>alpha_rarefaction_202_7.biom</a><br>\n",
        "<a href='files/temp/NHGaXPkCzI/moving_pictures_tutorial/arare_max258/alpha_div/alpha_rarefaction_226_8.biom' target='_blank'>alpha_rarefaction_226_8.biom</a><br>\n",
        "<a href='files/temp/NHGaXPkCzI/moving_pictures_tutorial/arare_max258/alpha_div/alpha_rarefaction_58_8.biom' target='_blank'>alpha_rarefaction_58_8.biom</a><br>\n",
        "<a href='files/temp/NHGaXPkCzI/moving_pictures_tutorial/arare_max258/alpha_div/alpha_rarefaction_34_4.biom' target='_blank'>alpha_rarefaction_34_4.biom</a><br>\n",
        "<a href='files/temp/NHGaXPkCzI/moving_pictures_tutorial/arare_max258/alpha_div/alpha_rarefaction_154_2.biom' target='_blank'>alpha_rarefaction_154_2.biom</a><br>\n",
        "<a href='files/temp/NHGaXPkCzI/moving_pictures_tutorial/arare_max258/alpha_div/alpha_rarefaction_154_9.biom' target='_blank'>alpha_rarefaction_154_9.biom</a><br>\n",
        "<a href='files/temp/NHGaXPkCzI/moving_pictures_tutorial/arare_max258/alpha_div/alpha_rarefaction_130_6.biom' target='_blank'>alpha_rarefaction_130_6.biom</a><br>\n",
        "<a href='files/temp/NHGaXPkCzI/moving_pictures_tutorial/arare_max258/alpha_div/alpha_rarefaction_106_0.biom' target='_blank'>alpha_rarefaction_106_0.biom</a><br>\n",
        "<a href='files/temp/NHGaXPkCzI/moving_pictures_tutorial/arare_max258/alpha_div/alpha_rarefaction_130_5.biom' target='_blank'>alpha_rarefaction_130_5.biom</a><br>\n",
        "<a href='files/temp/NHGaXPkCzI/moving_pictures_tutorial/arare_max258/alpha_div/alpha_rarefaction_202_3.biom' target='_blank'>alpha_rarefaction_202_3.biom</a><br>\n",
        "<a href='files/temp/NHGaXPkCzI/moving_pictures_tutorial/arare_max258/alpha_div/alpha_rarefaction_34_9.biom' target='_blank'>alpha_rarefaction_34_9.biom</a><br>\n",
        "<a href='files/temp/NHGaXPkCzI/moving_pictures_tutorial/arare_max258/alpha_div/alpha_rarefaction_106_5.biom' target='_blank'>alpha_rarefaction_106_5.biom</a><br>\n",
        "<a href='files/temp/NHGaXPkCzI/moving_pictures_tutorial/arare_max258/alpha_div/alpha_rarefaction_226_7.biom' target='_blank'>alpha_rarefaction_226_7.biom</a><br>\n",
        "<a href='files/temp/NHGaXPkCzI/moving_pictures_tutorial/arare_max258/alpha_div/alpha_rarefaction_178_4.biom' target='_blank'>alpha_rarefaction_178_4.biom</a><br>\n",
        "<a href='files/temp/NHGaXPkCzI/moving_pictures_tutorial/arare_max258/alpha_div/alpha_rarefaction_82_4.biom' target='_blank'>alpha_rarefaction_82_4.biom</a><br>\n",
        "<a href='files/temp/NHGaXPkCzI/moving_pictures_tutorial/arare_max258/alpha_div/alpha_rarefaction_226_5.biom' target='_blank'>alpha_rarefaction_226_5.biom</a><br>\n",
        "<a href='files/temp/NHGaXPkCzI/moving_pictures_tutorial/arare_max258/alpha_div/alpha_rarefaction_226_1.biom' target='_blank'>alpha_rarefaction_226_1.biom</a><br>\n",
        "<a href='files/temp/NHGaXPkCzI/moving_pictures_tutorial/arare_max258/alpha_div/alpha_rarefaction_34_7.biom' target='_blank'>alpha_rarefaction_34_7.biom</a><br>\n",
        "<a href='files/temp/NHGaXPkCzI/moving_pictures_tutorial/arare_max258/alpha_div/alpha_rarefaction_58_3.biom' target='_blank'>alpha_rarefaction_58_3.biom</a><br>\n",
        "<a href='files/temp/NHGaXPkCzI/moving_pictures_tutorial/arare_max258/alpha_div/alpha_rarefaction_178_2.biom' target='_blank'>alpha_rarefaction_178_2.biom</a><br>\n",
        "<a href='files/temp/NHGaXPkCzI/moving_pictures_tutorial/arare_max258/alpha_div/alpha_rarefaction_106_2.biom' target='_blank'>alpha_rarefaction_106_2.biom</a><br>\n",
        "<a href='files/temp/NHGaXPkCzI/moving_pictures_tutorial/arare_max258/alpha_div/alpha_rarefaction_58_7.biom' target='_blank'>alpha_rarefaction_58_7.biom</a><br>\n",
        "<a href='files/temp/NHGaXPkCzI/moving_pictures_tutorial/arare_max258/alpha_div/alpha_rarefaction_106_7.biom' target='_blank'>alpha_rarefaction_106_7.biom</a><br>\n",
        "<a href='files/temp/NHGaXPkCzI/moving_pictures_tutorial/arare_max258/alpha_div/alpha_rarefaction_178_7.biom' target='_blank'>alpha_rarefaction_178_7.biom</a><br>\n",
        "<a href='files/temp/NHGaXPkCzI/moving_pictures_tutorial/arare_max258/alpha_div/alpha_rarefaction_202_5.biom' target='_blank'>alpha_rarefaction_202_5.biom</a><br>\n",
        "<a href='files/temp/NHGaXPkCzI/moving_pictures_tutorial/arare_max258/alpha_div/alpha_rarefaction_34_3.biom' target='_blank'>alpha_rarefaction_34_3.biom</a><br>\n",
        "<a href='files/temp/NHGaXPkCzI/moving_pictures_tutorial/arare_max258/alpha_div/alpha_rarefaction_34_1.biom' target='_blank'>alpha_rarefaction_34_1.biom</a><br>\n",
        "<a href='files/temp/NHGaXPkCzI/moving_pictures_tutorial/arare_max258/alpha_div/alpha_rarefaction_34_0.biom' target='_blank'>alpha_rarefaction_34_0.biom</a><br>\n",
        "<a href='files/temp/NHGaXPkCzI/moving_pictures_tutorial/arare_max258/alpha_div/alpha_rarefaction_250_5.biom' target='_blank'>alpha_rarefaction_250_5.biom</a><br>\n",
        "<a href='files/temp/NHGaXPkCzI/moving_pictures_tutorial/arare_max258/alpha_div/alpha_rarefaction_178_1.biom' target='_blank'>alpha_rarefaction_178_1.biom</a><br>\n",
        "<a href='files/temp/NHGaXPkCzI/moving_pictures_tutorial/arare_max258/alpha_div/alpha_rarefaction_106_6.biom' target='_blank'>alpha_rarefaction_106_6.biom</a><br>\n",
        "<a href='files/temp/NHGaXPkCzI/moving_pictures_tutorial/arare_max258/alpha_div/alpha_rarefaction_226_4.biom' target='_blank'>alpha_rarefaction_226_4.biom</a><br>\n",
        "<a href='files/temp/NHGaXPkCzI/moving_pictures_tutorial/arare_max258/alpha_div/alpha_rarefaction_10_4.biom' target='_blank'>alpha_rarefaction_10_4.biom</a><br>\n",
        "<a href='files/temp/NHGaXPkCzI/moving_pictures_tutorial/arare_max258/alpha_div/alpha_rarefaction_10_2.biom' target='_blank'>alpha_rarefaction_10_2.biom</a><br>\n",
        "<a href='files/temp/NHGaXPkCzI/moving_pictures_tutorial/arare_max258/alpha_div/alpha_rarefaction_82_7.biom' target='_blank'>alpha_rarefaction_82_7.biom</a><br>\n",
        "<a href='files/temp/NHGaXPkCzI/moving_pictures_tutorial/arare_max258/alpha_div/alpha_rarefaction_202_0.biom' target='_blank'>alpha_rarefaction_202_0.biom</a><br>\n",
        "<a href='files/temp/NHGaXPkCzI/moving_pictures_tutorial/arare_max258/alpha_div/alpha_rarefaction_34_8.biom' target='_blank'>alpha_rarefaction_34_8.biom</a><br>\n",
        "<a href='files/temp/NHGaXPkCzI/moving_pictures_tutorial/arare_max258/alpha_div_collated/observed_species.txt' target='_blank'>observed_species.txt</a><br>\n",
        "<a href='files/temp/NHGaXPkCzI/moving_pictures_tutorial/arare_max258/alpha_div_collated/PD_whole_tree.txt' target='_blank'>PD_whole_tree.txt</a><br>\n",
        "<a href='files/temp/NHGaXPkCzI/moving_pictures_tutorial/arare_max258/alpha_div_collated/chao1.txt' target='_blank'>chao1.txt</a><br>"
       ],
       "output_type": "display_data",
       "text": [
        "<IPython.core.display.HTML at 0x7f52ac7e1750>"
       ]
      }
     ],
     "prompt_number": 73
    },
    {
     "cell_type": "heading",
     "level": 2,
     "metadata": {},
     "source": [
      "Comparing Illumina results with 454 results: Procrustes analysis"
     ]
    },
    {
     "cell_type": "markdown",
     "metadata": {},
     "source": [
      "We'll begin by performing the same steps as above on the 454 data: we'll pick OTUs and compute UniFrac principal coordinate plots."
     ]
    },
    {
     "cell_type": "code",
     "collapsed": false,
     "input": [
      "!pick_reference_otus_through_otu_table.py -i subsampled_454_seqs.fna -o 454_ucrC_fast/ -r $reference_seqs -t $reference_tax -p ucrC_fast_params.txt"
     ],
     "language": "python",
     "metadata": {},
     "outputs": [],
     "prompt_number": 76
    },
    {
     "cell_type": "code",
     "collapsed": false,
     "input": [
      "of('454_ucrC_fast/')"
     ],
     "language": "python",
     "metadata": {},
     "outputs": [
      {
       "html": [
        "<a href='files/temp/NHGaXPkCzI/moving_pictures_tutorial/454_ucrC_fast/log_20120818030734.txt' target='_blank'>log_20120818030734.txt</a><br>\n",
        "<a href='files/temp/NHGaXPkCzI/moving_pictures_tutorial/454_ucrC_fast/uclust_ref_picked_otus/subsampled_454_seqs_otus.txt' target='_blank'>subsampled_454_seqs_otus.txt</a><br>\n",
        "<a href='files/temp/NHGaXPkCzI/moving_pictures_tutorial/454_ucrC_fast/uclust_ref_picked_otus/subsampled_454_seqs_failures.txt' target='_blank'>subsampled_454_seqs_failures.txt</a><br>\n",
        "<a href='files/temp/NHGaXPkCzI/moving_pictures_tutorial/454_ucrC_fast/uclust_ref_picked_otus/otu_table.biom' target='_blank'>otu_table.biom</a><br>"
       ],
       "output_type": "display_data",
       "text": [
        "<IPython.core.display.HTML at 0x7f52ac7e1810>"
       ]
      }
     ],
     "prompt_number": 77
    },
    {
     "cell_type": "code",
     "collapsed": false,
     "input": [
      "!per_library_stats.py -i 454_ucrC_fast/uclust_ref_picked_otus/otu_table.biom"
     ],
     "language": "python",
     "metadata": {},
     "outputs": [
      {
       "output_type": "stream",
       "stream": "stdout",
       "text": [
        "Num samples: 61\r\n",
        "Num otus: 1049\r\n",
        "Num observations (sequences): 18990.0\r\n",
        "Table density (fraction of non-zero values): 0.2968\r\n",
        "\r\n",
        "Seqs/sample summary:\r\n",
        " Min: 135.0\r\n",
        " Max: 517.0\r\n",
        " Median: 287.0\r\n",
        " Mean: 311.31147541\r\n",
        " Std. dev.: 117.985903713\r\n",
        " Median Absolute Deviation: 108.0\r\n",
        " Default even sampling depth in\r\n",
        "  core_qiime_analyses.py (just a suggestion): 135.0\r\n",
        "\r\n",
        "Seqs/sample detail:\r\n",
        " F4.TONG.04.21.09: 135.0\r\n",
        " M3.TONG.04.21.09: 149.0\r\n",
        " M3.RPAL.04.22.09: 163.0\r\n",
        " M3.TONG.04.24.09: 164.0\r\n",
        " F4.RPAL.04.21.09: 167.0\r\n",
        " M3.RPAL.04.21.09: 169.0\r\n",
        " F4.LPAL.04.24.09: 176.0\r\n",
        " F4.TONG.04.23.09: 176.0\r\n",
        " F4.LPAL.04.21.09: 178.0\r\n",
        " F4.RPAL.04.22.09: 179.0\r\n",
        " M3.FECE.04.21.09: 181.0\r\n",
        " F4.TONG.04.24.09: 182.0\r\n",
        " F4.FECE.04.22.09: 188.0\r\n",
        " M3.LPAL.04.23.09: 190.0\r\n",
        " F4.RPAL.04.23.09: 194.0\r\n",
        " M3.RPAL.04.24.09: 202.0\r\n",
        " F4.TONG.04.22.09: 203.0\r\n",
        " M3.LPAL.04.21.09: 203.0\r\n",
        " F4.LPAL.04.23.09: 208.0\r\n",
        " M3.RPAL.04.23.09: 221.0\r\n",
        " F4.RPAL.04.24.09: 223.0\r\n",
        " M3.FECE.04.24.09: 225.0\r\n",
        " F4.LPAL.04.22.09: 228.0\r\n",
        " M3.TONG.04.23.09: 237.0\r\n",
        " F4.FECE.04.24.09: 238.0\r\n",
        " M3.LPAL.04.24.09: 245.0\r\n",
        " M3.LPAL.04.22.09: 253.0\r\n",
        " M3.FECE.04.22.09: 258.0\r\n",
        " M3.TONG.04.22.09: 263.0\r\n",
        " F4.FECE.04.23.09: 268.0\r\n",
        " F4.FECE.04.21.09: 287.0\r\n",
        " F4Fcsw1021: 316.0\r\n",
        " F4Plml1021: 323.0\r\n",
        " M3Plml1021: 334.0\r\n",
        " M3Plml1022: 344.0\r\n",
        " F4Tong1023: 349.0\r\n",
        " M3Plmr1021: 369.0\r\n",
        " F4Plmr1022: 383.0\r\n",
        " F4Plmr1021: 388.0\r\n",
        " M3Plml1024: 391.0\r\n",
        " F4Plml1023: 397.0\r\n",
        " F4Tong1021: 399.0\r\n",
        " F4Plml1022: 402.0\r\n",
        " M3Tong1023: 405.0\r\n",
        " M3Tong1021: 415.0\r\n",
        " F4Plmr1024: 418.0\r\n",
        " F4Tong1022: 419.0\r\n",
        " F4Plmr1023: 420.0\r\n",
        " M3Fcsw1021: 437.0\r\n",
        " M3Plmr1022: 438.0\r\n",
        " M3Plml1023: 450.0\r\n",
        " F4Plml1024: 459.0\r\n",
        " M3Fcsw1022: 461.0\r\n",
        " M3Tong1022: 463.0\r\n",
        " M3Fcsw1023: 471.0\r\n",
        " F4Tong1024: 476.0\r\n",
        " F4Fcsw1024: 482.0\r\n",
        " F4Fcsw1022: 496.0\r\n",
        " F4Fcsw1023: 507.0\r\n",
        " M3Plmr1023: 508.0\r\n",
        " M3Fcsw1024: 517.0\r\n"
       ]
      }
     ],
     "prompt_number": 78
    },
    {
     "cell_type": "code",
     "collapsed": false,
     "input": [
      "!beta_diversity_through_plots.py -o bdiv_even135/ -i 454_ucrC_fast/uclust_ref_picked_otus/otu_table.biom -e 135 -t $reference_tree -m 454_map.txt"
     ],
     "language": "python",
     "metadata": {},
     "outputs": [],
     "prompt_number": 79
    },
    {
     "cell_type": "code",
     "collapsed": false,
     "input": [
      "of('bdiv_even135/')"
     ],
     "language": "python",
     "metadata": {},
     "outputs": [
      {
       "html": [
        "<a href='files/temp/NHGaXPkCzI/moving_pictures_tutorial/bdiv_even135/weighted_unifrac_dm.txt' target='_blank'>weighted_unifrac_dm.txt</a><br>\n",
        "<a href='files/temp/NHGaXPkCzI/moving_pictures_tutorial/bdiv_even135/unweighted_unifrac_pc.txt' target='_blank'>unweighted_unifrac_pc.txt</a><br>\n",
        "<a href='files/temp/NHGaXPkCzI/moving_pictures_tutorial/bdiv_even135/prefs.txt' target='_blank'>prefs.txt</a><br>\n",
        "<a href='files/temp/NHGaXPkCzI/moving_pictures_tutorial/bdiv_even135/unweighted_unifrac_dm.txt' target='_blank'>unweighted_unifrac_dm.txt</a><br>\n",
        "<a href='files/temp/NHGaXPkCzI/moving_pictures_tutorial/bdiv_even135/weighted_unifrac_pc.txt' target='_blank'>weighted_unifrac_pc.txt</a><br>\n",
        "<a href='files/temp/NHGaXPkCzI/moving_pictures_tutorial/bdiv_even135/log_20120818030904.txt' target='_blank'>log_20120818030904.txt</a><br>\n",
        "<a href='files/temp/NHGaXPkCzI/moving_pictures_tutorial/bdiv_even135/otu_table_even135.biom' target='_blank'>otu_table_even135.biom</a><br>\n",
        "<a href='files/temp/NHGaXPkCzI/moving_pictures_tutorial/bdiv_even135/weighted_unifrac_2d_discrete/weighted_unifrac_pc_2D_PCoA_plots.html' target='_blank'>weighted_unifrac_pc_2D_PCoA_plots.html</a><br>\n",
        "<a href='files/temp/NHGaXPkCzI/moving_pictures_tutorial/bdiv_even135/weighted_unifrac_2d_continuous/weighted_unifrac_pc_2D_PCoA_plots.html' target='_blank'>weighted_unifrac_pc_2D_PCoA_plots.html</a><br>\n",
        "<a href='files/temp/NHGaXPkCzI/moving_pictures_tutorial/bdiv_even135/unweighted_unifrac_2d_discrete/unweighted_unifrac_pc_2D_PCoA_plots.html' target='_blank'>unweighted_unifrac_pc_2D_PCoA_plots.html</a><br>\n",
        "<a href='files/temp/NHGaXPkCzI/moving_pictures_tutorial/bdiv_even135/unweighted_unifrac_3d_continuous/unweighted_unifrac_pc_3D_PCoA_plots.html' target='_blank'>unweighted_unifrac_pc_3D_PCoA_plots.html</a><br>\n",
        "<a href='files/temp/NHGaXPkCzI/moving_pictures_tutorial/bdiv_even135/unweighted_unifrac_2d_continuous/unweighted_unifrac_pc_2D_PCoA_plots.html' target='_blank'>unweighted_unifrac_pc_2D_PCoA_plots.html</a><br>\n",
        "<a href='files/temp/NHGaXPkCzI/moving_pictures_tutorial/bdiv_even135/weighted_unifrac_3d_discrete/weighted_unifrac_pc_3D_PCoA_plots.html' target='_blank'>weighted_unifrac_pc_3D_PCoA_plots.html</a><br>\n",
        "<a href='files/temp/NHGaXPkCzI/moving_pictures_tutorial/bdiv_even135/unweighted_unifrac_3d_discrete/unweighted_unifrac_pc_3D_PCoA_plots.html' target='_blank'>unweighted_unifrac_pc_3D_PCoA_plots.html</a><br>\n",
        "<a href='files/temp/NHGaXPkCzI/moving_pictures_tutorial/bdiv_even135/weighted_unifrac_3d_continuous/weighted_unifrac_pc_3D_PCoA_plots.html' target='_blank'>weighted_unifrac_pc_3D_PCoA_plots.html</a><br>"
       ],
       "output_type": "display_data",
       "text": [
        "<IPython.core.display.HTML at 0x7f52ac7e1ed0>"
       ]
      }
     ],
     "prompt_number": 80
    },
    {
     "cell_type": "markdown",
     "metadata": {},
     "source": [
      "Next, we'll perform the Procustes transformation, and generate a Procrustes plot."
     ]
    },
    {
     "cell_type": "code",
     "collapsed": false,
     "input": [
      "!transform_coordinate_matrices.py -o 454_v_illumina/ -i bdiv_even258/unweighted_unifrac_pc.txt,bdiv_even135/unweighted_unifrac_pc.txt -s procrustes_sid_map.txt -r 100"
     ],
     "language": "python",
     "metadata": {},
     "outputs": [],
     "prompt_number": 81
    },
    {
     "cell_type": "code",
     "collapsed": false,
     "input": [
      "of('454_v_illumina/')"
     ],
     "language": "python",
     "metadata": {},
     "outputs": [
      {
       "html": [
        "<a href='files/temp/NHGaXPkCzI/moving_pictures_tutorial/454_v_illumina/pc2_transformed.txt' target='_blank'>pc2_transformed.txt</a><br>\n",
        "<a href='files/temp/NHGaXPkCzI/moving_pictures_tutorial/454_v_illumina/unweighted_unifrac_pc_unweighted_unifrac_pc_procrustes_results.txt' target='_blank'>unweighted_unifrac_pc_unweighted_unifrac_pc_procrustes_results.txt</a><br>\n",
        "<a href='files/temp/NHGaXPkCzI/moving_pictures_tutorial/454_v_illumina/pc1_transformed.txt' target='_blank'>pc1_transformed.txt</a><br>"
       ],
       "output_type": "display_data",
       "text": [
        "<IPython.core.display.HTML at 0x7f52ac7e1e50>"
       ]
      }
     ],
     "prompt_number": 82
    },
    {
     "cell_type": "code",
     "collapsed": false,
     "input": [
      "!compare_3d_plots.py -o 454_v_illumina/plots/ -i 454_v_illumina/pc1_transformed.txt,454_v_illumina/pc2_transformed.txt -m procrustes_metadata_map.txt --custom_axes days_since_epoch"
     ],
     "language": "python",
     "metadata": {},
     "outputs": [],
     "prompt_number": 83
    },
    {
     "cell_type": "code",
     "collapsed": false,
     "input": [
      "of('454_v_illumina/plots/')"
     ],
     "language": "python",
     "metadata": {},
     "outputs": [
      {
       "html": [
        "<a href='files/temp/NHGaXPkCzI/moving_pictures_tutorial/454_v_illumina/plots/pc1_transformed_3D_PCoA_plots.html' target='_blank'>pc1_transformed_3D_PCoA_plots.html</a><br>"
       ],
       "output_type": "display_data",
       "text": [
        "<IPython.core.display.HTML at 0x7f52ac7e17d0>"
       ]
      }
     ],
     "prompt_number": 84
    },
    {
     "cell_type": "code",
     "collapsed": false,
     "input": [],
     "language": "python",
     "metadata": {},
     "outputs": []
    }
   ],
   "metadata": {}
  }
 ]
}